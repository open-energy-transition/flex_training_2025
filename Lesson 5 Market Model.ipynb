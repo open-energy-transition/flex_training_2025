{
 "cells": [
  {
   "cell_type": "markdown",
   "metadata": {},
   "source": [
    "### 📘 Lesson 5: Market Model"
   ]
  },
  {
   "cell_type": "markdown",
   "metadata": {},
   "source": [
    "<div style=\"display: flex; align-items: center; justify-content: space-between;\">\n",
    "  <div>\n",
    "    <h3>Course presenters</h3>\n",
    "    <ul>\n",
    "      <li><strong>Priyesh Gosai</strong> - Energy Systems Modeler and Training Coordinator</li>\n",
    "      <li><strong>Dr. Fabian Hofmann</strong> - Senior Optimization and Energy System Modelling Expert</li>\n",
    "    </ul>\n",
    "  </div>\n",
    "  <div>\n",
    "    <a href=\"https://openenergytransition.org/index.html\">\n",
    "      <img src=\"https://openenergytransition.org/assets/img/oet-logo-red-n-subtitle.png\" height=\"60\" alt=\"OET\">\n",
    "    </a>\n",
    "  </div>\n",
    "</div>\n"
   ]
  },
  {
   "cell_type": "markdown",
   "metadata": {},
   "source": [
    "#### 🎯 Learning Objectives  \n",
    "\n"
   ]
  },
  {
   "cell_type": "markdown",
   "metadata": {},
   "source": [
    "* Run a demonstration model using real data. \n",
    "* Solve the Day ahead and intra day model. \n",
    "* Analyse the results.\n",
    "\n",
    "---"
   ]
  },
  {
   "cell_type": "markdown",
   "metadata": {},
   "source": [
    "#### 📈 Market Model"
   ]
  },
  {
   "cell_type": "code",
   "execution_count": 1,
   "metadata": {},
   "outputs": [],
   "source": [
    "import pypsa\n",
    "import pandas as pd\n",
    "import numpy as np\n",
    "from training_scripts import *"
   ]
  },
  {
   "cell_type": "code",
   "execution_count": 2,
   "metadata": {},
   "outputs": [
    {
     "name": "stderr",
     "output_type": "stream",
     "text": [
      "INFO:root:Converted snapshots to CSV.\n",
      "INFO:root:Converted buses to CSV.\n",
      "INFO:root:Converted carriers to CSV.\n",
      "INFO:root:Converted generators to CSV.\n",
      "INFO:root:Converted generators-p_max_pu to CSV.\n",
      "INFO:root:Converted links to CSV.\n",
      "INFO:root:Converted loads to CSV.\n",
      "INFO:root:Converted loads-p_set to CSV.\n",
      "INFO:root:Converted storage_units to CSV.\n",
      "INFO:root:Converted storage_units-inflow to CSV.\n",
      "INFO:root:Conversion complete. CSV files are saved in 'lesson5_csv_folder'\n",
      "INFO:root:Excel file closed successfully.\n"
     ]
    }
   ],
   "source": [
    "input_file_name = 'data/Lesson5_model.xlsx'\n",
    "path = convert_selected_sheets_to_csv(input_file_name, 'lesson5_csv_folder')"
   ]
  },
  {
   "cell_type": "code",
   "execution_count": 3,
   "metadata": {},
   "outputs": [
    {
     "name": "stderr",
     "output_type": "stream",
     "text": [
      "WARNING:pypsa.io:Importing network from PyPSA version v? while current version is v0.33.0. Read the release notes at https://pypsa.readthedocs.io/en/latest/release_notes.html to prepare your network for import.\n",
      "INFO:pypsa.io:Imported network lesson5_csv_folder has buses, carriers, generators, links, loads, storage_units\n"
     ]
    }
   ],
   "source": [
    "network = pypsa.Network()\n",
    "network.import_from_csv_folder(path)"
   ]
  },
  {
   "cell_type": "markdown",
   "metadata": {},
   "source": [
    "💧 **Setting Water Availability for Hydropower Plants**\n"
   ]
  },
  {
   "cell_type": "markdown",
   "metadata": {},
   "source": [
    "⚡ **Modeling Demand Side Management (DSM)**  \n",
    "\n",
    "\n",
    "\n"
   ]
  },
  {
   "cell_type": "code",
   "execution_count": 4,
   "metadata": {},
   "outputs": [
    {
     "name": "stderr",
     "output_type": "stream",
     "text": [
      "INFO:linopy.model: Solve problem using Highs solver\n",
      "INFO:linopy.io:Writing objective.\n",
      "Writing constraints.: 100%|\u001b[38;2;128;191;255m██████████\u001b[0m| 15/15 [00:00<00:00, 56.49it/s]\n",
      "Writing continuous variables.: 100%|\u001b[38;2;128;191;255m██████████\u001b[0m| 6/6 [00:00<00:00, 176.47it/s]\n",
      "INFO:linopy.io: Writing time: 0.35s\n",
      "INFO:linopy.constants: Optimization successful: \n",
      "Status: ok\n",
      "Termination condition: optimal\n",
      "Solution: 10560 primals, 39200 duals\n",
      "Objective: 5.72e+08\n",
      "Solver model: available\n",
      "Solver message: optimal\n",
      "\n",
      "INFO:pypsa.optimization.optimize:The shadow-prices of the constraints Generator-fix-p-lower, Generator-fix-p-upper, Generator-fix-p-ramp_limit_up, Generator-fix-p-ramp_limit_down, Link-fix-p-lower, Link-fix-p-upper, StorageUnit-fix-p_dispatch-lower, StorageUnit-fix-p_dispatch-upper, StorageUnit-fix-p_store-lower, StorageUnit-fix-p_store-upper, StorageUnit-fix-state_of_charge-lower, StorageUnit-fix-state_of_charge-upper, StorageUnit-energy_balance were not assigned to the network.\n"
     ]
    },
    {
     "data": {
      "text/plain": [
       "('ok', 'optimal')"
      ]
     },
     "execution_count": 4,
     "metadata": {},
     "output_type": "execute_result"
    }
   ],
   "source": [
    "network.optimize(solver_name='highs')"
   ]
  },
  {
   "cell_type": "code",
   "execution_count": 5,
   "metadata": {},
   "outputs": [],
   "source": [
    "del network.model\n",
    "\n",
    "network_id = network.copy()\n"
   ]
  },
  {
   "cell_type": "markdown",
   "metadata": {},
   "source": [
    "```\n",
    "\n",
    "\n",
    "```"
   ]
  },
  {
   "cell_type": "code",
   "execution_count": 6,
   "metadata": {},
   "outputs": [],
   "source": [
    "# Define the carriers that should be committable\n",
    "committable_carriers = [\"coal\", \"gas\", \"biomass\"]\n",
    "\n",
    "# Step 1: Identify generators that produced power during the simulation\n",
    "active_generators = network.generators_t.p.sum() > 0  # Sum over time and check if nonzero\n",
    "\n",
    "# Step 2: Filter generators that belong to the selected carriers and were active\n",
    "active_and_committable = network.generators.index[network.generators[\"carrier\"].isin(committable_carriers) & active_generators]\n",
    "\n",
    "# Step 3: Set 'committable' = True only for those generators\n",
    "network.generators.loc[active_and_committable, \"committable\"] = True"
   ]
  },
  {
   "cell_type": "markdown",
   "metadata": {},
   "source": []
  },
  {
   "cell_type": "markdown",
   "metadata": {},
   "source": [
    "###\n",
    "---"
   ]
  }
 ],
 "metadata": {
  "kernelspec": {
   "display_name": "flex_training_env",
   "language": "python",
   "name": "python3"
  },
  "language_info": {
   "codemirror_mode": {
    "name": "ipython",
    "version": 3
   },
   "file_extension": ".py",
   "mimetype": "text/x-python",
   "name": "python",
   "nbconvert_exporter": "python",
   "pygments_lexer": "ipython3",
   "version": "3.10.16"
  }
 },
 "nbformat": 4,
 "nbformat_minor": 2
}
