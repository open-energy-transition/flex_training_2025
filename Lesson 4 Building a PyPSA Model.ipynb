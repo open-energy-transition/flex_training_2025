{
 "cells": [
  {
   "cell_type": "markdown",
   "metadata": {},
   "source": [
    "### 📘 Lesson 4: Building a PyPSA Model"
   ]
  },
  {
   "cell_type": "markdown",
   "metadata": {},
   "source": [
    "<div style=\"display: flex; align-items: center; justify-content: space-between;\">\n",
    "  <div>\n",
    "    <h3>Course presenters</h3>\n",
    "    <ul>\n",
    "      <li><strong>Priyesh Gosai</strong> - Energy Systems Modeler and Training Coordinator</li>\n",
    "      <li><strong>Dr. Fabian Hofmann</strong> - Senior Optimization and Energy System Modelling Expert</li>\n",
    "    </ul>\n",
    "  </div>\n",
    "  <div>\n",
    "    <a href=\"https://openenergytransition.org/index.html\">\n",
    "      <img src=\"https://openenergytransition.org/assets/img/oet-logo-red-n-subtitle.png\" height=\"60\" alt=\"OET\">\n",
    "    </a>\n",
    "  </div>\n",
    "</div>\n"
   ]
  },
  {
   "cell_type": "markdown",
   "metadata": {},
   "source": [
    "##### 🎯 Learning Objectives  \n"
   ]
  },
  {
   "cell_type": "markdown",
   "metadata": {},
   "source": [
    "\n",
    "* Introduce participants to the PyPSA toolbox.  \n",
    "* Provide details of relevant components.  \n",
    "* Build and solve a simple PyPSA model.  \n",
    "* Review the data structures for static and time-series data.  \n",
    "* Analyze the results.  \n",
    "\n",
    "The content also includes references to other toolboxes such as `numpy`, `pandas`, `matplotlib`, and `plotly`, but only covers functions relevant to a PyPSA workflow.  \n",
    "\n",
    "📌 Participants unfamiliar with these toolboxes are encouraged to explore online videos or courses for deeper learning. 🎥📚  \n",
    "\n",
    "---"
   ]
  },
  {
   "cell_type": "markdown",
   "metadata": {},
   "source": [
    "### 📥 **Importing Essential Libraries**  \n"
   ]
  },
  {
   "cell_type": "code",
   "execution_count": 1,
   "metadata": {},
   "outputs": [],
   "source": [
    "import pypsa\n",
    "import pandas as pd\n",
    "import numpy as np\n",
    "from training_scripts import *"
   ]
  },
  {
   "cell_type": "markdown",
   "metadata": {},
   "source": [
    "### **🔧⚡ Create a PyPSA Network Object**"
   ]
  },
  {
   "cell_type": "code",
   "execution_count": 2,
   "metadata": {},
   "outputs": [],
   "source": [
    "network = pypsa.Network()"
   ]
  },
  {
   "cell_type": "markdown",
   "metadata": {},
   "source": [
    "Look at what is in the network."
   ]
  },
  {
   "cell_type": "code",
   "execution_count": 3,
   "metadata": {},
   "outputs": [
    {
     "data": {
      "text/plain": [
       "{'Bus',\n",
       " 'Carrier',\n",
       " 'Generator',\n",
       " 'GlobalConstraint',\n",
       " 'Line',\n",
       " 'LineType',\n",
       " 'Link',\n",
       " 'Load',\n",
       " 'Shape',\n",
       " 'ShuntImpedance',\n",
       " 'StorageUnit',\n",
       " 'Store',\n",
       " 'SubNetwork',\n",
       " 'Transformer',\n",
       " 'TransformerType'}"
      ]
     },
     "execution_count": 3,
     "metadata": {},
     "output_type": "execute_result"
    }
   ],
   "source": [
    "network.all_components"
   ]
  },
  {
   "cell_type": "markdown",
   "metadata": {},
   "source": [
    "Look at the component attributes."
   ]
  },
  {
   "cell_type": "code",
   "execution_count": 4,
   "metadata": {},
   "outputs": [
    {
     "data": {
      "application/vnd.microsoft.datawrangler.viewer.v0+json": {
       "columns": [
        {
         "name": "attribute",
         "rawType": "object",
         "type": "string"
        },
        {
         "name": "type",
         "rawType": "object",
         "type": "string"
        },
        {
         "name": "unit",
         "rawType": "object",
         "type": "unknown"
        },
        {
         "name": "default",
         "rawType": "object",
         "type": "unknown"
        },
        {
         "name": "description",
         "rawType": "object",
         "type": "string"
        },
        {
         "name": "status",
         "rawType": "object",
         "type": "string"
        },
        {
         "name": "static",
         "rawType": "bool",
         "type": "boolean"
        },
        {
         "name": "varying",
         "rawType": "bool",
         "type": "boolean"
        },
        {
         "name": "typ",
         "rawType": "object",
         "type": "unknown"
        },
        {
         "name": "dtype",
         "rawType": "object",
         "type": "unknown"
        }
       ],
       "conversionMethod": "pd.DataFrame",
       "ref": "fd026bad-0a00-4995-8a8b-7e5b35517f30",
       "rows": [
        [
         "name",
         "string",
         null,
         "",
         "Unique name",
         "Input (required)",
         "True",
         "False",
         "<class 'str'>",
         "object"
        ],
        [
         "v_nom",
         "float",
         "kV",
         "1.0",
         "Nominal voltage",
         "Input (optional)",
         "True",
         "False",
         "<class 'float'>",
         "float64"
        ],
        [
         "type",
         "string",
         null,
         "",
         "Placeholder for bus type. Not yet implemented.",
         "Input (optional)",
         "True",
         "False",
         "<class 'str'>",
         "object"
        ],
        [
         "x",
         "float",
         null,
         "0.0",
         "Position (e.g. longitude); the Spatial Reference System Identifier (SRID) is set in network.srid.",
         "Input (optional)",
         "True",
         "False",
         "<class 'float'>",
         "float64"
        ],
        [
         "y",
         "float",
         null,
         "0.0",
         "Position (e.g. latitude); the Spatial Reference System Identifier (SRID) is set in network.srid.",
         "Input (optional)",
         "True",
         "False",
         "<class 'float'>",
         "float64"
        ],
        [
         "carrier",
         "string",
         null,
         "AC",
         "Energy carrier: can be \"AC\" or \"DC\" for electrical buses, or \"heat\" or \"gas\".",
         "Input (optional)",
         "True",
         "False",
         "<class 'str'>",
         "object"
        ],
        [
         "unit",
         "string",
         null,
         "",
         "Unit of the bus’ carrier if the implicitly assumed unit (\"MW\") is inappropriate (e.g. \"t/h\", \"MWh_th/h\"). Only descriptive. Does not influence any PyPSA functions.",
         "Input (optional)",
         "True",
         "False",
         "<class 'str'>",
         "object"
        ],
        [
         "v_mag_pu_set",
         "static or series",
         "per unit",
         "1.0",
         "Voltage magnitude set point, per unit of v_nom.",
         "Input (optional)",
         "True",
         "True",
         "<class 'float'>",
         "float64"
        ],
        [
         "v_mag_pu_min",
         "float",
         "per unit",
         "0.0",
         "Minimum desired voltage, per unit of v_nom. This is a placeholder attribute and is not currently used by any PyPSA functions.",
         "Input (optional)",
         "True",
         "False",
         "<class 'float'>",
         "float64"
        ],
        [
         "v_mag_pu_max",
         "float",
         "per unit",
         "inf",
         "Maximum desired voltage, per unit of v_nom.  This is a placeholder attribute and is not currently used by any PyPSA functions.",
         "Input (optional)",
         "True",
         "False",
         "<class 'float'>",
         "float64"
        ],
        [
         "control",
         "string",
         null,
         "PQ",
         "P,Q,V control strategy for PF, must be \"PQ\", \"PV\" or \"Slack\". Note that this attribute is an output inherited from the controls of the generators attached to the bus; setting it directly on the bus will not have any effect.",
         "Output",
         "True",
         "False",
         "<class 'str'>",
         "object"
        ],
        [
         "generator",
         "string",
         null,
         "",
         "Name of slack generator attached to slack bus.",
         "Output",
         "True",
         "False",
         "<class 'str'>",
         "object"
        ],
        [
         "sub_network",
         "string",
         null,
         "",
         "Name of connected sub-network to which bus belongs. This attribute is set by PyPSA in the function network.determine_network_topology(); do not set it directly by hand.",
         "Output",
         "True",
         "False",
         "<class 'str'>",
         "object"
        ],
        [
         "p",
         "series",
         "MW",
         "0.0",
         "active power at bus (positive if net generation at bus)",
         "Output",
         "False",
         "True",
         "<class 'float'>",
         "float64"
        ],
        [
         "q",
         "series",
         "MVar",
         "0.0",
         "reactive power (positive if net generation at bus)",
         "Output",
         "False",
         "True",
         "<class 'float'>",
         "float64"
        ],
        [
         "v_mag_pu",
         "series",
         "per unit",
         "1.0",
         "Voltage magnitude, per unit of v_nom",
         "Output",
         "False",
         "True",
         "<class 'float'>",
         "float64"
        ],
        [
         "v_ang",
         "series",
         "radians",
         "0.0",
         "Voltage angle",
         "Output",
         "False",
         "True",
         "<class 'float'>",
         "float64"
        ],
        [
         "marginal_price",
         "series",
         "currency/MWh",
         "0.0",
         "Locational marginal price from LOPF from power balance constraint",
         "Output",
         "False",
         "True",
         "<class 'float'>",
         "float64"
        ]
       ],
       "shape": {
        "columns": 9,
        "rows": 18
       }
      },
      "text/html": [
       "<div>\n",
       "<style scoped>\n",
       "    .dataframe tbody tr th:only-of-type {\n",
       "        vertical-align: middle;\n",
       "    }\n",
       "\n",
       "    .dataframe tbody tr th {\n",
       "        vertical-align: top;\n",
       "    }\n",
       "\n",
       "    .dataframe thead th {\n",
       "        text-align: right;\n",
       "    }\n",
       "</style>\n",
       "<table border=\"1\" class=\"dataframe\">\n",
       "  <thead>\n",
       "    <tr style=\"text-align: right;\">\n",
       "      <th></th>\n",
       "      <th>type</th>\n",
       "      <th>unit</th>\n",
       "      <th>default</th>\n",
       "      <th>description</th>\n",
       "      <th>status</th>\n",
       "      <th>static</th>\n",
       "      <th>varying</th>\n",
       "      <th>typ</th>\n",
       "      <th>dtype</th>\n",
       "    </tr>\n",
       "    <tr>\n",
       "      <th>attribute</th>\n",
       "      <th></th>\n",
       "      <th></th>\n",
       "      <th></th>\n",
       "      <th></th>\n",
       "      <th></th>\n",
       "      <th></th>\n",
       "      <th></th>\n",
       "      <th></th>\n",
       "      <th></th>\n",
       "    </tr>\n",
       "  </thead>\n",
       "  <tbody>\n",
       "    <tr>\n",
       "      <th>name</th>\n",
       "      <td>string</td>\n",
       "      <td>NaN</td>\n",
       "      <td></td>\n",
       "      <td>Unique name</td>\n",
       "      <td>Input (required)</td>\n",
       "      <td>True</td>\n",
       "      <td>False</td>\n",
       "      <td>&lt;class 'str'&gt;</td>\n",
       "      <td>object</td>\n",
       "    </tr>\n",
       "    <tr>\n",
       "      <th>v_nom</th>\n",
       "      <td>float</td>\n",
       "      <td>kV</td>\n",
       "      <td>1.0</td>\n",
       "      <td>Nominal voltage</td>\n",
       "      <td>Input (optional)</td>\n",
       "      <td>True</td>\n",
       "      <td>False</td>\n",
       "      <td>&lt;class 'float'&gt;</td>\n",
       "      <td>float64</td>\n",
       "    </tr>\n",
       "    <tr>\n",
       "      <th>type</th>\n",
       "      <td>string</td>\n",
       "      <td>NaN</td>\n",
       "      <td></td>\n",
       "      <td>Placeholder for bus type. Not yet implemented.</td>\n",
       "      <td>Input (optional)</td>\n",
       "      <td>True</td>\n",
       "      <td>False</td>\n",
       "      <td>&lt;class 'str'&gt;</td>\n",
       "      <td>object</td>\n",
       "    </tr>\n",
       "    <tr>\n",
       "      <th>x</th>\n",
       "      <td>float</td>\n",
       "      <td>NaN</td>\n",
       "      <td>0.0</td>\n",
       "      <td>Position (e.g. longitude); the Spatial Referen...</td>\n",
       "      <td>Input (optional)</td>\n",
       "      <td>True</td>\n",
       "      <td>False</td>\n",
       "      <td>&lt;class 'float'&gt;</td>\n",
       "      <td>float64</td>\n",
       "    </tr>\n",
       "    <tr>\n",
       "      <th>y</th>\n",
       "      <td>float</td>\n",
       "      <td>NaN</td>\n",
       "      <td>0.0</td>\n",
       "      <td>Position (e.g. latitude); the Spatial Referenc...</td>\n",
       "      <td>Input (optional)</td>\n",
       "      <td>True</td>\n",
       "      <td>False</td>\n",
       "      <td>&lt;class 'float'&gt;</td>\n",
       "      <td>float64</td>\n",
       "    </tr>\n",
       "    <tr>\n",
       "      <th>carrier</th>\n",
       "      <td>string</td>\n",
       "      <td>NaN</td>\n",
       "      <td>AC</td>\n",
       "      <td>Energy carrier: can be \"AC\" or \"DC\" for electr...</td>\n",
       "      <td>Input (optional)</td>\n",
       "      <td>True</td>\n",
       "      <td>False</td>\n",
       "      <td>&lt;class 'str'&gt;</td>\n",
       "      <td>object</td>\n",
       "    </tr>\n",
       "    <tr>\n",
       "      <th>unit</th>\n",
       "      <td>string</td>\n",
       "      <td>NaN</td>\n",
       "      <td></td>\n",
       "      <td>Unit of the bus’ carrier if the implicitly ass...</td>\n",
       "      <td>Input (optional)</td>\n",
       "      <td>True</td>\n",
       "      <td>False</td>\n",
       "      <td>&lt;class 'str'&gt;</td>\n",
       "      <td>object</td>\n",
       "    </tr>\n",
       "    <tr>\n",
       "      <th>v_mag_pu_set</th>\n",
       "      <td>static or series</td>\n",
       "      <td>per unit</td>\n",
       "      <td>1.0</td>\n",
       "      <td>Voltage magnitude set point, per unit of v_nom.</td>\n",
       "      <td>Input (optional)</td>\n",
       "      <td>True</td>\n",
       "      <td>True</td>\n",
       "      <td>&lt;class 'float'&gt;</td>\n",
       "      <td>float64</td>\n",
       "    </tr>\n",
       "    <tr>\n",
       "      <th>v_mag_pu_min</th>\n",
       "      <td>float</td>\n",
       "      <td>per unit</td>\n",
       "      <td>0.0</td>\n",
       "      <td>Minimum desired voltage, per unit of v_nom. Th...</td>\n",
       "      <td>Input (optional)</td>\n",
       "      <td>True</td>\n",
       "      <td>False</td>\n",
       "      <td>&lt;class 'float'&gt;</td>\n",
       "      <td>float64</td>\n",
       "    </tr>\n",
       "    <tr>\n",
       "      <th>v_mag_pu_max</th>\n",
       "      <td>float</td>\n",
       "      <td>per unit</td>\n",
       "      <td>inf</td>\n",
       "      <td>Maximum desired voltage, per unit of v_nom.  T...</td>\n",
       "      <td>Input (optional)</td>\n",
       "      <td>True</td>\n",
       "      <td>False</td>\n",
       "      <td>&lt;class 'float'&gt;</td>\n",
       "      <td>float64</td>\n",
       "    </tr>\n",
       "    <tr>\n",
       "      <th>control</th>\n",
       "      <td>string</td>\n",
       "      <td>NaN</td>\n",
       "      <td>PQ</td>\n",
       "      <td>P,Q,V control strategy for PF, must be \"PQ\", \"...</td>\n",
       "      <td>Output</td>\n",
       "      <td>True</td>\n",
       "      <td>False</td>\n",
       "      <td>&lt;class 'str'&gt;</td>\n",
       "      <td>object</td>\n",
       "    </tr>\n",
       "    <tr>\n",
       "      <th>generator</th>\n",
       "      <td>string</td>\n",
       "      <td>NaN</td>\n",
       "      <td></td>\n",
       "      <td>Name of slack generator attached to slack bus.</td>\n",
       "      <td>Output</td>\n",
       "      <td>True</td>\n",
       "      <td>False</td>\n",
       "      <td>&lt;class 'str'&gt;</td>\n",
       "      <td>object</td>\n",
       "    </tr>\n",
       "    <tr>\n",
       "      <th>sub_network</th>\n",
       "      <td>string</td>\n",
       "      <td>NaN</td>\n",
       "      <td></td>\n",
       "      <td>Name of connected sub-network to which bus bel...</td>\n",
       "      <td>Output</td>\n",
       "      <td>True</td>\n",
       "      <td>False</td>\n",
       "      <td>&lt;class 'str'&gt;</td>\n",
       "      <td>object</td>\n",
       "    </tr>\n",
       "    <tr>\n",
       "      <th>p</th>\n",
       "      <td>series</td>\n",
       "      <td>MW</td>\n",
       "      <td>0.0</td>\n",
       "      <td>active power at bus (positive if net generatio...</td>\n",
       "      <td>Output</td>\n",
       "      <td>False</td>\n",
       "      <td>True</td>\n",
       "      <td>&lt;class 'float'&gt;</td>\n",
       "      <td>float64</td>\n",
       "    </tr>\n",
       "    <tr>\n",
       "      <th>q</th>\n",
       "      <td>series</td>\n",
       "      <td>MVar</td>\n",
       "      <td>0.0</td>\n",
       "      <td>reactive power (positive if net generation at ...</td>\n",
       "      <td>Output</td>\n",
       "      <td>False</td>\n",
       "      <td>True</td>\n",
       "      <td>&lt;class 'float'&gt;</td>\n",
       "      <td>float64</td>\n",
       "    </tr>\n",
       "    <tr>\n",
       "      <th>v_mag_pu</th>\n",
       "      <td>series</td>\n",
       "      <td>per unit</td>\n",
       "      <td>1.0</td>\n",
       "      <td>Voltage magnitude, per unit of v_nom</td>\n",
       "      <td>Output</td>\n",
       "      <td>False</td>\n",
       "      <td>True</td>\n",
       "      <td>&lt;class 'float'&gt;</td>\n",
       "      <td>float64</td>\n",
       "    </tr>\n",
       "    <tr>\n",
       "      <th>v_ang</th>\n",
       "      <td>series</td>\n",
       "      <td>radians</td>\n",
       "      <td>0.0</td>\n",
       "      <td>Voltage angle</td>\n",
       "      <td>Output</td>\n",
       "      <td>False</td>\n",
       "      <td>True</td>\n",
       "      <td>&lt;class 'float'&gt;</td>\n",
       "      <td>float64</td>\n",
       "    </tr>\n",
       "    <tr>\n",
       "      <th>marginal_price</th>\n",
       "      <td>series</td>\n",
       "      <td>currency/MWh</td>\n",
       "      <td>0.0</td>\n",
       "      <td>Locational marginal price from LOPF from power...</td>\n",
       "      <td>Output</td>\n",
       "      <td>False</td>\n",
       "      <td>True</td>\n",
       "      <td>&lt;class 'float'&gt;</td>\n",
       "      <td>float64</td>\n",
       "    </tr>\n",
       "  </tbody>\n",
       "</table>\n",
       "</div>"
      ],
      "text/plain": [
       "                            type          unit default  \\\n",
       "attribute                                                \n",
       "name                      string           NaN           \n",
       "v_nom                      float            kV     1.0   \n",
       "type                      string           NaN           \n",
       "x                          float           NaN     0.0   \n",
       "y                          float           NaN     0.0   \n",
       "carrier                   string           NaN      AC   \n",
       "unit                      string           NaN           \n",
       "v_mag_pu_set    static or series      per unit     1.0   \n",
       "v_mag_pu_min               float      per unit     0.0   \n",
       "v_mag_pu_max               float      per unit     inf   \n",
       "control                   string           NaN      PQ   \n",
       "generator                 string           NaN           \n",
       "sub_network               string           NaN           \n",
       "p                         series            MW     0.0   \n",
       "q                         series          MVar     0.0   \n",
       "v_mag_pu                  series      per unit     1.0   \n",
       "v_ang                     series       radians     0.0   \n",
       "marginal_price            series  currency/MWh     0.0   \n",
       "\n",
       "                                                      description  \\\n",
       "attribute                                                           \n",
       "name                                                  Unique name   \n",
       "v_nom                                             Nominal voltage   \n",
       "type               Placeholder for bus type. Not yet implemented.   \n",
       "x               Position (e.g. longitude); the Spatial Referen...   \n",
       "y               Position (e.g. latitude); the Spatial Referenc...   \n",
       "carrier         Energy carrier: can be \"AC\" or \"DC\" for electr...   \n",
       "unit            Unit of the bus’ carrier if the implicitly ass...   \n",
       "v_mag_pu_set      Voltage magnitude set point, per unit of v_nom.   \n",
       "v_mag_pu_min    Minimum desired voltage, per unit of v_nom. Th...   \n",
       "v_mag_pu_max    Maximum desired voltage, per unit of v_nom.  T...   \n",
       "control         P,Q,V control strategy for PF, must be \"PQ\", \"...   \n",
       "generator          Name of slack generator attached to slack bus.   \n",
       "sub_network     Name of connected sub-network to which bus bel...   \n",
       "p               active power at bus (positive if net generatio...   \n",
       "q               reactive power (positive if net generation at ...   \n",
       "v_mag_pu                     Voltage magnitude, per unit of v_nom   \n",
       "v_ang                                               Voltage angle   \n",
       "marginal_price  Locational marginal price from LOPF from power...   \n",
       "\n",
       "                          status  static  varying              typ    dtype  \n",
       "attribute                                                                    \n",
       "name            Input (required)    True    False    <class 'str'>   object  \n",
       "v_nom           Input (optional)    True    False  <class 'float'>  float64  \n",
       "type            Input (optional)    True    False    <class 'str'>   object  \n",
       "x               Input (optional)    True    False  <class 'float'>  float64  \n",
       "y               Input (optional)    True    False  <class 'float'>  float64  \n",
       "carrier         Input (optional)    True    False    <class 'str'>   object  \n",
       "unit            Input (optional)    True    False    <class 'str'>   object  \n",
       "v_mag_pu_set    Input (optional)    True     True  <class 'float'>  float64  \n",
       "v_mag_pu_min    Input (optional)    True    False  <class 'float'>  float64  \n",
       "v_mag_pu_max    Input (optional)    True    False  <class 'float'>  float64  \n",
       "control                   Output    True    False    <class 'str'>   object  \n",
       "generator                 Output    True    False    <class 'str'>   object  \n",
       "sub_network               Output    True    False    <class 'str'>   object  \n",
       "p                         Output   False     True  <class 'float'>  float64  \n",
       "q                         Output   False     True  <class 'float'>  float64  \n",
       "v_mag_pu                  Output   False     True  <class 'float'>  float64  \n",
       "v_ang                     Output   False     True  <class 'float'>  float64  \n",
       "marginal_price            Output   False     True  <class 'float'>  float64  "
      ]
     },
     "execution_count": 4,
     "metadata": {},
     "output_type": "execute_result"
    }
   ],
   "source": [
    "network.component_attrs['Bus']"
   ]
  },
  {
   "cell_type": "code",
   "execution_count": 5,
   "metadata": {},
   "outputs": [
    {
     "data": {
      "application/vnd.microsoft.datawrangler.viewer.v0+json": {
       "columns": [
        {
         "name": "attribute",
         "rawType": "object",
         "type": "string"
        },
        {
         "name": "type",
         "rawType": "object",
         "type": "string"
        },
        {
         "name": "unit",
         "rawType": "object",
         "type": "unknown"
        },
        {
         "name": "default",
         "rawType": "object",
         "type": "unknown"
        },
        {
         "name": "description",
         "rawType": "object",
         "type": "string"
        },
        {
         "name": "status",
         "rawType": "object",
         "type": "string"
        },
        {
         "name": "static",
         "rawType": "bool",
         "type": "boolean"
        },
        {
         "name": "varying",
         "rawType": "bool",
         "type": "boolean"
        },
        {
         "name": "typ",
         "rawType": "object",
         "type": "unknown"
        },
        {
         "name": "dtype",
         "rawType": "object",
         "type": "unknown"
        }
       ],
       "conversionMethod": "pd.DataFrame",
       "ref": "e9c5b238-2728-468f-9233-5ae981481f1d",
       "rows": [
        [
         "name",
         "string",
         null,
         "",
         "Unique name",
         "Input (required)",
         "True",
         "False",
         "<class 'str'>",
         "object"
        ],
        [
         "bus",
         "string",
         null,
         "",
         "name of bus to which generator is attached",
         "Input (required)",
         "True",
         "False",
         "<class 'str'>",
         "object"
        ],
        [
         "control",
         "string",
         null,
         "PQ",
         "P,Q,V control strategy for PF, must be \"PQ\", \"PV\" or \"Slack\".",
         "Input (optional)",
         "True",
         "False",
         "<class 'str'>",
         "object"
        ],
        [
         "type",
         "string",
         null,
         "",
         "Placeholder for generator type. Not yet implemented.",
         "Input (optional)",
         "True",
         "False",
         "<class 'str'>",
         "object"
        ],
        [
         "p_nom",
         "float",
         "MW",
         "0.0",
         "Nominal power for limits in optimization.",
         "Input (optional)",
         "True",
         "False",
         "<class 'float'>",
         "float64"
        ],
        [
         "p_nom_mod",
         "float",
         "MW",
         "0.0",
         "Nominal power of the generator module.",
         "Input (optional)",
         "True",
         "False",
         "<class 'float'>",
         "float64"
        ],
        [
         "p_nom_extendable",
         "boolean",
         null,
         "False",
         "Switch to allow capacity p_nom to be extended in optimization.",
         "Input (optional)",
         "True",
         "False",
         "<class 'bool'>",
         "bool"
        ],
        [
         "p_nom_min",
         "float",
         "MW",
         "0.0",
         "If p_nom is extendable in optimization, set its minimum value.",
         "Input (optional)",
         "True",
         "False",
         "<class 'float'>",
         "float64"
        ],
        [
         "p_nom_max",
         "float",
         "MW",
         "inf",
         "If p_nom is extendable in optimization, set its maximum value (e.g. limited by technical potential).",
         "Input (optional)",
         "True",
         "False",
         "<class 'float'>",
         "float64"
        ],
        [
         "p_min_pu",
         "static or series",
         "per unit",
         "0.0",
         "The minimum output for each snapshot per unit of p_nom for the optimization (e.g. for variable renewable generators this can change due to weather conditions and compulsory feed-in; for conventional generators it represents a minimal dispatch). Note that if comittable is False and p_min_pu > 0, this represents a must-run condition.",
         "Input (optional)",
         "True",
         "True",
         "<class 'float'>",
         "float64"
        ],
        [
         "p_max_pu",
         "static or series",
         "per unit",
         "1.0",
         "The maximum output for each snapshot per unit of p_nom for the optimization (e.g. for variable renewable generators this can change due to weather conditions; for conventional generators it represents a maximum dispatch).",
         "Input (optional)",
         "True",
         "True",
         "<class 'float'>",
         "float64"
        ],
        [
         "p_set",
         "static or series",
         "MW",
         "0.0",
         "active power set point (for PF)",
         "Input (optional)",
         "True",
         "True",
         "<class 'float'>",
         "float64"
        ],
        [
         "e_sum_min",
         "float",
         "MWh",
         "-inf",
         "The minimum total energy produced during a single optimization horizon.",
         "Input (optional)",
         "True",
         "False",
         "<class 'float'>",
         "float64"
        ],
        [
         "e_sum_max",
         "float",
         "MWh",
         "inf",
         "The maximum total energy produced during a single optimization horizon.",
         "Input (optional)",
         "True",
         "False",
         "<class 'float'>",
         "float64"
        ],
        [
         "q_set",
         "static or series",
         "MVar",
         "0.0",
         "reactive power set point (for PF)",
         "Input (optional)",
         "True",
         "True",
         "<class 'float'>",
         "float64"
        ],
        [
         "sign",
         "float",
         null,
         "1.0",
         "power sign",
         "Input (optional)",
         "True",
         "False",
         "<class 'float'>",
         "float64"
        ],
        [
         "carrier",
         "string",
         null,
         "",
         "Prime mover energy carrier (e.g. coal, gas, wind, solar); required for global constraints on primary energy in optimization",
         "Input (optional)",
         "True",
         "False",
         "<class 'str'>",
         "object"
        ],
        [
         "marginal_cost",
         "static or series",
         "currency/MWh",
         "0.0",
         "Marginal cost of production of 1 MWh.",
         "Input (optional)",
         "True",
         "True",
         "<class 'float'>",
         "float64"
        ],
        [
         "marginal_cost_quadratic",
         "static or series",
         "currency/MWh",
         "0.0",
         "Quadratic marginal cost of production of 1 MWh.",
         "Input (optional)",
         "True",
         "True",
         "<class 'float'>",
         "float64"
        ],
        [
         "active",
         "boolean",
         null,
         "True",
         "Whether to consider the component in basic functionality or not",
         "Input (optional)",
         "True",
         "False",
         "<class 'bool'>",
         "bool"
        ],
        [
         "build_year",
         "int",
         "year",
         "0",
         "build year",
         "Input (optional)",
         "True",
         "False",
         "<class 'int'>",
         "int32"
        ],
        [
         "lifetime",
         "float",
         "years",
         "inf",
         "lifetime",
         "Input (optional)",
         "True",
         "False",
         "<class 'float'>",
         "float64"
        ],
        [
         "capital_cost",
         "float",
         "currency/MW",
         "0.0",
         "Fixed period costs of extending p_nom by 1 MW, including periodized investment costs and periodic fixed O&M costs (e.g. annuitized investment costs).",
         "Input (optional)",
         "True",
         "False",
         "<class 'float'>",
         "float64"
        ],
        [
         "efficiency",
         "static or series",
         "per unit",
         "1.0",
         "Ratio between primary energy and electrical energy, e.g. takes value 0.4 MWh_elec/MWh_thermal for gas. This is required for global constraints on primary energy in optimization.",
         "Input (optional)",
         "True",
         "True",
         "<class 'float'>",
         "float64"
        ],
        [
         "committable",
         "boolean",
         null,
         "False",
         "Use unit commitment (only possible if p_nom is not extendable).",
         "Input (optional)",
         "True",
         "False",
         "<class 'bool'>",
         "bool"
        ],
        [
         "start_up_cost",
         "float",
         "currency",
         "0.0",
         "Cost to start up the generator. Only read if committable is True.",
         "Input (optional)",
         "True",
         "False",
         "<class 'float'>",
         "float64"
        ],
        [
         "shut_down_cost",
         "float",
         "currency",
         "0.0",
         "Cost to shut down the generator. Only read if committable is True.",
         "Input (optional)",
         "True",
         "False",
         "<class 'float'>",
         "float64"
        ],
        [
         "stand_by_cost",
         "static or series",
         "currency/h",
         "0.0",
         "Stand-by cost for operating the generator at null power output.",
         "Input (optional)",
         "True",
         "True",
         "<class 'float'>",
         "float64"
        ],
        [
         "min_up_time",
         "int",
         "snapshots",
         "0",
         "Minimum number of snapshots for status to be 1.  Only read if committable is True.",
         "Input (optional)",
         "True",
         "False",
         "<class 'int'>",
         "int32"
        ],
        [
         "min_down_time",
         "int",
         "snapshots",
         "0",
         "Minimum number of snapshots for status to be 0.  Only read if committable is True.",
         "Input (optional)",
         "True",
         "False",
         "<class 'int'>",
         "int32"
        ],
        [
         "up_time_before",
         "int",
         "snapshots",
         "1",
         "Number of snapshots that the generator was online before network.snapshots start. Only read if committable is True and min_up_time is non-zero.",
         "Input (optional)",
         "True",
         "False",
         "<class 'int'>",
         "int32"
        ],
        [
         "down_time_before",
         "int",
         "snapshots",
         "0",
         "Number of snapshots that the generator was offline before network.snapshots start. Only read if committable is True and min_down_time is non-zero.",
         "Input (optional)",
         "True",
         "False",
         "<class 'int'>",
         "int32"
        ],
        [
         "ramp_limit_up",
         "static or series",
         "per unit",
         null,
         "Maximum active power increase from one snapshot to the next, per unit of the nominal power. Ignored if NaN.",
         "Input (optional)",
         "True",
         "True",
         "<class 'float'>",
         "float64"
        ],
        [
         "ramp_limit_down",
         "static or series",
         "per unit",
         null,
         "Maximum active power decrease from one snapshot to the next, per unit of the nominal power. Ignored if NaN.",
         "Input (optional)",
         "True",
         "True",
         "<class 'float'>",
         "float64"
        ],
        [
         "ramp_limit_start_up",
         "float",
         "per unit",
         "1.0",
         "Maximum active power increase at start up, per unit of the nominal power.   Only read if committable is True.",
         "Input (optional)",
         "True",
         "False",
         "<class 'float'>",
         "float64"
        ],
        [
         "ramp_limit_shut_down",
         "float",
         "per unit",
         "1.0",
         "Maximum active power decrease at shut down, per unit of the nominal power.   Only read if committable is True.",
         "Input (optional)",
         "True",
         "False",
         "<class 'float'>",
         "float64"
        ],
        [
         "weight",
         "float",
         null,
         "1.0",
         "Weighting of a generator. Only used for network clustering.",
         "Input (optional)",
         "True",
         "False",
         "<class 'float'>",
         "float64"
        ],
        [
         "p",
         "series",
         "MW",
         "0.0",
         "active power at bus (positive if net generation)",
         "Output",
         "False",
         "True",
         "<class 'float'>",
         "float64"
        ],
        [
         "q",
         "series",
         "MVar",
         "0.0",
         "reactive power (positive if net generation)",
         "Output",
         "False",
         "True",
         "<class 'float'>",
         "float64"
        ],
        [
         "p_nom_opt",
         "float",
         "MW",
         "0.0",
         "Optimised nominal power.",
         "Output",
         "True",
         "False",
         "<class 'float'>",
         "float64"
        ],
        [
         "status",
         "series",
         null,
         "1.0",
         "Status (1 is on, 0 is off). Only outputted if committable is True.",
         "Output",
         "False",
         "True",
         "<class 'float'>",
         "float64"
        ],
        [
         "mu_upper",
         "series",
         "currency/MWh",
         "0.0",
         "Shadow price of upper p_nom limit",
         "Output",
         "False",
         "True",
         "<class 'float'>",
         "float64"
        ],
        [
         "mu_lower",
         "series",
         "currency/MWh",
         "0.0",
         "Shadow price of lower p_nom limit",
         "Output",
         "False",
         "True",
         "<class 'float'>",
         "float64"
        ],
        [
         "mu_p_set",
         "series",
         "currency/MWh",
         "0.0",
         "Shadow price of fixed power generation p_set",
         "Output",
         "False",
         "True",
         "<class 'float'>",
         "float64"
        ],
        [
         "mu_ramp_limit_up",
         "series",
         "currency/MWh",
         "0.0",
         "Shadow price of upper ramp up limit",
         "Output",
         "False",
         "True",
         "<class 'float'>",
         "float64"
        ],
        [
         "mu_ramp_limit_down",
         "series",
         "currency/MWh",
         "0.0",
         "Shadow price of lower ramp down limit",
         "Output",
         "False",
         "True",
         "<class 'float'>",
         "float64"
        ]
       ],
       "shape": {
        "columns": 9,
        "rows": 46
       }
      },
      "text/html": [
       "<div>\n",
       "<style scoped>\n",
       "    .dataframe tbody tr th:only-of-type {\n",
       "        vertical-align: middle;\n",
       "    }\n",
       "\n",
       "    .dataframe tbody tr th {\n",
       "        vertical-align: top;\n",
       "    }\n",
       "\n",
       "    .dataframe thead th {\n",
       "        text-align: right;\n",
       "    }\n",
       "</style>\n",
       "<table border=\"1\" class=\"dataframe\">\n",
       "  <thead>\n",
       "    <tr style=\"text-align: right;\">\n",
       "      <th></th>\n",
       "      <th>type</th>\n",
       "      <th>unit</th>\n",
       "      <th>default</th>\n",
       "      <th>description</th>\n",
       "      <th>status</th>\n",
       "      <th>static</th>\n",
       "      <th>varying</th>\n",
       "      <th>typ</th>\n",
       "      <th>dtype</th>\n",
       "    </tr>\n",
       "    <tr>\n",
       "      <th>attribute</th>\n",
       "      <th></th>\n",
       "      <th></th>\n",
       "      <th></th>\n",
       "      <th></th>\n",
       "      <th></th>\n",
       "      <th></th>\n",
       "      <th></th>\n",
       "      <th></th>\n",
       "      <th></th>\n",
       "    </tr>\n",
       "  </thead>\n",
       "  <tbody>\n",
       "    <tr>\n",
       "      <th>name</th>\n",
       "      <td>string</td>\n",
       "      <td>NaN</td>\n",
       "      <td></td>\n",
       "      <td>Unique name</td>\n",
       "      <td>Input (required)</td>\n",
       "      <td>True</td>\n",
       "      <td>False</td>\n",
       "      <td>&lt;class 'str'&gt;</td>\n",
       "      <td>object</td>\n",
       "    </tr>\n",
       "    <tr>\n",
       "      <th>bus</th>\n",
       "      <td>string</td>\n",
       "      <td>NaN</td>\n",
       "      <td></td>\n",
       "      <td>name of bus to which generator is attached</td>\n",
       "      <td>Input (required)</td>\n",
       "      <td>True</td>\n",
       "      <td>False</td>\n",
       "      <td>&lt;class 'str'&gt;</td>\n",
       "      <td>object</td>\n",
       "    </tr>\n",
       "    <tr>\n",
       "      <th>control</th>\n",
       "      <td>string</td>\n",
       "      <td>NaN</td>\n",
       "      <td>PQ</td>\n",
       "      <td>P,Q,V control strategy for PF, must be \"PQ\", \"...</td>\n",
       "      <td>Input (optional)</td>\n",
       "      <td>True</td>\n",
       "      <td>False</td>\n",
       "      <td>&lt;class 'str'&gt;</td>\n",
       "      <td>object</td>\n",
       "    </tr>\n",
       "    <tr>\n",
       "      <th>type</th>\n",
       "      <td>string</td>\n",
       "      <td>NaN</td>\n",
       "      <td></td>\n",
       "      <td>Placeholder for generator type. Not yet implem...</td>\n",
       "      <td>Input (optional)</td>\n",
       "      <td>True</td>\n",
       "      <td>False</td>\n",
       "      <td>&lt;class 'str'&gt;</td>\n",
       "      <td>object</td>\n",
       "    </tr>\n",
       "    <tr>\n",
       "      <th>p_nom</th>\n",
       "      <td>float</td>\n",
       "      <td>MW</td>\n",
       "      <td>0.0</td>\n",
       "      <td>Nominal power for limits in optimization.</td>\n",
       "      <td>Input (optional)</td>\n",
       "      <td>True</td>\n",
       "      <td>False</td>\n",
       "      <td>&lt;class 'float'&gt;</td>\n",
       "      <td>float64</td>\n",
       "    </tr>\n",
       "    <tr>\n",
       "      <th>p_nom_mod</th>\n",
       "      <td>float</td>\n",
       "      <td>MW</td>\n",
       "      <td>0.0</td>\n",
       "      <td>Nominal power of the generator module.</td>\n",
       "      <td>Input (optional)</td>\n",
       "      <td>True</td>\n",
       "      <td>False</td>\n",
       "      <td>&lt;class 'float'&gt;</td>\n",
       "      <td>float64</td>\n",
       "    </tr>\n",
       "    <tr>\n",
       "      <th>p_nom_extendable</th>\n",
       "      <td>boolean</td>\n",
       "      <td>NaN</td>\n",
       "      <td>False</td>\n",
       "      <td>Switch to allow capacity p_nom to be extended ...</td>\n",
       "      <td>Input (optional)</td>\n",
       "      <td>True</td>\n",
       "      <td>False</td>\n",
       "      <td>&lt;class 'bool'&gt;</td>\n",
       "      <td>bool</td>\n",
       "    </tr>\n",
       "    <tr>\n",
       "      <th>p_nom_min</th>\n",
       "      <td>float</td>\n",
       "      <td>MW</td>\n",
       "      <td>0.0</td>\n",
       "      <td>If p_nom is extendable in optimization, set it...</td>\n",
       "      <td>Input (optional)</td>\n",
       "      <td>True</td>\n",
       "      <td>False</td>\n",
       "      <td>&lt;class 'float'&gt;</td>\n",
       "      <td>float64</td>\n",
       "    </tr>\n",
       "    <tr>\n",
       "      <th>p_nom_max</th>\n",
       "      <td>float</td>\n",
       "      <td>MW</td>\n",
       "      <td>inf</td>\n",
       "      <td>If p_nom is extendable in optimization, set it...</td>\n",
       "      <td>Input (optional)</td>\n",
       "      <td>True</td>\n",
       "      <td>False</td>\n",
       "      <td>&lt;class 'float'&gt;</td>\n",
       "      <td>float64</td>\n",
       "    </tr>\n",
       "    <tr>\n",
       "      <th>p_min_pu</th>\n",
       "      <td>static or series</td>\n",
       "      <td>per unit</td>\n",
       "      <td>0.0</td>\n",
       "      <td>The minimum output for each snapshot per unit ...</td>\n",
       "      <td>Input (optional)</td>\n",
       "      <td>True</td>\n",
       "      <td>True</td>\n",
       "      <td>&lt;class 'float'&gt;</td>\n",
       "      <td>float64</td>\n",
       "    </tr>\n",
       "    <tr>\n",
       "      <th>p_max_pu</th>\n",
       "      <td>static or series</td>\n",
       "      <td>per unit</td>\n",
       "      <td>1.0</td>\n",
       "      <td>The maximum output for each snapshot per unit ...</td>\n",
       "      <td>Input (optional)</td>\n",
       "      <td>True</td>\n",
       "      <td>True</td>\n",
       "      <td>&lt;class 'float'&gt;</td>\n",
       "      <td>float64</td>\n",
       "    </tr>\n",
       "    <tr>\n",
       "      <th>p_set</th>\n",
       "      <td>static or series</td>\n",
       "      <td>MW</td>\n",
       "      <td>0.0</td>\n",
       "      <td>active power set point (for PF)</td>\n",
       "      <td>Input (optional)</td>\n",
       "      <td>True</td>\n",
       "      <td>True</td>\n",
       "      <td>&lt;class 'float'&gt;</td>\n",
       "      <td>float64</td>\n",
       "    </tr>\n",
       "    <tr>\n",
       "      <th>e_sum_min</th>\n",
       "      <td>float</td>\n",
       "      <td>MWh</td>\n",
       "      <td>-inf</td>\n",
       "      <td>The minimum total energy produced during a sin...</td>\n",
       "      <td>Input (optional)</td>\n",
       "      <td>True</td>\n",
       "      <td>False</td>\n",
       "      <td>&lt;class 'float'&gt;</td>\n",
       "      <td>float64</td>\n",
       "    </tr>\n",
       "    <tr>\n",
       "      <th>e_sum_max</th>\n",
       "      <td>float</td>\n",
       "      <td>MWh</td>\n",
       "      <td>inf</td>\n",
       "      <td>The maximum total energy produced during a sin...</td>\n",
       "      <td>Input (optional)</td>\n",
       "      <td>True</td>\n",
       "      <td>False</td>\n",
       "      <td>&lt;class 'float'&gt;</td>\n",
       "      <td>float64</td>\n",
       "    </tr>\n",
       "    <tr>\n",
       "      <th>q_set</th>\n",
       "      <td>static or series</td>\n",
       "      <td>MVar</td>\n",
       "      <td>0.0</td>\n",
       "      <td>reactive power set point (for PF)</td>\n",
       "      <td>Input (optional)</td>\n",
       "      <td>True</td>\n",
       "      <td>True</td>\n",
       "      <td>&lt;class 'float'&gt;</td>\n",
       "      <td>float64</td>\n",
       "    </tr>\n",
       "    <tr>\n",
       "      <th>sign</th>\n",
       "      <td>float</td>\n",
       "      <td>NaN</td>\n",
       "      <td>1.0</td>\n",
       "      <td>power sign</td>\n",
       "      <td>Input (optional)</td>\n",
       "      <td>True</td>\n",
       "      <td>False</td>\n",
       "      <td>&lt;class 'float'&gt;</td>\n",
       "      <td>float64</td>\n",
       "    </tr>\n",
       "    <tr>\n",
       "      <th>carrier</th>\n",
       "      <td>string</td>\n",
       "      <td>NaN</td>\n",
       "      <td></td>\n",
       "      <td>Prime mover energy carrier (e.g. coal, gas, wi...</td>\n",
       "      <td>Input (optional)</td>\n",
       "      <td>True</td>\n",
       "      <td>False</td>\n",
       "      <td>&lt;class 'str'&gt;</td>\n",
       "      <td>object</td>\n",
       "    </tr>\n",
       "    <tr>\n",
       "      <th>marginal_cost</th>\n",
       "      <td>static or series</td>\n",
       "      <td>currency/MWh</td>\n",
       "      <td>0.0</td>\n",
       "      <td>Marginal cost of production of 1 MWh.</td>\n",
       "      <td>Input (optional)</td>\n",
       "      <td>True</td>\n",
       "      <td>True</td>\n",
       "      <td>&lt;class 'float'&gt;</td>\n",
       "      <td>float64</td>\n",
       "    </tr>\n",
       "    <tr>\n",
       "      <th>marginal_cost_quadratic</th>\n",
       "      <td>static or series</td>\n",
       "      <td>currency/MWh</td>\n",
       "      <td>0.0</td>\n",
       "      <td>Quadratic marginal cost of production of 1 MWh.</td>\n",
       "      <td>Input (optional)</td>\n",
       "      <td>True</td>\n",
       "      <td>True</td>\n",
       "      <td>&lt;class 'float'&gt;</td>\n",
       "      <td>float64</td>\n",
       "    </tr>\n",
       "    <tr>\n",
       "      <th>active</th>\n",
       "      <td>boolean</td>\n",
       "      <td>NaN</td>\n",
       "      <td>True</td>\n",
       "      <td>Whether to consider the component in basic fun...</td>\n",
       "      <td>Input (optional)</td>\n",
       "      <td>True</td>\n",
       "      <td>False</td>\n",
       "      <td>&lt;class 'bool'&gt;</td>\n",
       "      <td>bool</td>\n",
       "    </tr>\n",
       "    <tr>\n",
       "      <th>build_year</th>\n",
       "      <td>int</td>\n",
       "      <td>year</td>\n",
       "      <td>0</td>\n",
       "      <td>build year</td>\n",
       "      <td>Input (optional)</td>\n",
       "      <td>True</td>\n",
       "      <td>False</td>\n",
       "      <td>&lt;class 'int'&gt;</td>\n",
       "      <td>int32</td>\n",
       "    </tr>\n",
       "    <tr>\n",
       "      <th>lifetime</th>\n",
       "      <td>float</td>\n",
       "      <td>years</td>\n",
       "      <td>inf</td>\n",
       "      <td>lifetime</td>\n",
       "      <td>Input (optional)</td>\n",
       "      <td>True</td>\n",
       "      <td>False</td>\n",
       "      <td>&lt;class 'float'&gt;</td>\n",
       "      <td>float64</td>\n",
       "    </tr>\n",
       "    <tr>\n",
       "      <th>capital_cost</th>\n",
       "      <td>float</td>\n",
       "      <td>currency/MW</td>\n",
       "      <td>0.0</td>\n",
       "      <td>Fixed period costs of extending p_nom by 1 MW,...</td>\n",
       "      <td>Input (optional)</td>\n",
       "      <td>True</td>\n",
       "      <td>False</td>\n",
       "      <td>&lt;class 'float'&gt;</td>\n",
       "      <td>float64</td>\n",
       "    </tr>\n",
       "    <tr>\n",
       "      <th>efficiency</th>\n",
       "      <td>static or series</td>\n",
       "      <td>per unit</td>\n",
       "      <td>1.0</td>\n",
       "      <td>Ratio between primary energy and electrical en...</td>\n",
       "      <td>Input (optional)</td>\n",
       "      <td>True</td>\n",
       "      <td>True</td>\n",
       "      <td>&lt;class 'float'&gt;</td>\n",
       "      <td>float64</td>\n",
       "    </tr>\n",
       "    <tr>\n",
       "      <th>committable</th>\n",
       "      <td>boolean</td>\n",
       "      <td>NaN</td>\n",
       "      <td>False</td>\n",
       "      <td>Use unit commitment (only possible if p_nom is...</td>\n",
       "      <td>Input (optional)</td>\n",
       "      <td>True</td>\n",
       "      <td>False</td>\n",
       "      <td>&lt;class 'bool'&gt;</td>\n",
       "      <td>bool</td>\n",
       "    </tr>\n",
       "    <tr>\n",
       "      <th>start_up_cost</th>\n",
       "      <td>float</td>\n",
       "      <td>currency</td>\n",
       "      <td>0.0</td>\n",
       "      <td>Cost to start up the generator. Only read if c...</td>\n",
       "      <td>Input (optional)</td>\n",
       "      <td>True</td>\n",
       "      <td>False</td>\n",
       "      <td>&lt;class 'float'&gt;</td>\n",
       "      <td>float64</td>\n",
       "    </tr>\n",
       "    <tr>\n",
       "      <th>shut_down_cost</th>\n",
       "      <td>float</td>\n",
       "      <td>currency</td>\n",
       "      <td>0.0</td>\n",
       "      <td>Cost to shut down the generator. Only read if ...</td>\n",
       "      <td>Input (optional)</td>\n",
       "      <td>True</td>\n",
       "      <td>False</td>\n",
       "      <td>&lt;class 'float'&gt;</td>\n",
       "      <td>float64</td>\n",
       "    </tr>\n",
       "    <tr>\n",
       "      <th>stand_by_cost</th>\n",
       "      <td>static or series</td>\n",
       "      <td>currency/h</td>\n",
       "      <td>0.0</td>\n",
       "      <td>Stand-by cost for operating the generator at n...</td>\n",
       "      <td>Input (optional)</td>\n",
       "      <td>True</td>\n",
       "      <td>True</td>\n",
       "      <td>&lt;class 'float'&gt;</td>\n",
       "      <td>float64</td>\n",
       "    </tr>\n",
       "    <tr>\n",
       "      <th>min_up_time</th>\n",
       "      <td>int</td>\n",
       "      <td>snapshots</td>\n",
       "      <td>0</td>\n",
       "      <td>Minimum number of snapshots for status to be 1...</td>\n",
       "      <td>Input (optional)</td>\n",
       "      <td>True</td>\n",
       "      <td>False</td>\n",
       "      <td>&lt;class 'int'&gt;</td>\n",
       "      <td>int32</td>\n",
       "    </tr>\n",
       "    <tr>\n",
       "      <th>min_down_time</th>\n",
       "      <td>int</td>\n",
       "      <td>snapshots</td>\n",
       "      <td>0</td>\n",
       "      <td>Minimum number of snapshots for status to be 0...</td>\n",
       "      <td>Input (optional)</td>\n",
       "      <td>True</td>\n",
       "      <td>False</td>\n",
       "      <td>&lt;class 'int'&gt;</td>\n",
       "      <td>int32</td>\n",
       "    </tr>\n",
       "    <tr>\n",
       "      <th>up_time_before</th>\n",
       "      <td>int</td>\n",
       "      <td>snapshots</td>\n",
       "      <td>1</td>\n",
       "      <td>Number of snapshots that the generator was onl...</td>\n",
       "      <td>Input (optional)</td>\n",
       "      <td>True</td>\n",
       "      <td>False</td>\n",
       "      <td>&lt;class 'int'&gt;</td>\n",
       "      <td>int32</td>\n",
       "    </tr>\n",
       "    <tr>\n",
       "      <th>down_time_before</th>\n",
       "      <td>int</td>\n",
       "      <td>snapshots</td>\n",
       "      <td>0</td>\n",
       "      <td>Number of snapshots that the generator was off...</td>\n",
       "      <td>Input (optional)</td>\n",
       "      <td>True</td>\n",
       "      <td>False</td>\n",
       "      <td>&lt;class 'int'&gt;</td>\n",
       "      <td>int32</td>\n",
       "    </tr>\n",
       "    <tr>\n",
       "      <th>ramp_limit_up</th>\n",
       "      <td>static or series</td>\n",
       "      <td>per unit</td>\n",
       "      <td>NaN</td>\n",
       "      <td>Maximum active power increase from one snapsho...</td>\n",
       "      <td>Input (optional)</td>\n",
       "      <td>True</td>\n",
       "      <td>True</td>\n",
       "      <td>&lt;class 'float'&gt;</td>\n",
       "      <td>float64</td>\n",
       "    </tr>\n",
       "    <tr>\n",
       "      <th>ramp_limit_down</th>\n",
       "      <td>static or series</td>\n",
       "      <td>per unit</td>\n",
       "      <td>NaN</td>\n",
       "      <td>Maximum active power decrease from one snapsho...</td>\n",
       "      <td>Input (optional)</td>\n",
       "      <td>True</td>\n",
       "      <td>True</td>\n",
       "      <td>&lt;class 'float'&gt;</td>\n",
       "      <td>float64</td>\n",
       "    </tr>\n",
       "    <tr>\n",
       "      <th>ramp_limit_start_up</th>\n",
       "      <td>float</td>\n",
       "      <td>per unit</td>\n",
       "      <td>1.0</td>\n",
       "      <td>Maximum active power increase at start up, per...</td>\n",
       "      <td>Input (optional)</td>\n",
       "      <td>True</td>\n",
       "      <td>False</td>\n",
       "      <td>&lt;class 'float'&gt;</td>\n",
       "      <td>float64</td>\n",
       "    </tr>\n",
       "    <tr>\n",
       "      <th>ramp_limit_shut_down</th>\n",
       "      <td>float</td>\n",
       "      <td>per unit</td>\n",
       "      <td>1.0</td>\n",
       "      <td>Maximum active power decrease at shut down, pe...</td>\n",
       "      <td>Input (optional)</td>\n",
       "      <td>True</td>\n",
       "      <td>False</td>\n",
       "      <td>&lt;class 'float'&gt;</td>\n",
       "      <td>float64</td>\n",
       "    </tr>\n",
       "    <tr>\n",
       "      <th>weight</th>\n",
       "      <td>float</td>\n",
       "      <td>NaN</td>\n",
       "      <td>1.0</td>\n",
       "      <td>Weighting of a generator. Only used for networ...</td>\n",
       "      <td>Input (optional)</td>\n",
       "      <td>True</td>\n",
       "      <td>False</td>\n",
       "      <td>&lt;class 'float'&gt;</td>\n",
       "      <td>float64</td>\n",
       "    </tr>\n",
       "    <tr>\n",
       "      <th>p</th>\n",
       "      <td>series</td>\n",
       "      <td>MW</td>\n",
       "      <td>0.0</td>\n",
       "      <td>active power at bus (positive if net generation)</td>\n",
       "      <td>Output</td>\n",
       "      <td>False</td>\n",
       "      <td>True</td>\n",
       "      <td>&lt;class 'float'&gt;</td>\n",
       "      <td>float64</td>\n",
       "    </tr>\n",
       "    <tr>\n",
       "      <th>q</th>\n",
       "      <td>series</td>\n",
       "      <td>MVar</td>\n",
       "      <td>0.0</td>\n",
       "      <td>reactive power (positive if net generation)</td>\n",
       "      <td>Output</td>\n",
       "      <td>False</td>\n",
       "      <td>True</td>\n",
       "      <td>&lt;class 'float'&gt;</td>\n",
       "      <td>float64</td>\n",
       "    </tr>\n",
       "    <tr>\n",
       "      <th>p_nom_opt</th>\n",
       "      <td>float</td>\n",
       "      <td>MW</td>\n",
       "      <td>0.0</td>\n",
       "      <td>Optimised nominal power.</td>\n",
       "      <td>Output</td>\n",
       "      <td>True</td>\n",
       "      <td>False</td>\n",
       "      <td>&lt;class 'float'&gt;</td>\n",
       "      <td>float64</td>\n",
       "    </tr>\n",
       "    <tr>\n",
       "      <th>status</th>\n",
       "      <td>series</td>\n",
       "      <td>NaN</td>\n",
       "      <td>1.0</td>\n",
       "      <td>Status (1 is on, 0 is off). Only outputted if ...</td>\n",
       "      <td>Output</td>\n",
       "      <td>False</td>\n",
       "      <td>True</td>\n",
       "      <td>&lt;class 'float'&gt;</td>\n",
       "      <td>float64</td>\n",
       "    </tr>\n",
       "    <tr>\n",
       "      <th>mu_upper</th>\n",
       "      <td>series</td>\n",
       "      <td>currency/MWh</td>\n",
       "      <td>0.0</td>\n",
       "      <td>Shadow price of upper p_nom limit</td>\n",
       "      <td>Output</td>\n",
       "      <td>False</td>\n",
       "      <td>True</td>\n",
       "      <td>&lt;class 'float'&gt;</td>\n",
       "      <td>float64</td>\n",
       "    </tr>\n",
       "    <tr>\n",
       "      <th>mu_lower</th>\n",
       "      <td>series</td>\n",
       "      <td>currency/MWh</td>\n",
       "      <td>0.0</td>\n",
       "      <td>Shadow price of lower p_nom limit</td>\n",
       "      <td>Output</td>\n",
       "      <td>False</td>\n",
       "      <td>True</td>\n",
       "      <td>&lt;class 'float'&gt;</td>\n",
       "      <td>float64</td>\n",
       "    </tr>\n",
       "    <tr>\n",
       "      <th>mu_p_set</th>\n",
       "      <td>series</td>\n",
       "      <td>currency/MWh</td>\n",
       "      <td>0.0</td>\n",
       "      <td>Shadow price of fixed power generation p_set</td>\n",
       "      <td>Output</td>\n",
       "      <td>False</td>\n",
       "      <td>True</td>\n",
       "      <td>&lt;class 'float'&gt;</td>\n",
       "      <td>float64</td>\n",
       "    </tr>\n",
       "    <tr>\n",
       "      <th>mu_ramp_limit_up</th>\n",
       "      <td>series</td>\n",
       "      <td>currency/MWh</td>\n",
       "      <td>0.0</td>\n",
       "      <td>Shadow price of upper ramp up limit</td>\n",
       "      <td>Output</td>\n",
       "      <td>False</td>\n",
       "      <td>True</td>\n",
       "      <td>&lt;class 'float'&gt;</td>\n",
       "      <td>float64</td>\n",
       "    </tr>\n",
       "    <tr>\n",
       "      <th>mu_ramp_limit_down</th>\n",
       "      <td>series</td>\n",
       "      <td>currency/MWh</td>\n",
       "      <td>0.0</td>\n",
       "      <td>Shadow price of lower ramp down limit</td>\n",
       "      <td>Output</td>\n",
       "      <td>False</td>\n",
       "      <td>True</td>\n",
       "      <td>&lt;class 'float'&gt;</td>\n",
       "      <td>float64</td>\n",
       "    </tr>\n",
       "  </tbody>\n",
       "</table>\n",
       "</div>"
      ],
      "text/plain": [
       "                                     type          unit default  \\\n",
       "attribute                                                         \n",
       "name                               string           NaN           \n",
       "bus                                string           NaN           \n",
       "control                            string           NaN      PQ   \n",
       "type                               string           NaN           \n",
       "p_nom                               float            MW     0.0   \n",
       "p_nom_mod                           float            MW     0.0   \n",
       "p_nom_extendable                  boolean           NaN   False   \n",
       "p_nom_min                           float            MW     0.0   \n",
       "p_nom_max                           float            MW     inf   \n",
       "p_min_pu                 static or series      per unit     0.0   \n",
       "p_max_pu                 static or series      per unit     1.0   \n",
       "p_set                    static or series            MW     0.0   \n",
       "e_sum_min                           float           MWh    -inf   \n",
       "e_sum_max                           float           MWh     inf   \n",
       "q_set                    static or series          MVar     0.0   \n",
       "sign                                float           NaN     1.0   \n",
       "carrier                            string           NaN           \n",
       "marginal_cost            static or series  currency/MWh     0.0   \n",
       "marginal_cost_quadratic  static or series  currency/MWh     0.0   \n",
       "active                            boolean           NaN    True   \n",
       "build_year                            int          year       0   \n",
       "lifetime                            float         years     inf   \n",
       "capital_cost                        float   currency/MW     0.0   \n",
       "efficiency               static or series      per unit     1.0   \n",
       "committable                       boolean           NaN   False   \n",
       "start_up_cost                       float      currency     0.0   \n",
       "shut_down_cost                      float      currency     0.0   \n",
       "stand_by_cost            static or series    currency/h     0.0   \n",
       "min_up_time                           int     snapshots       0   \n",
       "min_down_time                         int     snapshots       0   \n",
       "up_time_before                        int     snapshots       1   \n",
       "down_time_before                      int     snapshots       0   \n",
       "ramp_limit_up            static or series      per unit     NaN   \n",
       "ramp_limit_down          static or series      per unit     NaN   \n",
       "ramp_limit_start_up                 float      per unit     1.0   \n",
       "ramp_limit_shut_down                float      per unit     1.0   \n",
       "weight                              float           NaN     1.0   \n",
       "p                                  series            MW     0.0   \n",
       "q                                  series          MVar     0.0   \n",
       "p_nom_opt                           float            MW     0.0   \n",
       "status                             series           NaN     1.0   \n",
       "mu_upper                           series  currency/MWh     0.0   \n",
       "mu_lower                           series  currency/MWh     0.0   \n",
       "mu_p_set                           series  currency/MWh     0.0   \n",
       "mu_ramp_limit_up                   series  currency/MWh     0.0   \n",
       "mu_ramp_limit_down                 series  currency/MWh     0.0   \n",
       "\n",
       "                                                               description  \\\n",
       "attribute                                                                    \n",
       "name                                                           Unique name   \n",
       "bus                             name of bus to which generator is attached   \n",
       "control                  P,Q,V control strategy for PF, must be \"PQ\", \"...   \n",
       "type                     Placeholder for generator type. Not yet implem...   \n",
       "p_nom                            Nominal power for limits in optimization.   \n",
       "p_nom_mod                           Nominal power of the generator module.   \n",
       "p_nom_extendable         Switch to allow capacity p_nom to be extended ...   \n",
       "p_nom_min                If p_nom is extendable in optimization, set it...   \n",
       "p_nom_max                If p_nom is extendable in optimization, set it...   \n",
       "p_min_pu                 The minimum output for each snapshot per unit ...   \n",
       "p_max_pu                 The maximum output for each snapshot per unit ...   \n",
       "p_set                                      active power set point (for PF)   \n",
       "e_sum_min                The minimum total energy produced during a sin...   \n",
       "e_sum_max                The maximum total energy produced during a sin...   \n",
       "q_set                                    reactive power set point (for PF)   \n",
       "sign                                                            power sign   \n",
       "carrier                  Prime mover energy carrier (e.g. coal, gas, wi...   \n",
       "marginal_cost                        Marginal cost of production of 1 MWh.   \n",
       "marginal_cost_quadratic    Quadratic marginal cost of production of 1 MWh.   \n",
       "active                   Whether to consider the component in basic fun...   \n",
       "build_year                                                      build year   \n",
       "lifetime                                                          lifetime   \n",
       "capital_cost             Fixed period costs of extending p_nom by 1 MW,...   \n",
       "efficiency               Ratio between primary energy and electrical en...   \n",
       "committable              Use unit commitment (only possible if p_nom is...   \n",
       "start_up_cost            Cost to start up the generator. Only read if c...   \n",
       "shut_down_cost           Cost to shut down the generator. Only read if ...   \n",
       "stand_by_cost            Stand-by cost for operating the generator at n...   \n",
       "min_up_time              Minimum number of snapshots for status to be 1...   \n",
       "min_down_time            Minimum number of snapshots for status to be 0...   \n",
       "up_time_before           Number of snapshots that the generator was onl...   \n",
       "down_time_before         Number of snapshots that the generator was off...   \n",
       "ramp_limit_up            Maximum active power increase from one snapsho...   \n",
       "ramp_limit_down          Maximum active power decrease from one snapsho...   \n",
       "ramp_limit_start_up      Maximum active power increase at start up, per...   \n",
       "ramp_limit_shut_down     Maximum active power decrease at shut down, pe...   \n",
       "weight                   Weighting of a generator. Only used for networ...   \n",
       "p                         active power at bus (positive if net generation)   \n",
       "q                              reactive power (positive if net generation)   \n",
       "p_nom_opt                                         Optimised nominal power.   \n",
       "status                   Status (1 is on, 0 is off). Only outputted if ...   \n",
       "mu_upper                                 Shadow price of upper p_nom limit   \n",
       "mu_lower                                 Shadow price of lower p_nom limit   \n",
       "mu_p_set                      Shadow price of fixed power generation p_set   \n",
       "mu_ramp_limit_up                       Shadow price of upper ramp up limit   \n",
       "mu_ramp_limit_down                   Shadow price of lower ramp down limit   \n",
       "\n",
       "                                   status  static  varying              typ  \\\n",
       "attribute                                                                     \n",
       "name                     Input (required)    True    False    <class 'str'>   \n",
       "bus                      Input (required)    True    False    <class 'str'>   \n",
       "control                  Input (optional)    True    False    <class 'str'>   \n",
       "type                     Input (optional)    True    False    <class 'str'>   \n",
       "p_nom                    Input (optional)    True    False  <class 'float'>   \n",
       "p_nom_mod                Input (optional)    True    False  <class 'float'>   \n",
       "p_nom_extendable         Input (optional)    True    False   <class 'bool'>   \n",
       "p_nom_min                Input (optional)    True    False  <class 'float'>   \n",
       "p_nom_max                Input (optional)    True    False  <class 'float'>   \n",
       "p_min_pu                 Input (optional)    True     True  <class 'float'>   \n",
       "p_max_pu                 Input (optional)    True     True  <class 'float'>   \n",
       "p_set                    Input (optional)    True     True  <class 'float'>   \n",
       "e_sum_min                Input (optional)    True    False  <class 'float'>   \n",
       "e_sum_max                Input (optional)    True    False  <class 'float'>   \n",
       "q_set                    Input (optional)    True     True  <class 'float'>   \n",
       "sign                     Input (optional)    True    False  <class 'float'>   \n",
       "carrier                  Input (optional)    True    False    <class 'str'>   \n",
       "marginal_cost            Input (optional)    True     True  <class 'float'>   \n",
       "marginal_cost_quadratic  Input (optional)    True     True  <class 'float'>   \n",
       "active                   Input (optional)    True    False   <class 'bool'>   \n",
       "build_year               Input (optional)    True    False    <class 'int'>   \n",
       "lifetime                 Input (optional)    True    False  <class 'float'>   \n",
       "capital_cost             Input (optional)    True    False  <class 'float'>   \n",
       "efficiency               Input (optional)    True     True  <class 'float'>   \n",
       "committable              Input (optional)    True    False   <class 'bool'>   \n",
       "start_up_cost            Input (optional)    True    False  <class 'float'>   \n",
       "shut_down_cost           Input (optional)    True    False  <class 'float'>   \n",
       "stand_by_cost            Input (optional)    True     True  <class 'float'>   \n",
       "min_up_time              Input (optional)    True    False    <class 'int'>   \n",
       "min_down_time            Input (optional)    True    False    <class 'int'>   \n",
       "up_time_before           Input (optional)    True    False    <class 'int'>   \n",
       "down_time_before         Input (optional)    True    False    <class 'int'>   \n",
       "ramp_limit_up            Input (optional)    True     True  <class 'float'>   \n",
       "ramp_limit_down          Input (optional)    True     True  <class 'float'>   \n",
       "ramp_limit_start_up      Input (optional)    True    False  <class 'float'>   \n",
       "ramp_limit_shut_down     Input (optional)    True    False  <class 'float'>   \n",
       "weight                   Input (optional)    True    False  <class 'float'>   \n",
       "p                                  Output   False     True  <class 'float'>   \n",
       "q                                  Output   False     True  <class 'float'>   \n",
       "p_nom_opt                          Output    True    False  <class 'float'>   \n",
       "status                             Output   False     True  <class 'float'>   \n",
       "mu_upper                           Output   False     True  <class 'float'>   \n",
       "mu_lower                           Output   False     True  <class 'float'>   \n",
       "mu_p_set                           Output   False     True  <class 'float'>   \n",
       "mu_ramp_limit_up                   Output   False     True  <class 'float'>   \n",
       "mu_ramp_limit_down                 Output   False     True  <class 'float'>   \n",
       "\n",
       "                           dtype  \n",
       "attribute                         \n",
       "name                      object  \n",
       "bus                       object  \n",
       "control                   object  \n",
       "type                      object  \n",
       "p_nom                    float64  \n",
       "p_nom_mod                float64  \n",
       "p_nom_extendable            bool  \n",
       "p_nom_min                float64  \n",
       "p_nom_max                float64  \n",
       "p_min_pu                 float64  \n",
       "p_max_pu                 float64  \n",
       "p_set                    float64  \n",
       "e_sum_min                float64  \n",
       "e_sum_max                float64  \n",
       "q_set                    float64  \n",
       "sign                     float64  \n",
       "carrier                   object  \n",
       "marginal_cost            float64  \n",
       "marginal_cost_quadratic  float64  \n",
       "active                      bool  \n",
       "build_year                 int32  \n",
       "lifetime                 float64  \n",
       "capital_cost             float64  \n",
       "efficiency               float64  \n",
       "committable                 bool  \n",
       "start_up_cost            float64  \n",
       "shut_down_cost           float64  \n",
       "stand_by_cost            float64  \n",
       "min_up_time                int32  \n",
       "min_down_time              int32  \n",
       "up_time_before             int32  \n",
       "down_time_before           int32  \n",
       "ramp_limit_up            float64  \n",
       "ramp_limit_down          float64  \n",
       "ramp_limit_start_up      float64  \n",
       "ramp_limit_shut_down     float64  \n",
       "weight                   float64  \n",
       "p                        float64  \n",
       "q                        float64  \n",
       "p_nom_opt                float64  \n",
       "status                   float64  \n",
       "mu_upper                 float64  \n",
       "mu_lower                 float64  \n",
       "mu_p_set                 float64  \n",
       "mu_ramp_limit_up         float64  \n",
       "mu_ramp_limit_down       float64  "
      ]
     },
     "execution_count": 5,
     "metadata": {},
     "output_type": "execute_result"
    }
   ],
   "source": [
    "network.component_attrs['Generator']"
   ]
  },
  {
   "cell_type": "markdown",
   "metadata": {},
   "source": [
    "Each component is also given a label `list_name` which is the label used to access the dataset. "
   ]
  },
  {
   "cell_type": "code",
   "execution_count": 6,
   "metadata": {},
   "outputs": [
    {
     "data": {
      "text/plain": [
       "PyPSA Components Store\n",
       "======================\n",
       "- PyPSA 'SubNetwork' Components\n",
       "- PyPSA 'Bus' Components\n",
       "- PyPSA 'Carrier' Components\n",
       "- PyPSA 'GlobalConstraint' Components\n",
       "- PyPSA 'Line' Components\n",
       "- PyPSA 'LineType' Components\n",
       "- PyPSA 'Transformer' Components\n",
       "- PyPSA 'TransformerType' Components\n",
       "- PyPSA 'Link' Components\n",
       "- PyPSA 'Load' Components\n",
       "- PyPSA 'Generator' Components\n",
       "- PyPSA 'StorageUnit' Components\n",
       "- PyPSA 'Store' Components\n",
       "- PyPSA 'ShuntImpedance' Components\n",
       "- PyPSA 'Shape' Components"
      ]
     },
     "execution_count": 6,
     "metadata": {},
     "output_type": "execute_result"
    }
   ],
   "source": [
    "network.components"
   ]
  },
  {
   "cell_type": "code",
   "execution_count": 7,
   "metadata": {},
   "outputs": [
    {
     "name": "stdout",
     "output_type": "stream",
     "text": [
      "SubNetwork           sub_networks\n",
      "Bus                  buses\n",
      "Carrier              carriers\n",
      "GlobalConstraint     global_constraints\n",
      "Line                 lines\n",
      "LineType             line_types\n",
      "Transformer          transformers\n",
      "TransformerType      transformer_types\n",
      "Link                 links\n",
      "Load                 loads\n",
      "Generator            generators\n",
      "StorageUnit          storage_units\n",
      "Store                stores\n",
      "ShuntImpedance       shunt_impedances\n",
      "Shape                shapes\n"
     ]
    }
   ],
   "source": [
    "for key in network.component_attrs:\n",
    "    print(f'{key.ljust(20)} {network.components[key][\"list_name\"]}')\n"
   ]
  },
  {
   "cell_type": "markdown",
   "metadata": {},
   "source": [
    "To access the dataset: "
   ]
  },
  {
   "cell_type": "code",
   "execution_count": 8,
   "metadata": {},
   "outputs": [
    {
     "data": {
      "application/vnd.microsoft.datawrangler.viewer.v0+json": {
       "columns": [
        {
         "name": "Bus",
         "rawType": "int64",
         "type": "integer"
        },
        {
         "name": "v_nom",
         "rawType": "float64",
         "type": "float"
        },
        {
         "name": "type",
         "rawType": "object",
         "type": "string"
        },
        {
         "name": "x",
         "rawType": "float64",
         "type": "float"
        },
        {
         "name": "y",
         "rawType": "float64",
         "type": "float"
        },
        {
         "name": "carrier",
         "rawType": "object",
         "type": "string"
        },
        {
         "name": "unit",
         "rawType": "object",
         "type": "string"
        },
        {
         "name": "v_mag_pu_set",
         "rawType": "float64",
         "type": "float"
        },
        {
         "name": "v_mag_pu_min",
         "rawType": "float64",
         "type": "float"
        },
        {
         "name": "v_mag_pu_max",
         "rawType": "float64",
         "type": "float"
        },
        {
         "name": "control",
         "rawType": "object",
         "type": "string"
        },
        {
         "name": "generator",
         "rawType": "object",
         "type": "string"
        },
        {
         "name": "sub_network",
         "rawType": "object",
         "type": "string"
        }
       ],
       "conversionMethod": "pd.DataFrame",
       "ref": "80114d7e-0c04-4eba-8582-a235bd5929bc",
       "rows": [],
       "shape": {
        "columns": 12,
        "rows": 0
       }
      },
      "text/html": [
       "<div>\n",
       "<style scoped>\n",
       "    .dataframe tbody tr th:only-of-type {\n",
       "        vertical-align: middle;\n",
       "    }\n",
       "\n",
       "    .dataframe tbody tr th {\n",
       "        vertical-align: top;\n",
       "    }\n",
       "\n",
       "    .dataframe thead th {\n",
       "        text-align: right;\n",
       "    }\n",
       "</style>\n",
       "<table border=\"1\" class=\"dataframe\">\n",
       "  <thead>\n",
       "    <tr style=\"text-align: right;\">\n",
       "      <th>attribute</th>\n",
       "      <th>v_nom</th>\n",
       "      <th>type</th>\n",
       "      <th>x</th>\n",
       "      <th>y</th>\n",
       "      <th>carrier</th>\n",
       "      <th>unit</th>\n",
       "      <th>v_mag_pu_set</th>\n",
       "      <th>v_mag_pu_min</th>\n",
       "      <th>v_mag_pu_max</th>\n",
       "      <th>control</th>\n",
       "      <th>generator</th>\n",
       "      <th>sub_network</th>\n",
       "    </tr>\n",
       "    <tr>\n",
       "      <th>Bus</th>\n",
       "      <th></th>\n",
       "      <th></th>\n",
       "      <th></th>\n",
       "      <th></th>\n",
       "      <th></th>\n",
       "      <th></th>\n",
       "      <th></th>\n",
       "      <th></th>\n",
       "      <th></th>\n",
       "      <th></th>\n",
       "      <th></th>\n",
       "      <th></th>\n",
       "    </tr>\n",
       "  </thead>\n",
       "  <tbody>\n",
       "  </tbody>\n",
       "</table>\n",
       "</div>"
      ],
      "text/plain": [
       "Empty DataFrame\n",
       "Columns: [v_nom, type, x, y, carrier, unit, v_mag_pu_set, v_mag_pu_min, v_mag_pu_max, control, generator, sub_network]\n",
       "Index: []"
      ]
     },
     "execution_count": 8,
     "metadata": {},
     "output_type": "execute_result"
    }
   ],
   "source": [
    "network.buses"
   ]
  },
  {
   "cell_type": "code",
   "execution_count": 9,
   "metadata": {},
   "outputs": [
    {
     "data": {
      "application/vnd.microsoft.datawrangler.viewer.v0+json": {
       "columns": [
        {
         "name": "Generator",
         "rawType": "int64",
         "type": "integer"
        },
        {
         "name": "bus",
         "rawType": "object",
         "type": "string"
        },
        {
         "name": "control",
         "rawType": "object",
         "type": "string"
        },
        {
         "name": "type",
         "rawType": "object",
         "type": "string"
        },
        {
         "name": "p_nom",
         "rawType": "float64",
         "type": "float"
        },
        {
         "name": "p_nom_mod",
         "rawType": "float64",
         "type": "float"
        },
        {
         "name": "p_nom_extendable",
         "rawType": "bool",
         "type": "boolean"
        },
        {
         "name": "p_nom_min",
         "rawType": "float64",
         "type": "float"
        },
        {
         "name": "p_nom_max",
         "rawType": "float64",
         "type": "float"
        },
        {
         "name": "p_min_pu",
         "rawType": "float64",
         "type": "float"
        },
        {
         "name": "p_max_pu",
         "rawType": "float64",
         "type": "float"
        },
        {
         "name": "p_set",
         "rawType": "float64",
         "type": "float"
        },
        {
         "name": "e_sum_min",
         "rawType": "float64",
         "type": "float"
        },
        {
         "name": "e_sum_max",
         "rawType": "float64",
         "type": "float"
        },
        {
         "name": "q_set",
         "rawType": "float64",
         "type": "float"
        },
        {
         "name": "sign",
         "rawType": "float64",
         "type": "float"
        },
        {
         "name": "carrier",
         "rawType": "object",
         "type": "string"
        },
        {
         "name": "marginal_cost",
         "rawType": "float64",
         "type": "float"
        },
        {
         "name": "marginal_cost_quadratic",
         "rawType": "float64",
         "type": "float"
        },
        {
         "name": "active",
         "rawType": "bool",
         "type": "boolean"
        },
        {
         "name": "build_year",
         "rawType": "int32",
         "type": "integer"
        },
        {
         "name": "lifetime",
         "rawType": "float64",
         "type": "float"
        },
        {
         "name": "capital_cost",
         "rawType": "float64",
         "type": "float"
        },
        {
         "name": "efficiency",
         "rawType": "float64",
         "type": "float"
        },
        {
         "name": "committable",
         "rawType": "bool",
         "type": "boolean"
        },
        {
         "name": "start_up_cost",
         "rawType": "float64",
         "type": "float"
        },
        {
         "name": "shut_down_cost",
         "rawType": "float64",
         "type": "float"
        },
        {
         "name": "stand_by_cost",
         "rawType": "float64",
         "type": "float"
        },
        {
         "name": "min_up_time",
         "rawType": "int32",
         "type": "integer"
        },
        {
         "name": "min_down_time",
         "rawType": "int32",
         "type": "integer"
        },
        {
         "name": "up_time_before",
         "rawType": "int32",
         "type": "integer"
        },
        {
         "name": "down_time_before",
         "rawType": "int32",
         "type": "integer"
        },
        {
         "name": "ramp_limit_up",
         "rawType": "float64",
         "type": "float"
        },
        {
         "name": "ramp_limit_down",
         "rawType": "float64",
         "type": "float"
        },
        {
         "name": "ramp_limit_start_up",
         "rawType": "float64",
         "type": "float"
        },
        {
         "name": "ramp_limit_shut_down",
         "rawType": "float64",
         "type": "float"
        },
        {
         "name": "weight",
         "rawType": "float64",
         "type": "float"
        },
        {
         "name": "p_nom_opt",
         "rawType": "float64",
         "type": "float"
        }
       ],
       "conversionMethod": "pd.DataFrame",
       "ref": "61ade86c-6f53-4dad-8270-bae693299947",
       "rows": [],
       "shape": {
        "columns": 37,
        "rows": 0
       }
      },
      "text/html": [
       "<div>\n",
       "<style scoped>\n",
       "    .dataframe tbody tr th:only-of-type {\n",
       "        vertical-align: middle;\n",
       "    }\n",
       "\n",
       "    .dataframe tbody tr th {\n",
       "        vertical-align: top;\n",
       "    }\n",
       "\n",
       "    .dataframe thead th {\n",
       "        text-align: right;\n",
       "    }\n",
       "</style>\n",
       "<table border=\"1\" class=\"dataframe\">\n",
       "  <thead>\n",
       "    <tr style=\"text-align: right;\">\n",
       "      <th>attribute</th>\n",
       "      <th>bus</th>\n",
       "      <th>control</th>\n",
       "      <th>type</th>\n",
       "      <th>p_nom</th>\n",
       "      <th>p_nom_mod</th>\n",
       "      <th>p_nom_extendable</th>\n",
       "      <th>p_nom_min</th>\n",
       "      <th>p_nom_max</th>\n",
       "      <th>p_min_pu</th>\n",
       "      <th>p_max_pu</th>\n",
       "      <th>...</th>\n",
       "      <th>min_up_time</th>\n",
       "      <th>min_down_time</th>\n",
       "      <th>up_time_before</th>\n",
       "      <th>down_time_before</th>\n",
       "      <th>ramp_limit_up</th>\n",
       "      <th>ramp_limit_down</th>\n",
       "      <th>ramp_limit_start_up</th>\n",
       "      <th>ramp_limit_shut_down</th>\n",
       "      <th>weight</th>\n",
       "      <th>p_nom_opt</th>\n",
       "    </tr>\n",
       "    <tr>\n",
       "      <th>Generator</th>\n",
       "      <th></th>\n",
       "      <th></th>\n",
       "      <th></th>\n",
       "      <th></th>\n",
       "      <th></th>\n",
       "      <th></th>\n",
       "      <th></th>\n",
       "      <th></th>\n",
       "      <th></th>\n",
       "      <th></th>\n",
       "      <th></th>\n",
       "      <th></th>\n",
       "      <th></th>\n",
       "      <th></th>\n",
       "      <th></th>\n",
       "      <th></th>\n",
       "      <th></th>\n",
       "      <th></th>\n",
       "      <th></th>\n",
       "      <th></th>\n",
       "      <th></th>\n",
       "    </tr>\n",
       "  </thead>\n",
       "  <tbody>\n",
       "  </tbody>\n",
       "</table>\n",
       "<p>0 rows × 37 columns</p>\n",
       "</div>"
      ],
      "text/plain": [
       "Empty DataFrame\n",
       "Columns: [bus, control, type, p_nom, p_nom_mod, p_nom_extendable, p_nom_min, p_nom_max, p_min_pu, p_max_pu, p_set, e_sum_min, e_sum_max, q_set, sign, carrier, marginal_cost, marginal_cost_quadratic, active, build_year, lifetime, capital_cost, efficiency, committable, start_up_cost, shut_down_cost, stand_by_cost, min_up_time, min_down_time, up_time_before, down_time_before, ramp_limit_up, ramp_limit_down, ramp_limit_start_up, ramp_limit_shut_down, weight, p_nom_opt]\n",
       "Index: []\n",
       "\n",
       "[0 rows x 37 columns]"
      ]
     },
     "execution_count": 9,
     "metadata": {},
     "output_type": "execute_result"
    }
   ],
   "source": [
    "network.generators"
   ]
  },
  {
   "cell_type": "code",
   "execution_count": 10,
   "metadata": {},
   "outputs": [
    {
     "data": {
      "application/vnd.microsoft.datawrangler.viewer.v0+json": {
       "columns": [
        {
         "name": "Link",
         "rawType": "int64",
         "type": "integer"
        },
        {
         "name": "bus0",
         "rawType": "object",
         "type": "string"
        },
        {
         "name": "bus1",
         "rawType": "object",
         "type": "string"
        },
        {
         "name": "type",
         "rawType": "object",
         "type": "string"
        },
        {
         "name": "carrier",
         "rawType": "object",
         "type": "string"
        },
        {
         "name": "efficiency",
         "rawType": "float64",
         "type": "float"
        },
        {
         "name": "active",
         "rawType": "bool",
         "type": "boolean"
        },
        {
         "name": "build_year",
         "rawType": "int32",
         "type": "integer"
        },
        {
         "name": "lifetime",
         "rawType": "float64",
         "type": "float"
        },
        {
         "name": "p_nom",
         "rawType": "float64",
         "type": "float"
        },
        {
         "name": "p_nom_mod",
         "rawType": "float64",
         "type": "float"
        },
        {
         "name": "p_nom_extendable",
         "rawType": "bool",
         "type": "boolean"
        },
        {
         "name": "p_nom_min",
         "rawType": "float64",
         "type": "float"
        },
        {
         "name": "p_nom_max",
         "rawType": "float64",
         "type": "float"
        },
        {
         "name": "p_set",
         "rawType": "float64",
         "type": "float"
        },
        {
         "name": "p_min_pu",
         "rawType": "float64",
         "type": "float"
        },
        {
         "name": "p_max_pu",
         "rawType": "float64",
         "type": "float"
        },
        {
         "name": "capital_cost",
         "rawType": "float64",
         "type": "float"
        },
        {
         "name": "marginal_cost",
         "rawType": "float64",
         "type": "float"
        },
        {
         "name": "marginal_cost_quadratic",
         "rawType": "float64",
         "type": "float"
        },
        {
         "name": "stand_by_cost",
         "rawType": "float64",
         "type": "float"
        },
        {
         "name": "length",
         "rawType": "float64",
         "type": "float"
        },
        {
         "name": "terrain_factor",
         "rawType": "float64",
         "type": "float"
        },
        {
         "name": "committable",
         "rawType": "bool",
         "type": "boolean"
        },
        {
         "name": "start_up_cost",
         "rawType": "float64",
         "type": "float"
        },
        {
         "name": "shut_down_cost",
         "rawType": "float64",
         "type": "float"
        },
        {
         "name": "min_up_time",
         "rawType": "int32",
         "type": "integer"
        },
        {
         "name": "min_down_time",
         "rawType": "int32",
         "type": "integer"
        },
        {
         "name": "up_time_before",
         "rawType": "int32",
         "type": "integer"
        },
        {
         "name": "down_time_before",
         "rawType": "int32",
         "type": "integer"
        },
        {
         "name": "ramp_limit_up",
         "rawType": "float64",
         "type": "float"
        },
        {
         "name": "ramp_limit_down",
         "rawType": "float64",
         "type": "float"
        },
        {
         "name": "ramp_limit_start_up",
         "rawType": "float64",
         "type": "float"
        },
        {
         "name": "ramp_limit_shut_down",
         "rawType": "float64",
         "type": "float"
        },
        {
         "name": "p_nom_opt",
         "rawType": "float64",
         "type": "float"
        }
       ],
       "conversionMethod": "pd.DataFrame",
       "ref": "47dc2ca3-0511-42cb-a856-2349a5d8e92b",
       "rows": [],
       "shape": {
        "columns": 34,
        "rows": 0
       }
      },
      "text/html": [
       "<div>\n",
       "<style scoped>\n",
       "    .dataframe tbody tr th:only-of-type {\n",
       "        vertical-align: middle;\n",
       "    }\n",
       "\n",
       "    .dataframe tbody tr th {\n",
       "        vertical-align: top;\n",
       "    }\n",
       "\n",
       "    .dataframe thead th {\n",
       "        text-align: right;\n",
       "    }\n",
       "</style>\n",
       "<table border=\"1\" class=\"dataframe\">\n",
       "  <thead>\n",
       "    <tr style=\"text-align: right;\">\n",
       "      <th>attribute</th>\n",
       "      <th>bus0</th>\n",
       "      <th>bus1</th>\n",
       "      <th>type</th>\n",
       "      <th>carrier</th>\n",
       "      <th>efficiency</th>\n",
       "      <th>active</th>\n",
       "      <th>build_year</th>\n",
       "      <th>lifetime</th>\n",
       "      <th>p_nom</th>\n",
       "      <th>p_nom_mod</th>\n",
       "      <th>...</th>\n",
       "      <th>shut_down_cost</th>\n",
       "      <th>min_up_time</th>\n",
       "      <th>min_down_time</th>\n",
       "      <th>up_time_before</th>\n",
       "      <th>down_time_before</th>\n",
       "      <th>ramp_limit_up</th>\n",
       "      <th>ramp_limit_down</th>\n",
       "      <th>ramp_limit_start_up</th>\n",
       "      <th>ramp_limit_shut_down</th>\n",
       "      <th>p_nom_opt</th>\n",
       "    </tr>\n",
       "    <tr>\n",
       "      <th>Link</th>\n",
       "      <th></th>\n",
       "      <th></th>\n",
       "      <th></th>\n",
       "      <th></th>\n",
       "      <th></th>\n",
       "      <th></th>\n",
       "      <th></th>\n",
       "      <th></th>\n",
       "      <th></th>\n",
       "      <th></th>\n",
       "      <th></th>\n",
       "      <th></th>\n",
       "      <th></th>\n",
       "      <th></th>\n",
       "      <th></th>\n",
       "      <th></th>\n",
       "      <th></th>\n",
       "      <th></th>\n",
       "      <th></th>\n",
       "      <th></th>\n",
       "      <th></th>\n",
       "    </tr>\n",
       "  </thead>\n",
       "  <tbody>\n",
       "  </tbody>\n",
       "</table>\n",
       "<p>0 rows × 34 columns</p>\n",
       "</div>"
      ],
      "text/plain": [
       "Empty DataFrame\n",
       "Columns: [bus0, bus1, type, carrier, efficiency, active, build_year, lifetime, p_nom, p_nom_mod, p_nom_extendable, p_nom_min, p_nom_max, p_set, p_min_pu, p_max_pu, capital_cost, marginal_cost, marginal_cost_quadratic, stand_by_cost, length, terrain_factor, committable, start_up_cost, shut_down_cost, min_up_time, min_down_time, up_time_before, down_time_before, ramp_limit_up, ramp_limit_down, ramp_limit_start_up, ramp_limit_shut_down, p_nom_opt]\n",
       "Index: []\n",
       "\n",
       "[0 rows x 34 columns]"
      ]
     },
     "execution_count": 10,
     "metadata": {},
     "output_type": "execute_result"
    }
   ],
   "source": [
    "network.links"
   ]
  },
  {
   "cell_type": "code",
   "execution_count": 11,
   "metadata": {},
   "outputs": [
    {
     "data": {
      "application/vnd.microsoft.datawrangler.viewer.v0+json": {
       "columns": [
        {
         "name": "Load",
         "rawType": "int64",
         "type": "integer"
        },
        {
         "name": "bus",
         "rawType": "object",
         "type": "string"
        },
        {
         "name": "carrier",
         "rawType": "object",
         "type": "string"
        },
        {
         "name": "type",
         "rawType": "object",
         "type": "string"
        },
        {
         "name": "p_set",
         "rawType": "float64",
         "type": "float"
        },
        {
         "name": "q_set",
         "rawType": "float64",
         "type": "float"
        },
        {
         "name": "sign",
         "rawType": "float64",
         "type": "float"
        },
        {
         "name": "active",
         "rawType": "bool",
         "type": "boolean"
        }
       ],
       "conversionMethod": "pd.DataFrame",
       "ref": "d5fb5636-7b98-4d77-86ee-333187d5dc90",
       "rows": [],
       "shape": {
        "columns": 7,
        "rows": 0
       }
      },
      "text/html": [
       "<div>\n",
       "<style scoped>\n",
       "    .dataframe tbody tr th:only-of-type {\n",
       "        vertical-align: middle;\n",
       "    }\n",
       "\n",
       "    .dataframe tbody tr th {\n",
       "        vertical-align: top;\n",
       "    }\n",
       "\n",
       "    .dataframe thead th {\n",
       "        text-align: right;\n",
       "    }\n",
       "</style>\n",
       "<table border=\"1\" class=\"dataframe\">\n",
       "  <thead>\n",
       "    <tr style=\"text-align: right;\">\n",
       "      <th>attribute</th>\n",
       "      <th>bus</th>\n",
       "      <th>carrier</th>\n",
       "      <th>type</th>\n",
       "      <th>p_set</th>\n",
       "      <th>q_set</th>\n",
       "      <th>sign</th>\n",
       "      <th>active</th>\n",
       "    </tr>\n",
       "    <tr>\n",
       "      <th>Load</th>\n",
       "      <th></th>\n",
       "      <th></th>\n",
       "      <th></th>\n",
       "      <th></th>\n",
       "      <th></th>\n",
       "      <th></th>\n",
       "      <th></th>\n",
       "    </tr>\n",
       "  </thead>\n",
       "  <tbody>\n",
       "  </tbody>\n",
       "</table>\n",
       "</div>"
      ],
      "text/plain": [
       "Empty DataFrame\n",
       "Columns: [bus, carrier, type, p_set, q_set, sign, active]\n",
       "Index: []"
      ]
     },
     "execution_count": 11,
     "metadata": {},
     "output_type": "execute_result"
    }
   ],
   "source": [
    "network.loads"
   ]
  },
  {
   "cell_type": "code",
   "execution_count": 12,
   "metadata": {},
   "outputs": [
    {
     "data": {
      "application/vnd.microsoft.datawrangler.viewer.v0+json": {
       "columns": [
        {
         "name": "snapshot",
         "rawType": "object",
         "type": "string"
        }
       ],
       "conversionMethod": "pd.DataFrame",
       "ref": "a8c25655-244a-4ea6-a958-b82e56dece7e",
       "rows": [
        [
         "now"
        ]
       ],
       "shape": {
        "columns": 0,
        "rows": 1
       }
      },
      "text/html": [
       "<div>\n",
       "<style scoped>\n",
       "    .dataframe tbody tr th:only-of-type {\n",
       "        vertical-align: middle;\n",
       "    }\n",
       "\n",
       "    .dataframe tbody tr th {\n",
       "        vertical-align: top;\n",
       "    }\n",
       "\n",
       "    .dataframe thead th {\n",
       "        text-align: right;\n",
       "    }\n",
       "</style>\n",
       "<table border=\"1\" class=\"dataframe\">\n",
       "  <thead>\n",
       "    <tr style=\"text-align: right;\">\n",
       "      <th>Generator</th>\n",
       "    </tr>\n",
       "    <tr>\n",
       "      <th>snapshot</th>\n",
       "    </tr>\n",
       "  </thead>\n",
       "  <tbody>\n",
       "    <tr>\n",
       "      <th>now</th>\n",
       "    </tr>\n",
       "  </tbody>\n",
       "</table>\n",
       "</div>"
      ],
      "text/plain": [
       "Empty DataFrame\n",
       "Columns: []\n",
       "Index: [now]"
      ]
     },
     "execution_count": 12,
     "metadata": {},
     "output_type": "execute_result"
    }
   ],
   "source": [
    "network.generators_t.p_max_pu"
   ]
  },
  {
   "cell_type": "code",
   "execution_count": null,
   "metadata": {},
   "outputs": [],
   "source": []
  },
  {
   "cell_type": "code",
   "execution_count": null,
   "metadata": {},
   "outputs": [],
   "source": []
  },
  {
   "cell_type": "markdown",
   "metadata": {},
   "source": []
  },
  {
   "cell_type": "markdown",
   "metadata": {},
   "source": [
    "---\n",
    "### 🐍 Add data to the network"
   ]
  },
  {
   "cell_type": "markdown",
   "metadata": {},
   "source": [
    "#### **Adding a Component to a PyPSA Network using `network.add`**\n",
    "\n",
    "In PyPSA, the `network.add()` method is used to add components (such as buses, generators, lines, etc.) to the network. The general syntax follows:\n",
    "\n",
    "```python\n",
    "network.add(component, **attributes)\n",
    "```\n",
    "\n",
    "**Parameters**\n",
    "- `component` *(str)*: The type of component to add (e.g., `\"Bus\"`, `\"Generator\"`, `\"Load\"`, `\"Line\"`, `\"Link\"`, etc.).\n",
    "- `attributes` *(dict)*: A set of keyword arguments specifying the properties of the component.\n",
    "\n",
    "---\n",
    "\n",
    "**Example 1: Adding a Bus**\n",
    "To add a new bus to the network:\n",
    "\n",
    "```python\n",
    "import pypsa\n",
    "\n",
    "network = pypsa.Network()\n",
    "\n",
    "network.add(\"Bus\", name=\"bus1\")  # Adding a bus named 'bus1'\n",
    "```\n",
    "\n",
    "---\n",
    "\n",
    "**Example 2: Adding a Generator**\n",
    "To add a generator connected to a bus:\n",
    "\n",
    "```python\n",
    "network.add(\"Generator\", name=\"gen1\", bus=\"bus1\", p_nom=100, marginal_cost=50)\n",
    "```\n",
    "Here:\n",
    "- `bus=\"bus1\"` specifies the bus the generator is connected to.\n",
    "- `p_nom=100` sets the nominal power capacity in MW.\n",
    "- `marginal_cost=50` sets the generation cost per MWh.\n",
    "\n",
    "---\n",
    "\n",
    "**Example 3: Adding a Transmission Line as a `link`**\n",
    "```python\n",
    "network.add(\"Link\", name=\"link1\", bus0=\"bus1\", bus1=\"bus2\", p_nom=100)\n",
    "```\n",
    "Here:\n",
    "- `bus0=\"bus1\"` and `bus1=\"bus2\"` define the buses the line connects.\n",
    "- `p_nom=100` sets the nominal power in MW. \n",
    "---\n",
    "\n",
    "\n"
   ]
  },
  {
   "cell_type": "markdown",
   "metadata": {},
   "source": [
    "#### **Importing Networks in PyPSA**\n",
    "\n",
    "PyPSA allows importing networks using three primary formats: **CSV**, **HDF5**, and **NetCDF**. Each format has its corresponding function.\n",
    "\n",
    "\n",
    "**1️⃣ Importing a Network from CSV**\n",
    "\n",
    "PyPSA can load networks stored in a directory containing CSV files. This is useful for human-readable and editable data.\n",
    "\n",
    "```python\n",
    "network.import_from_csv_folder(\"path_to_csv_directory\")\n",
    "```\n",
    "**2️⃣ Importing a Network from HDF5**\n",
    "\n",
    "HDF5 is a binary format that allows for fast loading and saving of networks.\n",
    "\n",
    "```python\n",
    "network = pypsa.Network(\"path_to_hdf5_file.h5\")\n",
    "```\n",
    "\n",
    "**3️⃣ Importing a Network from NetCDF**\n",
    "\n",
    "NetCDF is another binary format commonly used for scientific computing.\n",
    "\n",
    "```python\n",
    "network = pypsa.Network(\"path_to_netcdf_file.nc\")\n",
    "```\n"
   ]
  },
  {
   "cell_type": "markdown",
   "metadata": {},
   "source": [
    "#### **📝 Setting up a data import using a spreadsheet.**\n",
    "\n",
    "In this example, a **simplified workflow** is demonstrated using an Excel spreadsheet. The **actual model** will implement a more **formal data processing** workflow, similar to the approach used in PyPSA-EUR.\n",
    "\n",
    "* A spreadsheet has been developed that contains some of the main input data sources for a PyPSA model. \n",
    "* The spreadsheet is in `.xlsx` format can be opened in Microsoft Excel or Google Sheets. \n",
    "* A custom function is applied to convert the excel spreadsheet into a folder of csv files that can be uploaded into the PyPSA network. \n",
    "\n",
    "\n",
    "---\n",
    "\n",
    "#### 📂 Data Structure Guidelines  \n",
    "\n",
    "✅ **Static Data:**  \n",
    "- The Excel file should be configured using the `list_name` as the `sheet name`.  \n",
    "- Use ``variables`` in the header.  \n",
    "\n",
    "✅ **Time-Series Data:**  \n",
    "- Follow the naming convention:  `[list]-[variable name]`\n",
    "- Example: `loads-p_set` for the set loads.\n",
    "\n",
    "---\n",
    "\n"
   ]
  },
  {
   "cell_type": "markdown",
   "metadata": {},
   "source": [
    "**⏳ Set `snapshots`** "
   ]
  },
  {
   "cell_type": "markdown",
   "metadata": {},
   "source": [
    "A `snapshot` represents a specific point in time for which the network is simulated.  \n",
    "- Snapshots can be single timestamps (e.g., `2025-01-01 00:00`) or time series covering hours, days, weeks, or years.  \n",
    "- They allow modeling of dynamic power system behavior over different time periods.  \n",
    "\n",
    "📆 **Selecting the Simulation Period**\n",
    "\n",
    "To define the simulation period, we assign snapshots to the network using a `start_time` and `end time`."
   ]
  },
  {
   "cell_type": "markdown",
   "metadata": {},
   "source": [
    "**Buses**"
   ]
  },
  {
   "cell_type": "markdown",
   "metadata": {},
   "source": [
    "**Carriers**"
   ]
  },
  {
   "cell_type": "markdown",
   "metadata": {},
   "source": [
    "**⚡ Generators**"
   ]
  },
  {
   "cell_type": "markdown",
   "metadata": {},
   "source": [
    "\n",
    "\n",
    "\n",
    "Generators attach to a single bus, converting energy from their `carrier` to the bus `carrier`.  \n",
    "\n",
    "* Their power output is constrained by `p_nom * p_max_pu` and `p_nom * p_min_pu`.  \n",
    "\n",
    "* Static limits define dispatchable generators, while time-varying limits model renewables.  \n",
    "\n",
    "* Time series `p_max_pu` and `p_min_pu` determine availability per snapshot.  \n",
    "\n",
    "* For unit commitment constraints, refer to the PyPSA documentation. \n",
    "\n",
    "Some key variables relevant to this model are given below. \n",
    "\n",
    "\n",
    "| Attribute              | Type            | Unit           | Default | Description | Constraint |\n",
    "|------------------------|----------------|---------------|---------|-------------|------------------|\n",
    "| `name`              | string         | n/a           | n/a     | Unique name |  |\n",
    "| `bus`               | string         | n/a           | n/a     | Name of bus to which generator is attached |  |\n",
    "| `p_nom`            | float          | MW            | 0       | Nominal power for limits in optimization. |  |\n",
    "| `p_nom_extendable` | boolean        |           | False   | Switch to allow capacity p_nom to be extended in optimization. | |\n",
    "| `p_min_pu`        | static/series  | per unit      | n/a     | Minimum output per unit of p_nom. | $p_t \\geq p_{nom}\\times p_{min,pu,t}$ |\n",
    "| `p_max_pu`        | static/series  | per unit      | 1       | Maximum output per unit of p_nom. | $p_t \\leq p_{nom}\\times p_{max,pu,t}$ |\n",
    "| `p_set`           | static/series  | MW            | n/a     | Active power set point (for PF). | $p_t = p_{set}$  |\n",
    "| `e_sum_min`       | float          | MWh           | -inf    | Minimum total energy produced during optimization horizon. | $\\sum p_t \\cdot \\delta t \\leq e_{\\max}$\n",
    "| `e_sum_max`       | float          | MWh           | inf     | Maximum total energy produced during optimization horizon. | $\\sum p_t \\cdot \\delta t \\leq e_{\\max}$\n",
    "| `marginal_cost`   | static/series  | currency/MWh  | n/a     | Marginal cost of production of 1 MWh. | |\n",
    "\n"
   ]
  },
  {
   "cell_type": "markdown",
   "metadata": {},
   "source": [
    "🌞 **Applying `p_max_pu` Constraint on VRE Generators**  \n",
    "\n",
    "* Variable Renewable Energy (VRE) generators, such as solar and wind, have time-dependent availability limits.  \n",
    "* The `p_max_pu` constraint, imported as a time-series dataset, determines the maximum power output at each snapshot on a per unit basis.  \n",
    "\n",
    "\n"
   ]
  },
  {
   "cell_type": "markdown",
   "metadata": {},
   "source": [
    "---\n",
    "🔗 **Links**"
   ]
  },
  {
   "cell_type": "markdown",
   "metadata": {},
   "source": [
    "\n",
    "\n",
    "* Links enable controllable, directed power flow between two buses (`bus0 → bus1`).  \n",
    "* They can have efficiency losses and marginal costs, restricting default flow to one direction.  \n",
    "* For bidirectional, lossless operation, set `efficiency = 1`, `marginal_cost = 0`, and `p_min_pu = -1`.  \n",
    "* Links model HVDC interconnections, converters, heat pumps, electrolysers, and other controllable power flows.  \n",
    "* ⚠️ In the actual model, lines will be used instead of links for passive AC/DC transmission.  \n"
   ]
  },
  {
   "cell_type": "markdown",
   "metadata": {},
   "source": [
    "---\n",
    "🔌 **Loads**"
   ]
  },
  {
   "cell_type": "markdown",
   "metadata": {},
   "source": [
    " \n",
    "\n",
    "* A load connects to a single bus and consumes power as a PQ load.  \n",
    "* It can represent electricity demand or other types of loads like hydrogen or heat.  \n",
    "* If active power is consumed, the load draws from the bus.  \n",
    "* If reactive power is consumed, the load behaves like an inductor.  \n",
    "* Loads are essential for demand modeling in power system simulations. ⚡🏠  \n"
   ]
  },
  {
   "cell_type": "markdown",
   "metadata": {},
   "source": [
    "---\n",
    "🔋 **Storage: `store` vs. `storage_unit`**  "
   ]
  },
  {
   "cell_type": "markdown",
   "metadata": {},
   "source": [
    "\n",
    "\n",
    "There are two components for energy storage in PyPSA: Storage Units and Stores.  \n",
    "\n",
    "* ⚡ Storage Unit  \n",
    "   * Attaches to a single bus and is used for inter-temporal power shifting with a time-varying state of charge.  \n",
    "   * The energy capacity is defined as `max_hours * nominal power (MW)`, and it includes charging/discharging efficiencies.  \n",
    "\n",
    "* 🏭 Store  \n",
    "   * Connects to a single bus and acts as a fundamental energy storage component without energy conversion.  \n",
    "   * Controls and optimizes energy capacity size, but power output must be controlled using Link components.  \n",
    "\n",
    "🔄 Key Differences  \n",
    "| Feature           | Storage Unit | Store |\n",
    "|------------------|-------------|-------|\n",
    "| Power Control | Directly defined | Requires Links |\n",
    "| Energy Capacity | Fixed as `max_hours * MW` | Optimized independently |\n",
    "| Marginal Cost | Applies only to discharging | Applies to both charging & discharging |\n",
    "| Energy Carrier Conversion| Possible | Not possible (inherits from bus) |\n",
    "\n",
    "Stores are more flexible but require Links for power control, while Storage Units offer a simpler implementation for direct energy storage modeling. ⚙️🔄  \n"
   ]
  },
  {
   "cell_type": "markdown",
   "metadata": {},
   "source": [
    "⚡ **Storage Unit**\n",
    "\n",
    "\n",
    "| Attribute              | Type            | Unit           | Default | Description |\n",
    "|------------------------|----------------|---------------|---------|-------------|\n",
    "| `name`              | string         | n/a           | n/a     | Unique name | \n",
    "| `bus`               | string         | n/a           | n/a     | Name of bus to which generator is attached |\n",
    "| `p_nom`            | float          | MW            | 0       | Nominal power for limits in optimization. | \n",
    "| `marginal_cost`   | static/series  | currency/MWh  | n/a     | Marginal cost of production of 1 MWh. | \n",
    "| `max_hours` | float | h | 1 | Maximum state of charge capacity in terms of hours at full output capacity `p_nom` |  \n",
    "|`state_of_charge_initial`| float | MWh | 0  | State of charge before the snapshots in the OPF. | \n",
    "|`efficiency_store`  | static/series | per unit | 1 | Efficiency of storage on the way into the storage. | \n",
    "|`efficiency_dispatch`| static/series | per unit | 1 | Efficiency of storage on the way out of the storage. | \n",
    "| `standing_loss`| static/series | per unit | 0 | Losses per hour to state of charge. | \n",
    "| `inflow`| static/series | MW | 0 | Inflow to the state of charge, e.g. due to river inflow in hydro reservoir. |\n",
    "\n",
    "\n",
    "\n",
    "\n",
    "\n",
    "\n"
   ]
  },
  {
   "cell_type": "markdown",
   "metadata": {},
   "source": [
    "---\n",
    "### 🏗️ Working with the `network` object"
   ]
  },
  {
   "cell_type": "markdown",
   "metadata": {},
   "source": [
    "The network contains functions, such as: \n",
    "\n",
    "- 📥 Adding data: `network.add()` or `network.import_from_csv()` - As described before.\n",
    "- 🔍 Optimization: `network.optimize()` – Runs the optimization process.  \n",
    "   * Supports multiple solvers including GLPK, Gurobi, CPLEX, and HiGHS. \n",
    "- 📊 Statistics: `network.statistics()` – Generates system-wide statistics.  \n",
    "- 🗺️ Visualization: `network.plot()` – Plots the network layout.  \n"
   ]
  },
  {
   "cell_type": "markdown",
   "metadata": {},
   "source": [
    "**Import Network**"
   ]
  },
  {
   "cell_type": "code",
   "execution_count": 17,
   "metadata": {},
   "outputs": [
    {
     "name": "stdout",
     "output_type": "stream",
     "text": [
      "Collecting openpyxl\n",
      "  Using cached openpyxl-3.1.5-py2.py3-none-any.whl.metadata (2.5 kB)\n",
      "Collecting et-xmlfile (from openpyxl)\n",
      "  Using cached et_xmlfile-2.0.0-py3-none-any.whl.metadata (2.7 kB)\n",
      "Using cached openpyxl-3.1.5-py2.py3-none-any.whl (250 kB)\n",
      "Using cached et_xmlfile-2.0.0-py3-none-any.whl (18 kB)\n",
      "Installing collected packages: et-xmlfile, openpyxl\n",
      "Successfully installed et-xmlfile-2.0.0 openpyxl-3.1.5\n"
     ]
    }
   ],
   "source": [
    "!pip install openpyxl"
   ]
  },
  {
   "cell_type": "code",
   "execution_count": 21,
   "metadata": {},
   "outputs": [
    {
     "name": "stderr",
     "output_type": "stream",
     "text": [
      "INFO:root:Converted snapshots to CSV.\n",
      "INFO:root:Converted generators-p_max_pu to CSV.\n",
      "INFO:root:Converted loads-p_set to CSV.\n",
      "INFO:root:Converted storage_units-inflow to CSV.\n",
      "INFO:root:Conversion complete. CSV files are saved in 'lesson4_csv_folder'\n",
      "INFO:root:Excel file closed successfully.\n"
     ]
    }
   ],
   "source": [
    "input_file_name = 'data/Lesson4_solution.xlsx'\n",
    "path = convert_selected_sheets_to_csv(input_file_name, 'lesson4_csv_folder')"
   ]
  },
  {
   "cell_type": "markdown",
   "metadata": {},
   "source": [
    "**Review Input Data**"
   ]
  },
  {
   "cell_type": "code",
   "execution_count": 19,
   "metadata": {},
   "outputs": [
    {
     "data": {
      "text/plain": [
       "'lesson4_csv_folder'"
      ]
     },
     "execution_count": 19,
     "metadata": {},
     "output_type": "execute_result"
    }
   ],
   "source": [
    "path"
   ]
  },
  {
   "cell_type": "code",
   "execution_count": 20,
   "metadata": {},
   "outputs": [
    {
     "name": "stderr",
     "output_type": "stream",
     "text": [
      "WARNING:pypsa.io:Importing network from PyPSA version v? while current version is v0.33.0. Read the release notes at https://pypsa.readthedocs.io/en/latest/release_notes.html to prepare your network for import.\n",
      "ERROR:pypsa.io:Error, no buses found\n"
     ]
    }
   ],
   "source": [
    "network.import_from_csv_folder(path)\n"
   ]
  },
  {
   "cell_type": "code",
   "execution_count": null,
   "metadata": {},
   "outputs": [],
   "source": [
    "network.generators_t.p_max_pu.head()"
   ]
  },
  {
   "cell_type": "code",
   "execution_count": null,
   "metadata": {},
   "outputs": [],
   "source": [
    "network.loads_t.p_set.head()"
   ]
  },
  {
   "cell_type": "code",
   "execution_count": null,
   "metadata": {},
   "outputs": [],
   "source": [
    "network.loads"
   ]
  },
  {
   "cell_type": "code",
   "execution_count": null,
   "metadata": {},
   "outputs": [],
   "source": [
    "network.links.head()"
   ]
  },
  {
   "cell_type": "markdown",
   "metadata": {},
   "source": [
    "**Solve Model**"
   ]
  },
  {
   "cell_type": "code",
   "execution_count": null,
   "metadata": {},
   "outputs": [],
   "source": [
    "network.optimize(solver_name='highs')"
   ]
  },
  {
   "cell_type": "markdown",
   "metadata": {},
   "source": [
    "**Results**"
   ]
  },
  {
   "cell_type": "code",
   "execution_count": null,
   "metadata": {},
   "outputs": [],
   "source": [
    "network.generators_t.p.head()"
   ]
  },
  {
   "cell_type": "code",
   "execution_count": null,
   "metadata": {},
   "outputs": [],
   "source": [
    "network.storage_units_t.p.head()"
   ]
  },
  {
   "cell_type": "code",
   "execution_count": null,
   "metadata": {},
   "outputs": [],
   "source": []
  },
  {
   "cell_type": "code",
   "execution_count": null,
   "metadata": {},
   "outputs": [],
   "source": []
  },
  {
   "cell_type": "code",
   "execution_count": null,
   "metadata": {},
   "outputs": [],
   "source": []
  },
  {
   "cell_type": "code",
   "execution_count": null,
   "metadata": {},
   "outputs": [],
   "source": []
  },
  {
   "cell_type": "code",
   "execution_count": null,
   "metadata": {},
   "outputs": [],
   "source": []
  },
  {
   "cell_type": "code",
   "execution_count": null,
   "metadata": {},
   "outputs": [],
   "source": [
    "bus_to_view = \"NO\"\n",
    "\n",
    "# Get generators and storage units connected to the selected bus\n",
    "clustered_generators = network.generators.query(\"bus == @bus_to_view\").index\n",
    "clustered_storage_units = network.storage_units.query(\"bus == @bus_to_view\").index\n",
    "\n",
    "# Extract time-series data for the selected generators and storage units\n",
    "gen_p = network.generators_t.p[clustered_generators]\n",
    "storage_p = network.storage_units_t.p[clustered_storage_units]\n",
    "\n",
    "# Combine both data frames (handle cases where one may be empty)\n",
    "combined_df = gen_p.join(storage_p, how=\"outer\").fillna(0)\n",
    "\n",
    "combined_df.plot()\n"
   ]
  },
  {
   "cell_type": "code",
   "execution_count": null,
   "metadata": {},
   "outputs": [],
   "source": [
    "# Get all buses in the network\n",
    "buses = network.buses.index\n",
    "\n",
    "# generator and storage unit mapping to buses\n",
    "gen_bus_map = network.generators[\"bus\"]\n",
    "store_bus_map = network.storage_units[\"bus\"]\n",
    "\n",
    "# Initialize a DataFrame to store marginal prices per bus\n",
    "marginal_price_per_bus = pd.DataFrame(index=network.snapshots, columns=buses)\n",
    "\n",
    "# Loop through each timestep\n",
    "for t in network.snapshots:\n",
    "    # Initialize dictionary to store marginal prices for this timestep\n",
    "    marginal_prices_t = {}\n",
    "\n",
    "    # Get operational generators and storage units for this timestep\n",
    "    operational_gens = network.generators_t.p.loc[t]\n",
    "    operational_stores = network.storage_units_t.p.loc[t]\n",
    "\n",
    "    # Loop through each bus\n",
    "    for bus in buses:\n",
    "        # Get generators and storage units connected to this bus\n",
    "        gen_at_bus = gen_bus_map[gen_bus_map == bus].index\n",
    "        store_at_bus = store_bus_map[store_bus_map == bus].index\n",
    "\n",
    "        # Filter only active (p > 0) units\n",
    "        active_gens = operational_gens[gen_at_bus][operational_gens[gen_at_bus] > 0].index\n",
    "        active_stores = operational_stores[store_at_bus][operational_stores[store_at_bus] > 0].index\n",
    "\n",
    "        # Get marginal costs of active generators and storage units\n",
    "        costs_gens = network.generators.loc[active_gens, \"marginal_cost\"] if not active_gens.empty else pd.Series(dtype=float)\n",
    "        costs_stores = network.storage_units.loc[active_stores, \"marginal_cost\"] if not active_stores.empty else pd.Series(dtype=float)\n",
    "\n",
    "        # Find the highest marginal cost at this bus\n",
    "        all_costs = pd.concat([costs_gens, costs_stores])\n",
    "        marginal_prices_t[bus] = all_costs.max() if not all_costs.empty else 0\n",
    "\n",
    "    # Store results in the DataFrame\n",
    "    marginal_price_per_bus.loc[t] = marginal_prices_t\n",
    "\n",
    "marginal_price_per_bus.head()"
   ]
  },
  {
   "cell_type": "code",
   "execution_count": null,
   "metadata": {},
   "outputs": [],
   "source": [
    "marginal_price_per_bus.plot()"
   ]
  },
  {
   "cell_type": "markdown",
   "metadata": {},
   "source": [
    "### \n",
    "---"
   ]
  }
 ],
 "metadata": {
  "kernelspec": {
   "display_name": "flex_training_env",
   "language": "python",
   "name": "python3"
  },
  "language_info": {
   "codemirror_mode": {
    "name": "ipython",
    "version": 3
   },
   "file_extension": ".py",
   "mimetype": "text/x-python",
   "name": "python",
   "nbconvert_exporter": "python",
   "pygments_lexer": "ipython3",
   "version": "3.10.16"
  }
 },
 "nbformat": 4,
 "nbformat_minor": 2
}
