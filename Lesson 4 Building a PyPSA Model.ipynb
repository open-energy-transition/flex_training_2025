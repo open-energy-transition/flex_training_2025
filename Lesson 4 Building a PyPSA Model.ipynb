{
 "cells": [
  {
   "cell_type": "markdown",
   "metadata": {},
   "source": [
    "### 📘 Lesson 4: Building a PyPSA Model"
   ]
  },
  {
   "cell_type": "markdown",
   "metadata": {},
   "source": [
    "<div style=\"display: flex; align-items: center; justify-content: space-between;\">\n",
    "  <div>\n",
    "    <h3>Course presenters</h3>\n",
    "    <ul>\n",
    "      <li><strong>Priyesh Gosai</strong> - Energy Systems Modeler and Training Coordinator</li>\n",
    "      <li><strong>Dr. Fabian Hofmann</strong> - Senior Optimization and Energy System Modelling Expert</li>\n",
    "    </ul>\n",
    "  </div>\n",
    "  <div>\n",
    "    <a href=\"https://openenergytransition.org/index.html\">\n",
    "      <img src=\"https://openenergytransition.org/assets/img/oet-logo-red-n-subtitle.png\" height=\"60\" alt=\"OET\">\n",
    "    </a>\n",
    "  </div>\n",
    "</div>\n"
   ]
  },
  {
   "cell_type": "markdown",
   "metadata": {},
   "source": [
    "##### 🎯 Learning Objectives  \n"
   ]
  },
  {
   "cell_type": "markdown",
   "metadata": {},
   "source": [
    "\n",
    "* Introduce participants to the PyPSA toolbox.  \n",
    "* Provide details of relevant components.  \n",
    "* Build and solve a simple PyPSA model.  \n",
    "* Review the data structures for static and time-series data.  \n",
    "* Analyze the results.  \n",
    "\n",
    "The content also includes references to other toolboxes such as `numpy`, `pandas`, `matplotlib`, and `plotly`, but only covers functions relevant to a PyPSA workflow.  \n",
    "\n",
    "📌 Participants unfamiliar with these toolboxes are encouraged to explore online videos or courses for deeper learning. 🎥📚  \n",
    "\n",
    "---"
   ]
  },
  {
   "cell_type": "markdown",
   "metadata": {},
   "source": [
    "### 📥 **Importing Essential Libraries**  \n"
   ]
  },
  {
   "cell_type": "code",
   "execution_count": 144,
   "metadata": {},
   "outputs": [],
   "source": [
    "import pypsa\n",
    "import pandas as pd\n",
    "import numpy as np\n",
    "from training_scripts import *"
   ]
  },
  {
   "cell_type": "markdown",
   "metadata": {},
   "source": [
    "### **🔧⚡ Create a PyPSA Network Object**"
   ]
  },
  {
   "cell_type": "code",
   "execution_count": 145,
   "metadata": {},
   "outputs": [
    {
     "data": {
      "text/plain": [
       "Empty Unnamed PyPSA Network\n",
       "---------------------\n",
       "Components: none\n",
       "Snapshots: 1"
      ]
     },
     "execution_count": 145,
     "metadata": {},
     "output_type": "execute_result"
    }
   ],
   "source": [
    "network = pypsa.Network()\n",
    "network"
   ]
  },
  {
   "cell_type": "markdown",
   "metadata": {},
   "source": [
    "Look at what is in the network."
   ]
  },
  {
   "cell_type": "code",
   "execution_count": 146,
   "metadata": {},
   "outputs": [
    {
     "data": {
      "text/plain": [
       "{'Bus',\n",
       " 'Carrier',\n",
       " 'Generator',\n",
       " 'GlobalConstraint',\n",
       " 'Line',\n",
       " 'LineType',\n",
       " 'Link',\n",
       " 'Load',\n",
       " 'Shape',\n",
       " 'ShuntImpedance',\n",
       " 'StorageUnit',\n",
       " 'Store',\n",
       " 'SubNetwork',\n",
       " 'Transformer',\n",
       " 'TransformerType'}"
      ]
     },
     "execution_count": 146,
     "metadata": {},
     "output_type": "execute_result"
    }
   ],
   "source": [
    "network.all_components"
   ]
  },
  {
   "cell_type": "markdown",
   "metadata": {},
   "source": [
    "Look at the component attributes."
   ]
  },
  {
   "cell_type": "code",
   "execution_count": 147,
   "metadata": {},
   "outputs": [
    {
     "data": {
      "application/vnd.microsoft.datawrangler.viewer.v0+json": {
       "columns": [
        {
         "name": "attribute",
         "rawType": "object",
         "type": "string"
        },
        {
         "name": "type",
         "rawType": "object",
         "type": "string"
        },
        {
         "name": "unit",
         "rawType": "object",
         "type": "unknown"
        },
        {
         "name": "default",
         "rawType": "object",
         "type": "unknown"
        },
        {
         "name": "description",
         "rawType": "object",
         "type": "string"
        },
        {
         "name": "status",
         "rawType": "object",
         "type": "string"
        },
        {
         "name": "static",
         "rawType": "bool",
         "type": "boolean"
        },
        {
         "name": "varying",
         "rawType": "bool",
         "type": "boolean"
        },
        {
         "name": "typ",
         "rawType": "object",
         "type": "unknown"
        },
        {
         "name": "dtype",
         "rawType": "object",
         "type": "unknown"
        }
       ],
       "conversionMethod": "pd.DataFrame",
       "ref": "461a303f-164c-43b3-a257-0366cd25234c",
       "rows": [
        [
         "name",
         "string",
         null,
         "",
         "Unique name",
         "Input (required)",
         "True",
         "False",
         "<class 'str'>",
         "object"
        ],
        [
         "v_nom",
         "float",
         "kV",
         "1.0",
         "Nominal voltage",
         "Input (optional)",
         "True",
         "False",
         "<class 'float'>",
         "float64"
        ],
        [
         "type",
         "string",
         null,
         "",
         "Placeholder for bus type. Not yet implemented.",
         "Input (optional)",
         "True",
         "False",
         "<class 'str'>",
         "object"
        ],
        [
         "x",
         "float",
         null,
         "0.0",
         "Position (e.g. longitude); the Spatial Reference System Identifier (SRID) is set in network.srid.",
         "Input (optional)",
         "True",
         "False",
         "<class 'float'>",
         "float64"
        ],
        [
         "y",
         "float",
         null,
         "0.0",
         "Position (e.g. latitude); the Spatial Reference System Identifier (SRID) is set in network.srid.",
         "Input (optional)",
         "True",
         "False",
         "<class 'float'>",
         "float64"
        ],
        [
         "carrier",
         "string",
         null,
         "AC",
         "Energy carrier: can be \"AC\" or \"DC\" for electrical buses, or \"heat\" or \"gas\".",
         "Input (optional)",
         "True",
         "False",
         "<class 'str'>",
         "object"
        ],
        [
         "unit",
         "string",
         null,
         "",
         "Unit of the bus’ carrier if the implicitly assumed unit (\"MW\") is inappropriate (e.g. \"t/h\", \"MWh_th/h\"). Only descriptive. Does not influence any PyPSA functions.",
         "Input (optional)",
         "True",
         "False",
         "<class 'str'>",
         "object"
        ],
        [
         "v_mag_pu_set",
         "static or series",
         "per unit",
         "1.0",
         "Voltage magnitude set point, per unit of v_nom.",
         "Input (optional)",
         "True",
         "True",
         "<class 'float'>",
         "float64"
        ],
        [
         "v_mag_pu_min",
         "float",
         "per unit",
         "0.0",
         "Minimum desired voltage, per unit of v_nom. This is a placeholder attribute and is not currently used by any PyPSA functions.",
         "Input (optional)",
         "True",
         "False",
         "<class 'float'>",
         "float64"
        ],
        [
         "v_mag_pu_max",
         "float",
         "per unit",
         "inf",
         "Maximum desired voltage, per unit of v_nom.  This is a placeholder attribute and is not currently used by any PyPSA functions.",
         "Input (optional)",
         "True",
         "False",
         "<class 'float'>",
         "float64"
        ],
        [
         "control",
         "string",
         null,
         "PQ",
         "P,Q,V control strategy for PF, must be \"PQ\", \"PV\" or \"Slack\". Note that this attribute is an output inherited from the controls of the generators attached to the bus; setting it directly on the bus will not have any effect.",
         "Output",
         "True",
         "False",
         "<class 'str'>",
         "object"
        ],
        [
         "generator",
         "string",
         null,
         "",
         "Name of slack generator attached to slack bus.",
         "Output",
         "True",
         "False",
         "<class 'str'>",
         "object"
        ],
        [
         "sub_network",
         "string",
         null,
         "",
         "Name of connected sub-network to which bus belongs. This attribute is set by PyPSA in the function network.determine_network_topology(); do not set it directly by hand.",
         "Output",
         "True",
         "False",
         "<class 'str'>",
         "object"
        ],
        [
         "p",
         "series",
         "MW",
         "0.0",
         "active power at bus (positive if net generation at bus)",
         "Output",
         "False",
         "True",
         "<class 'float'>",
         "float64"
        ],
        [
         "q",
         "series",
         "MVar",
         "0.0",
         "reactive power (positive if net generation at bus)",
         "Output",
         "False",
         "True",
         "<class 'float'>",
         "float64"
        ],
        [
         "v_mag_pu",
         "series",
         "per unit",
         "1.0",
         "Voltage magnitude, per unit of v_nom",
         "Output",
         "False",
         "True",
         "<class 'float'>",
         "float64"
        ],
        [
         "v_ang",
         "series",
         "radians",
         "0.0",
         "Voltage angle",
         "Output",
         "False",
         "True",
         "<class 'float'>",
         "float64"
        ],
        [
         "marginal_price",
         "series",
         "currency/MWh",
         "0.0",
         "Locational marginal price from LOPF from power balance constraint",
         "Output",
         "False",
         "True",
         "<class 'float'>",
         "float64"
        ]
       ],
       "shape": {
        "columns": 9,
        "rows": 18
       }
      },
      "text/html": [
       "<div>\n",
       "<style scoped>\n",
       "    .dataframe tbody tr th:only-of-type {\n",
       "        vertical-align: middle;\n",
       "    }\n",
       "\n",
       "    .dataframe tbody tr th {\n",
       "        vertical-align: top;\n",
       "    }\n",
       "\n",
       "    .dataframe thead th {\n",
       "        text-align: right;\n",
       "    }\n",
       "</style>\n",
       "<table border=\"1\" class=\"dataframe\">\n",
       "  <thead>\n",
       "    <tr style=\"text-align: right;\">\n",
       "      <th></th>\n",
       "      <th>type</th>\n",
       "      <th>unit</th>\n",
       "      <th>default</th>\n",
       "      <th>description</th>\n",
       "      <th>status</th>\n",
       "      <th>static</th>\n",
       "      <th>varying</th>\n",
       "      <th>typ</th>\n",
       "      <th>dtype</th>\n",
       "    </tr>\n",
       "    <tr>\n",
       "      <th>attribute</th>\n",
       "      <th></th>\n",
       "      <th></th>\n",
       "      <th></th>\n",
       "      <th></th>\n",
       "      <th></th>\n",
       "      <th></th>\n",
       "      <th></th>\n",
       "      <th></th>\n",
       "      <th></th>\n",
       "    </tr>\n",
       "  </thead>\n",
       "  <tbody>\n",
       "    <tr>\n",
       "      <th>name</th>\n",
       "      <td>string</td>\n",
       "      <td>NaN</td>\n",
       "      <td></td>\n",
       "      <td>Unique name</td>\n",
       "      <td>Input (required)</td>\n",
       "      <td>True</td>\n",
       "      <td>False</td>\n",
       "      <td>&lt;class 'str'&gt;</td>\n",
       "      <td>object</td>\n",
       "    </tr>\n",
       "    <tr>\n",
       "      <th>v_nom</th>\n",
       "      <td>float</td>\n",
       "      <td>kV</td>\n",
       "      <td>1.0</td>\n",
       "      <td>Nominal voltage</td>\n",
       "      <td>Input (optional)</td>\n",
       "      <td>True</td>\n",
       "      <td>False</td>\n",
       "      <td>&lt;class 'float'&gt;</td>\n",
       "      <td>float64</td>\n",
       "    </tr>\n",
       "    <tr>\n",
       "      <th>type</th>\n",
       "      <td>string</td>\n",
       "      <td>NaN</td>\n",
       "      <td></td>\n",
       "      <td>Placeholder for bus type. Not yet implemented.</td>\n",
       "      <td>Input (optional)</td>\n",
       "      <td>True</td>\n",
       "      <td>False</td>\n",
       "      <td>&lt;class 'str'&gt;</td>\n",
       "      <td>object</td>\n",
       "    </tr>\n",
       "    <tr>\n",
       "      <th>x</th>\n",
       "      <td>float</td>\n",
       "      <td>NaN</td>\n",
       "      <td>0.0</td>\n",
       "      <td>Position (e.g. longitude); the Spatial Referen...</td>\n",
       "      <td>Input (optional)</td>\n",
       "      <td>True</td>\n",
       "      <td>False</td>\n",
       "      <td>&lt;class 'float'&gt;</td>\n",
       "      <td>float64</td>\n",
       "    </tr>\n",
       "    <tr>\n",
       "      <th>y</th>\n",
       "      <td>float</td>\n",
       "      <td>NaN</td>\n",
       "      <td>0.0</td>\n",
       "      <td>Position (e.g. latitude); the Spatial Referenc...</td>\n",
       "      <td>Input (optional)</td>\n",
       "      <td>True</td>\n",
       "      <td>False</td>\n",
       "      <td>&lt;class 'float'&gt;</td>\n",
       "      <td>float64</td>\n",
       "    </tr>\n",
       "    <tr>\n",
       "      <th>carrier</th>\n",
       "      <td>string</td>\n",
       "      <td>NaN</td>\n",
       "      <td>AC</td>\n",
       "      <td>Energy carrier: can be \"AC\" or \"DC\" for electr...</td>\n",
       "      <td>Input (optional)</td>\n",
       "      <td>True</td>\n",
       "      <td>False</td>\n",
       "      <td>&lt;class 'str'&gt;</td>\n",
       "      <td>object</td>\n",
       "    </tr>\n",
       "    <tr>\n",
       "      <th>unit</th>\n",
       "      <td>string</td>\n",
       "      <td>NaN</td>\n",
       "      <td></td>\n",
       "      <td>Unit of the bus’ carrier if the implicitly ass...</td>\n",
       "      <td>Input (optional)</td>\n",
       "      <td>True</td>\n",
       "      <td>False</td>\n",
       "      <td>&lt;class 'str'&gt;</td>\n",
       "      <td>object</td>\n",
       "    </tr>\n",
       "    <tr>\n",
       "      <th>v_mag_pu_set</th>\n",
       "      <td>static or series</td>\n",
       "      <td>per unit</td>\n",
       "      <td>1.0</td>\n",
       "      <td>Voltage magnitude set point, per unit of v_nom.</td>\n",
       "      <td>Input (optional)</td>\n",
       "      <td>True</td>\n",
       "      <td>True</td>\n",
       "      <td>&lt;class 'float'&gt;</td>\n",
       "      <td>float64</td>\n",
       "    </tr>\n",
       "    <tr>\n",
       "      <th>v_mag_pu_min</th>\n",
       "      <td>float</td>\n",
       "      <td>per unit</td>\n",
       "      <td>0.0</td>\n",
       "      <td>Minimum desired voltage, per unit of v_nom. Th...</td>\n",
       "      <td>Input (optional)</td>\n",
       "      <td>True</td>\n",
       "      <td>False</td>\n",
       "      <td>&lt;class 'float'&gt;</td>\n",
       "      <td>float64</td>\n",
       "    </tr>\n",
       "    <tr>\n",
       "      <th>v_mag_pu_max</th>\n",
       "      <td>float</td>\n",
       "      <td>per unit</td>\n",
       "      <td>inf</td>\n",
       "      <td>Maximum desired voltage, per unit of v_nom.  T...</td>\n",
       "      <td>Input (optional)</td>\n",
       "      <td>True</td>\n",
       "      <td>False</td>\n",
       "      <td>&lt;class 'float'&gt;</td>\n",
       "      <td>float64</td>\n",
       "    </tr>\n",
       "    <tr>\n",
       "      <th>control</th>\n",
       "      <td>string</td>\n",
       "      <td>NaN</td>\n",
       "      <td>PQ</td>\n",
       "      <td>P,Q,V control strategy for PF, must be \"PQ\", \"...</td>\n",
       "      <td>Output</td>\n",
       "      <td>True</td>\n",
       "      <td>False</td>\n",
       "      <td>&lt;class 'str'&gt;</td>\n",
       "      <td>object</td>\n",
       "    </tr>\n",
       "    <tr>\n",
       "      <th>generator</th>\n",
       "      <td>string</td>\n",
       "      <td>NaN</td>\n",
       "      <td></td>\n",
       "      <td>Name of slack generator attached to slack bus.</td>\n",
       "      <td>Output</td>\n",
       "      <td>True</td>\n",
       "      <td>False</td>\n",
       "      <td>&lt;class 'str'&gt;</td>\n",
       "      <td>object</td>\n",
       "    </tr>\n",
       "    <tr>\n",
       "      <th>sub_network</th>\n",
       "      <td>string</td>\n",
       "      <td>NaN</td>\n",
       "      <td></td>\n",
       "      <td>Name of connected sub-network to which bus bel...</td>\n",
       "      <td>Output</td>\n",
       "      <td>True</td>\n",
       "      <td>False</td>\n",
       "      <td>&lt;class 'str'&gt;</td>\n",
       "      <td>object</td>\n",
       "    </tr>\n",
       "    <tr>\n",
       "      <th>p</th>\n",
       "      <td>series</td>\n",
       "      <td>MW</td>\n",
       "      <td>0.0</td>\n",
       "      <td>active power at bus (positive if net generatio...</td>\n",
       "      <td>Output</td>\n",
       "      <td>False</td>\n",
       "      <td>True</td>\n",
       "      <td>&lt;class 'float'&gt;</td>\n",
       "      <td>float64</td>\n",
       "    </tr>\n",
       "    <tr>\n",
       "      <th>q</th>\n",
       "      <td>series</td>\n",
       "      <td>MVar</td>\n",
       "      <td>0.0</td>\n",
       "      <td>reactive power (positive if net generation at ...</td>\n",
       "      <td>Output</td>\n",
       "      <td>False</td>\n",
       "      <td>True</td>\n",
       "      <td>&lt;class 'float'&gt;</td>\n",
       "      <td>float64</td>\n",
       "    </tr>\n",
       "    <tr>\n",
       "      <th>v_mag_pu</th>\n",
       "      <td>series</td>\n",
       "      <td>per unit</td>\n",
       "      <td>1.0</td>\n",
       "      <td>Voltage magnitude, per unit of v_nom</td>\n",
       "      <td>Output</td>\n",
       "      <td>False</td>\n",
       "      <td>True</td>\n",
       "      <td>&lt;class 'float'&gt;</td>\n",
       "      <td>float64</td>\n",
       "    </tr>\n",
       "    <tr>\n",
       "      <th>v_ang</th>\n",
       "      <td>series</td>\n",
       "      <td>radians</td>\n",
       "      <td>0.0</td>\n",
       "      <td>Voltage angle</td>\n",
       "      <td>Output</td>\n",
       "      <td>False</td>\n",
       "      <td>True</td>\n",
       "      <td>&lt;class 'float'&gt;</td>\n",
       "      <td>float64</td>\n",
       "    </tr>\n",
       "    <tr>\n",
       "      <th>marginal_price</th>\n",
       "      <td>series</td>\n",
       "      <td>currency/MWh</td>\n",
       "      <td>0.0</td>\n",
       "      <td>Locational marginal price from LOPF from power...</td>\n",
       "      <td>Output</td>\n",
       "      <td>False</td>\n",
       "      <td>True</td>\n",
       "      <td>&lt;class 'float'&gt;</td>\n",
       "      <td>float64</td>\n",
       "    </tr>\n",
       "  </tbody>\n",
       "</table>\n",
       "</div>"
      ],
      "text/plain": [
       "                            type          unit default  \\\n",
       "attribute                                                \n",
       "name                      string           NaN           \n",
       "v_nom                      float            kV     1.0   \n",
       "type                      string           NaN           \n",
       "x                          float           NaN     0.0   \n",
       "y                          float           NaN     0.0   \n",
       "carrier                   string           NaN      AC   \n",
       "unit                      string           NaN           \n",
       "v_mag_pu_set    static or series      per unit     1.0   \n",
       "v_mag_pu_min               float      per unit     0.0   \n",
       "v_mag_pu_max               float      per unit     inf   \n",
       "control                   string           NaN      PQ   \n",
       "generator                 string           NaN           \n",
       "sub_network               string           NaN           \n",
       "p                         series            MW     0.0   \n",
       "q                         series          MVar     0.0   \n",
       "v_mag_pu                  series      per unit     1.0   \n",
       "v_ang                     series       radians     0.0   \n",
       "marginal_price            series  currency/MWh     0.0   \n",
       "\n",
       "                                                      description  \\\n",
       "attribute                                                           \n",
       "name                                                  Unique name   \n",
       "v_nom                                             Nominal voltage   \n",
       "type               Placeholder for bus type. Not yet implemented.   \n",
       "x               Position (e.g. longitude); the Spatial Referen...   \n",
       "y               Position (e.g. latitude); the Spatial Referenc...   \n",
       "carrier         Energy carrier: can be \"AC\" or \"DC\" for electr...   \n",
       "unit            Unit of the bus’ carrier if the implicitly ass...   \n",
       "v_mag_pu_set      Voltage magnitude set point, per unit of v_nom.   \n",
       "v_mag_pu_min    Minimum desired voltage, per unit of v_nom. Th...   \n",
       "v_mag_pu_max    Maximum desired voltage, per unit of v_nom.  T...   \n",
       "control         P,Q,V control strategy for PF, must be \"PQ\", \"...   \n",
       "generator          Name of slack generator attached to slack bus.   \n",
       "sub_network     Name of connected sub-network to which bus bel...   \n",
       "p               active power at bus (positive if net generatio...   \n",
       "q               reactive power (positive if net generation at ...   \n",
       "v_mag_pu                     Voltage magnitude, per unit of v_nom   \n",
       "v_ang                                               Voltage angle   \n",
       "marginal_price  Locational marginal price from LOPF from power...   \n",
       "\n",
       "                          status  static  varying              typ    dtype  \n",
       "attribute                                                                    \n",
       "name            Input (required)    True    False    <class 'str'>   object  \n",
       "v_nom           Input (optional)    True    False  <class 'float'>  float64  \n",
       "type            Input (optional)    True    False    <class 'str'>   object  \n",
       "x               Input (optional)    True    False  <class 'float'>  float64  \n",
       "y               Input (optional)    True    False  <class 'float'>  float64  \n",
       "carrier         Input (optional)    True    False    <class 'str'>   object  \n",
       "unit            Input (optional)    True    False    <class 'str'>   object  \n",
       "v_mag_pu_set    Input (optional)    True     True  <class 'float'>  float64  \n",
       "v_mag_pu_min    Input (optional)    True    False  <class 'float'>  float64  \n",
       "v_mag_pu_max    Input (optional)    True    False  <class 'float'>  float64  \n",
       "control                   Output    True    False    <class 'str'>   object  \n",
       "generator                 Output    True    False    <class 'str'>   object  \n",
       "sub_network               Output    True    False    <class 'str'>   object  \n",
       "p                         Output   False     True  <class 'float'>  float64  \n",
       "q                         Output   False     True  <class 'float'>  float64  \n",
       "v_mag_pu                  Output   False     True  <class 'float'>  float64  \n",
       "v_ang                     Output   False     True  <class 'float'>  float64  \n",
       "marginal_price            Output   False     True  <class 'float'>  float64  "
      ]
     },
     "execution_count": 147,
     "metadata": {},
     "output_type": "execute_result"
    }
   ],
   "source": [
    "network.component_attrs['Bus']"
   ]
  },
  {
   "cell_type": "code",
   "execution_count": 148,
   "metadata": {},
   "outputs": [
    {
     "data": {
      "application/vnd.microsoft.datawrangler.viewer.v0+json": {
       "columns": [
        {
         "name": "attribute",
         "rawType": "object",
         "type": "string"
        },
        {
         "name": "type",
         "rawType": "object",
         "type": "string"
        },
        {
         "name": "unit",
         "rawType": "object",
         "type": "unknown"
        },
        {
         "name": "default",
         "rawType": "object",
         "type": "unknown"
        },
        {
         "name": "description",
         "rawType": "object",
         "type": "string"
        },
        {
         "name": "status",
         "rawType": "object",
         "type": "string"
        },
        {
         "name": "static",
         "rawType": "bool",
         "type": "boolean"
        },
        {
         "name": "varying",
         "rawType": "bool",
         "type": "boolean"
        },
        {
         "name": "typ",
         "rawType": "object",
         "type": "unknown"
        },
        {
         "name": "dtype",
         "rawType": "object",
         "type": "unknown"
        }
       ],
       "conversionMethod": "pd.DataFrame",
       "ref": "90b85586-1a59-490d-8788-a742e34eaaeb",
       "rows": [
        [
         "name",
         "string",
         null,
         "",
         "Unique name",
         "Input (required)",
         "True",
         "False",
         "<class 'str'>",
         "object"
        ],
        [
         "bus0",
         "string",
         null,
         "",
         "Name of first bus to which branch is attached.",
         "Input (required)",
         "True",
         "False",
         "<class 'str'>",
         "object"
        ],
        [
         "bus1",
         "string",
         null,
         "",
         "Name of second bus to which branch is attached.",
         "Input (required)",
         "True",
         "False",
         "<class 'str'>",
         "object"
        ],
        [
         "type",
         "string",
         null,
         "",
         "Name of line standard type. If this is not an empty string \"\", then the line standard type impedance parameters are multiplied with the line length and divided/multiplied by num_parallel to compute x, r, etc. This will override any values set in r, x, and b. If the string is empty, PyPSA will simply read r, x, etc.",
         "Input (optional)",
         "True",
         "False",
         "<class 'str'>",
         "object"
        ],
        [
         "x",
         "float",
         "Ohm",
         "0.0",
         "Series reactance, must be non-zero for AC branch in linear power flow. If the line has series inductance :math:`L` in Henries then :math:`x = 2\\pi f L` where :math:`f` is the frequency in Hertz. Series impedance :math:`z = r + jx` must be non-zero for the non-linear power flow. Ignored if type defined.",
         "Input (required)",
         "True",
         "False",
         "<class 'float'>",
         "float64"
        ],
        [
         "r",
         "float",
         "Ohm",
         "0.0",
         "Series resistance, must be non-zero for DC branch in linear power flow. Series impedance :math:`z = r + jx` must be non-zero for the non-linear power flow. Ignored if type defined.",
         "Input (required)",
         "True",
         "False",
         "<class 'float'>",
         "float64"
        ],
        [
         "g",
         "float",
         "Siemens",
         "0.0",
         "Shunt conductivity. Shunt admittance is :math:`y = g + jb`.",
         "Input (optional)",
         "True",
         "False",
         "<class 'float'>",
         "float64"
        ],
        [
         "b",
         "float",
         "Siemens",
         "0.0",
         "Shunt susceptance. If the line has shunt capacitance :math:`C` in Farads then :math:`b = 2\\pi f C` where :math:`f` is the frequency in Hertz. Shunt admittance is :math:`y = g + jb`. Ignored if type defined.",
         "Input (optional)",
         "True",
         "False",
         "<class 'float'>",
         "float64"
        ],
        [
         "s_nom",
         "float",
         "MVA",
         "0.0",
         "Limit of apparent power which can pass through branch.",
         "Input (optional)",
         "True",
         "False",
         "<class 'float'>",
         "float64"
        ],
        [
         "s_nom_mod",
         "float",
         "MVA",
         "0.0",
         "Unit size of line expansion of ``s_nom``.",
         "Input (optional)",
         "True",
         "False",
         "<class 'float'>",
         "float64"
        ],
        [
         "s_nom_extendable",
         "boolean",
         null,
         "False",
         "Switch to allow capacity s_nom to be extended in OPF.",
         "Input (optional)",
         "True",
         "False",
         "<class 'bool'>",
         "bool"
        ],
        [
         "s_nom_min",
         "float",
         "MVA",
         "0.0",
         "If s_nom is extendable in OPF, set its minimum value.",
         "Input (optional)",
         "True",
         "False",
         "<class 'float'>",
         "float64"
        ],
        [
         "s_nom_max",
         "float",
         "MVA",
         "inf",
         "If s_nom is extendable in OPF, set its maximum value (e.g. limited by potential).",
         "Input (optional)",
         "True",
         "False",
         "<class 'float'>",
         "float64"
        ],
        [
         "s_max_pu",
         "static or series",
         "per unit",
         "1.0",
         "The maximum allowed absolute flow per unit of s_nom for the OPF (e.g. can be set <1 to approximate n-1 factor, or can be time-varying to represent weather-dependent dynamic line rating for overhead lines).",
         "Input (optional)",
         "True",
         "True",
         "<class 'float'>",
         "float64"
        ],
        [
         "capital_cost",
         "float",
         "currency/MVA",
         "0.0",
         "Fixed period costs of extending s_nom by 1 MVA, including periodized investment costs and periodic fixed O&M costs (e.g. annuitized investment costs).",
         "Input (optional)",
         "True",
         "False",
         "<class 'float'>",
         "float64"
        ],
        [
         "active",
         "boolean",
         null,
         "True",
         "Whether to consider the component in basic functionality or not",
         "Input (optional)",
         "True",
         "False",
         "<class 'bool'>",
         "bool"
        ],
        [
         "build_year",
         "int",
         "year",
         "0",
         "build year",
         "Input (optional)",
         "True",
         "False",
         "<class 'int'>",
         "int32"
        ],
        [
         "lifetime",
         "float",
         "years",
         "inf",
         "lifetime",
         "Input (optional)",
         "True",
         "False",
         "<class 'float'>",
         "float64"
        ],
        [
         "length",
         "float",
         "km",
         "0.0",
         "Length of line used when \"type\" is set, also useful for calculating the capital cost.",
         "Input (optional)",
         "True",
         "False",
         "<class 'float'>",
         "float64"
        ],
        [
         "carrier",
         "string",
         null,
         "",
         "Type of current, \"AC\" is the only valid value",
         "Input (optional)",
         "True",
         "False",
         "<class 'str'>",
         "object"
        ],
        [
         "terrain_factor",
         "float",
         "per unit",
         "1.0",
         "Terrain factor for increasing capital cost.",
         "Input (optional)",
         "True",
         "False",
         "<class 'float'>",
         "float64"
        ],
        [
         "num_parallel",
         "float",
         null,
         "1.0",
         "When \"type\" is set, this is the number of parallel lines (can also be fractional). If \"type\" is empty \"\" this value is ignored.",
         "Input (optional)",
         "True",
         "False",
         "<class 'float'>",
         "float64"
        ],
        [
         "v_ang_min",
         "float",
         "Degrees",
         "-inf",
         "Minimum voltage angle difference across the line. This is a placeholder attribute and is not currently used by any PyPSA functions.",
         "Input (optional)",
         "True",
         "False",
         "<class 'float'>",
         "float64"
        ],
        [
         "v_ang_max",
         "float",
         "Degrees",
         "inf",
         "Maximum voltage angle difference across the line. This is a placeholder attribute and is not currently used by any PyPSA functions.",
         "Input (optional)",
         "True",
         "False",
         "<class 'float'>",
         "float64"
        ],
        [
         "sub_network",
         "string",
         null,
         "",
         "Name of connected sub-network to which lines belongs. This attribute is set by PyPSA in the function network.determine_network_topology(); do not set it directly by hand.",
         "Output",
         "True",
         "False",
         "<class 'str'>",
         "object"
        ],
        [
         "p0",
         "series",
         "MW",
         "0.0",
         "Active power at bus0 (positive if branch is withdrawing power from bus0).",
         "Output",
         "False",
         "True",
         "<class 'float'>",
         "float64"
        ],
        [
         "q0",
         "series",
         "MVar",
         "0.0",
         "Reactive power at bus0 (positive if branch is withdrawing power from bus0).",
         "Output",
         "False",
         "True",
         "<class 'float'>",
         "float64"
        ],
        [
         "p1",
         "series",
         "MW",
         "0.0",
         "Active power at bus1 (positive if branch is withdrawing power from bus1).",
         "Output",
         "False",
         "True",
         "<class 'float'>",
         "float64"
        ],
        [
         "q1",
         "series",
         "MVar",
         "0.0",
         "Reactive power at bus1 (positive if branch is withdrawing power from bus1).",
         "Output",
         "False",
         "True",
         "<class 'float'>",
         "float64"
        ],
        [
         "x_pu",
         "float",
         "per unit",
         "0.0",
         "Per unit series reactance calculated by PyPSA from x and bus.v_nom.",
         "Output",
         "True",
         "False",
         "<class 'float'>",
         "float64"
        ],
        [
         "r_pu",
         "float",
         "per unit",
         "0.0",
         "Per unit series resistance calculated by PyPSA from r and bus.v_nom",
         "Output",
         "True",
         "False",
         "<class 'float'>",
         "float64"
        ],
        [
         "g_pu",
         "float",
         "per unit",
         "0.0",
         "Per unit shunt conductivity calculated by PyPSA from g and bus.v_nom",
         "Output",
         "True",
         "False",
         "<class 'float'>",
         "float64"
        ],
        [
         "b_pu",
         "float",
         "per unit",
         "0.0",
         "Per unit shunt susceptance calculated by PyPSA from b and bus.v_nom",
         "Output",
         "True",
         "False",
         "<class 'float'>",
         "float64"
        ],
        [
         "x_pu_eff",
         "float",
         "per unit",
         "0.0",
         "Effective per unit series reactance for linear power flow, calculated by PyPSA from x, tap_ratio for transformers and bus.v_nom.",
         "Output",
         "True",
         "False",
         "<class 'float'>",
         "float64"
        ],
        [
         "r_pu_eff",
         "float",
         "per unit",
         "0.0",
         "Effective per unit series resistance for linear power flow, calculated by PyPSA from x, tap_ratio for transformers and bus.v_nom.",
         "Output",
         "True",
         "False",
         "<class 'float'>",
         "float64"
        ],
        [
         "s_nom_opt",
         "float",
         "MVA",
         "0.0",
         "Optimised capacity for apparent power.",
         "Output",
         "True",
         "False",
         "<class 'float'>",
         "float64"
        ],
        [
         "mu_lower",
         "series",
         "currency/MVA",
         "0.0",
         "Shadow price of lower s_nom limit  -F \\leq f. Always non-negative.",
         "Output",
         "False",
         "True",
         "<class 'float'>",
         "float64"
        ],
        [
         "mu_upper",
         "series",
         "currency/MVA",
         "0.0",
         "Shadow price of upper s_nom limit f \\leq F. Always non-negative.",
         "Output",
         "False",
         "True",
         "<class 'float'>",
         "float64"
        ]
       ],
       "shape": {
        "columns": 9,
        "rows": 38
       }
      },
      "text/html": [
       "<div>\n",
       "<style scoped>\n",
       "    .dataframe tbody tr th:only-of-type {\n",
       "        vertical-align: middle;\n",
       "    }\n",
       "\n",
       "    .dataframe tbody tr th {\n",
       "        vertical-align: top;\n",
       "    }\n",
       "\n",
       "    .dataframe thead th {\n",
       "        text-align: right;\n",
       "    }\n",
       "</style>\n",
       "<table border=\"1\" class=\"dataframe\">\n",
       "  <thead>\n",
       "    <tr style=\"text-align: right;\">\n",
       "      <th></th>\n",
       "      <th>type</th>\n",
       "      <th>unit</th>\n",
       "      <th>default</th>\n",
       "      <th>description</th>\n",
       "      <th>status</th>\n",
       "      <th>static</th>\n",
       "      <th>varying</th>\n",
       "      <th>typ</th>\n",
       "      <th>dtype</th>\n",
       "    </tr>\n",
       "    <tr>\n",
       "      <th>attribute</th>\n",
       "      <th></th>\n",
       "      <th></th>\n",
       "      <th></th>\n",
       "      <th></th>\n",
       "      <th></th>\n",
       "      <th></th>\n",
       "      <th></th>\n",
       "      <th></th>\n",
       "      <th></th>\n",
       "    </tr>\n",
       "  </thead>\n",
       "  <tbody>\n",
       "    <tr>\n",
       "      <th>name</th>\n",
       "      <td>string</td>\n",
       "      <td>NaN</td>\n",
       "      <td></td>\n",
       "      <td>Unique name</td>\n",
       "      <td>Input (required)</td>\n",
       "      <td>True</td>\n",
       "      <td>False</td>\n",
       "      <td>&lt;class 'str'&gt;</td>\n",
       "      <td>object</td>\n",
       "    </tr>\n",
       "    <tr>\n",
       "      <th>bus0</th>\n",
       "      <td>string</td>\n",
       "      <td>NaN</td>\n",
       "      <td></td>\n",
       "      <td>Name of first bus to which branch is attached.</td>\n",
       "      <td>Input (required)</td>\n",
       "      <td>True</td>\n",
       "      <td>False</td>\n",
       "      <td>&lt;class 'str'&gt;</td>\n",
       "      <td>object</td>\n",
       "    </tr>\n",
       "    <tr>\n",
       "      <th>bus1</th>\n",
       "      <td>string</td>\n",
       "      <td>NaN</td>\n",
       "      <td></td>\n",
       "      <td>Name of second bus to which branch is attached.</td>\n",
       "      <td>Input (required)</td>\n",
       "      <td>True</td>\n",
       "      <td>False</td>\n",
       "      <td>&lt;class 'str'&gt;</td>\n",
       "      <td>object</td>\n",
       "    </tr>\n",
       "    <tr>\n",
       "      <th>type</th>\n",
       "      <td>string</td>\n",
       "      <td>NaN</td>\n",
       "      <td></td>\n",
       "      <td>Name of line standard type. If this is not an ...</td>\n",
       "      <td>Input (optional)</td>\n",
       "      <td>True</td>\n",
       "      <td>False</td>\n",
       "      <td>&lt;class 'str'&gt;</td>\n",
       "      <td>object</td>\n",
       "    </tr>\n",
       "    <tr>\n",
       "      <th>x</th>\n",
       "      <td>float</td>\n",
       "      <td>Ohm</td>\n",
       "      <td>0.0</td>\n",
       "      <td>Series reactance, must be non-zero for AC bran...</td>\n",
       "      <td>Input (required)</td>\n",
       "      <td>True</td>\n",
       "      <td>False</td>\n",
       "      <td>&lt;class 'float'&gt;</td>\n",
       "      <td>float64</td>\n",
       "    </tr>\n",
       "    <tr>\n",
       "      <th>r</th>\n",
       "      <td>float</td>\n",
       "      <td>Ohm</td>\n",
       "      <td>0.0</td>\n",
       "      <td>Series resistance, must be non-zero for DC bra...</td>\n",
       "      <td>Input (required)</td>\n",
       "      <td>True</td>\n",
       "      <td>False</td>\n",
       "      <td>&lt;class 'float'&gt;</td>\n",
       "      <td>float64</td>\n",
       "    </tr>\n",
       "    <tr>\n",
       "      <th>g</th>\n",
       "      <td>float</td>\n",
       "      <td>Siemens</td>\n",
       "      <td>0.0</td>\n",
       "      <td>Shunt conductivity. Shunt admittance is :math:...</td>\n",
       "      <td>Input (optional)</td>\n",
       "      <td>True</td>\n",
       "      <td>False</td>\n",
       "      <td>&lt;class 'float'&gt;</td>\n",
       "      <td>float64</td>\n",
       "    </tr>\n",
       "    <tr>\n",
       "      <th>b</th>\n",
       "      <td>float</td>\n",
       "      <td>Siemens</td>\n",
       "      <td>0.0</td>\n",
       "      <td>Shunt susceptance. If the line has shunt capac...</td>\n",
       "      <td>Input (optional)</td>\n",
       "      <td>True</td>\n",
       "      <td>False</td>\n",
       "      <td>&lt;class 'float'&gt;</td>\n",
       "      <td>float64</td>\n",
       "    </tr>\n",
       "    <tr>\n",
       "      <th>s_nom</th>\n",
       "      <td>float</td>\n",
       "      <td>MVA</td>\n",
       "      <td>0.0</td>\n",
       "      <td>Limit of apparent power which can pass through...</td>\n",
       "      <td>Input (optional)</td>\n",
       "      <td>True</td>\n",
       "      <td>False</td>\n",
       "      <td>&lt;class 'float'&gt;</td>\n",
       "      <td>float64</td>\n",
       "    </tr>\n",
       "    <tr>\n",
       "      <th>s_nom_mod</th>\n",
       "      <td>float</td>\n",
       "      <td>MVA</td>\n",
       "      <td>0.0</td>\n",
       "      <td>Unit size of line expansion of ``s_nom``.</td>\n",
       "      <td>Input (optional)</td>\n",
       "      <td>True</td>\n",
       "      <td>False</td>\n",
       "      <td>&lt;class 'float'&gt;</td>\n",
       "      <td>float64</td>\n",
       "    </tr>\n",
       "    <tr>\n",
       "      <th>s_nom_extendable</th>\n",
       "      <td>boolean</td>\n",
       "      <td>NaN</td>\n",
       "      <td>False</td>\n",
       "      <td>Switch to allow capacity s_nom to be extended ...</td>\n",
       "      <td>Input (optional)</td>\n",
       "      <td>True</td>\n",
       "      <td>False</td>\n",
       "      <td>&lt;class 'bool'&gt;</td>\n",
       "      <td>bool</td>\n",
       "    </tr>\n",
       "    <tr>\n",
       "      <th>s_nom_min</th>\n",
       "      <td>float</td>\n",
       "      <td>MVA</td>\n",
       "      <td>0.0</td>\n",
       "      <td>If s_nom is extendable in OPF, set its minimum...</td>\n",
       "      <td>Input (optional)</td>\n",
       "      <td>True</td>\n",
       "      <td>False</td>\n",
       "      <td>&lt;class 'float'&gt;</td>\n",
       "      <td>float64</td>\n",
       "    </tr>\n",
       "    <tr>\n",
       "      <th>s_nom_max</th>\n",
       "      <td>float</td>\n",
       "      <td>MVA</td>\n",
       "      <td>inf</td>\n",
       "      <td>If s_nom is extendable in OPF, set its maximum...</td>\n",
       "      <td>Input (optional)</td>\n",
       "      <td>True</td>\n",
       "      <td>False</td>\n",
       "      <td>&lt;class 'float'&gt;</td>\n",
       "      <td>float64</td>\n",
       "    </tr>\n",
       "    <tr>\n",
       "      <th>s_max_pu</th>\n",
       "      <td>static or series</td>\n",
       "      <td>per unit</td>\n",
       "      <td>1.0</td>\n",
       "      <td>The maximum allowed absolute flow per unit of ...</td>\n",
       "      <td>Input (optional)</td>\n",
       "      <td>True</td>\n",
       "      <td>True</td>\n",
       "      <td>&lt;class 'float'&gt;</td>\n",
       "      <td>float64</td>\n",
       "    </tr>\n",
       "    <tr>\n",
       "      <th>capital_cost</th>\n",
       "      <td>float</td>\n",
       "      <td>currency/MVA</td>\n",
       "      <td>0.0</td>\n",
       "      <td>Fixed period costs of extending s_nom by 1 MVA...</td>\n",
       "      <td>Input (optional)</td>\n",
       "      <td>True</td>\n",
       "      <td>False</td>\n",
       "      <td>&lt;class 'float'&gt;</td>\n",
       "      <td>float64</td>\n",
       "    </tr>\n",
       "    <tr>\n",
       "      <th>active</th>\n",
       "      <td>boolean</td>\n",
       "      <td>NaN</td>\n",
       "      <td>True</td>\n",
       "      <td>Whether to consider the component in basic fun...</td>\n",
       "      <td>Input (optional)</td>\n",
       "      <td>True</td>\n",
       "      <td>False</td>\n",
       "      <td>&lt;class 'bool'&gt;</td>\n",
       "      <td>bool</td>\n",
       "    </tr>\n",
       "    <tr>\n",
       "      <th>build_year</th>\n",
       "      <td>int</td>\n",
       "      <td>year</td>\n",
       "      <td>0</td>\n",
       "      <td>build year</td>\n",
       "      <td>Input (optional)</td>\n",
       "      <td>True</td>\n",
       "      <td>False</td>\n",
       "      <td>&lt;class 'int'&gt;</td>\n",
       "      <td>int32</td>\n",
       "    </tr>\n",
       "    <tr>\n",
       "      <th>lifetime</th>\n",
       "      <td>float</td>\n",
       "      <td>years</td>\n",
       "      <td>inf</td>\n",
       "      <td>lifetime</td>\n",
       "      <td>Input (optional)</td>\n",
       "      <td>True</td>\n",
       "      <td>False</td>\n",
       "      <td>&lt;class 'float'&gt;</td>\n",
       "      <td>float64</td>\n",
       "    </tr>\n",
       "    <tr>\n",
       "      <th>length</th>\n",
       "      <td>float</td>\n",
       "      <td>km</td>\n",
       "      <td>0.0</td>\n",
       "      <td>Length of line used when \"type\" is set, also u...</td>\n",
       "      <td>Input (optional)</td>\n",
       "      <td>True</td>\n",
       "      <td>False</td>\n",
       "      <td>&lt;class 'float'&gt;</td>\n",
       "      <td>float64</td>\n",
       "    </tr>\n",
       "    <tr>\n",
       "      <th>carrier</th>\n",
       "      <td>string</td>\n",
       "      <td>NaN</td>\n",
       "      <td></td>\n",
       "      <td>Type of current, \"AC\" is the only valid value</td>\n",
       "      <td>Input (optional)</td>\n",
       "      <td>True</td>\n",
       "      <td>False</td>\n",
       "      <td>&lt;class 'str'&gt;</td>\n",
       "      <td>object</td>\n",
       "    </tr>\n",
       "    <tr>\n",
       "      <th>terrain_factor</th>\n",
       "      <td>float</td>\n",
       "      <td>per unit</td>\n",
       "      <td>1.0</td>\n",
       "      <td>Terrain factor for increasing capital cost.</td>\n",
       "      <td>Input (optional)</td>\n",
       "      <td>True</td>\n",
       "      <td>False</td>\n",
       "      <td>&lt;class 'float'&gt;</td>\n",
       "      <td>float64</td>\n",
       "    </tr>\n",
       "    <tr>\n",
       "      <th>num_parallel</th>\n",
       "      <td>float</td>\n",
       "      <td>NaN</td>\n",
       "      <td>1.0</td>\n",
       "      <td>When \"type\" is set, this is the number of para...</td>\n",
       "      <td>Input (optional)</td>\n",
       "      <td>True</td>\n",
       "      <td>False</td>\n",
       "      <td>&lt;class 'float'&gt;</td>\n",
       "      <td>float64</td>\n",
       "    </tr>\n",
       "    <tr>\n",
       "      <th>v_ang_min</th>\n",
       "      <td>float</td>\n",
       "      <td>Degrees</td>\n",
       "      <td>-inf</td>\n",
       "      <td>Minimum voltage angle difference across the li...</td>\n",
       "      <td>Input (optional)</td>\n",
       "      <td>True</td>\n",
       "      <td>False</td>\n",
       "      <td>&lt;class 'float'&gt;</td>\n",
       "      <td>float64</td>\n",
       "    </tr>\n",
       "    <tr>\n",
       "      <th>v_ang_max</th>\n",
       "      <td>float</td>\n",
       "      <td>Degrees</td>\n",
       "      <td>inf</td>\n",
       "      <td>Maximum voltage angle difference across the li...</td>\n",
       "      <td>Input (optional)</td>\n",
       "      <td>True</td>\n",
       "      <td>False</td>\n",
       "      <td>&lt;class 'float'&gt;</td>\n",
       "      <td>float64</td>\n",
       "    </tr>\n",
       "    <tr>\n",
       "      <th>sub_network</th>\n",
       "      <td>string</td>\n",
       "      <td>NaN</td>\n",
       "      <td></td>\n",
       "      <td>Name of connected sub-network to which lines b...</td>\n",
       "      <td>Output</td>\n",
       "      <td>True</td>\n",
       "      <td>False</td>\n",
       "      <td>&lt;class 'str'&gt;</td>\n",
       "      <td>object</td>\n",
       "    </tr>\n",
       "    <tr>\n",
       "      <th>p0</th>\n",
       "      <td>series</td>\n",
       "      <td>MW</td>\n",
       "      <td>0.0</td>\n",
       "      <td>Active power at bus0 (positive if branch is wi...</td>\n",
       "      <td>Output</td>\n",
       "      <td>False</td>\n",
       "      <td>True</td>\n",
       "      <td>&lt;class 'float'&gt;</td>\n",
       "      <td>float64</td>\n",
       "    </tr>\n",
       "    <tr>\n",
       "      <th>q0</th>\n",
       "      <td>series</td>\n",
       "      <td>MVar</td>\n",
       "      <td>0.0</td>\n",
       "      <td>Reactive power at bus0 (positive if branch is ...</td>\n",
       "      <td>Output</td>\n",
       "      <td>False</td>\n",
       "      <td>True</td>\n",
       "      <td>&lt;class 'float'&gt;</td>\n",
       "      <td>float64</td>\n",
       "    </tr>\n",
       "    <tr>\n",
       "      <th>p1</th>\n",
       "      <td>series</td>\n",
       "      <td>MW</td>\n",
       "      <td>0.0</td>\n",
       "      <td>Active power at bus1 (positive if branch is wi...</td>\n",
       "      <td>Output</td>\n",
       "      <td>False</td>\n",
       "      <td>True</td>\n",
       "      <td>&lt;class 'float'&gt;</td>\n",
       "      <td>float64</td>\n",
       "    </tr>\n",
       "    <tr>\n",
       "      <th>q1</th>\n",
       "      <td>series</td>\n",
       "      <td>MVar</td>\n",
       "      <td>0.0</td>\n",
       "      <td>Reactive power at bus1 (positive if branch is ...</td>\n",
       "      <td>Output</td>\n",
       "      <td>False</td>\n",
       "      <td>True</td>\n",
       "      <td>&lt;class 'float'&gt;</td>\n",
       "      <td>float64</td>\n",
       "    </tr>\n",
       "    <tr>\n",
       "      <th>x_pu</th>\n",
       "      <td>float</td>\n",
       "      <td>per unit</td>\n",
       "      <td>0.0</td>\n",
       "      <td>Per unit series reactance calculated by PyPSA ...</td>\n",
       "      <td>Output</td>\n",
       "      <td>True</td>\n",
       "      <td>False</td>\n",
       "      <td>&lt;class 'float'&gt;</td>\n",
       "      <td>float64</td>\n",
       "    </tr>\n",
       "    <tr>\n",
       "      <th>r_pu</th>\n",
       "      <td>float</td>\n",
       "      <td>per unit</td>\n",
       "      <td>0.0</td>\n",
       "      <td>Per unit series resistance calculated by PyPSA...</td>\n",
       "      <td>Output</td>\n",
       "      <td>True</td>\n",
       "      <td>False</td>\n",
       "      <td>&lt;class 'float'&gt;</td>\n",
       "      <td>float64</td>\n",
       "    </tr>\n",
       "    <tr>\n",
       "      <th>g_pu</th>\n",
       "      <td>float</td>\n",
       "      <td>per unit</td>\n",
       "      <td>0.0</td>\n",
       "      <td>Per unit shunt conductivity calculated by PyPS...</td>\n",
       "      <td>Output</td>\n",
       "      <td>True</td>\n",
       "      <td>False</td>\n",
       "      <td>&lt;class 'float'&gt;</td>\n",
       "      <td>float64</td>\n",
       "    </tr>\n",
       "    <tr>\n",
       "      <th>b_pu</th>\n",
       "      <td>float</td>\n",
       "      <td>per unit</td>\n",
       "      <td>0.0</td>\n",
       "      <td>Per unit shunt susceptance calculated by PyPSA...</td>\n",
       "      <td>Output</td>\n",
       "      <td>True</td>\n",
       "      <td>False</td>\n",
       "      <td>&lt;class 'float'&gt;</td>\n",
       "      <td>float64</td>\n",
       "    </tr>\n",
       "    <tr>\n",
       "      <th>x_pu_eff</th>\n",
       "      <td>float</td>\n",
       "      <td>per unit</td>\n",
       "      <td>0.0</td>\n",
       "      <td>Effective per unit series reactance for linear...</td>\n",
       "      <td>Output</td>\n",
       "      <td>True</td>\n",
       "      <td>False</td>\n",
       "      <td>&lt;class 'float'&gt;</td>\n",
       "      <td>float64</td>\n",
       "    </tr>\n",
       "    <tr>\n",
       "      <th>r_pu_eff</th>\n",
       "      <td>float</td>\n",
       "      <td>per unit</td>\n",
       "      <td>0.0</td>\n",
       "      <td>Effective per unit series resistance for linea...</td>\n",
       "      <td>Output</td>\n",
       "      <td>True</td>\n",
       "      <td>False</td>\n",
       "      <td>&lt;class 'float'&gt;</td>\n",
       "      <td>float64</td>\n",
       "    </tr>\n",
       "    <tr>\n",
       "      <th>s_nom_opt</th>\n",
       "      <td>float</td>\n",
       "      <td>MVA</td>\n",
       "      <td>0.0</td>\n",
       "      <td>Optimised capacity for apparent power.</td>\n",
       "      <td>Output</td>\n",
       "      <td>True</td>\n",
       "      <td>False</td>\n",
       "      <td>&lt;class 'float'&gt;</td>\n",
       "      <td>float64</td>\n",
       "    </tr>\n",
       "    <tr>\n",
       "      <th>mu_lower</th>\n",
       "      <td>series</td>\n",
       "      <td>currency/MVA</td>\n",
       "      <td>0.0</td>\n",
       "      <td>Shadow price of lower s_nom limit  -F \\leq f. ...</td>\n",
       "      <td>Output</td>\n",
       "      <td>False</td>\n",
       "      <td>True</td>\n",
       "      <td>&lt;class 'float'&gt;</td>\n",
       "      <td>float64</td>\n",
       "    </tr>\n",
       "    <tr>\n",
       "      <th>mu_upper</th>\n",
       "      <td>series</td>\n",
       "      <td>currency/MVA</td>\n",
       "      <td>0.0</td>\n",
       "      <td>Shadow price of upper s_nom limit f \\leq F. Al...</td>\n",
       "      <td>Output</td>\n",
       "      <td>False</td>\n",
       "      <td>True</td>\n",
       "      <td>&lt;class 'float'&gt;</td>\n",
       "      <td>float64</td>\n",
       "    </tr>\n",
       "  </tbody>\n",
       "</table>\n",
       "</div>"
      ],
      "text/plain": [
       "                              type          unit default  \\\n",
       "attribute                                                  \n",
       "name                        string           NaN           \n",
       "bus0                        string           NaN           \n",
       "bus1                        string           NaN           \n",
       "type                        string           NaN           \n",
       "x                            float           Ohm     0.0   \n",
       "r                            float           Ohm     0.0   \n",
       "g                            float       Siemens     0.0   \n",
       "b                            float       Siemens     0.0   \n",
       "s_nom                        float           MVA     0.0   \n",
       "s_nom_mod                    float           MVA     0.0   \n",
       "s_nom_extendable           boolean           NaN   False   \n",
       "s_nom_min                    float           MVA     0.0   \n",
       "s_nom_max                    float           MVA     inf   \n",
       "s_max_pu          static or series      per unit     1.0   \n",
       "capital_cost                 float  currency/MVA     0.0   \n",
       "active                     boolean           NaN    True   \n",
       "build_year                     int          year       0   \n",
       "lifetime                     float         years     inf   \n",
       "length                       float            km     0.0   \n",
       "carrier                     string           NaN           \n",
       "terrain_factor               float      per unit     1.0   \n",
       "num_parallel                 float           NaN     1.0   \n",
       "v_ang_min                    float       Degrees    -inf   \n",
       "v_ang_max                    float       Degrees     inf   \n",
       "sub_network                 string           NaN           \n",
       "p0                          series            MW     0.0   \n",
       "q0                          series          MVar     0.0   \n",
       "p1                          series            MW     0.0   \n",
       "q1                          series          MVar     0.0   \n",
       "x_pu                         float      per unit     0.0   \n",
       "r_pu                         float      per unit     0.0   \n",
       "g_pu                         float      per unit     0.0   \n",
       "b_pu                         float      per unit     0.0   \n",
       "x_pu_eff                     float      per unit     0.0   \n",
       "r_pu_eff                     float      per unit     0.0   \n",
       "s_nom_opt                    float           MVA     0.0   \n",
       "mu_lower                    series  currency/MVA     0.0   \n",
       "mu_upper                    series  currency/MVA     0.0   \n",
       "\n",
       "                                                        description  \\\n",
       "attribute                                                             \n",
       "name                                                    Unique name   \n",
       "bus0                 Name of first bus to which branch is attached.   \n",
       "bus1                Name of second bus to which branch is attached.   \n",
       "type              Name of line standard type. If this is not an ...   \n",
       "x                 Series reactance, must be non-zero for AC bran...   \n",
       "r                 Series resistance, must be non-zero for DC bra...   \n",
       "g                 Shunt conductivity. Shunt admittance is :math:...   \n",
       "b                 Shunt susceptance. If the line has shunt capac...   \n",
       "s_nom             Limit of apparent power which can pass through...   \n",
       "s_nom_mod                 Unit size of line expansion of ``s_nom``.   \n",
       "s_nom_extendable  Switch to allow capacity s_nom to be extended ...   \n",
       "s_nom_min         If s_nom is extendable in OPF, set its minimum...   \n",
       "s_nom_max         If s_nom is extendable in OPF, set its maximum...   \n",
       "s_max_pu          The maximum allowed absolute flow per unit of ...   \n",
       "capital_cost      Fixed period costs of extending s_nom by 1 MVA...   \n",
       "active            Whether to consider the component in basic fun...   \n",
       "build_year                                               build year   \n",
       "lifetime                                                   lifetime   \n",
       "length            Length of line used when \"type\" is set, also u...   \n",
       "carrier               Type of current, \"AC\" is the only valid value   \n",
       "terrain_factor          Terrain factor for increasing capital cost.   \n",
       "num_parallel      When \"type\" is set, this is the number of para...   \n",
       "v_ang_min         Minimum voltage angle difference across the li...   \n",
       "v_ang_max         Maximum voltage angle difference across the li...   \n",
       "sub_network       Name of connected sub-network to which lines b...   \n",
       "p0                Active power at bus0 (positive if branch is wi...   \n",
       "q0                Reactive power at bus0 (positive if branch is ...   \n",
       "p1                Active power at bus1 (positive if branch is wi...   \n",
       "q1                Reactive power at bus1 (positive if branch is ...   \n",
       "x_pu              Per unit series reactance calculated by PyPSA ...   \n",
       "r_pu              Per unit series resistance calculated by PyPSA...   \n",
       "g_pu              Per unit shunt conductivity calculated by PyPS...   \n",
       "b_pu              Per unit shunt susceptance calculated by PyPSA...   \n",
       "x_pu_eff          Effective per unit series reactance for linear...   \n",
       "r_pu_eff          Effective per unit series resistance for linea...   \n",
       "s_nom_opt                    Optimised capacity for apparent power.   \n",
       "mu_lower          Shadow price of lower s_nom limit  -F \\leq f. ...   \n",
       "mu_upper          Shadow price of upper s_nom limit f \\leq F. Al...   \n",
       "\n",
       "                            status  static  varying              typ    dtype  \n",
       "attribute                                                                      \n",
       "name              Input (required)    True    False    <class 'str'>   object  \n",
       "bus0              Input (required)    True    False    <class 'str'>   object  \n",
       "bus1              Input (required)    True    False    <class 'str'>   object  \n",
       "type              Input (optional)    True    False    <class 'str'>   object  \n",
       "x                 Input (required)    True    False  <class 'float'>  float64  \n",
       "r                 Input (required)    True    False  <class 'float'>  float64  \n",
       "g                 Input (optional)    True    False  <class 'float'>  float64  \n",
       "b                 Input (optional)    True    False  <class 'float'>  float64  \n",
       "s_nom             Input (optional)    True    False  <class 'float'>  float64  \n",
       "s_nom_mod         Input (optional)    True    False  <class 'float'>  float64  \n",
       "s_nom_extendable  Input (optional)    True    False   <class 'bool'>     bool  \n",
       "s_nom_min         Input (optional)    True    False  <class 'float'>  float64  \n",
       "s_nom_max         Input (optional)    True    False  <class 'float'>  float64  \n",
       "s_max_pu          Input (optional)    True     True  <class 'float'>  float64  \n",
       "capital_cost      Input (optional)    True    False  <class 'float'>  float64  \n",
       "active            Input (optional)    True    False   <class 'bool'>     bool  \n",
       "build_year        Input (optional)    True    False    <class 'int'>    int32  \n",
       "lifetime          Input (optional)    True    False  <class 'float'>  float64  \n",
       "length            Input (optional)    True    False  <class 'float'>  float64  \n",
       "carrier           Input (optional)    True    False    <class 'str'>   object  \n",
       "terrain_factor    Input (optional)    True    False  <class 'float'>  float64  \n",
       "num_parallel      Input (optional)    True    False  <class 'float'>  float64  \n",
       "v_ang_min         Input (optional)    True    False  <class 'float'>  float64  \n",
       "v_ang_max         Input (optional)    True    False  <class 'float'>  float64  \n",
       "sub_network                 Output    True    False    <class 'str'>   object  \n",
       "p0                          Output   False     True  <class 'float'>  float64  \n",
       "q0                          Output   False     True  <class 'float'>  float64  \n",
       "p1                          Output   False     True  <class 'float'>  float64  \n",
       "q1                          Output   False     True  <class 'float'>  float64  \n",
       "x_pu                        Output    True    False  <class 'float'>  float64  \n",
       "r_pu                        Output    True    False  <class 'float'>  float64  \n",
       "g_pu                        Output    True    False  <class 'float'>  float64  \n",
       "b_pu                        Output    True    False  <class 'float'>  float64  \n",
       "x_pu_eff                    Output    True    False  <class 'float'>  float64  \n",
       "r_pu_eff                    Output    True    False  <class 'float'>  float64  \n",
       "s_nom_opt                   Output    True    False  <class 'float'>  float64  \n",
       "mu_lower                    Output   False     True  <class 'float'>  float64  \n",
       "mu_upper                    Output   False     True  <class 'float'>  float64  "
      ]
     },
     "execution_count": 148,
     "metadata": {},
     "output_type": "execute_result"
    }
   ],
   "source": [
    "network.component_attrs['Line']"
   ]
  },
  {
   "cell_type": "markdown",
   "metadata": {},
   "source": [
    "Each component is also given a label `list_name` which is the label used to access the dataset. "
   ]
  },
  {
   "cell_type": "code",
   "execution_count": 149,
   "metadata": {},
   "outputs": [
    {
     "data": {
      "text/plain": [
       "PyPSA Components Store\n",
       "======================\n",
       "- PyPSA 'SubNetwork' Components\n",
       "- PyPSA 'Bus' Components\n",
       "- PyPSA 'Carrier' Components\n",
       "- PyPSA 'GlobalConstraint' Components\n",
       "- PyPSA 'Line' Components\n",
       "- PyPSA 'LineType' Components\n",
       "- PyPSA 'Transformer' Components\n",
       "- PyPSA 'TransformerType' Components\n",
       "- PyPSA 'Link' Components\n",
       "- PyPSA 'Load' Components\n",
       "- PyPSA 'Generator' Components\n",
       "- PyPSA 'StorageUnit' Components\n",
       "- PyPSA 'Store' Components\n",
       "- PyPSA 'ShuntImpedance' Components\n",
       "- PyPSA 'Shape' Components"
      ]
     },
     "execution_count": 149,
     "metadata": {},
     "output_type": "execute_result"
    }
   ],
   "source": [
    "network.components"
   ]
  },
  {
   "cell_type": "code",
   "execution_count": 150,
   "metadata": {},
   "outputs": [
    {
     "name": "stdout",
     "output_type": "stream",
     "text": [
      "SubNetwork           sub_networks\n",
      "Bus                  buses\n",
      "Carrier              carriers\n",
      "GlobalConstraint     global_constraints\n",
      "Line                 lines\n",
      "LineType             line_types\n",
      "Transformer          transformers\n",
      "TransformerType      transformer_types\n",
      "Link                 links\n",
      "Load                 loads\n",
      "Generator            generators\n",
      "StorageUnit          storage_units\n",
      "Store                stores\n",
      "ShuntImpedance       shunt_impedances\n",
      "Shape                shapes\n"
     ]
    }
   ],
   "source": [
    "for key in network.component_attrs:\n",
    "    print(f'{key.ljust(20)} {network.components[key][\"list_name\"]}')\n"
   ]
  },
  {
   "cell_type": "markdown",
   "metadata": {},
   "source": [
    "To access the dataset: "
   ]
  },
  {
   "cell_type": "code",
   "execution_count": 151,
   "metadata": {},
   "outputs": [
    {
     "data": {
      "application/vnd.microsoft.datawrangler.viewer.v0+json": {
       "columns": [
        {
         "name": "Bus",
         "rawType": "int64",
         "type": "integer"
        },
        {
         "name": "v_nom",
         "rawType": "float64",
         "type": "float"
        },
        {
         "name": "type",
         "rawType": "object",
         "type": "string"
        },
        {
         "name": "x",
         "rawType": "float64",
         "type": "float"
        },
        {
         "name": "y",
         "rawType": "float64",
         "type": "float"
        },
        {
         "name": "carrier",
         "rawType": "object",
         "type": "string"
        },
        {
         "name": "unit",
         "rawType": "object",
         "type": "string"
        },
        {
         "name": "v_mag_pu_set",
         "rawType": "float64",
         "type": "float"
        },
        {
         "name": "v_mag_pu_min",
         "rawType": "float64",
         "type": "float"
        },
        {
         "name": "v_mag_pu_max",
         "rawType": "float64",
         "type": "float"
        },
        {
         "name": "control",
         "rawType": "object",
         "type": "string"
        },
        {
         "name": "generator",
         "rawType": "object",
         "type": "string"
        },
        {
         "name": "sub_network",
         "rawType": "object",
         "type": "string"
        }
       ],
       "conversionMethod": "pd.DataFrame",
       "ref": "7ece3b22-6cfc-40bf-9b20-0c53678ab8e2",
       "rows": [],
       "shape": {
        "columns": 12,
        "rows": 0
       }
      },
      "text/html": [
       "<div>\n",
       "<style scoped>\n",
       "    .dataframe tbody tr th:only-of-type {\n",
       "        vertical-align: middle;\n",
       "    }\n",
       "\n",
       "    .dataframe tbody tr th {\n",
       "        vertical-align: top;\n",
       "    }\n",
       "\n",
       "    .dataframe thead th {\n",
       "        text-align: right;\n",
       "    }\n",
       "</style>\n",
       "<table border=\"1\" class=\"dataframe\">\n",
       "  <thead>\n",
       "    <tr style=\"text-align: right;\">\n",
       "      <th>attribute</th>\n",
       "      <th>v_nom</th>\n",
       "      <th>type</th>\n",
       "      <th>x</th>\n",
       "      <th>y</th>\n",
       "      <th>carrier</th>\n",
       "      <th>unit</th>\n",
       "      <th>v_mag_pu_set</th>\n",
       "      <th>v_mag_pu_min</th>\n",
       "      <th>v_mag_pu_max</th>\n",
       "      <th>control</th>\n",
       "      <th>generator</th>\n",
       "      <th>sub_network</th>\n",
       "    </tr>\n",
       "    <tr>\n",
       "      <th>Bus</th>\n",
       "      <th></th>\n",
       "      <th></th>\n",
       "      <th></th>\n",
       "      <th></th>\n",
       "      <th></th>\n",
       "      <th></th>\n",
       "      <th></th>\n",
       "      <th></th>\n",
       "      <th></th>\n",
       "      <th></th>\n",
       "      <th></th>\n",
       "      <th></th>\n",
       "    </tr>\n",
       "  </thead>\n",
       "  <tbody>\n",
       "  </tbody>\n",
       "</table>\n",
       "</div>"
      ],
      "text/plain": [
       "Empty DataFrame\n",
       "Columns: [v_nom, type, x, y, carrier, unit, v_mag_pu_set, v_mag_pu_min, v_mag_pu_max, control, generator, sub_network]\n",
       "Index: []"
      ]
     },
     "execution_count": 151,
     "metadata": {},
     "output_type": "execute_result"
    }
   ],
   "source": [
    "network.buses"
   ]
  },
  {
   "cell_type": "code",
   "execution_count": 152,
   "metadata": {},
   "outputs": [
    {
     "data": {
      "application/vnd.microsoft.datawrangler.viewer.v0+json": {
       "columns": [
        {
         "name": "Generator",
         "rawType": "int64",
         "type": "integer"
        },
        {
         "name": "bus",
         "rawType": "object",
         "type": "string"
        },
        {
         "name": "control",
         "rawType": "object",
         "type": "string"
        },
        {
         "name": "type",
         "rawType": "object",
         "type": "string"
        },
        {
         "name": "p_nom",
         "rawType": "float64",
         "type": "float"
        },
        {
         "name": "p_nom_mod",
         "rawType": "float64",
         "type": "float"
        },
        {
         "name": "p_nom_extendable",
         "rawType": "bool",
         "type": "boolean"
        },
        {
         "name": "p_nom_min",
         "rawType": "float64",
         "type": "float"
        },
        {
         "name": "p_nom_max",
         "rawType": "float64",
         "type": "float"
        },
        {
         "name": "p_min_pu",
         "rawType": "float64",
         "type": "float"
        },
        {
         "name": "p_max_pu",
         "rawType": "float64",
         "type": "float"
        },
        {
         "name": "p_set",
         "rawType": "float64",
         "type": "float"
        },
        {
         "name": "e_sum_min",
         "rawType": "float64",
         "type": "float"
        },
        {
         "name": "e_sum_max",
         "rawType": "float64",
         "type": "float"
        },
        {
         "name": "q_set",
         "rawType": "float64",
         "type": "float"
        },
        {
         "name": "sign",
         "rawType": "float64",
         "type": "float"
        },
        {
         "name": "carrier",
         "rawType": "object",
         "type": "string"
        },
        {
         "name": "marginal_cost",
         "rawType": "float64",
         "type": "float"
        },
        {
         "name": "marginal_cost_quadratic",
         "rawType": "float64",
         "type": "float"
        },
        {
         "name": "active",
         "rawType": "bool",
         "type": "boolean"
        },
        {
         "name": "build_year",
         "rawType": "int32",
         "type": "integer"
        },
        {
         "name": "lifetime",
         "rawType": "float64",
         "type": "float"
        },
        {
         "name": "capital_cost",
         "rawType": "float64",
         "type": "float"
        },
        {
         "name": "efficiency",
         "rawType": "float64",
         "type": "float"
        },
        {
         "name": "committable",
         "rawType": "bool",
         "type": "boolean"
        },
        {
         "name": "start_up_cost",
         "rawType": "float64",
         "type": "float"
        },
        {
         "name": "shut_down_cost",
         "rawType": "float64",
         "type": "float"
        },
        {
         "name": "stand_by_cost",
         "rawType": "float64",
         "type": "float"
        },
        {
         "name": "min_up_time",
         "rawType": "int32",
         "type": "integer"
        },
        {
         "name": "min_down_time",
         "rawType": "int32",
         "type": "integer"
        },
        {
         "name": "up_time_before",
         "rawType": "int32",
         "type": "integer"
        },
        {
         "name": "down_time_before",
         "rawType": "int32",
         "type": "integer"
        },
        {
         "name": "ramp_limit_up",
         "rawType": "float64",
         "type": "float"
        },
        {
         "name": "ramp_limit_down",
         "rawType": "float64",
         "type": "float"
        },
        {
         "name": "ramp_limit_start_up",
         "rawType": "float64",
         "type": "float"
        },
        {
         "name": "ramp_limit_shut_down",
         "rawType": "float64",
         "type": "float"
        },
        {
         "name": "weight",
         "rawType": "float64",
         "type": "float"
        },
        {
         "name": "p_nom_opt",
         "rawType": "float64",
         "type": "float"
        }
       ],
       "conversionMethod": "pd.DataFrame",
       "ref": "69606e02-a5a5-4153-8483-f09fe0b6be2e",
       "rows": [],
       "shape": {
        "columns": 37,
        "rows": 0
       }
      },
      "text/html": [
       "<div>\n",
       "<style scoped>\n",
       "    .dataframe tbody tr th:only-of-type {\n",
       "        vertical-align: middle;\n",
       "    }\n",
       "\n",
       "    .dataframe tbody tr th {\n",
       "        vertical-align: top;\n",
       "    }\n",
       "\n",
       "    .dataframe thead th {\n",
       "        text-align: right;\n",
       "    }\n",
       "</style>\n",
       "<table border=\"1\" class=\"dataframe\">\n",
       "  <thead>\n",
       "    <tr style=\"text-align: right;\">\n",
       "      <th>attribute</th>\n",
       "      <th>bus</th>\n",
       "      <th>control</th>\n",
       "      <th>type</th>\n",
       "      <th>p_nom</th>\n",
       "      <th>p_nom_mod</th>\n",
       "      <th>p_nom_extendable</th>\n",
       "      <th>p_nom_min</th>\n",
       "      <th>p_nom_max</th>\n",
       "      <th>p_min_pu</th>\n",
       "      <th>p_max_pu</th>\n",
       "      <th>...</th>\n",
       "      <th>min_up_time</th>\n",
       "      <th>min_down_time</th>\n",
       "      <th>up_time_before</th>\n",
       "      <th>down_time_before</th>\n",
       "      <th>ramp_limit_up</th>\n",
       "      <th>ramp_limit_down</th>\n",
       "      <th>ramp_limit_start_up</th>\n",
       "      <th>ramp_limit_shut_down</th>\n",
       "      <th>weight</th>\n",
       "      <th>p_nom_opt</th>\n",
       "    </tr>\n",
       "    <tr>\n",
       "      <th>Generator</th>\n",
       "      <th></th>\n",
       "      <th></th>\n",
       "      <th></th>\n",
       "      <th></th>\n",
       "      <th></th>\n",
       "      <th></th>\n",
       "      <th></th>\n",
       "      <th></th>\n",
       "      <th></th>\n",
       "      <th></th>\n",
       "      <th></th>\n",
       "      <th></th>\n",
       "      <th></th>\n",
       "      <th></th>\n",
       "      <th></th>\n",
       "      <th></th>\n",
       "      <th></th>\n",
       "      <th></th>\n",
       "      <th></th>\n",
       "      <th></th>\n",
       "      <th></th>\n",
       "    </tr>\n",
       "  </thead>\n",
       "  <tbody>\n",
       "  </tbody>\n",
       "</table>\n",
       "<p>0 rows × 37 columns</p>\n",
       "</div>"
      ],
      "text/plain": [
       "Empty DataFrame\n",
       "Columns: [bus, control, type, p_nom, p_nom_mod, p_nom_extendable, p_nom_min, p_nom_max, p_min_pu, p_max_pu, p_set, e_sum_min, e_sum_max, q_set, sign, carrier, marginal_cost, marginal_cost_quadratic, active, build_year, lifetime, capital_cost, efficiency, committable, start_up_cost, shut_down_cost, stand_by_cost, min_up_time, min_down_time, up_time_before, down_time_before, ramp_limit_up, ramp_limit_down, ramp_limit_start_up, ramp_limit_shut_down, weight, p_nom_opt]\n",
       "Index: []\n",
       "\n",
       "[0 rows x 37 columns]"
      ]
     },
     "execution_count": 152,
     "metadata": {},
     "output_type": "execute_result"
    }
   ],
   "source": [
    "network.generators"
   ]
  },
  {
   "cell_type": "code",
   "execution_count": 153,
   "metadata": {},
   "outputs": [
    {
     "data": {
      "application/vnd.microsoft.datawrangler.viewer.v0+json": {
       "columns": [
        {
         "name": "Link",
         "rawType": "int64",
         "type": "integer"
        },
        {
         "name": "bus0",
         "rawType": "object",
         "type": "string"
        },
        {
         "name": "bus1",
         "rawType": "object",
         "type": "string"
        },
        {
         "name": "type",
         "rawType": "object",
         "type": "string"
        },
        {
         "name": "carrier",
         "rawType": "object",
         "type": "string"
        },
        {
         "name": "efficiency",
         "rawType": "float64",
         "type": "float"
        },
        {
         "name": "active",
         "rawType": "bool",
         "type": "boolean"
        },
        {
         "name": "build_year",
         "rawType": "int32",
         "type": "integer"
        },
        {
         "name": "lifetime",
         "rawType": "float64",
         "type": "float"
        },
        {
         "name": "p_nom",
         "rawType": "float64",
         "type": "float"
        },
        {
         "name": "p_nom_mod",
         "rawType": "float64",
         "type": "float"
        },
        {
         "name": "p_nom_extendable",
         "rawType": "bool",
         "type": "boolean"
        },
        {
         "name": "p_nom_min",
         "rawType": "float64",
         "type": "float"
        },
        {
         "name": "p_nom_max",
         "rawType": "float64",
         "type": "float"
        },
        {
         "name": "p_set",
         "rawType": "float64",
         "type": "float"
        },
        {
         "name": "p_min_pu",
         "rawType": "float64",
         "type": "float"
        },
        {
         "name": "p_max_pu",
         "rawType": "float64",
         "type": "float"
        },
        {
         "name": "capital_cost",
         "rawType": "float64",
         "type": "float"
        },
        {
         "name": "marginal_cost",
         "rawType": "float64",
         "type": "float"
        },
        {
         "name": "marginal_cost_quadratic",
         "rawType": "float64",
         "type": "float"
        },
        {
         "name": "stand_by_cost",
         "rawType": "float64",
         "type": "float"
        },
        {
         "name": "length",
         "rawType": "float64",
         "type": "float"
        },
        {
         "name": "terrain_factor",
         "rawType": "float64",
         "type": "float"
        },
        {
         "name": "committable",
         "rawType": "bool",
         "type": "boolean"
        },
        {
         "name": "start_up_cost",
         "rawType": "float64",
         "type": "float"
        },
        {
         "name": "shut_down_cost",
         "rawType": "float64",
         "type": "float"
        },
        {
         "name": "min_up_time",
         "rawType": "int32",
         "type": "integer"
        },
        {
         "name": "min_down_time",
         "rawType": "int32",
         "type": "integer"
        },
        {
         "name": "up_time_before",
         "rawType": "int32",
         "type": "integer"
        },
        {
         "name": "down_time_before",
         "rawType": "int32",
         "type": "integer"
        },
        {
         "name": "ramp_limit_up",
         "rawType": "float64",
         "type": "float"
        },
        {
         "name": "ramp_limit_down",
         "rawType": "float64",
         "type": "float"
        },
        {
         "name": "ramp_limit_start_up",
         "rawType": "float64",
         "type": "float"
        },
        {
         "name": "ramp_limit_shut_down",
         "rawType": "float64",
         "type": "float"
        },
        {
         "name": "p_nom_opt",
         "rawType": "float64",
         "type": "float"
        }
       ],
       "conversionMethod": "pd.DataFrame",
       "ref": "cf2f167b-bbc0-41db-84de-fe002aaafcb9",
       "rows": [],
       "shape": {
        "columns": 34,
        "rows": 0
       }
      },
      "text/html": [
       "<div>\n",
       "<style scoped>\n",
       "    .dataframe tbody tr th:only-of-type {\n",
       "        vertical-align: middle;\n",
       "    }\n",
       "\n",
       "    .dataframe tbody tr th {\n",
       "        vertical-align: top;\n",
       "    }\n",
       "\n",
       "    .dataframe thead th {\n",
       "        text-align: right;\n",
       "    }\n",
       "</style>\n",
       "<table border=\"1\" class=\"dataframe\">\n",
       "  <thead>\n",
       "    <tr style=\"text-align: right;\">\n",
       "      <th>attribute</th>\n",
       "      <th>bus0</th>\n",
       "      <th>bus1</th>\n",
       "      <th>type</th>\n",
       "      <th>carrier</th>\n",
       "      <th>efficiency</th>\n",
       "      <th>active</th>\n",
       "      <th>build_year</th>\n",
       "      <th>lifetime</th>\n",
       "      <th>p_nom</th>\n",
       "      <th>p_nom_mod</th>\n",
       "      <th>...</th>\n",
       "      <th>shut_down_cost</th>\n",
       "      <th>min_up_time</th>\n",
       "      <th>min_down_time</th>\n",
       "      <th>up_time_before</th>\n",
       "      <th>down_time_before</th>\n",
       "      <th>ramp_limit_up</th>\n",
       "      <th>ramp_limit_down</th>\n",
       "      <th>ramp_limit_start_up</th>\n",
       "      <th>ramp_limit_shut_down</th>\n",
       "      <th>p_nom_opt</th>\n",
       "    </tr>\n",
       "    <tr>\n",
       "      <th>Link</th>\n",
       "      <th></th>\n",
       "      <th></th>\n",
       "      <th></th>\n",
       "      <th></th>\n",
       "      <th></th>\n",
       "      <th></th>\n",
       "      <th></th>\n",
       "      <th></th>\n",
       "      <th></th>\n",
       "      <th></th>\n",
       "      <th></th>\n",
       "      <th></th>\n",
       "      <th></th>\n",
       "      <th></th>\n",
       "      <th></th>\n",
       "      <th></th>\n",
       "      <th></th>\n",
       "      <th></th>\n",
       "      <th></th>\n",
       "      <th></th>\n",
       "      <th></th>\n",
       "    </tr>\n",
       "  </thead>\n",
       "  <tbody>\n",
       "  </tbody>\n",
       "</table>\n",
       "<p>0 rows × 34 columns</p>\n",
       "</div>"
      ],
      "text/plain": [
       "Empty DataFrame\n",
       "Columns: [bus0, bus1, type, carrier, efficiency, active, build_year, lifetime, p_nom, p_nom_mod, p_nom_extendable, p_nom_min, p_nom_max, p_set, p_min_pu, p_max_pu, capital_cost, marginal_cost, marginal_cost_quadratic, stand_by_cost, length, terrain_factor, committable, start_up_cost, shut_down_cost, min_up_time, min_down_time, up_time_before, down_time_before, ramp_limit_up, ramp_limit_down, ramp_limit_start_up, ramp_limit_shut_down, p_nom_opt]\n",
       "Index: []\n",
       "\n",
       "[0 rows x 34 columns]"
      ]
     },
     "execution_count": 153,
     "metadata": {},
     "output_type": "execute_result"
    }
   ],
   "source": [
    "network.links"
   ]
  },
  {
   "cell_type": "code",
   "execution_count": 154,
   "metadata": {},
   "outputs": [
    {
     "data": {
      "application/vnd.microsoft.datawrangler.viewer.v0+json": {
       "columns": [
        {
         "name": "Load",
         "rawType": "int64",
         "type": "integer"
        },
        {
         "name": "bus",
         "rawType": "object",
         "type": "string"
        },
        {
         "name": "carrier",
         "rawType": "object",
         "type": "string"
        },
        {
         "name": "type",
         "rawType": "object",
         "type": "string"
        },
        {
         "name": "p_set",
         "rawType": "float64",
         "type": "float"
        },
        {
         "name": "q_set",
         "rawType": "float64",
         "type": "float"
        },
        {
         "name": "sign",
         "rawType": "float64",
         "type": "float"
        },
        {
         "name": "active",
         "rawType": "bool",
         "type": "boolean"
        }
       ],
       "conversionMethod": "pd.DataFrame",
       "ref": "75c4fc78-393c-4e47-9a3a-b76b2f63191a",
       "rows": [],
       "shape": {
        "columns": 7,
        "rows": 0
       }
      },
      "text/html": [
       "<div>\n",
       "<style scoped>\n",
       "    .dataframe tbody tr th:only-of-type {\n",
       "        vertical-align: middle;\n",
       "    }\n",
       "\n",
       "    .dataframe tbody tr th {\n",
       "        vertical-align: top;\n",
       "    }\n",
       "\n",
       "    .dataframe thead th {\n",
       "        text-align: right;\n",
       "    }\n",
       "</style>\n",
       "<table border=\"1\" class=\"dataframe\">\n",
       "  <thead>\n",
       "    <tr style=\"text-align: right;\">\n",
       "      <th>attribute</th>\n",
       "      <th>bus</th>\n",
       "      <th>carrier</th>\n",
       "      <th>type</th>\n",
       "      <th>p_set</th>\n",
       "      <th>q_set</th>\n",
       "      <th>sign</th>\n",
       "      <th>active</th>\n",
       "    </tr>\n",
       "    <tr>\n",
       "      <th>Load</th>\n",
       "      <th></th>\n",
       "      <th></th>\n",
       "      <th></th>\n",
       "      <th></th>\n",
       "      <th></th>\n",
       "      <th></th>\n",
       "      <th></th>\n",
       "    </tr>\n",
       "  </thead>\n",
       "  <tbody>\n",
       "  </tbody>\n",
       "</table>\n",
       "</div>"
      ],
      "text/plain": [
       "Empty DataFrame\n",
       "Columns: [bus, carrier, type, p_set, q_set, sign, active]\n",
       "Index: []"
      ]
     },
     "execution_count": 154,
     "metadata": {},
     "output_type": "execute_result"
    }
   ],
   "source": [
    "network.loads"
   ]
  },
  {
   "cell_type": "code",
   "execution_count": 155,
   "metadata": {},
   "outputs": [
    {
     "data": {
      "application/vnd.microsoft.datawrangler.viewer.v0+json": {
       "columns": [
        {
         "name": "snapshot",
         "rawType": "object",
         "type": "string"
        }
       ],
       "conversionMethod": "pd.DataFrame",
       "ref": "aa28f4ac-752a-406b-942a-fa4de4cf97f6",
       "rows": [
        [
         "now"
        ]
       ],
       "shape": {
        "columns": 0,
        "rows": 1
       }
      },
      "text/html": [
       "<div>\n",
       "<style scoped>\n",
       "    .dataframe tbody tr th:only-of-type {\n",
       "        vertical-align: middle;\n",
       "    }\n",
       "\n",
       "    .dataframe tbody tr th {\n",
       "        vertical-align: top;\n",
       "    }\n",
       "\n",
       "    .dataframe thead th {\n",
       "        text-align: right;\n",
       "    }\n",
       "</style>\n",
       "<table border=\"1\" class=\"dataframe\">\n",
       "  <thead>\n",
       "    <tr style=\"text-align: right;\">\n",
       "      <th>Generator</th>\n",
       "    </tr>\n",
       "    <tr>\n",
       "      <th>snapshot</th>\n",
       "    </tr>\n",
       "  </thead>\n",
       "  <tbody>\n",
       "    <tr>\n",
       "      <th>now</th>\n",
       "    </tr>\n",
       "  </tbody>\n",
       "</table>\n",
       "</div>"
      ],
      "text/plain": [
       "Empty DataFrame\n",
       "Columns: []\n",
       "Index: [now]"
      ]
     },
     "execution_count": 155,
     "metadata": {},
     "output_type": "execute_result"
    }
   ],
   "source": [
    "network.generators_t.p"
   ]
  },
  {
   "cell_type": "code",
   "execution_count": 156,
   "metadata": {},
   "outputs": [
    {
     "data": {
      "application/vnd.microsoft.datawrangler.viewer.v0+json": {
       "columns": [
        {
         "name": "Line",
         "rawType": "int64",
         "type": "integer"
        },
        {
         "name": "bus0",
         "rawType": "object",
         "type": "string"
        },
        {
         "name": "bus1",
         "rawType": "object",
         "type": "string"
        },
        {
         "name": "type",
         "rawType": "object",
         "type": "string"
        },
        {
         "name": "x",
         "rawType": "float64",
         "type": "float"
        },
        {
         "name": "r",
         "rawType": "float64",
         "type": "float"
        },
        {
         "name": "g",
         "rawType": "float64",
         "type": "float"
        },
        {
         "name": "b",
         "rawType": "float64",
         "type": "float"
        },
        {
         "name": "s_nom",
         "rawType": "float64",
         "type": "float"
        },
        {
         "name": "s_nom_mod",
         "rawType": "float64",
         "type": "float"
        },
        {
         "name": "s_nom_extendable",
         "rawType": "bool",
         "type": "boolean"
        },
        {
         "name": "s_nom_min",
         "rawType": "float64",
         "type": "float"
        },
        {
         "name": "s_nom_max",
         "rawType": "float64",
         "type": "float"
        },
        {
         "name": "s_max_pu",
         "rawType": "float64",
         "type": "float"
        },
        {
         "name": "capital_cost",
         "rawType": "float64",
         "type": "float"
        },
        {
         "name": "active",
         "rawType": "bool",
         "type": "boolean"
        },
        {
         "name": "build_year",
         "rawType": "int32",
         "type": "integer"
        },
        {
         "name": "lifetime",
         "rawType": "float64",
         "type": "float"
        },
        {
         "name": "length",
         "rawType": "float64",
         "type": "float"
        },
        {
         "name": "carrier",
         "rawType": "object",
         "type": "string"
        },
        {
         "name": "terrain_factor",
         "rawType": "float64",
         "type": "float"
        },
        {
         "name": "num_parallel",
         "rawType": "float64",
         "type": "float"
        },
        {
         "name": "v_ang_min",
         "rawType": "float64",
         "type": "float"
        },
        {
         "name": "v_ang_max",
         "rawType": "float64",
         "type": "float"
        },
        {
         "name": "sub_network",
         "rawType": "object",
         "type": "string"
        },
        {
         "name": "x_pu",
         "rawType": "float64",
         "type": "float"
        },
        {
         "name": "r_pu",
         "rawType": "float64",
         "type": "float"
        },
        {
         "name": "g_pu",
         "rawType": "float64",
         "type": "float"
        },
        {
         "name": "b_pu",
         "rawType": "float64",
         "type": "float"
        },
        {
         "name": "x_pu_eff",
         "rawType": "float64",
         "type": "float"
        },
        {
         "name": "r_pu_eff",
         "rawType": "float64",
         "type": "float"
        },
        {
         "name": "s_nom_opt",
         "rawType": "float64",
         "type": "float"
        }
       ],
       "conversionMethod": "pd.DataFrame",
       "ref": "ab31495d-9b04-458d-905c-629be23d2272",
       "rows": [],
       "shape": {
        "columns": 31,
        "rows": 0
       }
      },
      "text/html": [
       "<div>\n",
       "<style scoped>\n",
       "    .dataframe tbody tr th:only-of-type {\n",
       "        vertical-align: middle;\n",
       "    }\n",
       "\n",
       "    .dataframe tbody tr th {\n",
       "        vertical-align: top;\n",
       "    }\n",
       "\n",
       "    .dataframe thead th {\n",
       "        text-align: right;\n",
       "    }\n",
       "</style>\n",
       "<table border=\"1\" class=\"dataframe\">\n",
       "  <thead>\n",
       "    <tr style=\"text-align: right;\">\n",
       "      <th>attribute</th>\n",
       "      <th>bus0</th>\n",
       "      <th>bus1</th>\n",
       "      <th>type</th>\n",
       "      <th>x</th>\n",
       "      <th>r</th>\n",
       "      <th>g</th>\n",
       "      <th>b</th>\n",
       "      <th>s_nom</th>\n",
       "      <th>s_nom_mod</th>\n",
       "      <th>s_nom_extendable</th>\n",
       "      <th>...</th>\n",
       "      <th>v_ang_min</th>\n",
       "      <th>v_ang_max</th>\n",
       "      <th>sub_network</th>\n",
       "      <th>x_pu</th>\n",
       "      <th>r_pu</th>\n",
       "      <th>g_pu</th>\n",
       "      <th>b_pu</th>\n",
       "      <th>x_pu_eff</th>\n",
       "      <th>r_pu_eff</th>\n",
       "      <th>s_nom_opt</th>\n",
       "    </tr>\n",
       "    <tr>\n",
       "      <th>Line</th>\n",
       "      <th></th>\n",
       "      <th></th>\n",
       "      <th></th>\n",
       "      <th></th>\n",
       "      <th></th>\n",
       "      <th></th>\n",
       "      <th></th>\n",
       "      <th></th>\n",
       "      <th></th>\n",
       "      <th></th>\n",
       "      <th></th>\n",
       "      <th></th>\n",
       "      <th></th>\n",
       "      <th></th>\n",
       "      <th></th>\n",
       "      <th></th>\n",
       "      <th></th>\n",
       "      <th></th>\n",
       "      <th></th>\n",
       "      <th></th>\n",
       "      <th></th>\n",
       "    </tr>\n",
       "  </thead>\n",
       "  <tbody>\n",
       "  </tbody>\n",
       "</table>\n",
       "<p>0 rows × 31 columns</p>\n",
       "</div>"
      ],
      "text/plain": [
       "Empty DataFrame\n",
       "Columns: [bus0, bus1, type, x, r, g, b, s_nom, s_nom_mod, s_nom_extendable, s_nom_min, s_nom_max, s_max_pu, capital_cost, active, build_year, lifetime, length, carrier, terrain_factor, num_parallel, v_ang_min, v_ang_max, sub_network, x_pu, r_pu, g_pu, b_pu, x_pu_eff, r_pu_eff, s_nom_opt]\n",
       "Index: []\n",
       "\n",
       "[0 rows x 31 columns]"
      ]
     },
     "execution_count": 156,
     "metadata": {},
     "output_type": "execute_result"
    }
   ],
   "source": [
    "network.lines"
   ]
  },
  {
   "cell_type": "code",
   "execution_count": null,
   "metadata": {},
   "outputs": [],
   "source": []
  },
  {
   "cell_type": "markdown",
   "metadata": {},
   "source": []
  },
  {
   "cell_type": "markdown",
   "metadata": {},
   "source": [
    "---\n",
    "### 🐍 Add data to the network"
   ]
  },
  {
   "cell_type": "markdown",
   "metadata": {},
   "source": [
    "#### **Adding a Component to a PyPSA Network using `network.add`**\n",
    "\n",
    "In PyPSA, the `network.add()` method is used to add components (such as buses, generators, lines, etc.) to the network. The general syntax follows:\n",
    "\n",
    "```python\n",
    "network.add(component, **attributes)\n",
    "```\n",
    "\n",
    "**Parameters**\n",
    "- `component` *(str)*: The type of component to add (e.g., `\"Bus\"`, `\"Generator\"`, `\"Load\"`, `\"Line\"`, `\"Link\"`, etc.).\n",
    "- `attributes` *(dict)*: A set of keyword arguments specifying the properties of the component.\n",
    "\n",
    "---\n",
    "\n",
    "**Example 1: Adding a Bus**\n",
    "To add a new bus to the network:\n",
    "\n",
    "```python\n",
    "import pypsa\n",
    "\n",
    "network = pypsa.Network()\n",
    "\n",
    "network.add(\"Bus\", name=\"bus1\")  # Adding a bus named 'bus1'\n",
    "```\n",
    "\n",
    "---\n",
    "\n",
    "**Example 2: Adding a Generator**\n",
    "To add a generator connected to a bus:\n",
    "\n",
    "```python\n",
    "network.add(\"Generator\", name=\"gen1\", bus=\"bus1\", p_nom=100, marginal_cost=50)\n",
    "```\n",
    "Here:\n",
    "- `bus=\"bus1\"` specifies the bus the generator is connected to.\n",
    "- `p_nom=100` sets the nominal power capacity in MW.\n",
    "- `marginal_cost=50` sets the generation cost per MWh.\n",
    "\n",
    "---\n",
    "\n",
    "**Example 3: Adding a Transmission Line as a `link`**\n",
    "```python\n",
    "network.add(\"Link\", name=\"link1\", bus0=\"bus1\", bus1=\"bus2\", p_nom=100)\n",
    "```\n",
    "Here:\n",
    "- `bus0=\"bus1\"` and `bus1=\"bus2\"` define the buses the line connects.\n",
    "- `p_nom=100` sets the nominal power in MW. \n",
    "---\n",
    "\n",
    "\n"
   ]
  },
  {
   "cell_type": "markdown",
   "metadata": {},
   "source": [
    "#### **Importing Networks in PyPSA**\n",
    "\n",
    "PyPSA allows importing networks using three primary formats: **CSV**, **HDF5**, and **NetCDF**. Each format has its corresponding function.\n",
    "\n",
    "\n",
    "**1️⃣ Importing a Network from CSV**\n",
    "\n",
    "PyPSA can load networks stored in a directory containing CSV files. This is useful for human-readable and editable data.\n",
    "\n",
    "```python\n",
    "network.import_from_csv_folder(\"path_to_csv_directory\")\n",
    "```\n",
    "**2️⃣ Importing a Network from HDF5**\n",
    "\n",
    "HDF5 is a binary format that allows for fast loading and saving of networks.\n",
    "\n",
    "```python\n",
    "network = pypsa.Network(\"path_to_hdf5_file.h5\")\n",
    "```\n",
    "\n",
    "**3️⃣ Importing a Network from NetCDF**\n",
    "\n",
    "NetCDF is another binary format commonly used for scientific computing.\n",
    "\n",
    "```python\n",
    "network = pypsa.Network(\"path_to_netcdf_file.nc\")\n",
    "```\n"
   ]
  },
  {
   "cell_type": "markdown",
   "metadata": {},
   "source": [
    "#### **📝 Setting up a data import using a spreadsheet.**\n",
    "\n",
    "In this example, a **simplified workflow** is demonstrated using an Excel spreadsheet. The **actual model** will implement a more **formal data processing** workflow, similar to the approach used in PyPSA-EUR.\n",
    "\n",
    "* A spreadsheet has been developed that contains some of the main input data sources for a PyPSA model. \n",
    "* The spreadsheet is in `.xlsx` format can be opened in Microsoft Excel or Google Sheets. \n",
    "* A custom function is applied to convert the excel spreadsheet into a folder of csv files that can be uploaded into the PyPSA network. \n",
    "\n",
    "\n",
    "---\n",
    "\n",
    "#### 📂 Data Structure Guidelines  \n",
    "\n",
    "✅ **Static Data:**  \n",
    "- The Excel file should be configured using the `list_name` as the `sheet name`.  \n",
    "- Use ``variables`` in the header.  \n",
    "\n",
    "✅ **Time-Series Data:**  \n",
    "- Follow the naming convention:  `[list]-[variable name]`\n",
    "- Example: `loads-p_set` for the set loads.\n",
    "\n",
    "---\n",
    "\n"
   ]
  },
  {
   "cell_type": "markdown",
   "metadata": {},
   "source": [
    "**⏳ Set `snapshots`** "
   ]
  },
  {
   "cell_type": "markdown",
   "metadata": {},
   "source": [
    "A `snapshot` represents a specific point in time for which the network is simulated.  \n",
    "- Snapshots can be single timestamps (e.g., `2025-01-01 00:00`) or time series covering hours, days, weeks, or years.  \n",
    "- They allow modeling of dynamic power system behavior over different time periods.  \n",
    "\n",
    "📆 **Selecting the Simulation Period**\n",
    "\n",
    "To define the simulation period, we assign snapshots to the network using a `start_time` and `end time`."
   ]
  },
  {
   "cell_type": "markdown",
   "metadata": {},
   "source": [
    "**Buses**"
   ]
  },
  {
   "cell_type": "markdown",
   "metadata": {},
   "source": [
    "**Carriers**"
   ]
  },
  {
   "cell_type": "markdown",
   "metadata": {},
   "source": [
    "**⚡ Generators**"
   ]
  },
  {
   "cell_type": "markdown",
   "metadata": {},
   "source": [
    "\n",
    "\n",
    "\n",
    "Generators attach to a single bus, converting energy from their `carrier` to the bus `carrier`.  \n",
    "\n",
    "* Their power output is constrained by `p_nom * p_max_pu` and `p_nom * p_min_pu`.  \n",
    "\n",
    "* Static limits define dispatchable generators, while time-varying limits model renewables.  \n",
    "\n",
    "* Time series `p_max_pu` and `p_min_pu` determine availability per snapshot.  \n",
    "\n",
    "* For unit commitment constraints, refer to the PyPSA documentation. \n",
    "\n",
    "Some key variables relevant to this model are given below. \n",
    "\n",
    "\n",
    "| Attribute              | Type            | Unit           | Default | Description | Constraint |\n",
    "|------------------------|----------------|---------------|---------|-------------|------------------|\n",
    "| `name`              | string         | n/a           | n/a     | Unique name |  |\n",
    "| `bus`               | string         | n/a           | n/a     | Name of bus to which generator is attached |  |\n",
    "| `p_nom`            | float          | MW            | 0       | Nominal power for limits in optimization. |  |\n",
    "| `p_nom_extendable` | boolean        |           | False   | Switch to allow capacity p_nom to be extended in optimization. | |\n",
    "| `p_min_pu`        | static/series  | per unit      | n/a     | Minimum output per unit of p_nom. | $p_t \\geq p_{nom}\\times p_{min,pu,t}$ |\n",
    "| `p_max_pu`        | static/series  | per unit      | 1       | Maximum output per unit of p_nom. | $p_t \\leq p_{nom}\\times p_{max,pu,t}$ |\n",
    "| `p_set`           | static/series  | MW            | n/a     | Active power set point (for PF). | $p_t = p_{set}$  |\n",
    "| `e_sum_min`       | float          | MWh           | -inf    | Minimum total energy produced during optimization horizon. | $\\sum p_t \\cdot \\delta t \\leq e_{\\max}$\n",
    "| `e_sum_max`       | float          | MWh           | inf     | Maximum total energy produced during optimization horizon. | $\\sum p_t \\cdot \\delta t \\leq e_{\\max}$\n",
    "| `marginal_cost`   | static/series  | currency/MWh  | n/a     | Marginal cost of production of 1 MWh. | |\n",
    "\n"
   ]
  },
  {
   "cell_type": "markdown",
   "metadata": {},
   "source": [
    "🌞 **Applying `p_max_pu` Constraint on VRE Generators**  \n",
    "\n",
    "* Variable Renewable Energy (VRE) generators, such as solar and wind, have time-dependent availability limits.  \n",
    "* The `p_max_pu` constraint, imported as a time-series dataset, determines the maximum power output at each snapshot on a per unit basis.  \n",
    "\n",
    "\n"
   ]
  },
  {
   "cell_type": "markdown",
   "metadata": {},
   "source": [
    "---\n",
    "🔗 **Links**"
   ]
  },
  {
   "cell_type": "markdown",
   "metadata": {},
   "source": [
    "\n",
    "\n",
    "* Links enable controllable, directed power flow between two buses (`bus0 → bus1`).  \n",
    "* They can have efficiency losses and marginal costs, restricting default flow to one direction.  \n",
    "* For bidirectional, lossless operation, set `efficiency = 1`, `marginal_cost = 0`, and `p_min_pu = -1`.  \n",
    "* Links model HVDC interconnections, converters, heat pumps, electrolysers, and other controllable power flows.  \n",
    "* ⚠️ In the actual model, lines will be used instead of links for passive AC/DC transmission.  \n"
   ]
  },
  {
   "cell_type": "markdown",
   "metadata": {},
   "source": [
    "---\n",
    "🔌 **Loads**"
   ]
  },
  {
   "cell_type": "markdown",
   "metadata": {},
   "source": [
    " \n",
    "\n",
    "* A load connects to a single bus and consumes power as a PQ load.  \n",
    "* It can represent electricity demand or other types of loads like hydrogen or heat.  \n",
    "* If active power is consumed, the load draws from the bus.  \n",
    "* If reactive power is consumed, the load behaves like an inductor.  \n",
    "* Loads are essential for demand modeling in power system simulations. ⚡🏠  \n"
   ]
  },
  {
   "cell_type": "markdown",
   "metadata": {},
   "source": [
    "---\n",
    "🔋 **Storage: `store` vs. `storage_unit`**  "
   ]
  },
  {
   "cell_type": "markdown",
   "metadata": {},
   "source": [
    "\n",
    "\n",
    "There are two components for energy storage in PyPSA: Storage Units and Stores.  \n",
    "\n",
    "* ⚡ Storage Unit  \n",
    "   * Attaches to a single bus and is used for inter-temporal power shifting with a time-varying state of charge.  \n",
    "   * The energy capacity is defined as `max_hours * nominal power (MW)`, and it includes charging/discharging efficiencies.  \n",
    "\n",
    "* 🏭 Store  \n",
    "   * Connects to a single bus and acts as a fundamental energy storage component without energy conversion.  \n",
    "   * Controls and optimizes energy capacity size, but power output must be controlled using Link components.  \n",
    "\n",
    "🔄 Key Differences  \n",
    "| Feature           | Storage Unit | Store |\n",
    "|------------------|-------------|-------|\n",
    "| Power Control | Directly defined | Requires Links |\n",
    "| Energy Capacity | Fixed as `max_hours * MW` | Optimized independently |\n",
    "| Marginal Cost | Applies only to discharging | Applies to both charging & discharging |\n",
    "| Energy Carrier Conversion| Possible | Not possible (inherits from bus) |\n",
    "\n",
    "Stores are more flexible but require Links for power control, while Storage Units offer a simpler implementation for direct energy storage modeling. ⚙️🔄  \n"
   ]
  },
  {
   "cell_type": "markdown",
   "metadata": {},
   "source": [
    "⚡ **Storage Unit**\n",
    "\n",
    "\n",
    "| Attribute              | Type            | Unit           | Default | Description |\n",
    "|------------------------|----------------|---------------|---------|-------------|\n",
    "| `name`              | string         | n/a           | n/a     | Unique name | \n",
    "| `bus`               | string         | n/a           | n/a     | Name of bus to which generator is attached |\n",
    "| `p_nom`            | float          | MW            | 0       | Nominal power for limits in optimization. | \n",
    "| `marginal_cost`   | static/series  | currency/MWh  | n/a     | Marginal cost of production of 1 MWh. | \n",
    "| `max_hours` | float | h | 1 | Maximum state of charge capacity in terms of hours at full output capacity `p_nom` |  \n",
    "|`state_of_charge_initial`| float | MWh | 0  | State of charge before the snapshots in the OPF. | \n",
    "|`efficiency_store`  | static/series | per unit | 1 | Efficiency of storage on the way into the storage. | \n",
    "|`efficiency_dispatch`| static/series | per unit | 1 | Efficiency of storage on the way out of the storage. | \n",
    "| `standing_loss`| static/series | per unit | 0 | Losses per hour to state of charge. | \n",
    "| `inflow`| static/series | MW | 0 | Inflow to the state of charge, e.g. due to river inflow in hydro reservoir. |\n",
    "\n",
    "\n",
    "\n",
    "\n",
    "\n",
    "\n"
   ]
  },
  {
   "cell_type": "markdown",
   "metadata": {},
   "source": [
    "---\n",
    "### 🏗️ Working with the `network` object"
   ]
  },
  {
   "cell_type": "markdown",
   "metadata": {},
   "source": [
    "The network contains functions, such as: \n",
    "\n",
    "- 📥 Adding data: `network.add()` or `network.import_from_csv()` - As described before.\n",
    "- 🔍 Optimization: `network.optimize()` – Runs the optimization process.  \n",
    "   * Supports multiple solvers including GLPK, Gurobi, CPLEX, and HiGHS. \n",
    "- 📊 Statistics: `network.statistics()` – Generates system-wide statistics.  \n",
    "- 🗺️ Visualization: `network.plot()` – Plots the network layout.  \n"
   ]
  },
  {
   "cell_type": "markdown",
   "metadata": {},
   "source": [
    "**Import Network**"
   ]
  },
  {
   "cell_type": "code",
   "execution_count": 157,
   "metadata": {},
   "outputs": [],
   "source": [
    "# !pip install openpyxl"
   ]
  },
  {
   "cell_type": "code",
   "execution_count": 158,
   "metadata": {},
   "outputs": [
    {
     "name": "stderr",
     "output_type": "stream",
     "text": [
      "INFO:root:Converted snapshots to CSV.\n",
      "INFO:root:Converted carriers to CSV.\n",
      "INFO:root:Converted buses to CSV.\n",
      "INFO:root:Converted generators to CSV.\n",
      "INFO:root:Converted generators-p_max_pu to CSV.\n",
      "INFO:root:Converted links to CSV.\n",
      "INFO:root:Converted loads to CSV.\n",
      "INFO:root:Converted loads-p_set to CSV.\n",
      "INFO:root:Converted storage_units to CSV.\n",
      "INFO:root:Converted storage_units-inflow to CSV.\n",
      "INFO:root:Conversion complete. CSV files are saved in 'lesson4_csv_folder'\n",
      "INFO:root:Excel file closed successfully.\n"
     ]
    }
   ],
   "source": [
    "input_file_name = 'data/Lesson4_model.xlsx'\n",
    "path = convert_selected_sheets_to_csv(input_file_name, 'lesson4_csv_folder')"
   ]
  },
  {
   "cell_type": "markdown",
   "metadata": {},
   "source": [
    "**Review Input Data**"
   ]
  },
  {
   "cell_type": "code",
   "execution_count": 159,
   "metadata": {},
   "outputs": [
    {
     "data": {
      "text/plain": [
       "'lesson4_csv_folder'"
      ]
     },
     "execution_count": 159,
     "metadata": {},
     "output_type": "execute_result"
    }
   ],
   "source": [
    "path"
   ]
  },
  {
   "cell_type": "code",
   "execution_count": 160,
   "metadata": {},
   "outputs": [
    {
     "name": "stderr",
     "output_type": "stream",
     "text": [
      "WARNING:pypsa.io:Importing network from PyPSA version v? while current version is v0.33.0. Read the release notes at https://pypsa.readthedocs.io/en/latest/release_notes.html to prepare your network for import.\n",
      "c:\\Users\\gosai\\anaconda3\\envs\\flex_training_env\\lib\\site-packages\\pypsa\\io.py:1095: FutureWarning:\n",
      "\n",
      "Downcasting object dtype arrays on .fillna, .ffill, .bfill is deprecated and will change in a future version. Call result.infer_objects(copy=False) instead. To opt-in to the future behavior, set `pd.set_option('future.no_silent_downcasting', True)`\n",
      "\n",
      "INFO:pypsa.io:Imported network lesson4_csv_folder has buses, carriers, generators, links, loads, storage_units\n"
     ]
    }
   ],
   "source": [
    "network = pypsa.Network(path)"
   ]
  },
  {
   "cell_type": "code",
   "execution_count": 161,
   "metadata": {},
   "outputs": [],
   "source": [
    "# network.import_from_csv_folder(path)\n"
   ]
  },
  {
   "cell_type": "code",
   "execution_count": 162,
   "metadata": {},
   "outputs": [
    {
     "data": {
      "application/vnd.microsoft.datawrangler.viewer.v0+json": {
       "columns": [
        {
         "name": "snapshot",
         "rawType": "datetime64[ns]",
         "type": "datetime"
        },
        {
         "name": "Solar Germany",
         "rawType": "float64",
         "type": "float"
        },
        {
         "name": "Wind Germany",
         "rawType": "float64",
         "type": "float"
        }
       ],
       "conversionMethod": "pd.DataFrame",
       "ref": "a99e282e-a679-4421-9e90-6b0f27320ab6",
       "rows": [
        [
         "2015-01-01 00:00:00",
         "0.0",
         "0.6829000000000001"
        ],
        [
         "2015-01-01 01:00:00",
         "0.0",
         "0.6829000000000001"
        ],
        [
         "2015-01-01 02:00:00",
         "0.0",
         "0.6756"
        ],
        [
         "2015-01-01 03:00:00",
         "0.0",
         "0.6751"
        ],
        [
         "2015-01-01 04:00:00",
         "0.0",
         "0.6717"
        ]
       ],
       "shape": {
        "columns": 2,
        "rows": 5
       }
      },
      "text/html": [
       "<div>\n",
       "<style scoped>\n",
       "    .dataframe tbody tr th:only-of-type {\n",
       "        vertical-align: middle;\n",
       "    }\n",
       "\n",
       "    .dataframe tbody tr th {\n",
       "        vertical-align: top;\n",
       "    }\n",
       "\n",
       "    .dataframe thead th {\n",
       "        text-align: right;\n",
       "    }\n",
       "</style>\n",
       "<table border=\"1\" class=\"dataframe\">\n",
       "  <thead>\n",
       "    <tr style=\"text-align: right;\">\n",
       "      <th>Generator</th>\n",
       "      <th>Solar Germany</th>\n",
       "      <th>Wind Germany</th>\n",
       "    </tr>\n",
       "    <tr>\n",
       "      <th>snapshot</th>\n",
       "      <th></th>\n",
       "      <th></th>\n",
       "    </tr>\n",
       "  </thead>\n",
       "  <tbody>\n",
       "    <tr>\n",
       "      <th>2015-01-01 00:00:00</th>\n",
       "      <td>0.0</td>\n",
       "      <td>0.6829</td>\n",
       "    </tr>\n",
       "    <tr>\n",
       "      <th>2015-01-01 01:00:00</th>\n",
       "      <td>0.0</td>\n",
       "      <td>0.6829</td>\n",
       "    </tr>\n",
       "    <tr>\n",
       "      <th>2015-01-01 02:00:00</th>\n",
       "      <td>0.0</td>\n",
       "      <td>0.6756</td>\n",
       "    </tr>\n",
       "    <tr>\n",
       "      <th>2015-01-01 03:00:00</th>\n",
       "      <td>0.0</td>\n",
       "      <td>0.6751</td>\n",
       "    </tr>\n",
       "    <tr>\n",
       "      <th>2015-01-01 04:00:00</th>\n",
       "      <td>0.0</td>\n",
       "      <td>0.6717</td>\n",
       "    </tr>\n",
       "  </tbody>\n",
       "</table>\n",
       "</div>"
      ],
      "text/plain": [
       "Generator            Solar Germany  Wind Germany\n",
       "snapshot                                        \n",
       "2015-01-01 00:00:00            0.0        0.6829\n",
       "2015-01-01 01:00:00            0.0        0.6829\n",
       "2015-01-01 02:00:00            0.0        0.6756\n",
       "2015-01-01 03:00:00            0.0        0.6751\n",
       "2015-01-01 04:00:00            0.0        0.6717"
      ]
     },
     "execution_count": 162,
     "metadata": {},
     "output_type": "execute_result"
    }
   ],
   "source": [
    "network.generators_t.p_max_pu.head()"
   ]
  },
  {
   "cell_type": "code",
   "execution_count": 163,
   "metadata": {},
   "outputs": [
    {
     "data": {
      "application/vnd.microsoft.datawrangler.viewer.v0+json": {
       "columns": [
        {
         "name": "snapshot",
         "rawType": "datetime64[ns]",
         "type": "datetime"
        },
        {
         "name": "Germany Demand",
         "rawType": "float64",
         "type": "float"
        }
       ],
       "conversionMethod": "pd.DataFrame",
       "ref": "9a48624c-03a8-419b-95f9-3ebd5f63037f",
       "rows": [
        [
         "2015-01-01 00:00:00",
         "39723.0"
        ],
        [
         "2015-01-01 01:00:00",
         "39723.0"
        ],
        [
         "2015-01-01 02:00:00",
         "38813.0"
        ],
        [
         "2015-01-01 03:00:00",
         "38490.0"
        ],
        [
         "2015-01-01 04:00:00",
         "38644.0"
        ]
       ],
       "shape": {
        "columns": 1,
        "rows": 5
       }
      },
      "text/html": [
       "<div>\n",
       "<style scoped>\n",
       "    .dataframe tbody tr th:only-of-type {\n",
       "        vertical-align: middle;\n",
       "    }\n",
       "\n",
       "    .dataframe tbody tr th {\n",
       "        vertical-align: top;\n",
       "    }\n",
       "\n",
       "    .dataframe thead th {\n",
       "        text-align: right;\n",
       "    }\n",
       "</style>\n",
       "<table border=\"1\" class=\"dataframe\">\n",
       "  <thead>\n",
       "    <tr style=\"text-align: right;\">\n",
       "      <th>Load</th>\n",
       "      <th>Germany Demand</th>\n",
       "    </tr>\n",
       "    <tr>\n",
       "      <th>snapshot</th>\n",
       "      <th></th>\n",
       "    </tr>\n",
       "  </thead>\n",
       "  <tbody>\n",
       "    <tr>\n",
       "      <th>2015-01-01 00:00:00</th>\n",
       "      <td>39723.0</td>\n",
       "    </tr>\n",
       "    <tr>\n",
       "      <th>2015-01-01 01:00:00</th>\n",
       "      <td>39723.0</td>\n",
       "    </tr>\n",
       "    <tr>\n",
       "      <th>2015-01-01 02:00:00</th>\n",
       "      <td>38813.0</td>\n",
       "    </tr>\n",
       "    <tr>\n",
       "      <th>2015-01-01 03:00:00</th>\n",
       "      <td>38490.0</td>\n",
       "    </tr>\n",
       "    <tr>\n",
       "      <th>2015-01-01 04:00:00</th>\n",
       "      <td>38644.0</td>\n",
       "    </tr>\n",
       "  </tbody>\n",
       "</table>\n",
       "</div>"
      ],
      "text/plain": [
       "Load                 Germany Demand\n",
       "snapshot                           \n",
       "2015-01-01 00:00:00         39723.0\n",
       "2015-01-01 01:00:00         39723.0\n",
       "2015-01-01 02:00:00         38813.0\n",
       "2015-01-01 03:00:00         38490.0\n",
       "2015-01-01 04:00:00         38644.0"
      ]
     },
     "execution_count": 163,
     "metadata": {},
     "output_type": "execute_result"
    }
   ],
   "source": [
    "network.loads_t.p_set.head()"
   ]
  },
  {
   "cell_type": "code",
   "execution_count": 164,
   "metadata": {},
   "outputs": [
    {
     "data": {
      "application/vnd.microsoft.datawrangler.viewer.v0+json": {
       "columns": [
        {
         "name": "Load",
         "rawType": "object",
         "type": "string"
        },
        {
         "name": "bus",
         "rawType": "object",
         "type": "string"
        },
        {
         "name": "carrier",
         "rawType": "object",
         "type": "string"
        },
        {
         "name": "type",
         "rawType": "object",
         "type": "string"
        },
        {
         "name": "p_set",
         "rawType": "float64",
         "type": "float"
        },
        {
         "name": "q_set",
         "rawType": "float64",
         "type": "float"
        },
        {
         "name": "sign",
         "rawType": "float64",
         "type": "float"
        },
        {
         "name": "active",
         "rawType": "bool",
         "type": "boolean"
        }
       ],
       "conversionMethod": "pd.DataFrame",
       "ref": "9e158ba2-408c-4c8f-a462-9924ab675ebb",
       "rows": [
        [
         "Germany Demand",
         "DE",
         "AC",
         "",
         "55000.0",
         "0.0",
         "-1.0",
         "True"
        ]
       ],
       "shape": {
        "columns": 7,
        "rows": 1
       }
      },
      "text/html": [
       "<div>\n",
       "<style scoped>\n",
       "    .dataframe tbody tr th:only-of-type {\n",
       "        vertical-align: middle;\n",
       "    }\n",
       "\n",
       "    .dataframe tbody tr th {\n",
       "        vertical-align: top;\n",
       "    }\n",
       "\n",
       "    .dataframe thead th {\n",
       "        text-align: right;\n",
       "    }\n",
       "</style>\n",
       "<table border=\"1\" class=\"dataframe\">\n",
       "  <thead>\n",
       "    <tr style=\"text-align: right;\">\n",
       "      <th></th>\n",
       "      <th>bus</th>\n",
       "      <th>carrier</th>\n",
       "      <th>type</th>\n",
       "      <th>p_set</th>\n",
       "      <th>q_set</th>\n",
       "      <th>sign</th>\n",
       "      <th>active</th>\n",
       "    </tr>\n",
       "    <tr>\n",
       "      <th>Load</th>\n",
       "      <th></th>\n",
       "      <th></th>\n",
       "      <th></th>\n",
       "      <th></th>\n",
       "      <th></th>\n",
       "      <th></th>\n",
       "      <th></th>\n",
       "    </tr>\n",
       "  </thead>\n",
       "  <tbody>\n",
       "    <tr>\n",
       "      <th>Germany Demand</th>\n",
       "      <td>DE</td>\n",
       "      <td>AC</td>\n",
       "      <td></td>\n",
       "      <td>55000.0</td>\n",
       "      <td>0.0</td>\n",
       "      <td>-1.0</td>\n",
       "      <td>True</td>\n",
       "    </tr>\n",
       "  </tbody>\n",
       "</table>\n",
       "</div>"
      ],
      "text/plain": [
       "               bus carrier type    p_set  q_set  sign  active\n",
       "Load                                                         \n",
       "Germany Demand  DE      AC       55000.0    0.0  -1.0    True"
      ]
     },
     "execution_count": 164,
     "metadata": {},
     "output_type": "execute_result"
    }
   ],
   "source": [
    "network.loads"
   ]
  },
  {
   "cell_type": "code",
   "execution_count": 165,
   "metadata": {},
   "outputs": [
    {
     "data": {
      "application/vnd.microsoft.datawrangler.viewer.v0+json": {
       "columns": [
        {
         "name": "Link",
         "rawType": "object",
         "type": "string"
        },
        {
         "name": "bus0",
         "rawType": "object",
         "type": "string"
        },
        {
         "name": "bus1",
         "rawType": "object",
         "type": "string"
        },
        {
         "name": "type",
         "rawType": "object",
         "type": "string"
        },
        {
         "name": "carrier",
         "rawType": "object",
         "type": "string"
        },
        {
         "name": "efficiency",
         "rawType": "float64",
         "type": "float"
        },
        {
         "name": "active",
         "rawType": "bool",
         "type": "boolean"
        },
        {
         "name": "build_year",
         "rawType": "int64",
         "type": "integer"
        },
        {
         "name": "lifetime",
         "rawType": "float64",
         "type": "float"
        },
        {
         "name": "p_nom",
         "rawType": "float64",
         "type": "float"
        },
        {
         "name": "p_nom_mod",
         "rawType": "float64",
         "type": "float"
        },
        {
         "name": "p_nom_extendable",
         "rawType": "bool",
         "type": "boolean"
        },
        {
         "name": "p_nom_min",
         "rawType": "float64",
         "type": "float"
        },
        {
         "name": "p_nom_max",
         "rawType": "float64",
         "type": "float"
        },
        {
         "name": "p_set",
         "rawType": "float64",
         "type": "float"
        },
        {
         "name": "p_min_pu",
         "rawType": "float64",
         "type": "float"
        },
        {
         "name": "p_max_pu",
         "rawType": "float64",
         "type": "float"
        },
        {
         "name": "capital_cost",
         "rawType": "float64",
         "type": "float"
        },
        {
         "name": "marginal_cost",
         "rawType": "float64",
         "type": "float"
        },
        {
         "name": "marginal_cost_quadratic",
         "rawType": "float64",
         "type": "float"
        },
        {
         "name": "stand_by_cost",
         "rawType": "float64",
         "type": "float"
        },
        {
         "name": "length",
         "rawType": "float64",
         "type": "float"
        },
        {
         "name": "terrain_factor",
         "rawType": "float64",
         "type": "float"
        },
        {
         "name": "committable",
         "rawType": "bool",
         "type": "boolean"
        },
        {
         "name": "start_up_cost",
         "rawType": "float64",
         "type": "float"
        },
        {
         "name": "shut_down_cost",
         "rawType": "float64",
         "type": "float"
        },
        {
         "name": "min_up_time",
         "rawType": "int64",
         "type": "integer"
        },
        {
         "name": "min_down_time",
         "rawType": "int64",
         "type": "integer"
        },
        {
         "name": "up_time_before",
         "rawType": "int64",
         "type": "integer"
        },
        {
         "name": "down_time_before",
         "rawType": "int64",
         "type": "integer"
        },
        {
         "name": "ramp_limit_up",
         "rawType": "float64",
         "type": "float"
        },
        {
         "name": "ramp_limit_down",
         "rawType": "float64",
         "type": "float"
        },
        {
         "name": "ramp_limit_start_up",
         "rawType": "float64",
         "type": "float"
        },
        {
         "name": "ramp_limit_shut_down",
         "rawType": "float64",
         "type": "float"
        },
        {
         "name": "p_nom_opt",
         "rawType": "float64",
         "type": "float"
        }
       ],
       "conversionMethod": "pd.DataFrame",
       "ref": "827589e5-a7b3-447b-bdf1-120fc46a1233",
       "rows": [],
       "shape": {
        "columns": 34,
        "rows": 0
       }
      },
      "text/html": [
       "<div>\n",
       "<style scoped>\n",
       "    .dataframe tbody tr th:only-of-type {\n",
       "        vertical-align: middle;\n",
       "    }\n",
       "\n",
       "    .dataframe tbody tr th {\n",
       "        vertical-align: top;\n",
       "    }\n",
       "\n",
       "    .dataframe thead th {\n",
       "        text-align: right;\n",
       "    }\n",
       "</style>\n",
       "<table border=\"1\" class=\"dataframe\">\n",
       "  <thead>\n",
       "    <tr style=\"text-align: right;\">\n",
       "      <th></th>\n",
       "      <th>bus0</th>\n",
       "      <th>bus1</th>\n",
       "      <th>type</th>\n",
       "      <th>carrier</th>\n",
       "      <th>efficiency</th>\n",
       "      <th>active</th>\n",
       "      <th>build_year</th>\n",
       "      <th>lifetime</th>\n",
       "      <th>p_nom</th>\n",
       "      <th>p_nom_mod</th>\n",
       "      <th>...</th>\n",
       "      <th>shut_down_cost</th>\n",
       "      <th>min_up_time</th>\n",
       "      <th>min_down_time</th>\n",
       "      <th>up_time_before</th>\n",
       "      <th>down_time_before</th>\n",
       "      <th>ramp_limit_up</th>\n",
       "      <th>ramp_limit_down</th>\n",
       "      <th>ramp_limit_start_up</th>\n",
       "      <th>ramp_limit_shut_down</th>\n",
       "      <th>p_nom_opt</th>\n",
       "    </tr>\n",
       "    <tr>\n",
       "      <th>Link</th>\n",
       "      <th></th>\n",
       "      <th></th>\n",
       "      <th></th>\n",
       "      <th></th>\n",
       "      <th></th>\n",
       "      <th></th>\n",
       "      <th></th>\n",
       "      <th></th>\n",
       "      <th></th>\n",
       "      <th></th>\n",
       "      <th></th>\n",
       "      <th></th>\n",
       "      <th></th>\n",
       "      <th></th>\n",
       "      <th></th>\n",
       "      <th></th>\n",
       "      <th></th>\n",
       "      <th></th>\n",
       "      <th></th>\n",
       "      <th></th>\n",
       "      <th></th>\n",
       "    </tr>\n",
       "  </thead>\n",
       "  <tbody>\n",
       "  </tbody>\n",
       "</table>\n",
       "<p>0 rows × 34 columns</p>\n",
       "</div>"
      ],
      "text/plain": [
       "Empty DataFrame\n",
       "Columns: [bus0, bus1, type, carrier, efficiency, active, build_year, lifetime, p_nom, p_nom_mod, p_nom_extendable, p_nom_min, p_nom_max, p_set, p_min_pu, p_max_pu, capital_cost, marginal_cost, marginal_cost_quadratic, stand_by_cost, length, terrain_factor, committable, start_up_cost, shut_down_cost, min_up_time, min_down_time, up_time_before, down_time_before, ramp_limit_up, ramp_limit_down, ramp_limit_start_up, ramp_limit_shut_down, p_nom_opt]\n",
       "Index: []\n",
       "\n",
       "[0 rows x 34 columns]"
      ]
     },
     "execution_count": 165,
     "metadata": {},
     "output_type": "execute_result"
    }
   ],
   "source": [
    "network.links.head()"
   ]
  },
  {
   "cell_type": "markdown",
   "metadata": {},
   "source": [
    "**Solve Model**"
   ]
  },
  {
   "cell_type": "code",
   "execution_count": 166,
   "metadata": {},
   "outputs": [
    {
     "name": "stderr",
     "output_type": "stream",
     "text": [
      "INFO:linopy.model: Solve problem using Highs solver\n",
      "INFO:linopy.io: Writing time: 0.07s\n",
      "INFO:linopy.constants: Optimization successful: \n",
      "Status: ok\n",
      "Termination condition: optimal\n",
      "Solution: 169 primals, 385 duals\n",
      "Objective: 8.13e+07\n",
      "Solver model: available\n",
      "Solver message: optimal\n",
      "\n",
      "INFO:pypsa.optimization.optimize:The shadow-prices of the constraints Generator-fix-p-lower, Generator-fix-p-upper, Generator-ext-p-lower, Generator-ext-p-upper, StorageUnit-fix-p_dispatch-lower, StorageUnit-fix-p_dispatch-upper, StorageUnit-fix-p_store-lower, StorageUnit-fix-p_store-upper, StorageUnit-fix-state_of_charge-lower, StorageUnit-fix-state_of_charge-upper, StorageUnit-energy_balance were not assigned to the network.\n"
     ]
    },
    {
     "data": {
      "text/plain": [
       "('ok', 'optimal')"
      ]
     },
     "execution_count": 166,
     "metadata": {},
     "output_type": "execute_result"
    }
   ],
   "source": [
    "network.optimize(solver_name='highs')"
   ]
  },
  {
   "cell_type": "markdown",
   "metadata": {},
   "source": [
    "**Results**"
   ]
  },
  {
   "cell_type": "code",
   "execution_count": 167,
   "metadata": {},
   "outputs": [
    {
     "data": {
      "application/vnd.microsoft.datawrangler.viewer.v0+json": {
       "columns": [
        {
         "name": "snapshot",
         "rawType": "datetime64[ns]",
         "type": "datetime"
        },
        {
         "name": "Loadshedding Germany",
         "rawType": "float64",
         "type": "float"
        },
        {
         "name": "Solar Germany",
         "rawType": "float64",
         "type": "float"
        },
        {
         "name": "Gas Germany",
         "rawType": "float64",
         "type": "float"
        },
        {
         "name": "Wind Germany",
         "rawType": "float64",
         "type": "float"
        }
       ],
       "conversionMethod": "pd.DataFrame",
       "ref": "8320d81e-2bda-425c-b44b-43a5b5c36df8",
       "rows": [
        [
         "2015-01-01 00:00:00",
         "-0.0",
         "-0.0",
         "-0.0",
         "39723.0"
        ],
        [
         "2015-01-01 01:00:00",
         "-0.0",
         "-0.0",
         "-0.0",
         "39723.0"
        ],
        [
         "2015-01-01 02:00:00",
         "-0.0",
         "-0.0",
         "-0.0",
         "38813.0"
        ],
        [
         "2015-01-01 03:00:00",
         "-0.0",
         "-0.0",
         "-0.0",
         "38490.0"
        ],
        [
         "2015-01-01 04:00:00",
         "-0.0",
         "-0.0",
         "-0.0",
         "38644.0"
        ]
       ],
       "shape": {
        "columns": 4,
        "rows": 5
       }
      },
      "text/html": [
       "<div>\n",
       "<style scoped>\n",
       "    .dataframe tbody tr th:only-of-type {\n",
       "        vertical-align: middle;\n",
       "    }\n",
       "\n",
       "    .dataframe tbody tr th {\n",
       "        vertical-align: top;\n",
       "    }\n",
       "\n",
       "    .dataframe thead th {\n",
       "        text-align: right;\n",
       "    }\n",
       "</style>\n",
       "<table border=\"1\" class=\"dataframe\">\n",
       "  <thead>\n",
       "    <tr style=\"text-align: right;\">\n",
       "      <th>Generator</th>\n",
       "      <th>Loadshedding Germany</th>\n",
       "      <th>Solar Germany</th>\n",
       "      <th>Gas Germany</th>\n",
       "      <th>Wind Germany</th>\n",
       "    </tr>\n",
       "    <tr>\n",
       "      <th>snapshot</th>\n",
       "      <th></th>\n",
       "      <th></th>\n",
       "      <th></th>\n",
       "      <th></th>\n",
       "    </tr>\n",
       "  </thead>\n",
       "  <tbody>\n",
       "    <tr>\n",
       "      <th>2015-01-01 00:00:00</th>\n",
       "      <td>-0.0</td>\n",
       "      <td>-0.0</td>\n",
       "      <td>-0.0</td>\n",
       "      <td>39723.0</td>\n",
       "    </tr>\n",
       "    <tr>\n",
       "      <th>2015-01-01 01:00:00</th>\n",
       "      <td>-0.0</td>\n",
       "      <td>-0.0</td>\n",
       "      <td>-0.0</td>\n",
       "      <td>39723.0</td>\n",
       "    </tr>\n",
       "    <tr>\n",
       "      <th>2015-01-01 02:00:00</th>\n",
       "      <td>-0.0</td>\n",
       "      <td>-0.0</td>\n",
       "      <td>-0.0</td>\n",
       "      <td>38813.0</td>\n",
       "    </tr>\n",
       "    <tr>\n",
       "      <th>2015-01-01 03:00:00</th>\n",
       "      <td>-0.0</td>\n",
       "      <td>-0.0</td>\n",
       "      <td>-0.0</td>\n",
       "      <td>38490.0</td>\n",
       "    </tr>\n",
       "    <tr>\n",
       "      <th>2015-01-01 04:00:00</th>\n",
       "      <td>-0.0</td>\n",
       "      <td>-0.0</td>\n",
       "      <td>-0.0</td>\n",
       "      <td>38644.0</td>\n",
       "    </tr>\n",
       "  </tbody>\n",
       "</table>\n",
       "</div>"
      ],
      "text/plain": [
       "Generator            Loadshedding Germany  Solar Germany  Gas Germany  \\\n",
       "snapshot                                                                \n",
       "2015-01-01 00:00:00                  -0.0           -0.0         -0.0   \n",
       "2015-01-01 01:00:00                  -0.0           -0.0         -0.0   \n",
       "2015-01-01 02:00:00                  -0.0           -0.0         -0.0   \n",
       "2015-01-01 03:00:00                  -0.0           -0.0         -0.0   \n",
       "2015-01-01 04:00:00                  -0.0           -0.0         -0.0   \n",
       "\n",
       "Generator            Wind Germany  \n",
       "snapshot                           \n",
       "2015-01-01 00:00:00       39723.0  \n",
       "2015-01-01 01:00:00       39723.0  \n",
       "2015-01-01 02:00:00       38813.0  \n",
       "2015-01-01 03:00:00       38490.0  \n",
       "2015-01-01 04:00:00       38644.0  "
      ]
     },
     "execution_count": 167,
     "metadata": {},
     "output_type": "execute_result"
    }
   ],
   "source": [
    "network.generators_t.p.head()"
   ]
  },
  {
   "cell_type": "code",
   "execution_count": 168,
   "metadata": {},
   "outputs": [
    {
     "data": {
      "application/vnd.microsoft.datawrangler.viewer.v0+json": {
       "columns": [
        {
         "name": "snapshot",
         "rawType": "datetime64[ns]",
         "type": "datetime"
        },
        {
         "name": "Germany Battery",
         "rawType": "float64",
         "type": "float"
        }
       ],
       "conversionMethod": "pd.DataFrame",
       "ref": "39abd8f0-a80d-4213-8e02-10df6d90d08d",
       "rows": [
        [
         "2015-01-01 00:00:00",
         "0.0"
        ],
        [
         "2015-01-01 01:00:00",
         "0.0"
        ],
        [
         "2015-01-01 02:00:00",
         "0.0"
        ],
        [
         "2015-01-01 03:00:00",
         "0.0"
        ],
        [
         "2015-01-01 04:00:00",
         "0.0"
        ]
       ],
       "shape": {
        "columns": 1,
        "rows": 5
       }
      },
      "text/html": [
       "<div>\n",
       "<style scoped>\n",
       "    .dataframe tbody tr th:only-of-type {\n",
       "        vertical-align: middle;\n",
       "    }\n",
       "\n",
       "    .dataframe tbody tr th {\n",
       "        vertical-align: top;\n",
       "    }\n",
       "\n",
       "    .dataframe thead th {\n",
       "        text-align: right;\n",
       "    }\n",
       "</style>\n",
       "<table border=\"1\" class=\"dataframe\">\n",
       "  <thead>\n",
       "    <tr style=\"text-align: right;\">\n",
       "      <th>StorageUnit</th>\n",
       "      <th>Germany Battery</th>\n",
       "    </tr>\n",
       "    <tr>\n",
       "      <th>snapshot</th>\n",
       "      <th></th>\n",
       "    </tr>\n",
       "  </thead>\n",
       "  <tbody>\n",
       "    <tr>\n",
       "      <th>2015-01-01 00:00:00</th>\n",
       "      <td>0.0</td>\n",
       "    </tr>\n",
       "    <tr>\n",
       "      <th>2015-01-01 01:00:00</th>\n",
       "      <td>0.0</td>\n",
       "    </tr>\n",
       "    <tr>\n",
       "      <th>2015-01-01 02:00:00</th>\n",
       "      <td>0.0</td>\n",
       "    </tr>\n",
       "    <tr>\n",
       "      <th>2015-01-01 03:00:00</th>\n",
       "      <td>0.0</td>\n",
       "    </tr>\n",
       "    <tr>\n",
       "      <th>2015-01-01 04:00:00</th>\n",
       "      <td>0.0</td>\n",
       "    </tr>\n",
       "  </tbody>\n",
       "</table>\n",
       "</div>"
      ],
      "text/plain": [
       "StorageUnit          Germany Battery\n",
       "snapshot                            \n",
       "2015-01-01 00:00:00              0.0\n",
       "2015-01-01 01:00:00              0.0\n",
       "2015-01-01 02:00:00              0.0\n",
       "2015-01-01 03:00:00              0.0\n",
       "2015-01-01 04:00:00              0.0"
      ]
     },
     "execution_count": 168,
     "metadata": {},
     "output_type": "execute_result"
    }
   ],
   "source": [
    "network.storage_units_t.p.head()"
   ]
  },
  {
   "cell_type": "code",
   "execution_count": 169,
   "metadata": {},
   "outputs": [
    {
     "data": {
      "text/plain": [
       "Load\n",
       "Germany Demand    55000.0\n",
       "Name: p_set, dtype: float64"
      ]
     },
     "execution_count": 169,
     "metadata": {},
     "output_type": "execute_result"
    }
   ],
   "source": [
    "network.loads.p_set"
   ]
  },
  {
   "cell_type": "code",
   "execution_count": 170,
   "metadata": {},
   "outputs": [
    {
     "name": "stderr",
     "output_type": "stream",
     "text": [
      "c:\\Users\\gosai\\anaconda3\\envs\\flex_training_env\\lib\\site-packages\\_plotly_utils\\basevalidators.py:2596: DeprecationWarning:\n",
      "\n",
      "*scattermapbox* is deprecated! Use *scattermap* instead. Learn more at: https://plotly.com/python/mapbox-to-maplibre/\n",
      "\n"
     ]
    },
    {
     "data": {
      "application/vnd.plotly.v1+json": {
       "config": {
        "plotlyServerURL": "https://plot.ly"
       },
       "data": [
        {
         "hovertemplate": "Load=Germany Demand<br>snapshot=%{x}<br>value=%{y}<extra></extra>",
         "legendgroup": "Germany Demand",
         "line": {
          "color": "#636efa",
          "dash": "solid"
         },
         "marker": {
          "symbol": "circle"
         },
         "mode": "lines",
         "name": "Germany Demand",
         "orientation": "v",
         "showlegend": true,
         "type": "scatter",
         "x": [
          "2015-01-01T00:00:00.000000000",
          "2015-01-01T01:00:00.000000000",
          "2015-01-01T02:00:00.000000000",
          "2015-01-01T03:00:00.000000000",
          "2015-01-01T04:00:00.000000000",
          "2015-01-01T05:00:00.000000000",
          "2015-01-01T06:00:00.000000000",
          "2015-01-01T07:00:00.000000000",
          "2015-01-01T08:00:00.000000000",
          "2015-01-01T09:00:00.000000000",
          "2015-01-01T10:00:00.000000000",
          "2015-01-01T11:00:00.000000000",
          "2015-01-01T12:00:00.000000000",
          "2015-01-01T13:00:00.000000000",
          "2015-01-01T14:00:00.000000000",
          "2015-01-01T15:00:00.000000000",
          "2015-01-01T16:00:00.000000000",
          "2015-01-01T17:00:00.000000000",
          "2015-01-01T18:00:00.000000000",
          "2015-01-01T19:00:00.000000000",
          "2015-01-01T20:00:00.000000000",
          "2015-01-01T21:00:00.000000000",
          "2015-01-01T22:00:00.000000000",
          "2015-01-01T23:00:00.000000000"
         ],
         "xaxis": "x",
         "y": {
          "bdata": "AAAAAGBl40AAAAAAYGXjQAAAAACg8+JAAAAAAEDL4kAAAAAAgN7iQAAAAACg7uJAAAAAAOAv4kAAAAAAYLbjQAAAAABAw+RAAAAAAID75UAAAAAAoP/mQAAAAABgOOhAAAAAAMBe6EAAAAAAADXnQAAAAAAg/+ZAAAAAAOAi50AAAAAAAOXnQAAAAAAAiOlAAAAAAOAO6kAAAAAA4K7pQAAAAACAbOhAAAAAAAB850AAAAAAYFfnQAAAAACA6eVA",
          "dtype": "f8"
         },
         "yaxis": "y"
        }
       ],
       "layout": {
        "legend": {
         "title": {
          "text": "Load"
         },
         "tracegroupgap": 0
        },
        "margin": {
         "t": 60
        },
        "template": {
         "data": {
          "bar": [
           {
            "error_x": {
             "color": "#2a3f5f"
            },
            "error_y": {
             "color": "#2a3f5f"
            },
            "marker": {
             "line": {
              "color": "#E5ECF6",
              "width": 0.5
             },
             "pattern": {
              "fillmode": "overlay",
              "size": 10,
              "solidity": 0.2
             }
            },
            "type": "bar"
           }
          ],
          "barpolar": [
           {
            "marker": {
             "line": {
              "color": "#E5ECF6",
              "width": 0.5
             },
             "pattern": {
              "fillmode": "overlay",
              "size": 10,
              "solidity": 0.2
             }
            },
            "type": "barpolar"
           }
          ],
          "carpet": [
           {
            "aaxis": {
             "endlinecolor": "#2a3f5f",
             "gridcolor": "white",
             "linecolor": "white",
             "minorgridcolor": "white",
             "startlinecolor": "#2a3f5f"
            },
            "baxis": {
             "endlinecolor": "#2a3f5f",
             "gridcolor": "white",
             "linecolor": "white",
             "minorgridcolor": "white",
             "startlinecolor": "#2a3f5f"
            },
            "type": "carpet"
           }
          ],
          "choropleth": [
           {
            "colorbar": {
             "outlinewidth": 0,
             "ticks": ""
            },
            "type": "choropleth"
           }
          ],
          "contour": [
           {
            "colorbar": {
             "outlinewidth": 0,
             "ticks": ""
            },
            "colorscale": [
             [
              0,
              "#0d0887"
             ],
             [
              0.1111111111111111,
              "#46039f"
             ],
             [
              0.2222222222222222,
              "#7201a8"
             ],
             [
              0.3333333333333333,
              "#9c179e"
             ],
             [
              0.4444444444444444,
              "#bd3786"
             ],
             [
              0.5555555555555556,
              "#d8576b"
             ],
             [
              0.6666666666666666,
              "#ed7953"
             ],
             [
              0.7777777777777778,
              "#fb9f3a"
             ],
             [
              0.8888888888888888,
              "#fdca26"
             ],
             [
              1,
              "#f0f921"
             ]
            ],
            "type": "contour"
           }
          ],
          "contourcarpet": [
           {
            "colorbar": {
             "outlinewidth": 0,
             "ticks": ""
            },
            "type": "contourcarpet"
           }
          ],
          "heatmap": [
           {
            "colorbar": {
             "outlinewidth": 0,
             "ticks": ""
            },
            "colorscale": [
             [
              0,
              "#0d0887"
             ],
             [
              0.1111111111111111,
              "#46039f"
             ],
             [
              0.2222222222222222,
              "#7201a8"
             ],
             [
              0.3333333333333333,
              "#9c179e"
             ],
             [
              0.4444444444444444,
              "#bd3786"
             ],
             [
              0.5555555555555556,
              "#d8576b"
             ],
             [
              0.6666666666666666,
              "#ed7953"
             ],
             [
              0.7777777777777778,
              "#fb9f3a"
             ],
             [
              0.8888888888888888,
              "#fdca26"
             ],
             [
              1,
              "#f0f921"
             ]
            ],
            "type": "heatmap"
           }
          ],
          "histogram": [
           {
            "marker": {
             "pattern": {
              "fillmode": "overlay",
              "size": 10,
              "solidity": 0.2
             }
            },
            "type": "histogram"
           }
          ],
          "histogram2d": [
           {
            "colorbar": {
             "outlinewidth": 0,
             "ticks": ""
            },
            "colorscale": [
             [
              0,
              "#0d0887"
             ],
             [
              0.1111111111111111,
              "#46039f"
             ],
             [
              0.2222222222222222,
              "#7201a8"
             ],
             [
              0.3333333333333333,
              "#9c179e"
             ],
             [
              0.4444444444444444,
              "#bd3786"
             ],
             [
              0.5555555555555556,
              "#d8576b"
             ],
             [
              0.6666666666666666,
              "#ed7953"
             ],
             [
              0.7777777777777778,
              "#fb9f3a"
             ],
             [
              0.8888888888888888,
              "#fdca26"
             ],
             [
              1,
              "#f0f921"
             ]
            ],
            "type": "histogram2d"
           }
          ],
          "histogram2dcontour": [
           {
            "colorbar": {
             "outlinewidth": 0,
             "ticks": ""
            },
            "colorscale": [
             [
              0,
              "#0d0887"
             ],
             [
              0.1111111111111111,
              "#46039f"
             ],
             [
              0.2222222222222222,
              "#7201a8"
             ],
             [
              0.3333333333333333,
              "#9c179e"
             ],
             [
              0.4444444444444444,
              "#bd3786"
             ],
             [
              0.5555555555555556,
              "#d8576b"
             ],
             [
              0.6666666666666666,
              "#ed7953"
             ],
             [
              0.7777777777777778,
              "#fb9f3a"
             ],
             [
              0.8888888888888888,
              "#fdca26"
             ],
             [
              1,
              "#f0f921"
             ]
            ],
            "type": "histogram2dcontour"
           }
          ],
          "mesh3d": [
           {
            "colorbar": {
             "outlinewidth": 0,
             "ticks": ""
            },
            "type": "mesh3d"
           }
          ],
          "parcoords": [
           {
            "line": {
             "colorbar": {
              "outlinewidth": 0,
              "ticks": ""
             }
            },
            "type": "parcoords"
           }
          ],
          "pie": [
           {
            "automargin": true,
            "type": "pie"
           }
          ],
          "scatter": [
           {
            "fillpattern": {
             "fillmode": "overlay",
             "size": 10,
             "solidity": 0.2
            },
            "type": "scatter"
           }
          ],
          "scatter3d": [
           {
            "line": {
             "colorbar": {
              "outlinewidth": 0,
              "ticks": ""
             }
            },
            "marker": {
             "colorbar": {
              "outlinewidth": 0,
              "ticks": ""
             }
            },
            "type": "scatter3d"
           }
          ],
          "scattercarpet": [
           {
            "marker": {
             "colorbar": {
              "outlinewidth": 0,
              "ticks": ""
             }
            },
            "type": "scattercarpet"
           }
          ],
          "scattergeo": [
           {
            "marker": {
             "colorbar": {
              "outlinewidth": 0,
              "ticks": ""
             }
            },
            "type": "scattergeo"
           }
          ],
          "scattergl": [
           {
            "marker": {
             "colorbar": {
              "outlinewidth": 0,
              "ticks": ""
             }
            },
            "type": "scattergl"
           }
          ],
          "scattermap": [
           {
            "marker": {
             "colorbar": {
              "outlinewidth": 0,
              "ticks": ""
             }
            },
            "type": "scattermap"
           }
          ],
          "scattermapbox": [
           {
            "marker": {
             "colorbar": {
              "outlinewidth": 0,
              "ticks": ""
             }
            },
            "type": "scattermapbox"
           }
          ],
          "scatterpolar": [
           {
            "marker": {
             "colorbar": {
              "outlinewidth": 0,
              "ticks": ""
             }
            },
            "type": "scatterpolar"
           }
          ],
          "scatterpolargl": [
           {
            "marker": {
             "colorbar": {
              "outlinewidth": 0,
              "ticks": ""
             }
            },
            "type": "scatterpolargl"
           }
          ],
          "scatterternary": [
           {
            "marker": {
             "colorbar": {
              "outlinewidth": 0,
              "ticks": ""
             }
            },
            "type": "scatterternary"
           }
          ],
          "surface": [
           {
            "colorbar": {
             "outlinewidth": 0,
             "ticks": ""
            },
            "colorscale": [
             [
              0,
              "#0d0887"
             ],
             [
              0.1111111111111111,
              "#46039f"
             ],
             [
              0.2222222222222222,
              "#7201a8"
             ],
             [
              0.3333333333333333,
              "#9c179e"
             ],
             [
              0.4444444444444444,
              "#bd3786"
             ],
             [
              0.5555555555555556,
              "#d8576b"
             ],
             [
              0.6666666666666666,
              "#ed7953"
             ],
             [
              0.7777777777777778,
              "#fb9f3a"
             ],
             [
              0.8888888888888888,
              "#fdca26"
             ],
             [
              1,
              "#f0f921"
             ]
            ],
            "type": "surface"
           }
          ],
          "table": [
           {
            "cells": {
             "fill": {
              "color": "#EBF0F8"
             },
             "line": {
              "color": "white"
             }
            },
            "header": {
             "fill": {
              "color": "#C8D4E3"
             },
             "line": {
              "color": "white"
             }
            },
            "type": "table"
           }
          ]
         },
         "layout": {
          "annotationdefaults": {
           "arrowcolor": "#2a3f5f",
           "arrowhead": 0,
           "arrowwidth": 1
          },
          "autotypenumbers": "strict",
          "coloraxis": {
           "colorbar": {
            "outlinewidth": 0,
            "ticks": ""
           }
          },
          "colorscale": {
           "diverging": [
            [
             0,
             "#8e0152"
            ],
            [
             0.1,
             "#c51b7d"
            ],
            [
             0.2,
             "#de77ae"
            ],
            [
             0.3,
             "#f1b6da"
            ],
            [
             0.4,
             "#fde0ef"
            ],
            [
             0.5,
             "#f7f7f7"
            ],
            [
             0.6,
             "#e6f5d0"
            ],
            [
             0.7,
             "#b8e186"
            ],
            [
             0.8,
             "#7fbc41"
            ],
            [
             0.9,
             "#4d9221"
            ],
            [
             1,
             "#276419"
            ]
           ],
           "sequential": [
            [
             0,
             "#0d0887"
            ],
            [
             0.1111111111111111,
             "#46039f"
            ],
            [
             0.2222222222222222,
             "#7201a8"
            ],
            [
             0.3333333333333333,
             "#9c179e"
            ],
            [
             0.4444444444444444,
             "#bd3786"
            ],
            [
             0.5555555555555556,
             "#d8576b"
            ],
            [
             0.6666666666666666,
             "#ed7953"
            ],
            [
             0.7777777777777778,
             "#fb9f3a"
            ],
            [
             0.8888888888888888,
             "#fdca26"
            ],
            [
             1,
             "#f0f921"
            ]
           ],
           "sequentialminus": [
            [
             0,
             "#0d0887"
            ],
            [
             0.1111111111111111,
             "#46039f"
            ],
            [
             0.2222222222222222,
             "#7201a8"
            ],
            [
             0.3333333333333333,
             "#9c179e"
            ],
            [
             0.4444444444444444,
             "#bd3786"
            ],
            [
             0.5555555555555556,
             "#d8576b"
            ],
            [
             0.6666666666666666,
             "#ed7953"
            ],
            [
             0.7777777777777778,
             "#fb9f3a"
            ],
            [
             0.8888888888888888,
             "#fdca26"
            ],
            [
             1,
             "#f0f921"
            ]
           ]
          },
          "colorway": [
           "#636efa",
           "#EF553B",
           "#00cc96",
           "#ab63fa",
           "#FFA15A",
           "#19d3f3",
           "#FF6692",
           "#B6E880",
           "#FF97FF",
           "#FECB52"
          ],
          "font": {
           "color": "#2a3f5f"
          },
          "geo": {
           "bgcolor": "white",
           "lakecolor": "white",
           "landcolor": "#E5ECF6",
           "showlakes": true,
           "showland": true,
           "subunitcolor": "white"
          },
          "hoverlabel": {
           "align": "left"
          },
          "hovermode": "closest",
          "mapbox": {
           "style": "light"
          },
          "paper_bgcolor": "white",
          "plot_bgcolor": "#E5ECF6",
          "polar": {
           "angularaxis": {
            "gridcolor": "white",
            "linecolor": "white",
            "ticks": ""
           },
           "bgcolor": "#E5ECF6",
           "radialaxis": {
            "gridcolor": "white",
            "linecolor": "white",
            "ticks": ""
           }
          },
          "scene": {
           "xaxis": {
            "backgroundcolor": "#E5ECF6",
            "gridcolor": "white",
            "gridwidth": 2,
            "linecolor": "white",
            "showbackground": true,
            "ticks": "",
            "zerolinecolor": "white"
           },
           "yaxis": {
            "backgroundcolor": "#E5ECF6",
            "gridcolor": "white",
            "gridwidth": 2,
            "linecolor": "white",
            "showbackground": true,
            "ticks": "",
            "zerolinecolor": "white"
           },
           "zaxis": {
            "backgroundcolor": "#E5ECF6",
            "gridcolor": "white",
            "gridwidth": 2,
            "linecolor": "white",
            "showbackground": true,
            "ticks": "",
            "zerolinecolor": "white"
           }
          },
          "shapedefaults": {
           "line": {
            "color": "#2a3f5f"
           }
          },
          "ternary": {
           "aaxis": {
            "gridcolor": "white",
            "linecolor": "white",
            "ticks": ""
           },
           "baxis": {
            "gridcolor": "white",
            "linecolor": "white",
            "ticks": ""
           },
           "bgcolor": "#E5ECF6",
           "caxis": {
            "gridcolor": "white",
            "linecolor": "white",
            "ticks": ""
           }
          },
          "title": {
           "x": 0.05
          },
          "xaxis": {
           "automargin": true,
           "gridcolor": "white",
           "linecolor": "white",
           "ticks": "",
           "title": {
            "standoff": 15
           },
           "zerolinecolor": "white",
           "zerolinewidth": 2
          },
          "yaxis": {
           "automargin": true,
           "gridcolor": "white",
           "linecolor": "white",
           "ticks": "",
           "title": {
            "standoff": 15
           },
           "zerolinecolor": "white",
           "zerolinewidth": 2
          }
         }
        },
        "xaxis": {
         "anchor": "y",
         "domain": [
          0,
          1
         ],
         "title": {
          "text": "snapshot"
         }
        },
        "yaxis": {
         "anchor": "x",
         "domain": [
          0,
          1
         ],
         "title": {
          "text": "value"
         }
        }
       }
      }
     },
     "metadata": {},
     "output_type": "display_data"
    }
   ],
   "source": [
    "network.loads_t.p.plot()"
   ]
  },
  {
   "cell_type": "code",
   "execution_count": 171,
   "metadata": {},
   "outputs": [
    {
     "name": "stderr",
     "output_type": "stream",
     "text": [
      "c:\\Users\\gosai\\anaconda3\\envs\\flex_training_env\\lib\\site-packages\\_plotly_utils\\basevalidators.py:2596: DeprecationWarning:\n",
      "\n",
      "*scattermapbox* is deprecated! Use *scattermap* instead. Learn more at: https://plotly.com/python/mapbox-to-maplibre/\n",
      "\n"
     ]
    },
    {
     "data": {
      "application/vnd.plotly.v1+json": {
       "config": {
        "plotlyServerURL": "https://plot.ly"
       },
       "data": [
        {
         "fillpattern": {
          "shape": ""
         },
         "hovertemplate": "Generator=Loadshedding Germany<br>snapshot=%{x}<br>value=%{y}<extra></extra>",
         "legendgroup": "Loadshedding Germany",
         "line": {
          "color": "#636efa"
         },
         "marker": {
          "symbol": "circle"
         },
         "mode": "lines",
         "name": "Loadshedding Germany",
         "orientation": "v",
         "showlegend": true,
         "stackgroup": "1",
         "type": "scatter",
         "x": [
          "2015-01-01T00:00:00.000000000",
          "2015-01-01T01:00:00.000000000",
          "2015-01-01T02:00:00.000000000",
          "2015-01-01T03:00:00.000000000",
          "2015-01-01T04:00:00.000000000",
          "2015-01-01T05:00:00.000000000",
          "2015-01-01T06:00:00.000000000",
          "2015-01-01T07:00:00.000000000",
          "2015-01-01T08:00:00.000000000",
          "2015-01-01T09:00:00.000000000",
          "2015-01-01T10:00:00.000000000",
          "2015-01-01T11:00:00.000000000",
          "2015-01-01T12:00:00.000000000",
          "2015-01-01T13:00:00.000000000",
          "2015-01-01T14:00:00.000000000",
          "2015-01-01T15:00:00.000000000",
          "2015-01-01T16:00:00.000000000",
          "2015-01-01T17:00:00.000000000",
          "2015-01-01T18:00:00.000000000",
          "2015-01-01T19:00:00.000000000",
          "2015-01-01T20:00:00.000000000",
          "2015-01-01T21:00:00.000000000",
          "2015-01-01T22:00:00.000000000",
          "2015-01-01T23:00:00.000000000"
         ],
         "xaxis": "x",
         "y": {
          "bdata": "AAAAAAAAAIAAAAAAAAAAgAAAAAAAAACAAAAAAAAAAIAAAAAAAAAAgAAAAAAAAACAAAAAAAAAAIAAAAAAAAAAgAAAAAAAAACAAAAAAAAAAIAAAAAAAAAAgAAAAAAAAACAAAAAAAAAAIAAAAAAAAAAgAAAAAAAAACAAAAAAAAAAIAAAAAAAAAAgAAAAAAAML5AAAAAAAC+pkAAAAAAgBfOQAAAAAAANLhAAAAAAAA40UAAAAAAwGbTQAAAAAAATsJA",
          "dtype": "f8"
         },
         "yaxis": "y"
        },
        {
         "fillpattern": {
          "shape": ""
         },
         "hovertemplate": "Generator=Solar Germany<br>snapshot=%{x}<br>value=%{y}<extra></extra>",
         "legendgroup": "Solar Germany",
         "line": {
          "color": "#EF553B"
         },
         "marker": {
          "symbol": "circle"
         },
         "mode": "lines",
         "name": "Solar Germany",
         "orientation": "v",
         "showlegend": true,
         "stackgroup": "1",
         "type": "scatter",
         "x": [
          "2015-01-01T00:00:00.000000000",
          "2015-01-01T01:00:00.000000000",
          "2015-01-01T02:00:00.000000000",
          "2015-01-01T03:00:00.000000000",
          "2015-01-01T04:00:00.000000000",
          "2015-01-01T05:00:00.000000000",
          "2015-01-01T06:00:00.000000000",
          "2015-01-01T07:00:00.000000000",
          "2015-01-01T08:00:00.000000000",
          "2015-01-01T09:00:00.000000000",
          "2015-01-01T10:00:00.000000000",
          "2015-01-01T11:00:00.000000000",
          "2015-01-01T12:00:00.000000000",
          "2015-01-01T13:00:00.000000000",
          "2015-01-01T14:00:00.000000000",
          "2015-01-01T15:00:00.000000000",
          "2015-01-01T16:00:00.000000000",
          "2015-01-01T17:00:00.000000000",
          "2015-01-01T18:00:00.000000000",
          "2015-01-01T19:00:00.000000000",
          "2015-01-01T20:00:00.000000000",
          "2015-01-01T21:00:00.000000000",
          "2015-01-01T22:00:00.000000000",
          "2015-01-01T23:00:00.000000000"
         ],
         "xaxis": "x",
         "y": {
          "bdata": "AAAAAAAAAIAAAAAAAAAAgAAAAAAAAACAAAAAAAAAAIAAAAAAAAAAgAAAAAAAAACAAAAAAAAAAIAAAAAAAAAAgAAAAAAAAACAZmZmZmZVkEDNzMzMzGimQGZmZmYm0LFAmpmZmVk7tkAAAAAAAIuyQDMzMzMzJahAAAAAAACQj0CamZmZmWlQQAAAAAAAAACAAAAAAAAAAIAAAAAAAAAAgAAAAAAAAACAAAAAAAAAAIAAAAAAAAAAgAAAAAAAAACA",
          "dtype": "f8"
         },
         "yaxis": "y"
        },
        {
         "fillpattern": {
          "shape": ""
         },
         "hovertemplate": "Generator=Gas Germany<br>snapshot=%{x}<br>value=%{y}<extra></extra>",
         "legendgroup": "Gas Germany",
         "line": {
          "color": "#00cc96"
         },
         "marker": {
          "symbol": "circle"
         },
         "mode": "lines",
         "name": "Gas Germany",
         "orientation": "v",
         "showlegend": true,
         "stackgroup": "1",
         "type": "scatter",
         "x": [
          "2015-01-01T00:00:00.000000000",
          "2015-01-01T01:00:00.000000000",
          "2015-01-01T02:00:00.000000000",
          "2015-01-01T03:00:00.000000000",
          "2015-01-01T04:00:00.000000000",
          "2015-01-01T05:00:00.000000000",
          "2015-01-01T06:00:00.000000000",
          "2015-01-01T07:00:00.000000000",
          "2015-01-01T08:00:00.000000000",
          "2015-01-01T09:00:00.000000000",
          "2015-01-01T10:00:00.000000000",
          "2015-01-01T11:00:00.000000000",
          "2015-01-01T12:00:00.000000000",
          "2015-01-01T13:00:00.000000000",
          "2015-01-01T14:00:00.000000000",
          "2015-01-01T15:00:00.000000000",
          "2015-01-01T16:00:00.000000000",
          "2015-01-01T17:00:00.000000000",
          "2015-01-01T18:00:00.000000000",
          "2015-01-01T19:00:00.000000000",
          "2015-01-01T20:00:00.000000000",
          "2015-01-01T21:00:00.000000000",
          "2015-01-01T22:00:00.000000000",
          "2015-01-01T23:00:00.000000000"
         ],
         "xaxis": "x",
         "y": {
          "bdata": "AAAAAAAAAIAAAAAAAAAAgAAAAAAAAACAAAAAAAAAAIAAAAAAAAAAgAAAAAAAAACAAAAAAAAAAIAAAAAAAAAAgAAAAAAAAACAAAAAAAAAAIAAAAAAAAAAgAAAAAAAAACAAAAAAAAAAIAAAAAAAAAAgAAAAAAAAACAAAAAAABQdUCamZmZWXa+QAAAAAAAMMFAAAAAAAAwwUAAAAAAADDBQAAAAAAAMMFAAAAAAAAwwUAAAAAAADDBQAAAAAAAMMFA",
          "dtype": "f8"
         },
         "yaxis": "y"
        },
        {
         "fillpattern": {
          "shape": ""
         },
         "hovertemplate": "Generator=Wind Germany<br>snapshot=%{x}<br>value=%{y}<extra></extra>",
         "legendgroup": "Wind Germany",
         "line": {
          "color": "#ab63fa"
         },
         "marker": {
          "symbol": "circle"
         },
         "mode": "lines",
         "name": "Wind Germany",
         "orientation": "v",
         "showlegend": true,
         "stackgroup": "1",
         "type": "scatter",
         "x": [
          "2015-01-01T00:00:00.000000000",
          "2015-01-01T01:00:00.000000000",
          "2015-01-01T02:00:00.000000000",
          "2015-01-01T03:00:00.000000000",
          "2015-01-01T04:00:00.000000000",
          "2015-01-01T05:00:00.000000000",
          "2015-01-01T06:00:00.000000000",
          "2015-01-01T07:00:00.000000000",
          "2015-01-01T08:00:00.000000000",
          "2015-01-01T09:00:00.000000000",
          "2015-01-01T10:00:00.000000000",
          "2015-01-01T11:00:00.000000000",
          "2015-01-01T12:00:00.000000000",
          "2015-01-01T13:00:00.000000000",
          "2015-01-01T14:00:00.000000000",
          "2015-01-01T15:00:00.000000000",
          "2015-01-01T16:00:00.000000000",
          "2015-01-01T17:00:00.000000000",
          "2015-01-01T18:00:00.000000000",
          "2015-01-01T19:00:00.000000000",
          "2015-01-01T20:00:00.000000000",
          "2015-01-01T21:00:00.000000000",
          "2015-01-01T22:00:00.000000000",
          "2015-01-01T23:00:00.000000000"
         ],
         "xaxis": "x",
         "y": {
          "bdata": "AAAAAGBl40AAAAAAYGXjQAAAAACg8+JAAAAAAEDL4kAAAAAAgN7iQAAAAACg7uJAAAAAAOAv4kAAAAAAYJjoQM3MzMxEC+VAAAAAAAAH6UAAAAAAAEzoQAAAAAAAIOdAAAAAAAAg5kAAAAAAAJDlQAAAAAAAYeZAAAAAAAB65kAAAAAAAA7kQAAAAAAAduFAAAAAAADq3kAAAAAAALrbQAAAAAAAcNhAAAAAAAAo1UAAAAAAALDSQAAAAAAAUNBA",
          "dtype": "f8"
         },
         "yaxis": "y"
        }
       ],
       "layout": {
        "legend": {
         "title": {
          "text": "Generator"
         },
         "tracegroupgap": 0
        },
        "margin": {
         "t": 60
        },
        "template": {
         "data": {
          "bar": [
           {
            "error_x": {
             "color": "#2a3f5f"
            },
            "error_y": {
             "color": "#2a3f5f"
            },
            "marker": {
             "line": {
              "color": "#E5ECF6",
              "width": 0.5
             },
             "pattern": {
              "fillmode": "overlay",
              "size": 10,
              "solidity": 0.2
             }
            },
            "type": "bar"
           }
          ],
          "barpolar": [
           {
            "marker": {
             "line": {
              "color": "#E5ECF6",
              "width": 0.5
             },
             "pattern": {
              "fillmode": "overlay",
              "size": 10,
              "solidity": 0.2
             }
            },
            "type": "barpolar"
           }
          ],
          "carpet": [
           {
            "aaxis": {
             "endlinecolor": "#2a3f5f",
             "gridcolor": "white",
             "linecolor": "white",
             "minorgridcolor": "white",
             "startlinecolor": "#2a3f5f"
            },
            "baxis": {
             "endlinecolor": "#2a3f5f",
             "gridcolor": "white",
             "linecolor": "white",
             "minorgridcolor": "white",
             "startlinecolor": "#2a3f5f"
            },
            "type": "carpet"
           }
          ],
          "choropleth": [
           {
            "colorbar": {
             "outlinewidth": 0,
             "ticks": ""
            },
            "type": "choropleth"
           }
          ],
          "contour": [
           {
            "colorbar": {
             "outlinewidth": 0,
             "ticks": ""
            },
            "colorscale": [
             [
              0,
              "#0d0887"
             ],
             [
              0.1111111111111111,
              "#46039f"
             ],
             [
              0.2222222222222222,
              "#7201a8"
             ],
             [
              0.3333333333333333,
              "#9c179e"
             ],
             [
              0.4444444444444444,
              "#bd3786"
             ],
             [
              0.5555555555555556,
              "#d8576b"
             ],
             [
              0.6666666666666666,
              "#ed7953"
             ],
             [
              0.7777777777777778,
              "#fb9f3a"
             ],
             [
              0.8888888888888888,
              "#fdca26"
             ],
             [
              1,
              "#f0f921"
             ]
            ],
            "type": "contour"
           }
          ],
          "contourcarpet": [
           {
            "colorbar": {
             "outlinewidth": 0,
             "ticks": ""
            },
            "type": "contourcarpet"
           }
          ],
          "heatmap": [
           {
            "colorbar": {
             "outlinewidth": 0,
             "ticks": ""
            },
            "colorscale": [
             [
              0,
              "#0d0887"
             ],
             [
              0.1111111111111111,
              "#46039f"
             ],
             [
              0.2222222222222222,
              "#7201a8"
             ],
             [
              0.3333333333333333,
              "#9c179e"
             ],
             [
              0.4444444444444444,
              "#bd3786"
             ],
             [
              0.5555555555555556,
              "#d8576b"
             ],
             [
              0.6666666666666666,
              "#ed7953"
             ],
             [
              0.7777777777777778,
              "#fb9f3a"
             ],
             [
              0.8888888888888888,
              "#fdca26"
             ],
             [
              1,
              "#f0f921"
             ]
            ],
            "type": "heatmap"
           }
          ],
          "histogram": [
           {
            "marker": {
             "pattern": {
              "fillmode": "overlay",
              "size": 10,
              "solidity": 0.2
             }
            },
            "type": "histogram"
           }
          ],
          "histogram2d": [
           {
            "colorbar": {
             "outlinewidth": 0,
             "ticks": ""
            },
            "colorscale": [
             [
              0,
              "#0d0887"
             ],
             [
              0.1111111111111111,
              "#46039f"
             ],
             [
              0.2222222222222222,
              "#7201a8"
             ],
             [
              0.3333333333333333,
              "#9c179e"
             ],
             [
              0.4444444444444444,
              "#bd3786"
             ],
             [
              0.5555555555555556,
              "#d8576b"
             ],
             [
              0.6666666666666666,
              "#ed7953"
             ],
             [
              0.7777777777777778,
              "#fb9f3a"
             ],
             [
              0.8888888888888888,
              "#fdca26"
             ],
             [
              1,
              "#f0f921"
             ]
            ],
            "type": "histogram2d"
           }
          ],
          "histogram2dcontour": [
           {
            "colorbar": {
             "outlinewidth": 0,
             "ticks": ""
            },
            "colorscale": [
             [
              0,
              "#0d0887"
             ],
             [
              0.1111111111111111,
              "#46039f"
             ],
             [
              0.2222222222222222,
              "#7201a8"
             ],
             [
              0.3333333333333333,
              "#9c179e"
             ],
             [
              0.4444444444444444,
              "#bd3786"
             ],
             [
              0.5555555555555556,
              "#d8576b"
             ],
             [
              0.6666666666666666,
              "#ed7953"
             ],
             [
              0.7777777777777778,
              "#fb9f3a"
             ],
             [
              0.8888888888888888,
              "#fdca26"
             ],
             [
              1,
              "#f0f921"
             ]
            ],
            "type": "histogram2dcontour"
           }
          ],
          "mesh3d": [
           {
            "colorbar": {
             "outlinewidth": 0,
             "ticks": ""
            },
            "type": "mesh3d"
           }
          ],
          "parcoords": [
           {
            "line": {
             "colorbar": {
              "outlinewidth": 0,
              "ticks": ""
             }
            },
            "type": "parcoords"
           }
          ],
          "pie": [
           {
            "automargin": true,
            "type": "pie"
           }
          ],
          "scatter": [
           {
            "fillpattern": {
             "fillmode": "overlay",
             "size": 10,
             "solidity": 0.2
            },
            "type": "scatter"
           }
          ],
          "scatter3d": [
           {
            "line": {
             "colorbar": {
              "outlinewidth": 0,
              "ticks": ""
             }
            },
            "marker": {
             "colorbar": {
              "outlinewidth": 0,
              "ticks": ""
             }
            },
            "type": "scatter3d"
           }
          ],
          "scattercarpet": [
           {
            "marker": {
             "colorbar": {
              "outlinewidth": 0,
              "ticks": ""
             }
            },
            "type": "scattercarpet"
           }
          ],
          "scattergeo": [
           {
            "marker": {
             "colorbar": {
              "outlinewidth": 0,
              "ticks": ""
             }
            },
            "type": "scattergeo"
           }
          ],
          "scattergl": [
           {
            "marker": {
             "colorbar": {
              "outlinewidth": 0,
              "ticks": ""
             }
            },
            "type": "scattergl"
           }
          ],
          "scattermap": [
           {
            "marker": {
             "colorbar": {
              "outlinewidth": 0,
              "ticks": ""
             }
            },
            "type": "scattermap"
           }
          ],
          "scattermapbox": [
           {
            "marker": {
             "colorbar": {
              "outlinewidth": 0,
              "ticks": ""
             }
            },
            "type": "scattermapbox"
           }
          ],
          "scatterpolar": [
           {
            "marker": {
             "colorbar": {
              "outlinewidth": 0,
              "ticks": ""
             }
            },
            "type": "scatterpolar"
           }
          ],
          "scatterpolargl": [
           {
            "marker": {
             "colorbar": {
              "outlinewidth": 0,
              "ticks": ""
             }
            },
            "type": "scatterpolargl"
           }
          ],
          "scatterternary": [
           {
            "marker": {
             "colorbar": {
              "outlinewidth": 0,
              "ticks": ""
             }
            },
            "type": "scatterternary"
           }
          ],
          "surface": [
           {
            "colorbar": {
             "outlinewidth": 0,
             "ticks": ""
            },
            "colorscale": [
             [
              0,
              "#0d0887"
             ],
             [
              0.1111111111111111,
              "#46039f"
             ],
             [
              0.2222222222222222,
              "#7201a8"
             ],
             [
              0.3333333333333333,
              "#9c179e"
             ],
             [
              0.4444444444444444,
              "#bd3786"
             ],
             [
              0.5555555555555556,
              "#d8576b"
             ],
             [
              0.6666666666666666,
              "#ed7953"
             ],
             [
              0.7777777777777778,
              "#fb9f3a"
             ],
             [
              0.8888888888888888,
              "#fdca26"
             ],
             [
              1,
              "#f0f921"
             ]
            ],
            "type": "surface"
           }
          ],
          "table": [
           {
            "cells": {
             "fill": {
              "color": "#EBF0F8"
             },
             "line": {
              "color": "white"
             }
            },
            "header": {
             "fill": {
              "color": "#C8D4E3"
             },
             "line": {
              "color": "white"
             }
            },
            "type": "table"
           }
          ]
         },
         "layout": {
          "annotationdefaults": {
           "arrowcolor": "#2a3f5f",
           "arrowhead": 0,
           "arrowwidth": 1
          },
          "autotypenumbers": "strict",
          "coloraxis": {
           "colorbar": {
            "outlinewidth": 0,
            "ticks": ""
           }
          },
          "colorscale": {
           "diverging": [
            [
             0,
             "#8e0152"
            ],
            [
             0.1,
             "#c51b7d"
            ],
            [
             0.2,
             "#de77ae"
            ],
            [
             0.3,
             "#f1b6da"
            ],
            [
             0.4,
             "#fde0ef"
            ],
            [
             0.5,
             "#f7f7f7"
            ],
            [
             0.6,
             "#e6f5d0"
            ],
            [
             0.7,
             "#b8e186"
            ],
            [
             0.8,
             "#7fbc41"
            ],
            [
             0.9,
             "#4d9221"
            ],
            [
             1,
             "#276419"
            ]
           ],
           "sequential": [
            [
             0,
             "#0d0887"
            ],
            [
             0.1111111111111111,
             "#46039f"
            ],
            [
             0.2222222222222222,
             "#7201a8"
            ],
            [
             0.3333333333333333,
             "#9c179e"
            ],
            [
             0.4444444444444444,
             "#bd3786"
            ],
            [
             0.5555555555555556,
             "#d8576b"
            ],
            [
             0.6666666666666666,
             "#ed7953"
            ],
            [
             0.7777777777777778,
             "#fb9f3a"
            ],
            [
             0.8888888888888888,
             "#fdca26"
            ],
            [
             1,
             "#f0f921"
            ]
           ],
           "sequentialminus": [
            [
             0,
             "#0d0887"
            ],
            [
             0.1111111111111111,
             "#46039f"
            ],
            [
             0.2222222222222222,
             "#7201a8"
            ],
            [
             0.3333333333333333,
             "#9c179e"
            ],
            [
             0.4444444444444444,
             "#bd3786"
            ],
            [
             0.5555555555555556,
             "#d8576b"
            ],
            [
             0.6666666666666666,
             "#ed7953"
            ],
            [
             0.7777777777777778,
             "#fb9f3a"
            ],
            [
             0.8888888888888888,
             "#fdca26"
            ],
            [
             1,
             "#f0f921"
            ]
           ]
          },
          "colorway": [
           "#636efa",
           "#EF553B",
           "#00cc96",
           "#ab63fa",
           "#FFA15A",
           "#19d3f3",
           "#FF6692",
           "#B6E880",
           "#FF97FF",
           "#FECB52"
          ],
          "font": {
           "color": "#2a3f5f"
          },
          "geo": {
           "bgcolor": "white",
           "lakecolor": "white",
           "landcolor": "#E5ECF6",
           "showlakes": true,
           "showland": true,
           "subunitcolor": "white"
          },
          "hoverlabel": {
           "align": "left"
          },
          "hovermode": "closest",
          "mapbox": {
           "style": "light"
          },
          "paper_bgcolor": "white",
          "plot_bgcolor": "#E5ECF6",
          "polar": {
           "angularaxis": {
            "gridcolor": "white",
            "linecolor": "white",
            "ticks": ""
           },
           "bgcolor": "#E5ECF6",
           "radialaxis": {
            "gridcolor": "white",
            "linecolor": "white",
            "ticks": ""
           }
          },
          "scene": {
           "xaxis": {
            "backgroundcolor": "#E5ECF6",
            "gridcolor": "white",
            "gridwidth": 2,
            "linecolor": "white",
            "showbackground": true,
            "ticks": "",
            "zerolinecolor": "white"
           },
           "yaxis": {
            "backgroundcolor": "#E5ECF6",
            "gridcolor": "white",
            "gridwidth": 2,
            "linecolor": "white",
            "showbackground": true,
            "ticks": "",
            "zerolinecolor": "white"
           },
           "zaxis": {
            "backgroundcolor": "#E5ECF6",
            "gridcolor": "white",
            "gridwidth": 2,
            "linecolor": "white",
            "showbackground": true,
            "ticks": "",
            "zerolinecolor": "white"
           }
          },
          "shapedefaults": {
           "line": {
            "color": "#2a3f5f"
           }
          },
          "ternary": {
           "aaxis": {
            "gridcolor": "white",
            "linecolor": "white",
            "ticks": ""
           },
           "baxis": {
            "gridcolor": "white",
            "linecolor": "white",
            "ticks": ""
           },
           "bgcolor": "#E5ECF6",
           "caxis": {
            "gridcolor": "white",
            "linecolor": "white",
            "ticks": ""
           }
          },
          "title": {
           "x": 0.05
          },
          "xaxis": {
           "automargin": true,
           "gridcolor": "white",
           "linecolor": "white",
           "ticks": "",
           "title": {
            "standoff": 15
           },
           "zerolinecolor": "white",
           "zerolinewidth": 2
          },
          "yaxis": {
           "automargin": true,
           "gridcolor": "white",
           "linecolor": "white",
           "ticks": "",
           "title": {
            "standoff": 15
           },
           "zerolinecolor": "white",
           "zerolinewidth": 2
          }
         }
        },
        "xaxis": {
         "anchor": "y",
         "domain": [
          0,
          1
         ],
         "title": {
          "text": "snapshot"
         }
        },
        "yaxis": {
         "anchor": "x",
         "domain": [
          0,
          1
         ],
         "title": {
          "text": "value"
         }
        }
       }
      }
     },
     "metadata": {},
     "output_type": "display_data"
    }
   ],
   "source": [
    "network.generators_t.p.plot(kind = \"area\")"
   ]
  },
  {
   "cell_type": "code",
   "execution_count": 59,
   "metadata": {},
   "outputs": [
    {
     "data": {
      "text/plain": [
       "Generator\n",
       "Loadshedding Germany    30700.0\n",
       "Solar Germany           50500.0\n",
       "Gas Germany              8800.0\n",
       "Name: p_nom_opt, dtype: float64"
      ]
     },
     "execution_count": 59,
     "metadata": {},
     "output_type": "execute_result"
    }
   ],
   "source": [
    "network.generators.p_nom_opt"
   ]
  },
  {
   "cell_type": "code",
   "execution_count": 172,
   "metadata": {},
   "outputs": [
    {
     "name": "stderr",
     "output_type": "stream",
     "text": [
      "c:\\Users\\gosai\\anaconda3\\envs\\flex_training_env\\lib\\site-packages\\_plotly_utils\\basevalidators.py:2596: DeprecationWarning:\n",
      "\n",
      "*scattermapbox* is deprecated! Use *scattermap* instead. Learn more at: https://plotly.com/python/mapbox-to-maplibre/\n",
      "\n"
     ]
    },
    {
     "data": {
      "application/vnd.plotly.v1+json": {
       "config": {
        "plotlyServerURL": "https://plot.ly"
       },
       "data": [
        {
         "hovertemplate": "StorageUnit=Germany Battery<br>snapshot=%{x}<br>value=%{y}<extra></extra>",
         "legendgroup": "Germany Battery",
         "line": {
          "color": "#636efa",
          "dash": "solid"
         },
         "marker": {
          "symbol": "circle"
         },
         "mode": "lines",
         "name": "Germany Battery",
         "orientation": "v",
         "showlegend": true,
         "type": "scatter",
         "x": [
          "2015-01-01T00:00:00.000000000",
          "2015-01-01T01:00:00.000000000",
          "2015-01-01T02:00:00.000000000",
          "2015-01-01T03:00:00.000000000",
          "2015-01-01T04:00:00.000000000",
          "2015-01-01T05:00:00.000000000",
          "2015-01-01T06:00:00.000000000",
          "2015-01-01T07:00:00.000000000",
          "2015-01-01T08:00:00.000000000",
          "2015-01-01T09:00:00.000000000",
          "2015-01-01T10:00:00.000000000",
          "2015-01-01T11:00:00.000000000",
          "2015-01-01T12:00:00.000000000",
          "2015-01-01T13:00:00.000000000",
          "2015-01-01T14:00:00.000000000",
          "2015-01-01T15:00:00.000000000",
          "2015-01-01T16:00:00.000000000",
          "2015-01-01T17:00:00.000000000",
          "2015-01-01T18:00:00.000000000",
          "2015-01-01T19:00:00.000000000",
          "2015-01-01T20:00:00.000000000",
          "2015-01-01T21:00:00.000000000",
          "2015-01-01T22:00:00.000000000",
          "2015-01-01T23:00:00.000000000"
         ],
         "xaxis": "x",
         "y": {
          "bdata": "AAAAAAAAAAAAAAAAAAAAAAAAAAAAAAAAAAAAAAAAAAAAAAAAAAAAAAAAAAAAAAAAAAAAAAAAAAAAAAAAAIjDwEAzMzMzAYLAmJmZmVlxvMBoZmZmZpe1wNDMzMxMGqLAYGZmZmYVkcAAAAAAAIyVwGBmZmZmhpzAAAAAAAAAAAAAAAAAAAAAAAAAAAAAAAAAAAAAAACIw0AAAAAAAAAAAAAAAAAAiMNAAAAAAAAAAAAAAAAAAAAAAAAAAAAAiMNA",
          "dtype": "f8"
         },
         "yaxis": "y"
        }
       ],
       "layout": {
        "legend": {
         "title": {
          "text": "StorageUnit"
         },
         "tracegroupgap": 0
        },
        "margin": {
         "t": 60
        },
        "template": {
         "data": {
          "bar": [
           {
            "error_x": {
             "color": "#2a3f5f"
            },
            "error_y": {
             "color": "#2a3f5f"
            },
            "marker": {
             "line": {
              "color": "#E5ECF6",
              "width": 0.5
             },
             "pattern": {
              "fillmode": "overlay",
              "size": 10,
              "solidity": 0.2
             }
            },
            "type": "bar"
           }
          ],
          "barpolar": [
           {
            "marker": {
             "line": {
              "color": "#E5ECF6",
              "width": 0.5
             },
             "pattern": {
              "fillmode": "overlay",
              "size": 10,
              "solidity": 0.2
             }
            },
            "type": "barpolar"
           }
          ],
          "carpet": [
           {
            "aaxis": {
             "endlinecolor": "#2a3f5f",
             "gridcolor": "white",
             "linecolor": "white",
             "minorgridcolor": "white",
             "startlinecolor": "#2a3f5f"
            },
            "baxis": {
             "endlinecolor": "#2a3f5f",
             "gridcolor": "white",
             "linecolor": "white",
             "minorgridcolor": "white",
             "startlinecolor": "#2a3f5f"
            },
            "type": "carpet"
           }
          ],
          "choropleth": [
           {
            "colorbar": {
             "outlinewidth": 0,
             "ticks": ""
            },
            "type": "choropleth"
           }
          ],
          "contour": [
           {
            "colorbar": {
             "outlinewidth": 0,
             "ticks": ""
            },
            "colorscale": [
             [
              0,
              "#0d0887"
             ],
             [
              0.1111111111111111,
              "#46039f"
             ],
             [
              0.2222222222222222,
              "#7201a8"
             ],
             [
              0.3333333333333333,
              "#9c179e"
             ],
             [
              0.4444444444444444,
              "#bd3786"
             ],
             [
              0.5555555555555556,
              "#d8576b"
             ],
             [
              0.6666666666666666,
              "#ed7953"
             ],
             [
              0.7777777777777778,
              "#fb9f3a"
             ],
             [
              0.8888888888888888,
              "#fdca26"
             ],
             [
              1,
              "#f0f921"
             ]
            ],
            "type": "contour"
           }
          ],
          "contourcarpet": [
           {
            "colorbar": {
             "outlinewidth": 0,
             "ticks": ""
            },
            "type": "contourcarpet"
           }
          ],
          "heatmap": [
           {
            "colorbar": {
             "outlinewidth": 0,
             "ticks": ""
            },
            "colorscale": [
             [
              0,
              "#0d0887"
             ],
             [
              0.1111111111111111,
              "#46039f"
             ],
             [
              0.2222222222222222,
              "#7201a8"
             ],
             [
              0.3333333333333333,
              "#9c179e"
             ],
             [
              0.4444444444444444,
              "#bd3786"
             ],
             [
              0.5555555555555556,
              "#d8576b"
             ],
             [
              0.6666666666666666,
              "#ed7953"
             ],
             [
              0.7777777777777778,
              "#fb9f3a"
             ],
             [
              0.8888888888888888,
              "#fdca26"
             ],
             [
              1,
              "#f0f921"
             ]
            ],
            "type": "heatmap"
           }
          ],
          "histogram": [
           {
            "marker": {
             "pattern": {
              "fillmode": "overlay",
              "size": 10,
              "solidity": 0.2
             }
            },
            "type": "histogram"
           }
          ],
          "histogram2d": [
           {
            "colorbar": {
             "outlinewidth": 0,
             "ticks": ""
            },
            "colorscale": [
             [
              0,
              "#0d0887"
             ],
             [
              0.1111111111111111,
              "#46039f"
             ],
             [
              0.2222222222222222,
              "#7201a8"
             ],
             [
              0.3333333333333333,
              "#9c179e"
             ],
             [
              0.4444444444444444,
              "#bd3786"
             ],
             [
              0.5555555555555556,
              "#d8576b"
             ],
             [
              0.6666666666666666,
              "#ed7953"
             ],
             [
              0.7777777777777778,
              "#fb9f3a"
             ],
             [
              0.8888888888888888,
              "#fdca26"
             ],
             [
              1,
              "#f0f921"
             ]
            ],
            "type": "histogram2d"
           }
          ],
          "histogram2dcontour": [
           {
            "colorbar": {
             "outlinewidth": 0,
             "ticks": ""
            },
            "colorscale": [
             [
              0,
              "#0d0887"
             ],
             [
              0.1111111111111111,
              "#46039f"
             ],
             [
              0.2222222222222222,
              "#7201a8"
             ],
             [
              0.3333333333333333,
              "#9c179e"
             ],
             [
              0.4444444444444444,
              "#bd3786"
             ],
             [
              0.5555555555555556,
              "#d8576b"
             ],
             [
              0.6666666666666666,
              "#ed7953"
             ],
             [
              0.7777777777777778,
              "#fb9f3a"
             ],
             [
              0.8888888888888888,
              "#fdca26"
             ],
             [
              1,
              "#f0f921"
             ]
            ],
            "type": "histogram2dcontour"
           }
          ],
          "mesh3d": [
           {
            "colorbar": {
             "outlinewidth": 0,
             "ticks": ""
            },
            "type": "mesh3d"
           }
          ],
          "parcoords": [
           {
            "line": {
             "colorbar": {
              "outlinewidth": 0,
              "ticks": ""
             }
            },
            "type": "parcoords"
           }
          ],
          "pie": [
           {
            "automargin": true,
            "type": "pie"
           }
          ],
          "scatter": [
           {
            "fillpattern": {
             "fillmode": "overlay",
             "size": 10,
             "solidity": 0.2
            },
            "type": "scatter"
           }
          ],
          "scatter3d": [
           {
            "line": {
             "colorbar": {
              "outlinewidth": 0,
              "ticks": ""
             }
            },
            "marker": {
             "colorbar": {
              "outlinewidth": 0,
              "ticks": ""
             }
            },
            "type": "scatter3d"
           }
          ],
          "scattercarpet": [
           {
            "marker": {
             "colorbar": {
              "outlinewidth": 0,
              "ticks": ""
             }
            },
            "type": "scattercarpet"
           }
          ],
          "scattergeo": [
           {
            "marker": {
             "colorbar": {
              "outlinewidth": 0,
              "ticks": ""
             }
            },
            "type": "scattergeo"
           }
          ],
          "scattergl": [
           {
            "marker": {
             "colorbar": {
              "outlinewidth": 0,
              "ticks": ""
             }
            },
            "type": "scattergl"
           }
          ],
          "scattermap": [
           {
            "marker": {
             "colorbar": {
              "outlinewidth": 0,
              "ticks": ""
             }
            },
            "type": "scattermap"
           }
          ],
          "scattermapbox": [
           {
            "marker": {
             "colorbar": {
              "outlinewidth": 0,
              "ticks": ""
             }
            },
            "type": "scattermapbox"
           }
          ],
          "scatterpolar": [
           {
            "marker": {
             "colorbar": {
              "outlinewidth": 0,
              "ticks": ""
             }
            },
            "type": "scatterpolar"
           }
          ],
          "scatterpolargl": [
           {
            "marker": {
             "colorbar": {
              "outlinewidth": 0,
              "ticks": ""
             }
            },
            "type": "scatterpolargl"
           }
          ],
          "scatterternary": [
           {
            "marker": {
             "colorbar": {
              "outlinewidth": 0,
              "ticks": ""
             }
            },
            "type": "scatterternary"
           }
          ],
          "surface": [
           {
            "colorbar": {
             "outlinewidth": 0,
             "ticks": ""
            },
            "colorscale": [
             [
              0,
              "#0d0887"
             ],
             [
              0.1111111111111111,
              "#46039f"
             ],
             [
              0.2222222222222222,
              "#7201a8"
             ],
             [
              0.3333333333333333,
              "#9c179e"
             ],
             [
              0.4444444444444444,
              "#bd3786"
             ],
             [
              0.5555555555555556,
              "#d8576b"
             ],
             [
              0.6666666666666666,
              "#ed7953"
             ],
             [
              0.7777777777777778,
              "#fb9f3a"
             ],
             [
              0.8888888888888888,
              "#fdca26"
             ],
             [
              1,
              "#f0f921"
             ]
            ],
            "type": "surface"
           }
          ],
          "table": [
           {
            "cells": {
             "fill": {
              "color": "#EBF0F8"
             },
             "line": {
              "color": "white"
             }
            },
            "header": {
             "fill": {
              "color": "#C8D4E3"
             },
             "line": {
              "color": "white"
             }
            },
            "type": "table"
           }
          ]
         },
         "layout": {
          "annotationdefaults": {
           "arrowcolor": "#2a3f5f",
           "arrowhead": 0,
           "arrowwidth": 1
          },
          "autotypenumbers": "strict",
          "coloraxis": {
           "colorbar": {
            "outlinewidth": 0,
            "ticks": ""
           }
          },
          "colorscale": {
           "diverging": [
            [
             0,
             "#8e0152"
            ],
            [
             0.1,
             "#c51b7d"
            ],
            [
             0.2,
             "#de77ae"
            ],
            [
             0.3,
             "#f1b6da"
            ],
            [
             0.4,
             "#fde0ef"
            ],
            [
             0.5,
             "#f7f7f7"
            ],
            [
             0.6,
             "#e6f5d0"
            ],
            [
             0.7,
             "#b8e186"
            ],
            [
             0.8,
             "#7fbc41"
            ],
            [
             0.9,
             "#4d9221"
            ],
            [
             1,
             "#276419"
            ]
           ],
           "sequential": [
            [
             0,
             "#0d0887"
            ],
            [
             0.1111111111111111,
             "#46039f"
            ],
            [
             0.2222222222222222,
             "#7201a8"
            ],
            [
             0.3333333333333333,
             "#9c179e"
            ],
            [
             0.4444444444444444,
             "#bd3786"
            ],
            [
             0.5555555555555556,
             "#d8576b"
            ],
            [
             0.6666666666666666,
             "#ed7953"
            ],
            [
             0.7777777777777778,
             "#fb9f3a"
            ],
            [
             0.8888888888888888,
             "#fdca26"
            ],
            [
             1,
             "#f0f921"
            ]
           ],
           "sequentialminus": [
            [
             0,
             "#0d0887"
            ],
            [
             0.1111111111111111,
             "#46039f"
            ],
            [
             0.2222222222222222,
             "#7201a8"
            ],
            [
             0.3333333333333333,
             "#9c179e"
            ],
            [
             0.4444444444444444,
             "#bd3786"
            ],
            [
             0.5555555555555556,
             "#d8576b"
            ],
            [
             0.6666666666666666,
             "#ed7953"
            ],
            [
             0.7777777777777778,
             "#fb9f3a"
            ],
            [
             0.8888888888888888,
             "#fdca26"
            ],
            [
             1,
             "#f0f921"
            ]
           ]
          },
          "colorway": [
           "#636efa",
           "#EF553B",
           "#00cc96",
           "#ab63fa",
           "#FFA15A",
           "#19d3f3",
           "#FF6692",
           "#B6E880",
           "#FF97FF",
           "#FECB52"
          ],
          "font": {
           "color": "#2a3f5f"
          },
          "geo": {
           "bgcolor": "white",
           "lakecolor": "white",
           "landcolor": "#E5ECF6",
           "showlakes": true,
           "showland": true,
           "subunitcolor": "white"
          },
          "hoverlabel": {
           "align": "left"
          },
          "hovermode": "closest",
          "mapbox": {
           "style": "light"
          },
          "paper_bgcolor": "white",
          "plot_bgcolor": "#E5ECF6",
          "polar": {
           "angularaxis": {
            "gridcolor": "white",
            "linecolor": "white",
            "ticks": ""
           },
           "bgcolor": "#E5ECF6",
           "radialaxis": {
            "gridcolor": "white",
            "linecolor": "white",
            "ticks": ""
           }
          },
          "scene": {
           "xaxis": {
            "backgroundcolor": "#E5ECF6",
            "gridcolor": "white",
            "gridwidth": 2,
            "linecolor": "white",
            "showbackground": true,
            "ticks": "",
            "zerolinecolor": "white"
           },
           "yaxis": {
            "backgroundcolor": "#E5ECF6",
            "gridcolor": "white",
            "gridwidth": 2,
            "linecolor": "white",
            "showbackground": true,
            "ticks": "",
            "zerolinecolor": "white"
           },
           "zaxis": {
            "backgroundcolor": "#E5ECF6",
            "gridcolor": "white",
            "gridwidth": 2,
            "linecolor": "white",
            "showbackground": true,
            "ticks": "",
            "zerolinecolor": "white"
           }
          },
          "shapedefaults": {
           "line": {
            "color": "#2a3f5f"
           }
          },
          "ternary": {
           "aaxis": {
            "gridcolor": "white",
            "linecolor": "white",
            "ticks": ""
           },
           "baxis": {
            "gridcolor": "white",
            "linecolor": "white",
            "ticks": ""
           },
           "bgcolor": "#E5ECF6",
           "caxis": {
            "gridcolor": "white",
            "linecolor": "white",
            "ticks": ""
           }
          },
          "title": {
           "x": 0.05
          },
          "xaxis": {
           "automargin": true,
           "gridcolor": "white",
           "linecolor": "white",
           "ticks": "",
           "title": {
            "standoff": 15
           },
           "zerolinecolor": "white",
           "zerolinewidth": 2
          },
          "yaxis": {
           "automargin": true,
           "gridcolor": "white",
           "linecolor": "white",
           "ticks": "",
           "title": {
            "standoff": 15
           },
           "zerolinecolor": "white",
           "zerolinewidth": 2
          }
         }
        },
        "xaxis": {
         "anchor": "y",
         "domain": [
          0,
          1
         ],
         "title": {
          "text": "snapshot"
         }
        },
        "yaxis": {
         "anchor": "x",
         "domain": [
          0,
          1
         ],
         "title": {
          "text": "value"
         }
        }
       }
      }
     },
     "metadata": {},
     "output_type": "display_data"
    }
   ],
   "source": [
    "network.storage_units_t.p.plot()"
   ]
  },
  {
   "cell_type": "code",
   "execution_count": 175,
   "metadata": {},
   "outputs": [
    {
     "name": "stderr",
     "output_type": "stream",
     "text": [
      "c:\\Users\\gosai\\anaconda3\\envs\\flex_training_env\\lib\\site-packages\\_plotly_utils\\basevalidators.py:2596: DeprecationWarning:\n",
      "\n",
      "*scattermapbox* is deprecated! Use *scattermap* instead. Learn more at: https://plotly.com/python/mapbox-to-maplibre/\n",
      "\n"
     ]
    },
    {
     "data": {
      "application/vnd.plotly.v1+json": {
       "config": {
        "plotlyServerURL": "https://plot.ly"
       },
       "data": [
        {
         "hovertemplate": "StorageUnit=Germany Battery<br>snapshot=%{x}<br>value=%{y}<extra></extra>",
         "legendgroup": "Germany Battery",
         "line": {
          "color": "#636efa",
          "dash": "solid"
         },
         "marker": {
          "symbol": "circle"
         },
         "mode": "lines",
         "name": "Germany Battery",
         "orientation": "v",
         "showlegend": true,
         "type": "scatter",
         "x": [
          "2015-01-01T00:00:00.000000000",
          "2015-01-01T01:00:00.000000000",
          "2015-01-01T02:00:00.000000000",
          "2015-01-01T03:00:00.000000000",
          "2015-01-01T04:00:00.000000000",
          "2015-01-01T05:00:00.000000000",
          "2015-01-01T06:00:00.000000000",
          "2015-01-01T07:00:00.000000000",
          "2015-01-01T08:00:00.000000000",
          "2015-01-01T09:00:00.000000000",
          "2015-01-01T10:00:00.000000000",
          "2015-01-01T11:00:00.000000000",
          "2015-01-01T12:00:00.000000000",
          "2015-01-01T13:00:00.000000000",
          "2015-01-01T14:00:00.000000000",
          "2015-01-01T15:00:00.000000000",
          "2015-01-01T16:00:00.000000000",
          "2015-01-01T17:00:00.000000000",
          "2015-01-01T18:00:00.000000000",
          "2015-01-01T19:00:00.000000000",
          "2015-01-01T20:00:00.000000000",
          "2015-01-01T21:00:00.000000000",
          "2015-01-01T22:00:00.000000000",
          "2015-01-01T23:00:00.000000000"
         ],
         "xaxis": "x",
         "y": {
          "bdata": "AAAAAAAAAIAAAAAAAAAAgAAAAAAAAACAAAAAAAAAAIAAAAAAAAAAgAAAAAAAAACAAAAAAAAAAIBVVVVVVVXVP2AxEPH8j9Y/PzVeukkM4z9AlFX+ovHoP3zVyoRfaus/+B4uOe6U7D9HYm9PfQ3uPwAAAAAAAPA/AAAAAAAA8D8AAAAAAADwPwAAAAAAAPA/VVVVVVVV5T9VVVVVVVXlP1VVVVVVVdU/VVVVVVVV1T9VVVVVVVXVPwAAAAAAAACA",
          "dtype": "f8"
         },
         "yaxis": "y"
        }
       ],
       "layout": {
        "legend": {
         "title": {
          "text": "StorageUnit"
         },
         "tracegroupgap": 0
        },
        "margin": {
         "t": 60
        },
        "template": {
         "data": {
          "bar": [
           {
            "error_x": {
             "color": "#2a3f5f"
            },
            "error_y": {
             "color": "#2a3f5f"
            },
            "marker": {
             "line": {
              "color": "#E5ECF6",
              "width": 0.5
             },
             "pattern": {
              "fillmode": "overlay",
              "size": 10,
              "solidity": 0.2
             }
            },
            "type": "bar"
           }
          ],
          "barpolar": [
           {
            "marker": {
             "line": {
              "color": "#E5ECF6",
              "width": 0.5
             },
             "pattern": {
              "fillmode": "overlay",
              "size": 10,
              "solidity": 0.2
             }
            },
            "type": "barpolar"
           }
          ],
          "carpet": [
           {
            "aaxis": {
             "endlinecolor": "#2a3f5f",
             "gridcolor": "white",
             "linecolor": "white",
             "minorgridcolor": "white",
             "startlinecolor": "#2a3f5f"
            },
            "baxis": {
             "endlinecolor": "#2a3f5f",
             "gridcolor": "white",
             "linecolor": "white",
             "minorgridcolor": "white",
             "startlinecolor": "#2a3f5f"
            },
            "type": "carpet"
           }
          ],
          "choropleth": [
           {
            "colorbar": {
             "outlinewidth": 0,
             "ticks": ""
            },
            "type": "choropleth"
           }
          ],
          "contour": [
           {
            "colorbar": {
             "outlinewidth": 0,
             "ticks": ""
            },
            "colorscale": [
             [
              0,
              "#0d0887"
             ],
             [
              0.1111111111111111,
              "#46039f"
             ],
             [
              0.2222222222222222,
              "#7201a8"
             ],
             [
              0.3333333333333333,
              "#9c179e"
             ],
             [
              0.4444444444444444,
              "#bd3786"
             ],
             [
              0.5555555555555556,
              "#d8576b"
             ],
             [
              0.6666666666666666,
              "#ed7953"
             ],
             [
              0.7777777777777778,
              "#fb9f3a"
             ],
             [
              0.8888888888888888,
              "#fdca26"
             ],
             [
              1,
              "#f0f921"
             ]
            ],
            "type": "contour"
           }
          ],
          "contourcarpet": [
           {
            "colorbar": {
             "outlinewidth": 0,
             "ticks": ""
            },
            "type": "contourcarpet"
           }
          ],
          "heatmap": [
           {
            "colorbar": {
             "outlinewidth": 0,
             "ticks": ""
            },
            "colorscale": [
             [
              0,
              "#0d0887"
             ],
             [
              0.1111111111111111,
              "#46039f"
             ],
             [
              0.2222222222222222,
              "#7201a8"
             ],
             [
              0.3333333333333333,
              "#9c179e"
             ],
             [
              0.4444444444444444,
              "#bd3786"
             ],
             [
              0.5555555555555556,
              "#d8576b"
             ],
             [
              0.6666666666666666,
              "#ed7953"
             ],
             [
              0.7777777777777778,
              "#fb9f3a"
             ],
             [
              0.8888888888888888,
              "#fdca26"
             ],
             [
              1,
              "#f0f921"
             ]
            ],
            "type": "heatmap"
           }
          ],
          "histogram": [
           {
            "marker": {
             "pattern": {
              "fillmode": "overlay",
              "size": 10,
              "solidity": 0.2
             }
            },
            "type": "histogram"
           }
          ],
          "histogram2d": [
           {
            "colorbar": {
             "outlinewidth": 0,
             "ticks": ""
            },
            "colorscale": [
             [
              0,
              "#0d0887"
             ],
             [
              0.1111111111111111,
              "#46039f"
             ],
             [
              0.2222222222222222,
              "#7201a8"
             ],
             [
              0.3333333333333333,
              "#9c179e"
             ],
             [
              0.4444444444444444,
              "#bd3786"
             ],
             [
              0.5555555555555556,
              "#d8576b"
             ],
             [
              0.6666666666666666,
              "#ed7953"
             ],
             [
              0.7777777777777778,
              "#fb9f3a"
             ],
             [
              0.8888888888888888,
              "#fdca26"
             ],
             [
              1,
              "#f0f921"
             ]
            ],
            "type": "histogram2d"
           }
          ],
          "histogram2dcontour": [
           {
            "colorbar": {
             "outlinewidth": 0,
             "ticks": ""
            },
            "colorscale": [
             [
              0,
              "#0d0887"
             ],
             [
              0.1111111111111111,
              "#46039f"
             ],
             [
              0.2222222222222222,
              "#7201a8"
             ],
             [
              0.3333333333333333,
              "#9c179e"
             ],
             [
              0.4444444444444444,
              "#bd3786"
             ],
             [
              0.5555555555555556,
              "#d8576b"
             ],
             [
              0.6666666666666666,
              "#ed7953"
             ],
             [
              0.7777777777777778,
              "#fb9f3a"
             ],
             [
              0.8888888888888888,
              "#fdca26"
             ],
             [
              1,
              "#f0f921"
             ]
            ],
            "type": "histogram2dcontour"
           }
          ],
          "mesh3d": [
           {
            "colorbar": {
             "outlinewidth": 0,
             "ticks": ""
            },
            "type": "mesh3d"
           }
          ],
          "parcoords": [
           {
            "line": {
             "colorbar": {
              "outlinewidth": 0,
              "ticks": ""
             }
            },
            "type": "parcoords"
           }
          ],
          "pie": [
           {
            "automargin": true,
            "type": "pie"
           }
          ],
          "scatter": [
           {
            "fillpattern": {
             "fillmode": "overlay",
             "size": 10,
             "solidity": 0.2
            },
            "type": "scatter"
           }
          ],
          "scatter3d": [
           {
            "line": {
             "colorbar": {
              "outlinewidth": 0,
              "ticks": ""
             }
            },
            "marker": {
             "colorbar": {
              "outlinewidth": 0,
              "ticks": ""
             }
            },
            "type": "scatter3d"
           }
          ],
          "scattercarpet": [
           {
            "marker": {
             "colorbar": {
              "outlinewidth": 0,
              "ticks": ""
             }
            },
            "type": "scattercarpet"
           }
          ],
          "scattergeo": [
           {
            "marker": {
             "colorbar": {
              "outlinewidth": 0,
              "ticks": ""
             }
            },
            "type": "scattergeo"
           }
          ],
          "scattergl": [
           {
            "marker": {
             "colorbar": {
              "outlinewidth": 0,
              "ticks": ""
             }
            },
            "type": "scattergl"
           }
          ],
          "scattermap": [
           {
            "marker": {
             "colorbar": {
              "outlinewidth": 0,
              "ticks": ""
             }
            },
            "type": "scattermap"
           }
          ],
          "scattermapbox": [
           {
            "marker": {
             "colorbar": {
              "outlinewidth": 0,
              "ticks": ""
             }
            },
            "type": "scattermapbox"
           }
          ],
          "scatterpolar": [
           {
            "marker": {
             "colorbar": {
              "outlinewidth": 0,
              "ticks": ""
             }
            },
            "type": "scatterpolar"
           }
          ],
          "scatterpolargl": [
           {
            "marker": {
             "colorbar": {
              "outlinewidth": 0,
              "ticks": ""
             }
            },
            "type": "scatterpolargl"
           }
          ],
          "scatterternary": [
           {
            "marker": {
             "colorbar": {
              "outlinewidth": 0,
              "ticks": ""
             }
            },
            "type": "scatterternary"
           }
          ],
          "surface": [
           {
            "colorbar": {
             "outlinewidth": 0,
             "ticks": ""
            },
            "colorscale": [
             [
              0,
              "#0d0887"
             ],
             [
              0.1111111111111111,
              "#46039f"
             ],
             [
              0.2222222222222222,
              "#7201a8"
             ],
             [
              0.3333333333333333,
              "#9c179e"
             ],
             [
              0.4444444444444444,
              "#bd3786"
             ],
             [
              0.5555555555555556,
              "#d8576b"
             ],
             [
              0.6666666666666666,
              "#ed7953"
             ],
             [
              0.7777777777777778,
              "#fb9f3a"
             ],
             [
              0.8888888888888888,
              "#fdca26"
             ],
             [
              1,
              "#f0f921"
             ]
            ],
            "type": "surface"
           }
          ],
          "table": [
           {
            "cells": {
             "fill": {
              "color": "#EBF0F8"
             },
             "line": {
              "color": "white"
             }
            },
            "header": {
             "fill": {
              "color": "#C8D4E3"
             },
             "line": {
              "color": "white"
             }
            },
            "type": "table"
           }
          ]
         },
         "layout": {
          "annotationdefaults": {
           "arrowcolor": "#2a3f5f",
           "arrowhead": 0,
           "arrowwidth": 1
          },
          "autotypenumbers": "strict",
          "coloraxis": {
           "colorbar": {
            "outlinewidth": 0,
            "ticks": ""
           }
          },
          "colorscale": {
           "diverging": [
            [
             0,
             "#8e0152"
            ],
            [
             0.1,
             "#c51b7d"
            ],
            [
             0.2,
             "#de77ae"
            ],
            [
             0.3,
             "#f1b6da"
            ],
            [
             0.4,
             "#fde0ef"
            ],
            [
             0.5,
             "#f7f7f7"
            ],
            [
             0.6,
             "#e6f5d0"
            ],
            [
             0.7,
             "#b8e186"
            ],
            [
             0.8,
             "#7fbc41"
            ],
            [
             0.9,
             "#4d9221"
            ],
            [
             1,
             "#276419"
            ]
           ],
           "sequential": [
            [
             0,
             "#0d0887"
            ],
            [
             0.1111111111111111,
             "#46039f"
            ],
            [
             0.2222222222222222,
             "#7201a8"
            ],
            [
             0.3333333333333333,
             "#9c179e"
            ],
            [
             0.4444444444444444,
             "#bd3786"
            ],
            [
             0.5555555555555556,
             "#d8576b"
            ],
            [
             0.6666666666666666,
             "#ed7953"
            ],
            [
             0.7777777777777778,
             "#fb9f3a"
            ],
            [
             0.8888888888888888,
             "#fdca26"
            ],
            [
             1,
             "#f0f921"
            ]
           ],
           "sequentialminus": [
            [
             0,
             "#0d0887"
            ],
            [
             0.1111111111111111,
             "#46039f"
            ],
            [
             0.2222222222222222,
             "#7201a8"
            ],
            [
             0.3333333333333333,
             "#9c179e"
            ],
            [
             0.4444444444444444,
             "#bd3786"
            ],
            [
             0.5555555555555556,
             "#d8576b"
            ],
            [
             0.6666666666666666,
             "#ed7953"
            ],
            [
             0.7777777777777778,
             "#fb9f3a"
            ],
            [
             0.8888888888888888,
             "#fdca26"
            ],
            [
             1,
             "#f0f921"
            ]
           ]
          },
          "colorway": [
           "#636efa",
           "#EF553B",
           "#00cc96",
           "#ab63fa",
           "#FFA15A",
           "#19d3f3",
           "#FF6692",
           "#B6E880",
           "#FF97FF",
           "#FECB52"
          ],
          "font": {
           "color": "#2a3f5f"
          },
          "geo": {
           "bgcolor": "white",
           "lakecolor": "white",
           "landcolor": "#E5ECF6",
           "showlakes": true,
           "showland": true,
           "subunitcolor": "white"
          },
          "hoverlabel": {
           "align": "left"
          },
          "hovermode": "closest",
          "mapbox": {
           "style": "light"
          },
          "paper_bgcolor": "white",
          "plot_bgcolor": "#E5ECF6",
          "polar": {
           "angularaxis": {
            "gridcolor": "white",
            "linecolor": "white",
            "ticks": ""
           },
           "bgcolor": "#E5ECF6",
           "radialaxis": {
            "gridcolor": "white",
            "linecolor": "white",
            "ticks": ""
           }
          },
          "scene": {
           "xaxis": {
            "backgroundcolor": "#E5ECF6",
            "gridcolor": "white",
            "gridwidth": 2,
            "linecolor": "white",
            "showbackground": true,
            "ticks": "",
            "zerolinecolor": "white"
           },
           "yaxis": {
            "backgroundcolor": "#E5ECF6",
            "gridcolor": "white",
            "gridwidth": 2,
            "linecolor": "white",
            "showbackground": true,
            "ticks": "",
            "zerolinecolor": "white"
           },
           "zaxis": {
            "backgroundcolor": "#E5ECF6",
            "gridcolor": "white",
            "gridwidth": 2,
            "linecolor": "white",
            "showbackground": true,
            "ticks": "",
            "zerolinecolor": "white"
           }
          },
          "shapedefaults": {
           "line": {
            "color": "#2a3f5f"
           }
          },
          "ternary": {
           "aaxis": {
            "gridcolor": "white",
            "linecolor": "white",
            "ticks": ""
           },
           "baxis": {
            "gridcolor": "white",
            "linecolor": "white",
            "ticks": ""
           },
           "bgcolor": "#E5ECF6",
           "caxis": {
            "gridcolor": "white",
            "linecolor": "white",
            "ticks": ""
           }
          },
          "title": {
           "x": 0.05
          },
          "xaxis": {
           "automargin": true,
           "gridcolor": "white",
           "linecolor": "white",
           "ticks": "",
           "title": {
            "standoff": 15
           },
           "zerolinecolor": "white",
           "zerolinewidth": 2
          },
          "yaxis": {
           "automargin": true,
           "gridcolor": "white",
           "linecolor": "white",
           "ticks": "",
           "title": {
            "standoff": 15
           },
           "zerolinecolor": "white",
           "zerolinewidth": 2
          }
         }
        },
        "xaxis": {
         "anchor": "y",
         "domain": [
          0,
          1
         ],
         "title": {
          "text": "snapshot"
         }
        },
        "yaxis": {
         "anchor": "x",
         "domain": [
          0,
          1
         ],
         "title": {
          "text": "value"
         }
        }
       }
      }
     },
     "metadata": {},
     "output_type": "display_data"
    }
   ],
   "source": [
    "(network.storage_units_t.state_of_charge/network.storage_units.p_nom/network.storage_units.max_hours).plot()"
   ]
  },
  {
   "cell_type": "code",
   "execution_count": null,
   "metadata": {},
   "outputs": [
    {
     "name": "stderr",
     "output_type": "stream",
     "text": [
      "c:\\Users\\gosai\\anaconda3\\envs\\flex_training_env\\lib\\site-packages\\_plotly_utils\\basevalidators.py:2596: DeprecationWarning:\n",
      "\n",
      "*scattermapbox* is deprecated! Use *scattermap* instead. Learn more at: https://plotly.com/python/mapbox-to-maplibre/\n",
      "\n"
     ]
    },
    {
     "data": {
      "application/vnd.plotly.v1+json": {
       "config": {
        "plotlyServerURL": "https://plot.ly"
       },
       "data": [
        {
         "fillpattern": {
          "shape": ""
         },
         "hovertemplate": "Generator=Loadshedding Germany<br>snapshot=%{x}<br>value=%{y}<extra></extra>",
         "legendgroup": "Loadshedding Germany",
         "line": {
          "color": "#636efa"
         },
         "marker": {
          "symbol": "circle"
         },
         "mode": "lines",
         "name": "Loadshedding Germany",
         "orientation": "v",
         "showlegend": true,
         "stackgroup": "1",
         "type": "scatter",
         "x": [
          "2015-01-01T00:00:00.000000000",
          "2015-01-01T01:00:00.000000000",
          "2015-01-01T02:00:00.000000000",
          "2015-01-01T03:00:00.000000000",
          "2015-01-01T04:00:00.000000000",
          "2015-01-01T05:00:00.000000000",
          "2015-01-01T06:00:00.000000000",
          "2015-01-01T07:00:00.000000000",
          "2015-01-01T08:00:00.000000000",
          "2015-01-01T09:00:00.000000000",
          "2015-01-01T10:00:00.000000000",
          "2015-01-01T11:00:00.000000000",
          "2015-01-01T12:00:00.000000000",
          "2015-01-01T13:00:00.000000000",
          "2015-01-01T14:00:00.000000000",
          "2015-01-01T15:00:00.000000000",
          "2015-01-01T16:00:00.000000000",
          "2015-01-01T17:00:00.000000000",
          "2015-01-01T18:00:00.000000000",
          "2015-01-01T19:00:00.000000000",
          "2015-01-01T20:00:00.000000000",
          "2015-01-01T21:00:00.000000000",
          "2015-01-01T22:00:00.000000000",
          "2015-01-01T23:00:00.000000000"
         ],
         "xaxis": "x",
         "y": {
          "bdata": "AAAAAAAAAIAAAAAAAAAAgAAAAAAAAACAAAAAAAAAAIAAAAAAAAAAgAAAAAAAAACAAAAAAAAAAIAAAAAAAAAAgAAAAAAAAACAAAAAAAAAAIAAAAAAAAAAgAAAAAAAAACAAAAAAAAAAIAAAAAAAAAAgAAAAAAAAACAAAAAAAAAAIAAAAAAAAAAgAAAAAAAML5AAAAAAAC+pkAAAAAAgBfOQAAAAAAANLhAAAAAAAA40UAAAAAAwGbTQAAAAAAATsJA",
          "dtype": "f8"
         },
         "yaxis": "y"
        },
        {
         "fillpattern": {
          "shape": ""
         },
         "hovertemplate": "Generator=Solar Germany<br>snapshot=%{x}<br>value=%{y}<extra></extra>",
         "legendgroup": "Solar Germany",
         "line": {
          "color": "#EF553B"
         },
         "marker": {
          "symbol": "circle"
         },
         "mode": "lines",
         "name": "Solar Germany",
         "orientation": "v",
         "showlegend": true,
         "stackgroup": "1",
         "type": "scatter",
         "x": [
          "2015-01-01T00:00:00.000000000",
          "2015-01-01T01:00:00.000000000",
          "2015-01-01T02:00:00.000000000",
          "2015-01-01T03:00:00.000000000",
          "2015-01-01T04:00:00.000000000",
          "2015-01-01T05:00:00.000000000",
          "2015-01-01T06:00:00.000000000",
          "2015-01-01T07:00:00.000000000",
          "2015-01-01T08:00:00.000000000",
          "2015-01-01T09:00:00.000000000",
          "2015-01-01T10:00:00.000000000",
          "2015-01-01T11:00:00.000000000",
          "2015-01-01T12:00:00.000000000",
          "2015-01-01T13:00:00.000000000",
          "2015-01-01T14:00:00.000000000",
          "2015-01-01T15:00:00.000000000",
          "2015-01-01T16:00:00.000000000",
          "2015-01-01T17:00:00.000000000",
          "2015-01-01T18:00:00.000000000",
          "2015-01-01T19:00:00.000000000",
          "2015-01-01T20:00:00.000000000",
          "2015-01-01T21:00:00.000000000",
          "2015-01-01T22:00:00.000000000",
          "2015-01-01T23:00:00.000000000"
         ],
         "xaxis": "x",
         "y": {
          "bdata": "AAAAAAAAAIAAAAAAAAAAgAAAAAAAAACAAAAAAAAAAIAAAAAAAAAAgAAAAAAAAACAAAAAAAAAAIAAAAAAAAAAgAAAAAAAAACAZmZmZmZVkEDNzMzMzGimQGZmZmYm0LFAmpmZmVk7tkAAAAAAAIuyQDMzMzMzJahAAAAAAACQj0CamZmZmWlQQAAAAAAAAACAAAAAAAAAAIAAAAAAAAAAgAAAAAAAAACAAAAAAAAAAIAAAAAAAAAAgAAAAAAAAACA",
          "dtype": "f8"
         },
         "yaxis": "y"
        },
        {
         "fillpattern": {
          "shape": ""
         },
         "hovertemplate": "Generator=Gas Germany<br>snapshot=%{x}<br>value=%{y}<extra></extra>",
         "legendgroup": "Gas Germany",
         "line": {
          "color": "#00cc96"
         },
         "marker": {
          "symbol": "circle"
         },
         "mode": "lines",
         "name": "Gas Germany",
         "orientation": "v",
         "showlegend": true,
         "stackgroup": "1",
         "type": "scatter",
         "x": [
          "2015-01-01T00:00:00.000000000",
          "2015-01-01T01:00:00.000000000",
          "2015-01-01T02:00:00.000000000",
          "2015-01-01T03:00:00.000000000",
          "2015-01-01T04:00:00.000000000",
          "2015-01-01T05:00:00.000000000",
          "2015-01-01T06:00:00.000000000",
          "2015-01-01T07:00:00.000000000",
          "2015-01-01T08:00:00.000000000",
          "2015-01-01T09:00:00.000000000",
          "2015-01-01T10:00:00.000000000",
          "2015-01-01T11:00:00.000000000",
          "2015-01-01T12:00:00.000000000",
          "2015-01-01T13:00:00.000000000",
          "2015-01-01T14:00:00.000000000",
          "2015-01-01T15:00:00.000000000",
          "2015-01-01T16:00:00.000000000",
          "2015-01-01T17:00:00.000000000",
          "2015-01-01T18:00:00.000000000",
          "2015-01-01T19:00:00.000000000",
          "2015-01-01T20:00:00.000000000",
          "2015-01-01T21:00:00.000000000",
          "2015-01-01T22:00:00.000000000",
          "2015-01-01T23:00:00.000000000"
         ],
         "xaxis": "x",
         "y": {
          "bdata": "AAAAAAAAAIAAAAAAAAAAgAAAAAAAAACAAAAAAAAAAIAAAAAAAAAAgAAAAAAAAACAAAAAAAAAAIAAAAAAAAAAgAAAAAAAAACAAAAAAAAAAIAAAAAAAAAAgAAAAAAAAACAAAAAAAAAAIAAAAAAAAAAgAAAAAAAAACAAAAAAABQdUCamZmZWXa+QAAAAAAAMMFAAAAAAAAwwUAAAAAAADDBQAAAAAAAMMFAAAAAAAAwwUAAAAAAADDBQAAAAAAAMMFA",
          "dtype": "f8"
         },
         "yaxis": "y"
        },
        {
         "fillpattern": {
          "shape": ""
         },
         "hovertemplate": "Generator=Wind Germany<br>snapshot=%{x}<br>value=%{y}<extra></extra>",
         "legendgroup": "Wind Germany",
         "line": {
          "color": "#ab63fa"
         },
         "marker": {
          "symbol": "circle"
         },
         "mode": "lines",
         "name": "Wind Germany",
         "orientation": "v",
         "showlegend": true,
         "stackgroup": "1",
         "type": "scatter",
         "x": [
          "2015-01-01T00:00:00.000000000",
          "2015-01-01T01:00:00.000000000",
          "2015-01-01T02:00:00.000000000",
          "2015-01-01T03:00:00.000000000",
          "2015-01-01T04:00:00.000000000",
          "2015-01-01T05:00:00.000000000",
          "2015-01-01T06:00:00.000000000",
          "2015-01-01T07:00:00.000000000",
          "2015-01-01T08:00:00.000000000",
          "2015-01-01T09:00:00.000000000",
          "2015-01-01T10:00:00.000000000",
          "2015-01-01T11:00:00.000000000",
          "2015-01-01T12:00:00.000000000",
          "2015-01-01T13:00:00.000000000",
          "2015-01-01T14:00:00.000000000",
          "2015-01-01T15:00:00.000000000",
          "2015-01-01T16:00:00.000000000",
          "2015-01-01T17:00:00.000000000",
          "2015-01-01T18:00:00.000000000",
          "2015-01-01T19:00:00.000000000",
          "2015-01-01T20:00:00.000000000",
          "2015-01-01T21:00:00.000000000",
          "2015-01-01T22:00:00.000000000",
          "2015-01-01T23:00:00.000000000"
         ],
         "xaxis": "x",
         "y": {
          "bdata": "AAAAAGBl40AAAAAAYGXjQAAAAACg8+JAAAAAAEDL4kAAAAAAgN7iQAAAAACg7uJAAAAAAOAv4kAAAAAAYJjoQM3MzMxEC+VAAAAAAAAH6UAAAAAAAEzoQAAAAAAAIOdAAAAAAAAg5kAAAAAAAJDlQAAAAAAAYeZAAAAAAAB65kAAAAAAAA7kQAAAAAAAduFAAAAAAADq3kAAAAAAALrbQAAAAAAAcNhAAAAAAAAo1UAAAAAAALDSQAAAAAAAUNBA",
          "dtype": "f8"
         },
         "yaxis": "y"
        },
        {
         "fillpattern": {
          "shape": ""
         },
         "hovertemplate": "Generator=Germany Battery<br>snapshot=%{x}<br>value=%{y}<extra></extra>",
         "legendgroup": "Germany Battery",
         "line": {
          "color": "#FFA15A"
         },
         "marker": {
          "symbol": "circle"
         },
         "mode": "lines",
         "name": "Germany Battery",
         "orientation": "v",
         "showlegend": true,
         "stackgroup": "1",
         "type": "scatter",
         "x": [
          "2015-01-01T00:00:00.000000000",
          "2015-01-01T01:00:00.000000000",
          "2015-01-01T02:00:00.000000000",
          "2015-01-01T03:00:00.000000000",
          "2015-01-01T04:00:00.000000000",
          "2015-01-01T05:00:00.000000000",
          "2015-01-01T06:00:00.000000000",
          "2015-01-01T07:00:00.000000000",
          "2015-01-01T08:00:00.000000000",
          "2015-01-01T09:00:00.000000000",
          "2015-01-01T10:00:00.000000000",
          "2015-01-01T11:00:00.000000000",
          "2015-01-01T12:00:00.000000000",
          "2015-01-01T13:00:00.000000000",
          "2015-01-01T14:00:00.000000000",
          "2015-01-01T15:00:00.000000000",
          "2015-01-01T16:00:00.000000000",
          "2015-01-01T17:00:00.000000000",
          "2015-01-01T18:00:00.000000000",
          "2015-01-01T19:00:00.000000000",
          "2015-01-01T20:00:00.000000000",
          "2015-01-01T21:00:00.000000000",
          "2015-01-01T22:00:00.000000000",
          "2015-01-01T23:00:00.000000000"
         ],
         "xaxis": "x",
         "y": {
          "bdata": "AAAAAAAAAAAAAAAAAAAAAAAAAAAAAAAAAAAAAAAAAAAAAAAAAAAAAAAAAAAAAAAAAAAAAAAAAAAAAAAAAIjDwEAzMzMzAYLAmJmZmVlxvMBoZmZmZpe1wNDMzMxMGqLAYGZmZmYVkcAAAAAAAIyVwGBmZmZmhpzAAAAAAAAAAAAAAAAAAAAAAAAAAAAAAAAAAAAAAACIw0AAAAAAAAAAAAAAAAAAiMNAAAAAAAAAAAAAAAAAAAAAAAAAAAAAiMNA",
          "dtype": "f8"
         },
         "yaxis": "y"
        }
       ],
       "layout": {
        "legend": {
         "title": {
          "text": "Generator"
         },
         "tracegroupgap": 0
        },
        "margin": {
         "t": 60
        },
        "template": {
         "data": {
          "bar": [
           {
            "error_x": {
             "color": "#2a3f5f"
            },
            "error_y": {
             "color": "#2a3f5f"
            },
            "marker": {
             "line": {
              "color": "#E5ECF6",
              "width": 0.5
             },
             "pattern": {
              "fillmode": "overlay",
              "size": 10,
              "solidity": 0.2
             }
            },
            "type": "bar"
           }
          ],
          "barpolar": [
           {
            "marker": {
             "line": {
              "color": "#E5ECF6",
              "width": 0.5
             },
             "pattern": {
              "fillmode": "overlay",
              "size": 10,
              "solidity": 0.2
             }
            },
            "type": "barpolar"
           }
          ],
          "carpet": [
           {
            "aaxis": {
             "endlinecolor": "#2a3f5f",
             "gridcolor": "white",
             "linecolor": "white",
             "minorgridcolor": "white",
             "startlinecolor": "#2a3f5f"
            },
            "baxis": {
             "endlinecolor": "#2a3f5f",
             "gridcolor": "white",
             "linecolor": "white",
             "minorgridcolor": "white",
             "startlinecolor": "#2a3f5f"
            },
            "type": "carpet"
           }
          ],
          "choropleth": [
           {
            "colorbar": {
             "outlinewidth": 0,
             "ticks": ""
            },
            "type": "choropleth"
           }
          ],
          "contour": [
           {
            "colorbar": {
             "outlinewidth": 0,
             "ticks": ""
            },
            "colorscale": [
             [
              0,
              "#0d0887"
             ],
             [
              0.1111111111111111,
              "#46039f"
             ],
             [
              0.2222222222222222,
              "#7201a8"
             ],
             [
              0.3333333333333333,
              "#9c179e"
             ],
             [
              0.4444444444444444,
              "#bd3786"
             ],
             [
              0.5555555555555556,
              "#d8576b"
             ],
             [
              0.6666666666666666,
              "#ed7953"
             ],
             [
              0.7777777777777778,
              "#fb9f3a"
             ],
             [
              0.8888888888888888,
              "#fdca26"
             ],
             [
              1,
              "#f0f921"
             ]
            ],
            "type": "contour"
           }
          ],
          "contourcarpet": [
           {
            "colorbar": {
             "outlinewidth": 0,
             "ticks": ""
            },
            "type": "contourcarpet"
           }
          ],
          "heatmap": [
           {
            "colorbar": {
             "outlinewidth": 0,
             "ticks": ""
            },
            "colorscale": [
             [
              0,
              "#0d0887"
             ],
             [
              0.1111111111111111,
              "#46039f"
             ],
             [
              0.2222222222222222,
              "#7201a8"
             ],
             [
              0.3333333333333333,
              "#9c179e"
             ],
             [
              0.4444444444444444,
              "#bd3786"
             ],
             [
              0.5555555555555556,
              "#d8576b"
             ],
             [
              0.6666666666666666,
              "#ed7953"
             ],
             [
              0.7777777777777778,
              "#fb9f3a"
             ],
             [
              0.8888888888888888,
              "#fdca26"
             ],
             [
              1,
              "#f0f921"
             ]
            ],
            "type": "heatmap"
           }
          ],
          "histogram": [
           {
            "marker": {
             "pattern": {
              "fillmode": "overlay",
              "size": 10,
              "solidity": 0.2
             }
            },
            "type": "histogram"
           }
          ],
          "histogram2d": [
           {
            "colorbar": {
             "outlinewidth": 0,
             "ticks": ""
            },
            "colorscale": [
             [
              0,
              "#0d0887"
             ],
             [
              0.1111111111111111,
              "#46039f"
             ],
             [
              0.2222222222222222,
              "#7201a8"
             ],
             [
              0.3333333333333333,
              "#9c179e"
             ],
             [
              0.4444444444444444,
              "#bd3786"
             ],
             [
              0.5555555555555556,
              "#d8576b"
             ],
             [
              0.6666666666666666,
              "#ed7953"
             ],
             [
              0.7777777777777778,
              "#fb9f3a"
             ],
             [
              0.8888888888888888,
              "#fdca26"
             ],
             [
              1,
              "#f0f921"
             ]
            ],
            "type": "histogram2d"
           }
          ],
          "histogram2dcontour": [
           {
            "colorbar": {
             "outlinewidth": 0,
             "ticks": ""
            },
            "colorscale": [
             [
              0,
              "#0d0887"
             ],
             [
              0.1111111111111111,
              "#46039f"
             ],
             [
              0.2222222222222222,
              "#7201a8"
             ],
             [
              0.3333333333333333,
              "#9c179e"
             ],
             [
              0.4444444444444444,
              "#bd3786"
             ],
             [
              0.5555555555555556,
              "#d8576b"
             ],
             [
              0.6666666666666666,
              "#ed7953"
             ],
             [
              0.7777777777777778,
              "#fb9f3a"
             ],
             [
              0.8888888888888888,
              "#fdca26"
             ],
             [
              1,
              "#f0f921"
             ]
            ],
            "type": "histogram2dcontour"
           }
          ],
          "mesh3d": [
           {
            "colorbar": {
             "outlinewidth": 0,
             "ticks": ""
            },
            "type": "mesh3d"
           }
          ],
          "parcoords": [
           {
            "line": {
             "colorbar": {
              "outlinewidth": 0,
              "ticks": ""
             }
            },
            "type": "parcoords"
           }
          ],
          "pie": [
           {
            "automargin": true,
            "type": "pie"
           }
          ],
          "scatter": [
           {
            "fillpattern": {
             "fillmode": "overlay",
             "size": 10,
             "solidity": 0.2
            },
            "type": "scatter"
           }
          ],
          "scatter3d": [
           {
            "line": {
             "colorbar": {
              "outlinewidth": 0,
              "ticks": ""
             }
            },
            "marker": {
             "colorbar": {
              "outlinewidth": 0,
              "ticks": ""
             }
            },
            "type": "scatter3d"
           }
          ],
          "scattercarpet": [
           {
            "marker": {
             "colorbar": {
              "outlinewidth": 0,
              "ticks": ""
             }
            },
            "type": "scattercarpet"
           }
          ],
          "scattergeo": [
           {
            "marker": {
             "colorbar": {
              "outlinewidth": 0,
              "ticks": ""
             }
            },
            "type": "scattergeo"
           }
          ],
          "scattergl": [
           {
            "marker": {
             "colorbar": {
              "outlinewidth": 0,
              "ticks": ""
             }
            },
            "type": "scattergl"
           }
          ],
          "scattermap": [
           {
            "marker": {
             "colorbar": {
              "outlinewidth": 0,
              "ticks": ""
             }
            },
            "type": "scattermap"
           }
          ],
          "scattermapbox": [
           {
            "marker": {
             "colorbar": {
              "outlinewidth": 0,
              "ticks": ""
             }
            },
            "type": "scattermapbox"
           }
          ],
          "scatterpolar": [
           {
            "marker": {
             "colorbar": {
              "outlinewidth": 0,
              "ticks": ""
             }
            },
            "type": "scatterpolar"
           }
          ],
          "scatterpolargl": [
           {
            "marker": {
             "colorbar": {
              "outlinewidth": 0,
              "ticks": ""
             }
            },
            "type": "scatterpolargl"
           }
          ],
          "scatterternary": [
           {
            "marker": {
             "colorbar": {
              "outlinewidth": 0,
              "ticks": ""
             }
            },
            "type": "scatterternary"
           }
          ],
          "surface": [
           {
            "colorbar": {
             "outlinewidth": 0,
             "ticks": ""
            },
            "colorscale": [
             [
              0,
              "#0d0887"
             ],
             [
              0.1111111111111111,
              "#46039f"
             ],
             [
              0.2222222222222222,
              "#7201a8"
             ],
             [
              0.3333333333333333,
              "#9c179e"
             ],
             [
              0.4444444444444444,
              "#bd3786"
             ],
             [
              0.5555555555555556,
              "#d8576b"
             ],
             [
              0.6666666666666666,
              "#ed7953"
             ],
             [
              0.7777777777777778,
              "#fb9f3a"
             ],
             [
              0.8888888888888888,
              "#fdca26"
             ],
             [
              1,
              "#f0f921"
             ]
            ],
            "type": "surface"
           }
          ],
          "table": [
           {
            "cells": {
             "fill": {
              "color": "#EBF0F8"
             },
             "line": {
              "color": "white"
             }
            },
            "header": {
             "fill": {
              "color": "#C8D4E3"
             },
             "line": {
              "color": "white"
             }
            },
            "type": "table"
           }
          ]
         },
         "layout": {
          "annotationdefaults": {
           "arrowcolor": "#2a3f5f",
           "arrowhead": 0,
           "arrowwidth": 1
          },
          "autotypenumbers": "strict",
          "coloraxis": {
           "colorbar": {
            "outlinewidth": 0,
            "ticks": ""
           }
          },
          "colorscale": {
           "diverging": [
            [
             0,
             "#8e0152"
            ],
            [
             0.1,
             "#c51b7d"
            ],
            [
             0.2,
             "#de77ae"
            ],
            [
             0.3,
             "#f1b6da"
            ],
            [
             0.4,
             "#fde0ef"
            ],
            [
             0.5,
             "#f7f7f7"
            ],
            [
             0.6,
             "#e6f5d0"
            ],
            [
             0.7,
             "#b8e186"
            ],
            [
             0.8,
             "#7fbc41"
            ],
            [
             0.9,
             "#4d9221"
            ],
            [
             1,
             "#276419"
            ]
           ],
           "sequential": [
            [
             0,
             "#0d0887"
            ],
            [
             0.1111111111111111,
             "#46039f"
            ],
            [
             0.2222222222222222,
             "#7201a8"
            ],
            [
             0.3333333333333333,
             "#9c179e"
            ],
            [
             0.4444444444444444,
             "#bd3786"
            ],
            [
             0.5555555555555556,
             "#d8576b"
            ],
            [
             0.6666666666666666,
             "#ed7953"
            ],
            [
             0.7777777777777778,
             "#fb9f3a"
            ],
            [
             0.8888888888888888,
             "#fdca26"
            ],
            [
             1,
             "#f0f921"
            ]
           ],
           "sequentialminus": [
            [
             0,
             "#0d0887"
            ],
            [
             0.1111111111111111,
             "#46039f"
            ],
            [
             0.2222222222222222,
             "#7201a8"
            ],
            [
             0.3333333333333333,
             "#9c179e"
            ],
            [
             0.4444444444444444,
             "#bd3786"
            ],
            [
             0.5555555555555556,
             "#d8576b"
            ],
            [
             0.6666666666666666,
             "#ed7953"
            ],
            [
             0.7777777777777778,
             "#fb9f3a"
            ],
            [
             0.8888888888888888,
             "#fdca26"
            ],
            [
             1,
             "#f0f921"
            ]
           ]
          },
          "colorway": [
           "#636efa",
           "#EF553B",
           "#00cc96",
           "#ab63fa",
           "#FFA15A",
           "#19d3f3",
           "#FF6692",
           "#B6E880",
           "#FF97FF",
           "#FECB52"
          ],
          "font": {
           "color": "#2a3f5f"
          },
          "geo": {
           "bgcolor": "white",
           "lakecolor": "white",
           "landcolor": "#E5ECF6",
           "showlakes": true,
           "showland": true,
           "subunitcolor": "white"
          },
          "hoverlabel": {
           "align": "left"
          },
          "hovermode": "closest",
          "mapbox": {
           "style": "light"
          },
          "paper_bgcolor": "white",
          "plot_bgcolor": "#E5ECF6",
          "polar": {
           "angularaxis": {
            "gridcolor": "white",
            "linecolor": "white",
            "ticks": ""
           },
           "bgcolor": "#E5ECF6",
           "radialaxis": {
            "gridcolor": "white",
            "linecolor": "white",
            "ticks": ""
           }
          },
          "scene": {
           "xaxis": {
            "backgroundcolor": "#E5ECF6",
            "gridcolor": "white",
            "gridwidth": 2,
            "linecolor": "white",
            "showbackground": true,
            "ticks": "",
            "zerolinecolor": "white"
           },
           "yaxis": {
            "backgroundcolor": "#E5ECF6",
            "gridcolor": "white",
            "gridwidth": 2,
            "linecolor": "white",
            "showbackground": true,
            "ticks": "",
            "zerolinecolor": "white"
           },
           "zaxis": {
            "backgroundcolor": "#E5ECF6",
            "gridcolor": "white",
            "gridwidth": 2,
            "linecolor": "white",
            "showbackground": true,
            "ticks": "",
            "zerolinecolor": "white"
           }
          },
          "shapedefaults": {
           "line": {
            "color": "#2a3f5f"
           }
          },
          "ternary": {
           "aaxis": {
            "gridcolor": "white",
            "linecolor": "white",
            "ticks": ""
           },
           "baxis": {
            "gridcolor": "white",
            "linecolor": "white",
            "ticks": ""
           },
           "bgcolor": "#E5ECF6",
           "caxis": {
            "gridcolor": "white",
            "linecolor": "white",
            "ticks": ""
           }
          },
          "title": {
           "x": 0.05
          },
          "xaxis": {
           "automargin": true,
           "gridcolor": "white",
           "linecolor": "white",
           "ticks": "",
           "title": {
            "standoff": 15
           },
           "zerolinecolor": "white",
           "zerolinewidth": 2
          },
          "yaxis": {
           "automargin": true,
           "gridcolor": "white",
           "linecolor": "white",
           "ticks": "",
           "title": {
            "standoff": 15
           },
           "zerolinecolor": "white",
           "zerolinewidth": 2
          }
         }
        },
        "xaxis": {
         "anchor": "y",
         "domain": [
          0,
          1
         ],
         "title": {
          "text": "snapshot"
         }
        },
        "yaxis": {
         "anchor": "x",
         "domain": [
          0,
          1
         ],
         "title": {
          "text": "value"
         }
        }
       }
      }
     },
     "metadata": {},
     "output_type": "display_data"
    }
   ],
   "source": [
    "df_dispatch = network.generators_t.p.copy()\n",
    "df_dispatch['Germany Battery'] = network.storage_units_t.p['Germany Battery']\n",
    "df_dispatch.plot(kind = 'area')"
   ]
  },
  {
   "cell_type": "code",
   "execution_count": 179,
   "metadata": {},
   "outputs": [
    {
     "data": {
      "application/vnd.microsoft.datawrangler.viewer.v0+json": {
       "columns": [
        {
         "name": "snapshot",
         "rawType": "datetime64[ns]",
         "type": "datetime"
        },
        {
         "name": "Loadshedding Germany",
         "rawType": "float64",
         "type": "float"
        },
        {
         "name": "Solar Germany",
         "rawType": "float64",
         "type": "float"
        },
        {
         "name": "Gas Germany",
         "rawType": "float64",
         "type": "float"
        },
        {
         "name": "Wind Germany",
         "rawType": "float64",
         "type": "float"
        },
        {
         "name": "Germany Battery",
         "rawType": "float64",
         "type": "float"
        }
       ],
       "conversionMethod": "pd.DataFrame",
       "ref": "e36b4958-166c-42d1-af29-9ae788e672d2",
       "rows": [
        [
         "2015-01-01 00:00:00",
         "-0.0",
         "-0.0",
         "-0.0",
         "39723.0",
         "0.0"
        ],
        [
         "2015-01-01 01:00:00",
         "-0.0",
         "-0.0",
         "-0.0",
         "39723.0",
         "0.0"
        ],
        [
         "2015-01-01 02:00:00",
         "-0.0",
         "-0.0",
         "-0.0",
         "38813.0",
         "0.0"
        ],
        [
         "2015-01-01 03:00:00",
         "-0.0",
         "-0.0",
         "-0.0",
         "38490.0",
         "0.0"
        ],
        [
         "2015-01-01 04:00:00",
         "-0.0",
         "-0.0",
         "-0.0",
         "38644.0",
         "0.0"
        ],
        [
         "2015-01-01 05:00:00",
         "-0.0",
         "-0.0",
         "-0.0",
         "38773.0",
         "0.0"
        ],
        [
         "2015-01-01 06:00:00",
         "-0.0",
         "-0.0",
         "-0.0",
         "37247.0",
         "0.0"
        ],
        [
         "2015-01-01 07:00:00",
         "-0.0",
         "-0.0",
         "-0.0",
         "50371.0",
         "-10000.0"
        ],
        [
         "2015-01-01 08:00:00",
         "-0.0",
         "-0.0",
         "-0.0",
         "43098.15",
         "-576.1500000000015"
        ],
        [
         "2015-01-01 09:00:00",
         "-0.0",
         "1045.35",
         "-0.0",
         "51256.0",
         "-7281.3499999999985"
        ],
        [
         "2015-01-01 10:00:00",
         "-0.0",
         "2868.4",
         "-0.0",
         "49760.0",
         "-5527.4000000000015"
        ],
        [
         "2015-01-01 11:00:00",
         "-0.0",
         "4560.15",
         "-0.0",
         "47360.0",
         "-2317.1500000000015"
        ],
        [
         "2015-01-01 12:00:00",
         "-0.0",
         "5691.35",
         "-0.0",
         "45312.0",
         "-1093.3499999999985"
        ],
        [
         "2015-01-01 13:00:00",
         "-0.0",
         "4747.0",
         "-0.0",
         "44160.0",
         "-1379.0"
        ],
        [
         "2015-01-01 14:00:00",
         "-0.0",
         "3090.6",
         "-0.0",
         "45832.0",
         "-1825.5999999999985"
        ],
        [
         "2015-01-01 15:00:00",
         "-0.0",
         "1010.0",
         "341.0",
         "46032.0",
         "0.0"
        ],
        [
         "2015-01-01 16:00:00",
         "-0.0",
         "65.65",
         "7798.35",
         "41072.0",
         "0.0"
        ],
        [
         "2015-01-01 17:00:00",
         "7728.0",
         "-0.0",
         "8800.0",
         "35760.0",
         "0.0"
        ],
        [
         "2015-01-01 18:00:00",
         "2911.0",
         "-0.0",
         "8800.0",
         "31656.0",
         "10000.0"
        ],
        [
         "2015-01-01 19:00:00",
         "15407.0",
         "-0.0",
         "8800.0",
         "28392.0",
         "0.0"
        ],
        [
         "2015-01-01 20:00:00",
         "6196.0",
         "-0.0",
         "8800.0",
         "25024.0",
         "10000.0"
        ],
        [
         "2015-01-01 21:00:00",
         "17632.0",
         "-0.0",
         "8800.0",
         "21664.0",
         "0.0"
        ],
        [
         "2015-01-01 22:00:00",
         "19867.0",
         "-0.0",
         "8800.0",
         "19136.0",
         "0.0"
        ],
        [
         "2015-01-01 23:00:00",
         "9372.0",
         "-0.0",
         "8800.0",
         "16704.0",
         "10000.0"
        ]
       ],
       "shape": {
        "columns": 5,
        "rows": 24
       }
      },
      "text/html": [
       "<div>\n",
       "<style scoped>\n",
       "    .dataframe tbody tr th:only-of-type {\n",
       "        vertical-align: middle;\n",
       "    }\n",
       "\n",
       "    .dataframe tbody tr th {\n",
       "        vertical-align: top;\n",
       "    }\n",
       "\n",
       "    .dataframe thead th {\n",
       "        text-align: right;\n",
       "    }\n",
       "</style>\n",
       "<table border=\"1\" class=\"dataframe\">\n",
       "  <thead>\n",
       "    <tr style=\"text-align: right;\">\n",
       "      <th>Generator</th>\n",
       "      <th>Loadshedding Germany</th>\n",
       "      <th>Solar Germany</th>\n",
       "      <th>Gas Germany</th>\n",
       "      <th>Wind Germany</th>\n",
       "      <th>Germany Battery</th>\n",
       "    </tr>\n",
       "    <tr>\n",
       "      <th>snapshot</th>\n",
       "      <th></th>\n",
       "      <th></th>\n",
       "      <th></th>\n",
       "      <th></th>\n",
       "      <th></th>\n",
       "    </tr>\n",
       "  </thead>\n",
       "  <tbody>\n",
       "    <tr>\n",
       "      <th>2015-01-01 00:00:00</th>\n",
       "      <td>-0.0</td>\n",
       "      <td>-0.00</td>\n",
       "      <td>-0.00</td>\n",
       "      <td>39723.00</td>\n",
       "      <td>0.00</td>\n",
       "    </tr>\n",
       "    <tr>\n",
       "      <th>2015-01-01 01:00:00</th>\n",
       "      <td>-0.0</td>\n",
       "      <td>-0.00</td>\n",
       "      <td>-0.00</td>\n",
       "      <td>39723.00</td>\n",
       "      <td>0.00</td>\n",
       "    </tr>\n",
       "    <tr>\n",
       "      <th>2015-01-01 02:00:00</th>\n",
       "      <td>-0.0</td>\n",
       "      <td>-0.00</td>\n",
       "      <td>-0.00</td>\n",
       "      <td>38813.00</td>\n",
       "      <td>0.00</td>\n",
       "    </tr>\n",
       "    <tr>\n",
       "      <th>2015-01-01 03:00:00</th>\n",
       "      <td>-0.0</td>\n",
       "      <td>-0.00</td>\n",
       "      <td>-0.00</td>\n",
       "      <td>38490.00</td>\n",
       "      <td>0.00</td>\n",
       "    </tr>\n",
       "    <tr>\n",
       "      <th>2015-01-01 04:00:00</th>\n",
       "      <td>-0.0</td>\n",
       "      <td>-0.00</td>\n",
       "      <td>-0.00</td>\n",
       "      <td>38644.00</td>\n",
       "      <td>0.00</td>\n",
       "    </tr>\n",
       "    <tr>\n",
       "      <th>2015-01-01 05:00:00</th>\n",
       "      <td>-0.0</td>\n",
       "      <td>-0.00</td>\n",
       "      <td>-0.00</td>\n",
       "      <td>38773.00</td>\n",
       "      <td>0.00</td>\n",
       "    </tr>\n",
       "    <tr>\n",
       "      <th>2015-01-01 06:00:00</th>\n",
       "      <td>-0.0</td>\n",
       "      <td>-0.00</td>\n",
       "      <td>-0.00</td>\n",
       "      <td>37247.00</td>\n",
       "      <td>0.00</td>\n",
       "    </tr>\n",
       "    <tr>\n",
       "      <th>2015-01-01 07:00:00</th>\n",
       "      <td>-0.0</td>\n",
       "      <td>-0.00</td>\n",
       "      <td>-0.00</td>\n",
       "      <td>50371.00</td>\n",
       "      <td>-10000.00</td>\n",
       "    </tr>\n",
       "    <tr>\n",
       "      <th>2015-01-01 08:00:00</th>\n",
       "      <td>-0.0</td>\n",
       "      <td>-0.00</td>\n",
       "      <td>-0.00</td>\n",
       "      <td>43098.15</td>\n",
       "      <td>-576.15</td>\n",
       "    </tr>\n",
       "    <tr>\n",
       "      <th>2015-01-01 09:00:00</th>\n",
       "      <td>-0.0</td>\n",
       "      <td>1045.35</td>\n",
       "      <td>-0.00</td>\n",
       "      <td>51256.00</td>\n",
       "      <td>-7281.35</td>\n",
       "    </tr>\n",
       "    <tr>\n",
       "      <th>2015-01-01 10:00:00</th>\n",
       "      <td>-0.0</td>\n",
       "      <td>2868.40</td>\n",
       "      <td>-0.00</td>\n",
       "      <td>49760.00</td>\n",
       "      <td>-5527.40</td>\n",
       "    </tr>\n",
       "    <tr>\n",
       "      <th>2015-01-01 11:00:00</th>\n",
       "      <td>-0.0</td>\n",
       "      <td>4560.15</td>\n",
       "      <td>-0.00</td>\n",
       "      <td>47360.00</td>\n",
       "      <td>-2317.15</td>\n",
       "    </tr>\n",
       "    <tr>\n",
       "      <th>2015-01-01 12:00:00</th>\n",
       "      <td>-0.0</td>\n",
       "      <td>5691.35</td>\n",
       "      <td>-0.00</td>\n",
       "      <td>45312.00</td>\n",
       "      <td>-1093.35</td>\n",
       "    </tr>\n",
       "    <tr>\n",
       "      <th>2015-01-01 13:00:00</th>\n",
       "      <td>-0.0</td>\n",
       "      <td>4747.00</td>\n",
       "      <td>-0.00</td>\n",
       "      <td>44160.00</td>\n",
       "      <td>-1379.00</td>\n",
       "    </tr>\n",
       "    <tr>\n",
       "      <th>2015-01-01 14:00:00</th>\n",
       "      <td>-0.0</td>\n",
       "      <td>3090.60</td>\n",
       "      <td>-0.00</td>\n",
       "      <td>45832.00</td>\n",
       "      <td>-1825.60</td>\n",
       "    </tr>\n",
       "    <tr>\n",
       "      <th>2015-01-01 15:00:00</th>\n",
       "      <td>-0.0</td>\n",
       "      <td>1010.00</td>\n",
       "      <td>341.00</td>\n",
       "      <td>46032.00</td>\n",
       "      <td>0.00</td>\n",
       "    </tr>\n",
       "    <tr>\n",
       "      <th>2015-01-01 16:00:00</th>\n",
       "      <td>-0.0</td>\n",
       "      <td>65.65</td>\n",
       "      <td>7798.35</td>\n",
       "      <td>41072.00</td>\n",
       "      <td>0.00</td>\n",
       "    </tr>\n",
       "    <tr>\n",
       "      <th>2015-01-01 17:00:00</th>\n",
       "      <td>7728.0</td>\n",
       "      <td>-0.00</td>\n",
       "      <td>8800.00</td>\n",
       "      <td>35760.00</td>\n",
       "      <td>0.00</td>\n",
       "    </tr>\n",
       "    <tr>\n",
       "      <th>2015-01-01 18:00:00</th>\n",
       "      <td>2911.0</td>\n",
       "      <td>-0.00</td>\n",
       "      <td>8800.00</td>\n",
       "      <td>31656.00</td>\n",
       "      <td>10000.00</td>\n",
       "    </tr>\n",
       "    <tr>\n",
       "      <th>2015-01-01 19:00:00</th>\n",
       "      <td>15407.0</td>\n",
       "      <td>-0.00</td>\n",
       "      <td>8800.00</td>\n",
       "      <td>28392.00</td>\n",
       "      <td>0.00</td>\n",
       "    </tr>\n",
       "    <tr>\n",
       "      <th>2015-01-01 20:00:00</th>\n",
       "      <td>6196.0</td>\n",
       "      <td>-0.00</td>\n",
       "      <td>8800.00</td>\n",
       "      <td>25024.00</td>\n",
       "      <td>10000.00</td>\n",
       "    </tr>\n",
       "    <tr>\n",
       "      <th>2015-01-01 21:00:00</th>\n",
       "      <td>17632.0</td>\n",
       "      <td>-0.00</td>\n",
       "      <td>8800.00</td>\n",
       "      <td>21664.00</td>\n",
       "      <td>0.00</td>\n",
       "    </tr>\n",
       "    <tr>\n",
       "      <th>2015-01-01 22:00:00</th>\n",
       "      <td>19867.0</td>\n",
       "      <td>-0.00</td>\n",
       "      <td>8800.00</td>\n",
       "      <td>19136.00</td>\n",
       "      <td>0.00</td>\n",
       "    </tr>\n",
       "    <tr>\n",
       "      <th>2015-01-01 23:00:00</th>\n",
       "      <td>9372.0</td>\n",
       "      <td>-0.00</td>\n",
       "      <td>8800.00</td>\n",
       "      <td>16704.00</td>\n",
       "      <td>10000.00</td>\n",
       "    </tr>\n",
       "  </tbody>\n",
       "</table>\n",
       "</div>"
      ],
      "text/plain": [
       "Generator            Loadshedding Germany  Solar Germany  Gas Germany  \\\n",
       "snapshot                                                                \n",
       "2015-01-01 00:00:00                  -0.0          -0.00        -0.00   \n",
       "2015-01-01 01:00:00                  -0.0          -0.00        -0.00   \n",
       "2015-01-01 02:00:00                  -0.0          -0.00        -0.00   \n",
       "2015-01-01 03:00:00                  -0.0          -0.00        -0.00   \n",
       "2015-01-01 04:00:00                  -0.0          -0.00        -0.00   \n",
       "2015-01-01 05:00:00                  -0.0          -0.00        -0.00   \n",
       "2015-01-01 06:00:00                  -0.0          -0.00        -0.00   \n",
       "2015-01-01 07:00:00                  -0.0          -0.00        -0.00   \n",
       "2015-01-01 08:00:00                  -0.0          -0.00        -0.00   \n",
       "2015-01-01 09:00:00                  -0.0        1045.35        -0.00   \n",
       "2015-01-01 10:00:00                  -0.0        2868.40        -0.00   \n",
       "2015-01-01 11:00:00                  -0.0        4560.15        -0.00   \n",
       "2015-01-01 12:00:00                  -0.0        5691.35        -0.00   \n",
       "2015-01-01 13:00:00                  -0.0        4747.00        -0.00   \n",
       "2015-01-01 14:00:00                  -0.0        3090.60        -0.00   \n",
       "2015-01-01 15:00:00                  -0.0        1010.00       341.00   \n",
       "2015-01-01 16:00:00                  -0.0          65.65      7798.35   \n",
       "2015-01-01 17:00:00                7728.0          -0.00      8800.00   \n",
       "2015-01-01 18:00:00                2911.0          -0.00      8800.00   \n",
       "2015-01-01 19:00:00               15407.0          -0.00      8800.00   \n",
       "2015-01-01 20:00:00                6196.0          -0.00      8800.00   \n",
       "2015-01-01 21:00:00               17632.0          -0.00      8800.00   \n",
       "2015-01-01 22:00:00               19867.0          -0.00      8800.00   \n",
       "2015-01-01 23:00:00                9372.0          -0.00      8800.00   \n",
       "\n",
       "Generator            Wind Germany  Germany Battery  \n",
       "snapshot                                            \n",
       "2015-01-01 00:00:00      39723.00             0.00  \n",
       "2015-01-01 01:00:00      39723.00             0.00  \n",
       "2015-01-01 02:00:00      38813.00             0.00  \n",
       "2015-01-01 03:00:00      38490.00             0.00  \n",
       "2015-01-01 04:00:00      38644.00             0.00  \n",
       "2015-01-01 05:00:00      38773.00             0.00  \n",
       "2015-01-01 06:00:00      37247.00             0.00  \n",
       "2015-01-01 07:00:00      50371.00        -10000.00  \n",
       "2015-01-01 08:00:00      43098.15          -576.15  \n",
       "2015-01-01 09:00:00      51256.00         -7281.35  \n",
       "2015-01-01 10:00:00      49760.00         -5527.40  \n",
       "2015-01-01 11:00:00      47360.00         -2317.15  \n",
       "2015-01-01 12:00:00      45312.00         -1093.35  \n",
       "2015-01-01 13:00:00      44160.00         -1379.00  \n",
       "2015-01-01 14:00:00      45832.00         -1825.60  \n",
       "2015-01-01 15:00:00      46032.00             0.00  \n",
       "2015-01-01 16:00:00      41072.00             0.00  \n",
       "2015-01-01 17:00:00      35760.00             0.00  \n",
       "2015-01-01 18:00:00      31656.00         10000.00  \n",
       "2015-01-01 19:00:00      28392.00             0.00  \n",
       "2015-01-01 20:00:00      25024.00         10000.00  \n",
       "2015-01-01 21:00:00      21664.00             0.00  \n",
       "2015-01-01 22:00:00      19136.00             0.00  \n",
       "2015-01-01 23:00:00      16704.00         10000.00  "
      ]
     },
     "execution_count": 179,
     "metadata": {},
     "output_type": "execute_result"
    }
   ],
   "source": [
    "network.generators_t.p"
   ]
  },
  {
   "cell_type": "code",
   "execution_count": 181,
   "metadata": {},
   "outputs": [
    {
     "name": "stderr",
     "output_type": "stream",
     "text": [
      "c:\\Users\\gosai\\anaconda3\\envs\\flex_training_env\\lib\\site-packages\\_plotly_utils\\basevalidators.py:2596: DeprecationWarning:\n",
      "\n",
      "*scattermapbox* is deprecated! Use *scattermap* instead. Learn more at: https://plotly.com/python/mapbox-to-maplibre/\n",
      "\n"
     ]
    },
    {
     "data": {
      "application/vnd.plotly.v1+json": {
       "config": {
        "plotlyServerURL": "https://plot.ly"
       },
       "data": [
        {
         "hovertemplate": "Bus=DE<br>snapshot=%{x}<br>value=%{y}<extra></extra>",
         "legendgroup": "DE",
         "line": {
          "color": "#636efa",
          "dash": "solid"
         },
         "marker": {
          "symbol": "circle"
         },
         "mode": "lines",
         "name": "DE",
         "orientation": "v",
         "showlegend": true,
         "type": "scatter",
         "x": [
          "2015-01-01T00:00:00.000000000",
          "2015-01-01T01:00:00.000000000",
          "2015-01-01T02:00:00.000000000",
          "2015-01-01T03:00:00.000000000",
          "2015-01-01T04:00:00.000000000",
          "2015-01-01T05:00:00.000000000",
          "2015-01-01T06:00:00.000000000",
          "2015-01-01T07:00:00.000000000",
          "2015-01-01T08:00:00.000000000",
          "2015-01-01T09:00:00.000000000",
          "2015-01-01T10:00:00.000000000",
          "2015-01-01T11:00:00.000000000",
          "2015-01-01T12:00:00.000000000",
          "2015-01-01T13:00:00.000000000",
          "2015-01-01T14:00:00.000000000",
          "2015-01-01T15:00:00.000000000",
          "2015-01-01T16:00:00.000000000",
          "2015-01-01T17:00:00.000000000",
          "2015-01-01T18:00:00.000000000",
          "2015-01-01T19:00:00.000000000",
          "2015-01-01T20:00:00.000000000",
          "2015-01-01T21:00:00.000000000",
          "2015-01-01T22:00:00.000000000",
          "2015-01-01T23:00:00.000000000"
         ],
         "xaxis": "x",
         "y": {
          "bdata": "AAAAAAAAAIAAAAAAAAAAgAAAAAAAAACAAAAAAAAAAIAAAAAAAAAAgAAAAAAAAACAAAAAAAAAAIAAAAAAAAAAgAAAAAAAAACAAAAAAAAAAIAAAAAAAAAAgAAAAAAAAACAAAAAAAAAAIAAAAAAAAAAgAAAAAAAAACAAAAAAAAAPkAAAAAAAAA+QAAAAAAAQI9AAAAAAABAj0AAAAAAAECPQAAAAAAAQI9AAAAAAABAj0AAAAAAAECPQAAAAAAAQI9A",
          "dtype": "f8"
         },
         "yaxis": "y"
        }
       ],
       "layout": {
        "legend": {
         "title": {
          "text": "Bus"
         },
         "tracegroupgap": 0
        },
        "margin": {
         "t": 60
        },
        "template": {
         "data": {
          "bar": [
           {
            "error_x": {
             "color": "#2a3f5f"
            },
            "error_y": {
             "color": "#2a3f5f"
            },
            "marker": {
             "line": {
              "color": "#E5ECF6",
              "width": 0.5
             },
             "pattern": {
              "fillmode": "overlay",
              "size": 10,
              "solidity": 0.2
             }
            },
            "type": "bar"
           }
          ],
          "barpolar": [
           {
            "marker": {
             "line": {
              "color": "#E5ECF6",
              "width": 0.5
             },
             "pattern": {
              "fillmode": "overlay",
              "size": 10,
              "solidity": 0.2
             }
            },
            "type": "barpolar"
           }
          ],
          "carpet": [
           {
            "aaxis": {
             "endlinecolor": "#2a3f5f",
             "gridcolor": "white",
             "linecolor": "white",
             "minorgridcolor": "white",
             "startlinecolor": "#2a3f5f"
            },
            "baxis": {
             "endlinecolor": "#2a3f5f",
             "gridcolor": "white",
             "linecolor": "white",
             "minorgridcolor": "white",
             "startlinecolor": "#2a3f5f"
            },
            "type": "carpet"
           }
          ],
          "choropleth": [
           {
            "colorbar": {
             "outlinewidth": 0,
             "ticks": ""
            },
            "type": "choropleth"
           }
          ],
          "contour": [
           {
            "colorbar": {
             "outlinewidth": 0,
             "ticks": ""
            },
            "colorscale": [
             [
              0,
              "#0d0887"
             ],
             [
              0.1111111111111111,
              "#46039f"
             ],
             [
              0.2222222222222222,
              "#7201a8"
             ],
             [
              0.3333333333333333,
              "#9c179e"
             ],
             [
              0.4444444444444444,
              "#bd3786"
             ],
             [
              0.5555555555555556,
              "#d8576b"
             ],
             [
              0.6666666666666666,
              "#ed7953"
             ],
             [
              0.7777777777777778,
              "#fb9f3a"
             ],
             [
              0.8888888888888888,
              "#fdca26"
             ],
             [
              1,
              "#f0f921"
             ]
            ],
            "type": "contour"
           }
          ],
          "contourcarpet": [
           {
            "colorbar": {
             "outlinewidth": 0,
             "ticks": ""
            },
            "type": "contourcarpet"
           }
          ],
          "heatmap": [
           {
            "colorbar": {
             "outlinewidth": 0,
             "ticks": ""
            },
            "colorscale": [
             [
              0,
              "#0d0887"
             ],
             [
              0.1111111111111111,
              "#46039f"
             ],
             [
              0.2222222222222222,
              "#7201a8"
             ],
             [
              0.3333333333333333,
              "#9c179e"
             ],
             [
              0.4444444444444444,
              "#bd3786"
             ],
             [
              0.5555555555555556,
              "#d8576b"
             ],
             [
              0.6666666666666666,
              "#ed7953"
             ],
             [
              0.7777777777777778,
              "#fb9f3a"
             ],
             [
              0.8888888888888888,
              "#fdca26"
             ],
             [
              1,
              "#f0f921"
             ]
            ],
            "type": "heatmap"
           }
          ],
          "histogram": [
           {
            "marker": {
             "pattern": {
              "fillmode": "overlay",
              "size": 10,
              "solidity": 0.2
             }
            },
            "type": "histogram"
           }
          ],
          "histogram2d": [
           {
            "colorbar": {
             "outlinewidth": 0,
             "ticks": ""
            },
            "colorscale": [
             [
              0,
              "#0d0887"
             ],
             [
              0.1111111111111111,
              "#46039f"
             ],
             [
              0.2222222222222222,
              "#7201a8"
             ],
             [
              0.3333333333333333,
              "#9c179e"
             ],
             [
              0.4444444444444444,
              "#bd3786"
             ],
             [
              0.5555555555555556,
              "#d8576b"
             ],
             [
              0.6666666666666666,
              "#ed7953"
             ],
             [
              0.7777777777777778,
              "#fb9f3a"
             ],
             [
              0.8888888888888888,
              "#fdca26"
             ],
             [
              1,
              "#f0f921"
             ]
            ],
            "type": "histogram2d"
           }
          ],
          "histogram2dcontour": [
           {
            "colorbar": {
             "outlinewidth": 0,
             "ticks": ""
            },
            "colorscale": [
             [
              0,
              "#0d0887"
             ],
             [
              0.1111111111111111,
              "#46039f"
             ],
             [
              0.2222222222222222,
              "#7201a8"
             ],
             [
              0.3333333333333333,
              "#9c179e"
             ],
             [
              0.4444444444444444,
              "#bd3786"
             ],
             [
              0.5555555555555556,
              "#d8576b"
             ],
             [
              0.6666666666666666,
              "#ed7953"
             ],
             [
              0.7777777777777778,
              "#fb9f3a"
             ],
             [
              0.8888888888888888,
              "#fdca26"
             ],
             [
              1,
              "#f0f921"
             ]
            ],
            "type": "histogram2dcontour"
           }
          ],
          "mesh3d": [
           {
            "colorbar": {
             "outlinewidth": 0,
             "ticks": ""
            },
            "type": "mesh3d"
           }
          ],
          "parcoords": [
           {
            "line": {
             "colorbar": {
              "outlinewidth": 0,
              "ticks": ""
             }
            },
            "type": "parcoords"
           }
          ],
          "pie": [
           {
            "automargin": true,
            "type": "pie"
           }
          ],
          "scatter": [
           {
            "fillpattern": {
             "fillmode": "overlay",
             "size": 10,
             "solidity": 0.2
            },
            "type": "scatter"
           }
          ],
          "scatter3d": [
           {
            "line": {
             "colorbar": {
              "outlinewidth": 0,
              "ticks": ""
             }
            },
            "marker": {
             "colorbar": {
              "outlinewidth": 0,
              "ticks": ""
             }
            },
            "type": "scatter3d"
           }
          ],
          "scattercarpet": [
           {
            "marker": {
             "colorbar": {
              "outlinewidth": 0,
              "ticks": ""
             }
            },
            "type": "scattercarpet"
           }
          ],
          "scattergeo": [
           {
            "marker": {
             "colorbar": {
              "outlinewidth": 0,
              "ticks": ""
             }
            },
            "type": "scattergeo"
           }
          ],
          "scattergl": [
           {
            "marker": {
             "colorbar": {
              "outlinewidth": 0,
              "ticks": ""
             }
            },
            "type": "scattergl"
           }
          ],
          "scattermap": [
           {
            "marker": {
             "colorbar": {
              "outlinewidth": 0,
              "ticks": ""
             }
            },
            "type": "scattermap"
           }
          ],
          "scattermapbox": [
           {
            "marker": {
             "colorbar": {
              "outlinewidth": 0,
              "ticks": ""
             }
            },
            "type": "scattermapbox"
           }
          ],
          "scatterpolar": [
           {
            "marker": {
             "colorbar": {
              "outlinewidth": 0,
              "ticks": ""
             }
            },
            "type": "scatterpolar"
           }
          ],
          "scatterpolargl": [
           {
            "marker": {
             "colorbar": {
              "outlinewidth": 0,
              "ticks": ""
             }
            },
            "type": "scatterpolargl"
           }
          ],
          "scatterternary": [
           {
            "marker": {
             "colorbar": {
              "outlinewidth": 0,
              "ticks": ""
             }
            },
            "type": "scatterternary"
           }
          ],
          "surface": [
           {
            "colorbar": {
             "outlinewidth": 0,
             "ticks": ""
            },
            "colorscale": [
             [
              0,
              "#0d0887"
             ],
             [
              0.1111111111111111,
              "#46039f"
             ],
             [
              0.2222222222222222,
              "#7201a8"
             ],
             [
              0.3333333333333333,
              "#9c179e"
             ],
             [
              0.4444444444444444,
              "#bd3786"
             ],
             [
              0.5555555555555556,
              "#d8576b"
             ],
             [
              0.6666666666666666,
              "#ed7953"
             ],
             [
              0.7777777777777778,
              "#fb9f3a"
             ],
             [
              0.8888888888888888,
              "#fdca26"
             ],
             [
              1,
              "#f0f921"
             ]
            ],
            "type": "surface"
           }
          ],
          "table": [
           {
            "cells": {
             "fill": {
              "color": "#EBF0F8"
             },
             "line": {
              "color": "white"
             }
            },
            "header": {
             "fill": {
              "color": "#C8D4E3"
             },
             "line": {
              "color": "white"
             }
            },
            "type": "table"
           }
          ]
         },
         "layout": {
          "annotationdefaults": {
           "arrowcolor": "#2a3f5f",
           "arrowhead": 0,
           "arrowwidth": 1
          },
          "autotypenumbers": "strict",
          "coloraxis": {
           "colorbar": {
            "outlinewidth": 0,
            "ticks": ""
           }
          },
          "colorscale": {
           "diverging": [
            [
             0,
             "#8e0152"
            ],
            [
             0.1,
             "#c51b7d"
            ],
            [
             0.2,
             "#de77ae"
            ],
            [
             0.3,
             "#f1b6da"
            ],
            [
             0.4,
             "#fde0ef"
            ],
            [
             0.5,
             "#f7f7f7"
            ],
            [
             0.6,
             "#e6f5d0"
            ],
            [
             0.7,
             "#b8e186"
            ],
            [
             0.8,
             "#7fbc41"
            ],
            [
             0.9,
             "#4d9221"
            ],
            [
             1,
             "#276419"
            ]
           ],
           "sequential": [
            [
             0,
             "#0d0887"
            ],
            [
             0.1111111111111111,
             "#46039f"
            ],
            [
             0.2222222222222222,
             "#7201a8"
            ],
            [
             0.3333333333333333,
             "#9c179e"
            ],
            [
             0.4444444444444444,
             "#bd3786"
            ],
            [
             0.5555555555555556,
             "#d8576b"
            ],
            [
             0.6666666666666666,
             "#ed7953"
            ],
            [
             0.7777777777777778,
             "#fb9f3a"
            ],
            [
             0.8888888888888888,
             "#fdca26"
            ],
            [
             1,
             "#f0f921"
            ]
           ],
           "sequentialminus": [
            [
             0,
             "#0d0887"
            ],
            [
             0.1111111111111111,
             "#46039f"
            ],
            [
             0.2222222222222222,
             "#7201a8"
            ],
            [
             0.3333333333333333,
             "#9c179e"
            ],
            [
             0.4444444444444444,
             "#bd3786"
            ],
            [
             0.5555555555555556,
             "#d8576b"
            ],
            [
             0.6666666666666666,
             "#ed7953"
            ],
            [
             0.7777777777777778,
             "#fb9f3a"
            ],
            [
             0.8888888888888888,
             "#fdca26"
            ],
            [
             1,
             "#f0f921"
            ]
           ]
          },
          "colorway": [
           "#636efa",
           "#EF553B",
           "#00cc96",
           "#ab63fa",
           "#FFA15A",
           "#19d3f3",
           "#FF6692",
           "#B6E880",
           "#FF97FF",
           "#FECB52"
          ],
          "font": {
           "color": "#2a3f5f"
          },
          "geo": {
           "bgcolor": "white",
           "lakecolor": "white",
           "landcolor": "#E5ECF6",
           "showlakes": true,
           "showland": true,
           "subunitcolor": "white"
          },
          "hoverlabel": {
           "align": "left"
          },
          "hovermode": "closest",
          "mapbox": {
           "style": "light"
          },
          "paper_bgcolor": "white",
          "plot_bgcolor": "#E5ECF6",
          "polar": {
           "angularaxis": {
            "gridcolor": "white",
            "linecolor": "white",
            "ticks": ""
           },
           "bgcolor": "#E5ECF6",
           "radialaxis": {
            "gridcolor": "white",
            "linecolor": "white",
            "ticks": ""
           }
          },
          "scene": {
           "xaxis": {
            "backgroundcolor": "#E5ECF6",
            "gridcolor": "white",
            "gridwidth": 2,
            "linecolor": "white",
            "showbackground": true,
            "ticks": "",
            "zerolinecolor": "white"
           },
           "yaxis": {
            "backgroundcolor": "#E5ECF6",
            "gridcolor": "white",
            "gridwidth": 2,
            "linecolor": "white",
            "showbackground": true,
            "ticks": "",
            "zerolinecolor": "white"
           },
           "zaxis": {
            "backgroundcolor": "#E5ECF6",
            "gridcolor": "white",
            "gridwidth": 2,
            "linecolor": "white",
            "showbackground": true,
            "ticks": "",
            "zerolinecolor": "white"
           }
          },
          "shapedefaults": {
           "line": {
            "color": "#2a3f5f"
           }
          },
          "ternary": {
           "aaxis": {
            "gridcolor": "white",
            "linecolor": "white",
            "ticks": ""
           },
           "baxis": {
            "gridcolor": "white",
            "linecolor": "white",
            "ticks": ""
           },
           "bgcolor": "#E5ECF6",
           "caxis": {
            "gridcolor": "white",
            "linecolor": "white",
            "ticks": ""
           }
          },
          "title": {
           "x": 0.05
          },
          "xaxis": {
           "automargin": true,
           "gridcolor": "white",
           "linecolor": "white",
           "ticks": "",
           "title": {
            "standoff": 15
           },
           "zerolinecolor": "white",
           "zerolinewidth": 2
          },
          "yaxis": {
           "automargin": true,
           "gridcolor": "white",
           "linecolor": "white",
           "ticks": "",
           "title": {
            "standoff": 15
           },
           "zerolinecolor": "white",
           "zerolinewidth": 2
          }
         }
        },
        "xaxis": {
         "anchor": "y",
         "domain": [
          0,
          1
         ],
         "title": {
          "text": "snapshot"
         }
        },
        "yaxis": {
         "anchor": "x",
         "domain": [
          0,
          1
         ],
         "title": {
          "text": "value"
         }
        }
       }
      }
     },
     "metadata": {},
     "output_type": "display_data"
    }
   ],
   "source": [
    "network.buses_t.marginal_price.plot()"
   ]
  },
  {
   "cell_type": "code",
   "execution_count": 184,
   "metadata": {},
   "outputs": [
    {
     "name": "stderr",
     "output_type": "stream",
     "text": [
      "c:\\Users\\gosai\\anaconda3\\envs\\flex_training_env\\lib\\site-packages\\_plotly_utils\\basevalidators.py:2596: DeprecationWarning:\n",
      "\n",
      "*scattermapbox* is deprecated! Use *scattermap* instead. Learn more at: https://plotly.com/python/mapbox-to-maplibre/\n",
      "\n"
     ]
    },
    {
     "data": {
      "application/vnd.plotly.v1+json": {
       "config": {
        "plotlyServerURL": "https://plot.ly"
       },
       "data": [
        {
         "hovertemplate": "variable=Loadshedding Germany<br>snapshot=%{x}<br>value=%{y}<extra></extra>",
         "legendgroup": "Loadshedding Germany",
         "line": {
          "color": "#636efa",
          "dash": "solid"
         },
         "marker": {
          "symbol": "circle"
         },
         "mode": "lines",
         "name": "Loadshedding Germany",
         "orientation": "v",
         "showlegend": true,
         "type": "scatter",
         "x": [
          "2015-01-01T00:00:00.000000000",
          "2015-01-01T01:00:00.000000000",
          "2015-01-01T02:00:00.000000000",
          "2015-01-01T03:00:00.000000000",
          "2015-01-01T04:00:00.000000000",
          "2015-01-01T05:00:00.000000000",
          "2015-01-01T06:00:00.000000000",
          "2015-01-01T07:00:00.000000000",
          "2015-01-01T08:00:00.000000000",
          "2015-01-01T09:00:00.000000000",
          "2015-01-01T10:00:00.000000000",
          "2015-01-01T11:00:00.000000000",
          "2015-01-01T12:00:00.000000000",
          "2015-01-01T13:00:00.000000000",
          "2015-01-01T14:00:00.000000000",
          "2015-01-01T15:00:00.000000000",
          "2015-01-01T16:00:00.000000000",
          "2015-01-01T17:00:00.000000000",
          "2015-01-01T18:00:00.000000000",
          "2015-01-01T19:00:00.000000000",
          "2015-01-01T20:00:00.000000000",
          "2015-01-01T21:00:00.000000000",
          "2015-01-01T22:00:00.000000000",
          "2015-01-01T23:00:00.000000000"
         ],
         "xaxis": "x",
         "y": {
          "bdata": "AAAAAAAAAIAAAAAAAAAAgAAAAAAAAACAAAAAAAAAAIAAAAAAAAAAgAAAAAAAAACAAAAAAAAAAIAAAAAAAAAAgAAAAAAAAACAAAAAAAAAAIAAAAAAAAAAgAAAAAAAAACAAAAAAAAAAIAAAAAAAAAAgAAAAAAAAACAAAAAAAAAAIAAAAAAAAAAgAAAAAAAML5AAAAAAAC+pkAAAAAAgBfOQAAAAAAANLhAAAAAAAA40UAAAAAAwGbTQAAAAAAATsJA",
          "dtype": "f8"
         },
         "yaxis": "y"
        },
        {
         "hovertemplate": "variable=Solar Germany<br>snapshot=%{x}<br>value=%{y}<extra></extra>",
         "legendgroup": "Solar Germany",
         "line": {
          "color": "#EF553B",
          "dash": "solid"
         },
         "marker": {
          "symbol": "circle"
         },
         "mode": "lines",
         "name": "Solar Germany",
         "orientation": "v",
         "showlegend": true,
         "type": "scatter",
         "x": [
          "2015-01-01T00:00:00.000000000",
          "2015-01-01T01:00:00.000000000",
          "2015-01-01T02:00:00.000000000",
          "2015-01-01T03:00:00.000000000",
          "2015-01-01T04:00:00.000000000",
          "2015-01-01T05:00:00.000000000",
          "2015-01-01T06:00:00.000000000",
          "2015-01-01T07:00:00.000000000",
          "2015-01-01T08:00:00.000000000",
          "2015-01-01T09:00:00.000000000",
          "2015-01-01T10:00:00.000000000",
          "2015-01-01T11:00:00.000000000",
          "2015-01-01T12:00:00.000000000",
          "2015-01-01T13:00:00.000000000",
          "2015-01-01T14:00:00.000000000",
          "2015-01-01T15:00:00.000000000",
          "2015-01-01T16:00:00.000000000",
          "2015-01-01T17:00:00.000000000",
          "2015-01-01T18:00:00.000000000",
          "2015-01-01T19:00:00.000000000",
          "2015-01-01T20:00:00.000000000",
          "2015-01-01T21:00:00.000000000",
          "2015-01-01T22:00:00.000000000",
          "2015-01-01T23:00:00.000000000"
         ],
         "xaxis": "x",
         "y": {
          "bdata": "AAAAAAAAAIAAAAAAAAAAgAAAAAAAAACAAAAAAAAAAIAAAAAAAAAAgAAAAAAAAACAAAAAAAAAAIAAAAAAAAAAgAAAAAAAAACAZmZmZmZVkEDNzMzMzGimQGZmZmYm0LFAmpmZmVk7tkAAAAAAAIuyQDMzMzMzJahAAAAAAACQj0CamZmZmWlQQAAAAAAAAACAAAAAAAAAAIAAAAAAAAAAgAAAAAAAAACAAAAAAAAAAIAAAAAAAAAAgAAAAAAAAACA",
          "dtype": "f8"
         },
         "yaxis": "y"
        },
        {
         "hovertemplate": "variable=Gas Germany<br>snapshot=%{x}<br>value=%{y}<extra></extra>",
         "legendgroup": "Gas Germany",
         "line": {
          "color": "#00cc96",
          "dash": "solid"
         },
         "marker": {
          "symbol": "circle"
         },
         "mode": "lines",
         "name": "Gas Germany",
         "orientation": "v",
         "showlegend": true,
         "type": "scatter",
         "x": [
          "2015-01-01T00:00:00.000000000",
          "2015-01-01T01:00:00.000000000",
          "2015-01-01T02:00:00.000000000",
          "2015-01-01T03:00:00.000000000",
          "2015-01-01T04:00:00.000000000",
          "2015-01-01T05:00:00.000000000",
          "2015-01-01T06:00:00.000000000",
          "2015-01-01T07:00:00.000000000",
          "2015-01-01T08:00:00.000000000",
          "2015-01-01T09:00:00.000000000",
          "2015-01-01T10:00:00.000000000",
          "2015-01-01T11:00:00.000000000",
          "2015-01-01T12:00:00.000000000",
          "2015-01-01T13:00:00.000000000",
          "2015-01-01T14:00:00.000000000",
          "2015-01-01T15:00:00.000000000",
          "2015-01-01T16:00:00.000000000",
          "2015-01-01T17:00:00.000000000",
          "2015-01-01T18:00:00.000000000",
          "2015-01-01T19:00:00.000000000",
          "2015-01-01T20:00:00.000000000",
          "2015-01-01T21:00:00.000000000",
          "2015-01-01T22:00:00.000000000",
          "2015-01-01T23:00:00.000000000"
         ],
         "xaxis": "x",
         "y": {
          "bdata": "AAAAAAAAAIAAAAAAAAAAgAAAAAAAAACAAAAAAAAAAIAAAAAAAAAAgAAAAAAAAACAAAAAAAAAAIAAAAAAAAAAgAAAAAAAAACAAAAAAAAAAIAAAAAAAAAAgAAAAAAAAACAAAAAAAAAAIAAAAAAAAAAgAAAAAAAAACAAAAAAABQdUCamZmZWXa+QAAAAAAAMMFAAAAAAAAwwUAAAAAAADDBQAAAAAAAMMFAAAAAAAAwwUAAAAAAADDBQAAAAAAAMMFA",
          "dtype": "f8"
         },
         "yaxis": "y"
        },
        {
         "hovertemplate": "variable=Wind Germany<br>snapshot=%{x}<br>value=%{y}<extra></extra>",
         "legendgroup": "Wind Germany",
         "line": {
          "color": "#ab63fa",
          "dash": "solid"
         },
         "marker": {
          "symbol": "circle"
         },
         "mode": "lines",
         "name": "Wind Germany",
         "orientation": "v",
         "showlegend": true,
         "type": "scatter",
         "x": [
          "2015-01-01T00:00:00.000000000",
          "2015-01-01T01:00:00.000000000",
          "2015-01-01T02:00:00.000000000",
          "2015-01-01T03:00:00.000000000",
          "2015-01-01T04:00:00.000000000",
          "2015-01-01T05:00:00.000000000",
          "2015-01-01T06:00:00.000000000",
          "2015-01-01T07:00:00.000000000",
          "2015-01-01T08:00:00.000000000",
          "2015-01-01T09:00:00.000000000",
          "2015-01-01T10:00:00.000000000",
          "2015-01-01T11:00:00.000000000",
          "2015-01-01T12:00:00.000000000",
          "2015-01-01T13:00:00.000000000",
          "2015-01-01T14:00:00.000000000",
          "2015-01-01T15:00:00.000000000",
          "2015-01-01T16:00:00.000000000",
          "2015-01-01T17:00:00.000000000",
          "2015-01-01T18:00:00.000000000",
          "2015-01-01T19:00:00.000000000",
          "2015-01-01T20:00:00.000000000",
          "2015-01-01T21:00:00.000000000",
          "2015-01-01T22:00:00.000000000",
          "2015-01-01T23:00:00.000000000"
         ],
         "xaxis": "x",
         "y": {
          "bdata": "AAAAAGBl40AAAAAAYGXjQAAAAACg8+JAAAAAAEDL4kAAAAAAgN7iQAAAAACg7uJAAAAAAOAv4kAAAAAAYJjoQM3MzMxEC+VAAAAAAAAH6UAAAAAAAEzoQAAAAAAAIOdAAAAAAAAg5kAAAAAAAJDlQAAAAAAAYeZAAAAAAAB65kAAAAAAAA7kQAAAAAAAduFAAAAAAADq3kAAAAAAALrbQAAAAAAAcNhAAAAAAAAo1UAAAAAAALDSQAAAAAAAUNBA",
          "dtype": "f8"
         },
         "yaxis": "y"
        },
        {
         "hovertemplate": "variable=Germany Battery<br>snapshot=%{x}<br>value=%{y}<extra></extra>",
         "legendgroup": "Germany Battery",
         "line": {
          "color": "#FFA15A",
          "dash": "solid"
         },
         "marker": {
          "symbol": "circle"
         },
         "mode": "lines",
         "name": "Germany Battery",
         "orientation": "v",
         "showlegend": true,
         "type": "scatter",
         "x": [
          "2015-01-01T00:00:00.000000000",
          "2015-01-01T01:00:00.000000000",
          "2015-01-01T02:00:00.000000000",
          "2015-01-01T03:00:00.000000000",
          "2015-01-01T04:00:00.000000000",
          "2015-01-01T05:00:00.000000000",
          "2015-01-01T06:00:00.000000000",
          "2015-01-01T07:00:00.000000000",
          "2015-01-01T08:00:00.000000000",
          "2015-01-01T09:00:00.000000000",
          "2015-01-01T10:00:00.000000000",
          "2015-01-01T11:00:00.000000000",
          "2015-01-01T12:00:00.000000000",
          "2015-01-01T13:00:00.000000000",
          "2015-01-01T14:00:00.000000000",
          "2015-01-01T15:00:00.000000000",
          "2015-01-01T16:00:00.000000000",
          "2015-01-01T17:00:00.000000000",
          "2015-01-01T18:00:00.000000000",
          "2015-01-01T19:00:00.000000000",
          "2015-01-01T20:00:00.000000000",
          "2015-01-01T21:00:00.000000000",
          "2015-01-01T22:00:00.000000000",
          "2015-01-01T23:00:00.000000000"
         ],
         "xaxis": "x",
         "y": {
          "bdata": "AAAAAAAAAAAAAAAAAAAAAAAAAAAAAAAAAAAAAAAAAAAAAAAAAAAAAAAAAAAAAAAAAAAAAAAAAAAAAAAAAIjDwEAzMzMzAYLAmJmZmVlxvMBoZmZmZpe1wNDMzMxMGqLAYGZmZmYVkcAAAAAAAIyVwGBmZmZmhpzAAAAAAAAAAAAAAAAAAAAAAAAAAAAAAAAAAAAAAACIw0AAAAAAAAAAAAAAAAAAiMNAAAAAAAAAAAAAAAAAAAAAAAAAAAAAiMNA",
          "dtype": "f8"
         },
         "yaxis": "y"
        }
       ],
       "layout": {
        "legend": {
         "title": {
          "text": "variable"
         },
         "tracegroupgap": 0
        },
        "margin": {
         "t": 60
        },
        "template": {
         "data": {
          "bar": [
           {
            "error_x": {
             "color": "#2a3f5f"
            },
            "error_y": {
             "color": "#2a3f5f"
            },
            "marker": {
             "line": {
              "color": "#E5ECF6",
              "width": 0.5
             },
             "pattern": {
              "fillmode": "overlay",
              "size": 10,
              "solidity": 0.2
             }
            },
            "type": "bar"
           }
          ],
          "barpolar": [
           {
            "marker": {
             "line": {
              "color": "#E5ECF6",
              "width": 0.5
             },
             "pattern": {
              "fillmode": "overlay",
              "size": 10,
              "solidity": 0.2
             }
            },
            "type": "barpolar"
           }
          ],
          "carpet": [
           {
            "aaxis": {
             "endlinecolor": "#2a3f5f",
             "gridcolor": "white",
             "linecolor": "white",
             "minorgridcolor": "white",
             "startlinecolor": "#2a3f5f"
            },
            "baxis": {
             "endlinecolor": "#2a3f5f",
             "gridcolor": "white",
             "linecolor": "white",
             "minorgridcolor": "white",
             "startlinecolor": "#2a3f5f"
            },
            "type": "carpet"
           }
          ],
          "choropleth": [
           {
            "colorbar": {
             "outlinewidth": 0,
             "ticks": ""
            },
            "type": "choropleth"
           }
          ],
          "contour": [
           {
            "colorbar": {
             "outlinewidth": 0,
             "ticks": ""
            },
            "colorscale": [
             [
              0,
              "#0d0887"
             ],
             [
              0.1111111111111111,
              "#46039f"
             ],
             [
              0.2222222222222222,
              "#7201a8"
             ],
             [
              0.3333333333333333,
              "#9c179e"
             ],
             [
              0.4444444444444444,
              "#bd3786"
             ],
             [
              0.5555555555555556,
              "#d8576b"
             ],
             [
              0.6666666666666666,
              "#ed7953"
             ],
             [
              0.7777777777777778,
              "#fb9f3a"
             ],
             [
              0.8888888888888888,
              "#fdca26"
             ],
             [
              1,
              "#f0f921"
             ]
            ],
            "type": "contour"
           }
          ],
          "contourcarpet": [
           {
            "colorbar": {
             "outlinewidth": 0,
             "ticks": ""
            },
            "type": "contourcarpet"
           }
          ],
          "heatmap": [
           {
            "colorbar": {
             "outlinewidth": 0,
             "ticks": ""
            },
            "colorscale": [
             [
              0,
              "#0d0887"
             ],
             [
              0.1111111111111111,
              "#46039f"
             ],
             [
              0.2222222222222222,
              "#7201a8"
             ],
             [
              0.3333333333333333,
              "#9c179e"
             ],
             [
              0.4444444444444444,
              "#bd3786"
             ],
             [
              0.5555555555555556,
              "#d8576b"
             ],
             [
              0.6666666666666666,
              "#ed7953"
             ],
             [
              0.7777777777777778,
              "#fb9f3a"
             ],
             [
              0.8888888888888888,
              "#fdca26"
             ],
             [
              1,
              "#f0f921"
             ]
            ],
            "type": "heatmap"
           }
          ],
          "histogram": [
           {
            "marker": {
             "pattern": {
              "fillmode": "overlay",
              "size": 10,
              "solidity": 0.2
             }
            },
            "type": "histogram"
           }
          ],
          "histogram2d": [
           {
            "colorbar": {
             "outlinewidth": 0,
             "ticks": ""
            },
            "colorscale": [
             [
              0,
              "#0d0887"
             ],
             [
              0.1111111111111111,
              "#46039f"
             ],
             [
              0.2222222222222222,
              "#7201a8"
             ],
             [
              0.3333333333333333,
              "#9c179e"
             ],
             [
              0.4444444444444444,
              "#bd3786"
             ],
             [
              0.5555555555555556,
              "#d8576b"
             ],
             [
              0.6666666666666666,
              "#ed7953"
             ],
             [
              0.7777777777777778,
              "#fb9f3a"
             ],
             [
              0.8888888888888888,
              "#fdca26"
             ],
             [
              1,
              "#f0f921"
             ]
            ],
            "type": "histogram2d"
           }
          ],
          "histogram2dcontour": [
           {
            "colorbar": {
             "outlinewidth": 0,
             "ticks": ""
            },
            "colorscale": [
             [
              0,
              "#0d0887"
             ],
             [
              0.1111111111111111,
              "#46039f"
             ],
             [
              0.2222222222222222,
              "#7201a8"
             ],
             [
              0.3333333333333333,
              "#9c179e"
             ],
             [
              0.4444444444444444,
              "#bd3786"
             ],
             [
              0.5555555555555556,
              "#d8576b"
             ],
             [
              0.6666666666666666,
              "#ed7953"
             ],
             [
              0.7777777777777778,
              "#fb9f3a"
             ],
             [
              0.8888888888888888,
              "#fdca26"
             ],
             [
              1,
              "#f0f921"
             ]
            ],
            "type": "histogram2dcontour"
           }
          ],
          "mesh3d": [
           {
            "colorbar": {
             "outlinewidth": 0,
             "ticks": ""
            },
            "type": "mesh3d"
           }
          ],
          "parcoords": [
           {
            "line": {
             "colorbar": {
              "outlinewidth": 0,
              "ticks": ""
             }
            },
            "type": "parcoords"
           }
          ],
          "pie": [
           {
            "automargin": true,
            "type": "pie"
           }
          ],
          "scatter": [
           {
            "fillpattern": {
             "fillmode": "overlay",
             "size": 10,
             "solidity": 0.2
            },
            "type": "scatter"
           }
          ],
          "scatter3d": [
           {
            "line": {
             "colorbar": {
              "outlinewidth": 0,
              "ticks": ""
             }
            },
            "marker": {
             "colorbar": {
              "outlinewidth": 0,
              "ticks": ""
             }
            },
            "type": "scatter3d"
           }
          ],
          "scattercarpet": [
           {
            "marker": {
             "colorbar": {
              "outlinewidth": 0,
              "ticks": ""
             }
            },
            "type": "scattercarpet"
           }
          ],
          "scattergeo": [
           {
            "marker": {
             "colorbar": {
              "outlinewidth": 0,
              "ticks": ""
             }
            },
            "type": "scattergeo"
           }
          ],
          "scattergl": [
           {
            "marker": {
             "colorbar": {
              "outlinewidth": 0,
              "ticks": ""
             }
            },
            "type": "scattergl"
           }
          ],
          "scattermap": [
           {
            "marker": {
             "colorbar": {
              "outlinewidth": 0,
              "ticks": ""
             }
            },
            "type": "scattermap"
           }
          ],
          "scattermapbox": [
           {
            "marker": {
             "colorbar": {
              "outlinewidth": 0,
              "ticks": ""
             }
            },
            "type": "scattermapbox"
           }
          ],
          "scatterpolar": [
           {
            "marker": {
             "colorbar": {
              "outlinewidth": 0,
              "ticks": ""
             }
            },
            "type": "scatterpolar"
           }
          ],
          "scatterpolargl": [
           {
            "marker": {
             "colorbar": {
              "outlinewidth": 0,
              "ticks": ""
             }
            },
            "type": "scatterpolargl"
           }
          ],
          "scatterternary": [
           {
            "marker": {
             "colorbar": {
              "outlinewidth": 0,
              "ticks": ""
             }
            },
            "type": "scatterternary"
           }
          ],
          "surface": [
           {
            "colorbar": {
             "outlinewidth": 0,
             "ticks": ""
            },
            "colorscale": [
             [
              0,
              "#0d0887"
             ],
             [
              0.1111111111111111,
              "#46039f"
             ],
             [
              0.2222222222222222,
              "#7201a8"
             ],
             [
              0.3333333333333333,
              "#9c179e"
             ],
             [
              0.4444444444444444,
              "#bd3786"
             ],
             [
              0.5555555555555556,
              "#d8576b"
             ],
             [
              0.6666666666666666,
              "#ed7953"
             ],
             [
              0.7777777777777778,
              "#fb9f3a"
             ],
             [
              0.8888888888888888,
              "#fdca26"
             ],
             [
              1,
              "#f0f921"
             ]
            ],
            "type": "surface"
           }
          ],
          "table": [
           {
            "cells": {
             "fill": {
              "color": "#EBF0F8"
             },
             "line": {
              "color": "white"
             }
            },
            "header": {
             "fill": {
              "color": "#C8D4E3"
             },
             "line": {
              "color": "white"
             }
            },
            "type": "table"
           }
          ]
         },
         "layout": {
          "annotationdefaults": {
           "arrowcolor": "#2a3f5f",
           "arrowhead": 0,
           "arrowwidth": 1
          },
          "autotypenumbers": "strict",
          "coloraxis": {
           "colorbar": {
            "outlinewidth": 0,
            "ticks": ""
           }
          },
          "colorscale": {
           "diverging": [
            [
             0,
             "#8e0152"
            ],
            [
             0.1,
             "#c51b7d"
            ],
            [
             0.2,
             "#de77ae"
            ],
            [
             0.3,
             "#f1b6da"
            ],
            [
             0.4,
             "#fde0ef"
            ],
            [
             0.5,
             "#f7f7f7"
            ],
            [
             0.6,
             "#e6f5d0"
            ],
            [
             0.7,
             "#b8e186"
            ],
            [
             0.8,
             "#7fbc41"
            ],
            [
             0.9,
             "#4d9221"
            ],
            [
             1,
             "#276419"
            ]
           ],
           "sequential": [
            [
             0,
             "#0d0887"
            ],
            [
             0.1111111111111111,
             "#46039f"
            ],
            [
             0.2222222222222222,
             "#7201a8"
            ],
            [
             0.3333333333333333,
             "#9c179e"
            ],
            [
             0.4444444444444444,
             "#bd3786"
            ],
            [
             0.5555555555555556,
             "#d8576b"
            ],
            [
             0.6666666666666666,
             "#ed7953"
            ],
            [
             0.7777777777777778,
             "#fb9f3a"
            ],
            [
             0.8888888888888888,
             "#fdca26"
            ],
            [
             1,
             "#f0f921"
            ]
           ],
           "sequentialminus": [
            [
             0,
             "#0d0887"
            ],
            [
             0.1111111111111111,
             "#46039f"
            ],
            [
             0.2222222222222222,
             "#7201a8"
            ],
            [
             0.3333333333333333,
             "#9c179e"
            ],
            [
             0.4444444444444444,
             "#bd3786"
            ],
            [
             0.5555555555555556,
             "#d8576b"
            ],
            [
             0.6666666666666666,
             "#ed7953"
            ],
            [
             0.7777777777777778,
             "#fb9f3a"
            ],
            [
             0.8888888888888888,
             "#fdca26"
            ],
            [
             1,
             "#f0f921"
            ]
           ]
          },
          "colorway": [
           "#636efa",
           "#EF553B",
           "#00cc96",
           "#ab63fa",
           "#FFA15A",
           "#19d3f3",
           "#FF6692",
           "#B6E880",
           "#FF97FF",
           "#FECB52"
          ],
          "font": {
           "color": "#2a3f5f"
          },
          "geo": {
           "bgcolor": "white",
           "lakecolor": "white",
           "landcolor": "#E5ECF6",
           "showlakes": true,
           "showland": true,
           "subunitcolor": "white"
          },
          "hoverlabel": {
           "align": "left"
          },
          "hovermode": "closest",
          "mapbox": {
           "style": "light"
          },
          "paper_bgcolor": "white",
          "plot_bgcolor": "#E5ECF6",
          "polar": {
           "angularaxis": {
            "gridcolor": "white",
            "linecolor": "white",
            "ticks": ""
           },
           "bgcolor": "#E5ECF6",
           "radialaxis": {
            "gridcolor": "white",
            "linecolor": "white",
            "ticks": ""
           }
          },
          "scene": {
           "xaxis": {
            "backgroundcolor": "#E5ECF6",
            "gridcolor": "white",
            "gridwidth": 2,
            "linecolor": "white",
            "showbackground": true,
            "ticks": "",
            "zerolinecolor": "white"
           },
           "yaxis": {
            "backgroundcolor": "#E5ECF6",
            "gridcolor": "white",
            "gridwidth": 2,
            "linecolor": "white",
            "showbackground": true,
            "ticks": "",
            "zerolinecolor": "white"
           },
           "zaxis": {
            "backgroundcolor": "#E5ECF6",
            "gridcolor": "white",
            "gridwidth": 2,
            "linecolor": "white",
            "showbackground": true,
            "ticks": "",
            "zerolinecolor": "white"
           }
          },
          "shapedefaults": {
           "line": {
            "color": "#2a3f5f"
           }
          },
          "ternary": {
           "aaxis": {
            "gridcolor": "white",
            "linecolor": "white",
            "ticks": ""
           },
           "baxis": {
            "gridcolor": "white",
            "linecolor": "white",
            "ticks": ""
           },
           "bgcolor": "#E5ECF6",
           "caxis": {
            "gridcolor": "white",
            "linecolor": "white",
            "ticks": ""
           }
          },
          "title": {
           "x": 0.05
          },
          "xaxis": {
           "automargin": true,
           "gridcolor": "white",
           "linecolor": "white",
           "ticks": "",
           "title": {
            "standoff": 15
           },
           "zerolinecolor": "white",
           "zerolinewidth": 2
          },
          "yaxis": {
           "automargin": true,
           "gridcolor": "white",
           "linecolor": "white",
           "ticks": "",
           "title": {
            "standoff": 15
           },
           "zerolinecolor": "white",
           "zerolinewidth": 2
          }
         }
        },
        "xaxis": {
         "anchor": "y",
         "domain": [
          0,
          1
         ],
         "title": {
          "text": "snapshot"
         }
        },
        "yaxis": {
         "anchor": "x",
         "domain": [
          0,
          1
         ],
         "title": {
          "text": "value"
         }
        }
       }
      }
     },
     "metadata": {},
     "output_type": "display_data"
    }
   ],
   "source": [
    "bus_to_view = \"DE\"\n",
    "\n",
    "# Get generators and storage units connected to the selected bus\n",
    "clustered_generators = network.generators.query(\"bus == @bus_to_view\").index\n",
    "clustered_storage_units = network.storage_units.query(\"bus == @bus_to_view\").index\n",
    "\n",
    "# Extract time-series data for the selected generators and storage units\n",
    "gen_p = network.generators_t.p[clustered_generators]\n",
    "storage_p = network.storage_units_t.p[clustered_storage_units]\n",
    "\n",
    "# Combine both data frames (handle cases where one may be empty)\n",
    "combined_df = gen_p.join(storage_p, how=\"outer\").fillna(0)\n",
    "\n",
    "combined_df.plot()\n"
   ]
  },
  {
   "cell_type": "markdown",
   "metadata": {},
   "source": [
    "### \n",
    "---"
   ]
  }
 ],
 "metadata": {
  "kernelspec": {
   "display_name": "flex_training_env",
   "language": "python",
   "name": "python3"
  },
  "language_info": {
   "codemirror_mode": {
    "name": "ipython",
    "version": 3
   },
   "file_extension": ".py",
   "mimetype": "text/x-python",
   "name": "python",
   "nbconvert_exporter": "python",
   "pygments_lexer": "ipython3",
   "version": "3.10.16"
  }
 },
 "nbformat": 4,
 "nbformat_minor": 2
}
