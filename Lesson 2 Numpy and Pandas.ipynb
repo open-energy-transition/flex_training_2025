{
  "cells": [
    {
      "cell_type": "markdown",
      "metadata": {},
      "source": [
        "### 📘 Lesson 2: Introduction Numpy and Pandas"
      ]
    },
    {
      "cell_type": "markdown",
      "metadata": {},
      "source": [
        "<div style=\"display: flex; align-items: center; justify-content: space-between;\">\n",
        "  <div>\n",
        "    <h3>Notebook Developers</h3>\n",
        "    <ul>\n",
        "      <li><strong>Dr. Fabrizio Finozzi</strong> - Big Data Software Developer</li>\n",
        "      <li><strong>Priyesh Gosai</strong> - Energy Systems Modeler and Training Coordinator</li>\n",
        "    </ul>\n",
        "  </div>\n",
        "  <div>\n",
        "    <a href=\"https://openenergytransition.org/index.html\">\n",
        "      <img src=\"https://openenergytransition.org/assets/img/oet-logo-red-n-subtitle.png\" height=\"60\" alt=\"OET\">\n",
        "    </a>\n",
        "  </div>\n",
        "</div>\n"
      ]
    },
    {
      "cell_type": "markdown",
      "metadata": {},
      "source": [
        "##### 🎯 Learning Objectives  \n",
        "\n",
        "* Gain an understanding of Numpy and Pandas, including their purposes and applications.\n",
        "* Learn to utilize key functions within these libraries.\n",
        "* Engage in practical exercises to effectively apply Numpy and Pandas tools.\n",
        "\n"
      ]
    },
    {
      "cell_type": "markdown",
      "metadata": {},
      "source": [
        "### Introduction to NumPy"
      ]
    },
    {
      "cell_type": "markdown",
      "metadata": {
        "id": "qy2JwVOskZyl"
      },
      "source": [
        "\n",
        "\n",
        "---\n",
        "\n",
        "**What is NumPy**\n",
        "\n",
        "NumPy is a Python package that brings the computational power of languages like C++\n",
        "and Fortran to Python. NumPy is the backbone of many other Python packages that span several applications, as shown below\n",
        "\n",
        "<img src=\"img/numpy_applications.png\" width=\"500\">"
      ]
    },
    {
      "cell_type": "markdown",
      "metadata": {
        "id": "T25tNyNpkZyl"
      },
      "source": [
        "How to import NumPy"
      ]
    },
    {
      "cell_type": "code",
      "execution_count": 2,
      "metadata": {
        "id": "oj-2FQtskZyl"
      },
      "outputs": [],
      "source": [
        "import numpy as np"
      ]
    },
    {
      "cell_type": "markdown",
      "metadata": {
        "id": "me0Kdl_0kZym"
      },
      "source": [
        "**Why NumPy**\n",
        "\n",
        "NumPy (which is an acronym for **Nu**merical **Py**thon) is a multi-dimensional array library. Data can therefore be stored in one-, two- or n-dimensional arrays. The array object in NumPy is referred to as `ndarray`. NumPy arrays are several times faster than traditional Python lists. This is because (behind the scenes) NumPy is developed in C++. `ndarrays` are also more efficient with memory usage. This is because Python lists may host several types of data at the same time, whereas `ndarrays` can only host numerical data. Finally NumPy can run sub-tasks in parallel. There is in fact the possibility to vectorize operations without the need of using `for` loops to cycle through the array and performing the calculations on each single element.\n",
        "\n",
        "\n",
        "With respect to terminology:\n",
        "- a **scalar** can be viewed as a 0-dimension `ndarray`, therefore it has no shape\n",
        "- a **vector** can be viewed as a 1-dimension `ndarray`, therefore it has shape(n,)\n",
        "- a **matrix** can be viewed as a 2-dimensions `ndarray`, therefore it has shape(n, m)\n",
        "and so forth."
      ]
    },
    {
      "cell_type": "code",
      "execution_count": 3,
      "metadata": {
        "id": "Is_KgSalkZym",
        "outputId": "82487564-4c8a-4eb7-b30a-ff81bca69bc1"
      },
      "outputs": [
        {
          "name": "stdout",
          "output_type": "stream",
          "text": [
            "dimensions: 0 | shape: ()\n",
            "dimensions: 1 | shape: (3,)\n",
            "dimensions: 2 | shape: (2, 3)\n"
          ]
        }
      ],
      "source": [
        "scalar = np.array(4)\n",
        "vector = np.array([1,2,3])\n",
        "matrix = np.array([[1,2,3], [4,5,6]])\n",
        "\n",
        "for arr in [scalar, vector, matrix]:\n",
        "    print(\"dimensions:\", arr.ndim, \"| shape:\", arr.shape)"
      ]
    },
    {
      "cell_type": "code",
      "execution_count": null,
      "metadata": {},
      "outputs": [],
      "source": []
    },
    {
      "cell_type": "code",
      "execution_count": 4,
      "metadata": {},
      "outputs": [
        {
          "data": {
            "text/plain": [
              "2"
            ]
          },
          "execution_count": 4,
          "metadata": {},
          "output_type": "execute_result"
        }
      ],
      "source": [
        "matrix.ndim"
      ]
    },
    {
      "cell_type": "markdown",
      "metadata": {
        "id": "aRzhOm12kZyn"
      },
      "source": [
        "This code snippet makes use of the attributes `ndim` and `shape`, that return respectively an integer corresponding  to the number of dimensions and a tuple of integers corresponding to the array dimensions. The full list of `ndarray` attributes and methods is available at this [link](https://numpy.org/doc/stable/reference/generated/numpy.ndarray.html)."
      ]
    },
    {
      "cell_type": "markdown",
      "metadata": {
        "id": "3z3Uv3KDkZyn"
      },
      "source": [
        "**NumPy overview**"
      ]
    },
    {
      "cell_type": "markdown",
      "metadata": {
        "id": "-ejUGLvmkZyn"
      },
      "source": [
        "#### Slicing\n",
        "`ndarray` slicing works as the slicing of lists."
      ]
    },
    {
      "cell_type": "code",
      "execution_count": 5,
      "metadata": {
        "id": "LK-mk3FRkZyn",
        "outputId": "f0d2b6c1-3b8a-40ef-f1e2-66fa01753853"
      },
      "outputs": [
        {
          "name": "stdout",
          "output_type": "stream",
          "text": [
            "[1 2 3 4 5 6 7]\n"
          ]
        }
      ],
      "source": [
        "vector = np.array([1,2,3,4,5,6,7])\n",
        "print(vector)"
      ]
    },
    {
      "cell_type": "code",
      "execution_count": 6,
      "metadata": {
        "id": "6-zKJifIkZyo",
        "outputId": "9f0067a0-86d0-4f44-f2fc-ae0e616bd274"
      },
      "outputs": [
        {
          "name": "stdout",
          "output_type": "stream",
          "text": [
            "1 7\n"
          ]
        }
      ],
      "source": [
        "# the first and the last elements are given by\n",
        "print(vector[0], vector[-1])"
      ]
    },
    {
      "cell_type": "code",
      "execution_count": 7,
      "metadata": {
        "id": "IcprlT5gkZyo",
        "outputId": "3dff03d4-a6bd-49f6-a4f3-4a3afc08282e"
      },
      "outputs": [
        {
          "data": {
            "text/plain": [
              "array([2, 3, 4])"
            ]
          },
          "execution_count": 7,
          "metadata": {},
          "output_type": "execute_result"
        }
      ],
      "source": [
        "# a slice from the second to the fourth element (included) is given by\n",
        "vector[1:4]"
      ]
    },
    {
      "cell_type": "code",
      "execution_count": 8,
      "metadata": {
        "id": "3A1oKVhqkZyo",
        "outputId": "ad5f7bb3-78f2-4c05-9053-92132eef0d01"
      },
      "outputs": [
        {
          "data": {
            "text/plain": [
              "array([1, 4, 7])"
            ]
          },
          "execution_count": 8,
          "metadata": {},
          "output_type": "execute_result"
        }
      ],
      "source": [
        "# a slice from the first to the last element in steps of three is given by\n",
        "vector[::3]"
      ]
    },
    {
      "cell_type": "markdown",
      "metadata": {
        "id": "JtphLtPKkZyo"
      },
      "source": [
        "The slicing works in the same way even for higher dimensions `ndarray`. Let us consider the matrix"
      ]
    },
    {
      "cell_type": "code",
      "execution_count": 9,
      "metadata": {
        "id": "HKG-pujykZyo",
        "outputId": "c1fa9363-7667-49db-e023-43e5626476b1"
      },
      "outputs": [
        {
          "name": "stdout",
          "output_type": "stream",
          "text": [
            "[[ 1  2  3  4  5  6  7]\n",
            " [ 8  9 10 11 12 13 14]]\n"
          ]
        }
      ],
      "source": [
        "matrix = np.array([[1,2,3,4,5,6,7], [8,9,10,11,12,13,14]])\n",
        "print(matrix)"
      ]
    },
    {
      "cell_type": "code",
      "execution_count": 10,
      "metadata": {},
      "outputs": [
        {
          "data": {
            "text/plain": [
              "10"
            ]
          },
          "execution_count": 10,
          "metadata": {},
          "output_type": "execute_result"
        }
      ],
      "source": [
        "matrix[1,2]"
      ]
    },
    {
      "cell_type": "code",
      "execution_count": 11,
      "metadata": {
        "id": "R56X9IomkZyo",
        "outputId": "54ad7540-839d-4209-d693-6827445a99f2"
      },
      "outputs": [
        {
          "data": {
            "text/plain": [
              "array([1, 2, 3, 4, 5, 6, 7])"
            ]
          },
          "execution_count": 11,
          "metadata": {},
          "output_type": "execute_result"
        }
      ],
      "source": [
        "# a slice that returns the first row is given by\n",
        "matrix[0, :]"
      ]
    },
    {
      "cell_type": "code",
      "execution_count": 12,
      "metadata": {
        "id": "gc-gBg-dkZyo",
        "outputId": "cdabf45b-9da3-4a89-9259-25d430835552"
      },
      "outputs": [
        {
          "data": {
            "text/plain": [
              "array([ 8,  9, 10, 11, 12, 13, 14])"
            ]
          },
          "execution_count": 12,
          "metadata": {},
          "output_type": "execute_result"
        }
      ],
      "source": [
        "# a slice that returns the second row is given by\n",
        "matrix[1, :]"
      ]
    },
    {
      "cell_type": "code",
      "execution_count": 13,
      "metadata": {
        "id": "mfSpvs-rkZyp",
        "outputId": "7092c352-8108-4858-c731-f75ea8d52369"
      },
      "outputs": [
        {
          "data": {
            "text/plain": [
              "array([[ 3,  4,  5],\n",
              "       [10, 11, 12]])"
            ]
          },
          "execution_count": 13,
          "metadata": {},
          "output_type": "execute_result"
        }
      ],
      "source": [
        "# a slice that returns the second through the fourth columns is instead given by\n",
        "matrix[:, 2:5]"
      ]
    },
    {
      "cell_type": "markdown",
      "metadata": {
        "id": "ewX3Pg2RkZyp"
      },
      "source": [
        "Slicing is instrumental also when replacing elements of an `ndarray`. For example, the code to replace the second through the fourth columns with **ones** is"
      ]
    },
    {
      "cell_type": "code",
      "execution_count": 14,
      "metadata": {
        "id": "jPUgUZTAkZyp",
        "outputId": "ca63e465-cab2-4cf3-b188-2615660158ff"
      },
      "outputs": [
        {
          "data": {
            "text/plain": [
              "array([[ 1,  2,  1,  1,  1,  6,  7],\n",
              "       [ 8,  9,  1,  1,  1, 13, 14]])"
            ]
          },
          "execution_count": 14,
          "metadata": {},
          "output_type": "execute_result"
        }
      ],
      "source": [
        "matrix[:, 2:5] = [[1, 1, 1], [1, 1, 1]]\n",
        "matrix"
      ]
    },
    {
      "cell_type": "markdown",
      "metadata": {
        "id": "A0ST3inNkZyp"
      },
      "source": [
        "#### Array manipulation\n",
        "\n",
        "NumPy provides methods to re-organize and re-shape arrays.\n",
        "\n",
        "The methods *vstack* and *hstack* enable to vertically and horizontally stack existing `ndarrays`."
      ]
    },
    {
      "cell_type": "code",
      "execution_count": 15,
      "metadata": {
        "id": "k6Yrhi1qkZyp"
      },
      "outputs": [],
      "source": [
        "vector_one = np.array([1,2,3,4,5,6,7])\n",
        "vector_two = np.array([8,9,10,11,12,13,14])"
      ]
    },
    {
      "cell_type": "code",
      "execution_count": 16,
      "metadata": {
        "id": "MiVQPudqkZyp",
        "outputId": "7a559112-8400-41bc-9c64-b5a0d179c65b"
      },
      "outputs": [
        {
          "name": "stdout",
          "output_type": "stream",
          "text": [
            "[[ 1  2  3  4  5  6  7]\n",
            " [ 8  9 10 11 12 13 14]]\n"
          ]
        }
      ],
      "source": [
        "# vertical stacking\n",
        "print(np.vstack([vector_one,vector_two]))"
      ]
    },
    {
      "cell_type": "code",
      "execution_count": 17,
      "metadata": {
        "id": "M00jJOrMkZyp",
        "outputId": "ad263528-0a0c-4f33-f1ca-61498a7af0e0"
      },
      "outputs": [
        {
          "name": "stdout",
          "output_type": "stream",
          "text": [
            "[ 1  2  3  4  5  6  7  8  9 10 11 12 13 14]\n"
          ]
        }
      ],
      "source": [
        "# horizontal stacking\n",
        "print(np.hstack([vector_one,vector_two]))"
      ]
    },
    {
      "cell_type": "markdown",
      "metadata": {
        "id": "DAIVVxp2kZyq"
      },
      "source": [
        "The method *reshape* instead allows to modify the **shape** of an `ndarray`"
      ]
    },
    {
      "cell_type": "code",
      "execution_count": 18,
      "metadata": {
        "id": "_s-go83KkZyq",
        "outputId": "0440ef56-def9-4458-b3d8-4ee1091c380c"
      },
      "outputs": [
        {
          "data": {
            "text/plain": [
              "(2, 7)"
            ]
          },
          "execution_count": 18,
          "metadata": {},
          "output_type": "execute_result"
        }
      ],
      "source": [
        "original_matrix = np.vstack([vector_one,vector_two])\n",
        "original_matrix.shape"
      ]
    },
    {
      "cell_type": "code",
      "execution_count": 19,
      "metadata": {
        "id": "hH1Gp1TKkZyq",
        "outputId": "545dbea4-53a8-4c68-c3c0-f413a87e3bcd"
      },
      "outputs": [
        {
          "data": {
            "text/plain": [
              "array([[ 1,  2],\n",
              "       [ 3,  4],\n",
              "       [ 5,  6],\n",
              "       [ 7,  8],\n",
              "       [ 9, 10],\n",
              "       [11, 12],\n",
              "       [13, 14]])"
            ]
          },
          "execution_count": 19,
          "metadata": {},
          "output_type": "execute_result"
        }
      ],
      "source": [
        "original_matrix.reshape((7,2))"
      ]
    },
    {
      "cell_type": "code",
      "execution_count": 20,
      "metadata": {},
      "outputs": [],
      "source": [
        "# original_matrix = original_matrix.reshape((7,2))"
      ]
    },
    {
      "cell_type": "markdown",
      "metadata": {
        "id": "Z7gymCSNkZyq"
      },
      "source": [
        "#### Zeros and ones\n",
        "\n",
        "The following code snippets can be used to create `ndarrays` containing only **zeros** or **ones**. Namely:"
      ]
    },
    {
      "cell_type": "code",
      "execution_count": 21,
      "metadata": {
        "id": "hdKLR0BBkZyq",
        "outputId": "6f4708d5-22be-45bf-c8a5-947fd5069ba6"
      },
      "outputs": [
        {
          "name": "stdout",
          "output_type": "stream",
          "text": [
            "[0. 0. 0. 0. 0.]\n"
          ]
        }
      ],
      "source": [
        "# zeros vector\n",
        "vector_zeros = np.zeros(5)\n",
        "print(vector_zeros)"
      ]
    },
    {
      "cell_type": "code",
      "execution_count": 22,
      "metadata": {
        "id": "TvgEcyuHkZyq",
        "outputId": "52990e6d-5207-4ccf-b9d5-6537b74471d7"
      },
      "outputs": [
        {
          "name": "stdout",
          "output_type": "stream",
          "text": [
            "[[0. 0. 0. 0. 0. 0. 0.]\n",
            " [0. 0. 0. 0. 0. 0. 0.]\n",
            " [0. 0. 0. 0. 0. 0. 0.]\n",
            " [0. 0. 0. 0. 0. 0. 0.]\n",
            " [0. 0. 0. 0. 0. 0. 0.]]\n"
          ]
        }
      ],
      "source": [
        "# zeros matrix\n",
        "matrix_zeros = np.zeros((5,7))\n",
        "print(matrix_zeros)"
      ]
    },
    {
      "cell_type": "code",
      "execution_count": 23,
      "metadata": {
        "id": "-Qaxe_DRkZyq",
        "outputId": "b0e0f98e-6698-4914-c460-9dd552c80300"
      },
      "outputs": [
        {
          "name": "stdout",
          "output_type": "stream",
          "text": [
            "[1. 1. 1. 1. 1.]\n"
          ]
        }
      ],
      "source": [
        "# ones vector\n",
        "vector_ones = np.ones(5)\n",
        "print(vector_ones)"
      ]
    },
    {
      "cell_type": "code",
      "execution_count": 24,
      "metadata": {
        "id": "y553YurFkZyr",
        "outputId": "52f2ef3e-f88f-449a-a158-5abdabf06061"
      },
      "outputs": [
        {
          "name": "stdout",
          "output_type": "stream",
          "text": [
            "[[1. 1. 1. 1. 1. 1. 1.]\n",
            " [1. 1. 1. 1. 1. 1. 1.]\n",
            " [1. 1. 1. 1. 1. 1. 1.]\n",
            " [1. 1. 1. 1. 1. 1. 1.]\n",
            " [1. 1. 1. 1. 1. 1. 1.]]\n"
          ]
        }
      ],
      "source": [
        "# ones matrix\n",
        "matrix_ones = np.ones((5,7))\n",
        "print(matrix_ones)"
      ]
    },
    {
      "cell_type": "code",
      "execution_count": 25,
      "metadata": {},
      "outputs": [],
      "source": [
        "matrix_ones = np.array(i for i in range(5))"
      ]
    },
    {
      "cell_type": "code",
      "execution_count": 26,
      "metadata": {},
      "outputs": [
        {
          "data": {
            "text/plain": [
              "array(<generator object <genexpr> at 0x000002647BBAA340>, dtype=object)"
            ]
          },
          "execution_count": 26,
          "metadata": {},
          "output_type": "execute_result"
        }
      ],
      "source": [
        "matrix_ones"
      ]
    },
    {
      "cell_type": "code",
      "execution_count": 27,
      "metadata": {},
      "outputs": [
        {
          "data": {
            "text/plain": [
              "array(<generator object <genexpr> at 0x000002647BBAA340>, dtype=object)"
            ]
          },
          "execution_count": 27,
          "metadata": {},
          "output_type": "execute_result"
        }
      ],
      "source": [
        "matrix_ones"
      ]
    },
    {
      "cell_type": "markdown",
      "metadata": {
        "id": "gY9viIhxkZyr"
      },
      "source": [
        "#### Linear algebra\n",
        "\n",
        "A NumPy `ndarray` supports *vectorized* operations. For example, it is possible to add, subtract, multiply or divide each element of an `ndarray` using the following compact form (**Note**: this is **not** possible with lists)"
      ]
    },
    {
      "cell_type": "code",
      "execution_count": 28,
      "metadata": {
        "id": "NglNPSoKkZyr",
        "outputId": "7b9204b0-5394-4fe9-833e-1c001f767590"
      },
      "outputs": [
        {
          "name": "stdout",
          "output_type": "stream",
          "text": [
            "[[3. 3. 3. 3. 3. 3. 3.]\n",
            " [3. 3. 3. 3. 3. 3. 3.]\n",
            " [3. 3. 3. 3. 3. 3. 3.]\n",
            " [3. 3. 3. 3. 3. 3. 3.]\n",
            " [3. 3. 3. 3. 3. 3. 3.]]\n"
          ]
        }
      ],
      "source": [
        "matrix_ones = np.ones((5,7))\n",
        "print(matrix_ones + 2)"
      ]
    },
    {
      "cell_type": "code",
      "execution_count": 29,
      "metadata": {
        "id": "3c5onfXJkZyr",
        "outputId": "4a848f05-3d21-432a-8583-10e777eb76d8"
      },
      "outputs": [
        {
          "name": "stdout",
          "output_type": "stream",
          "text": [
            "[[4. 4. 4. 4. 4. 4. 4.]\n",
            " [4. 4. 4. 4. 4. 4. 4.]\n",
            " [4. 4. 4. 4. 4. 4. 4.]\n",
            " [4. 4. 4. 4. 4. 4. 4.]\n",
            " [4. 4. 4. 4. 4. 4. 4.]]\n"
          ]
        }
      ],
      "source": [
        "print(matrix_ones * 4)"
      ]
    },
    {
      "cell_type": "code",
      "execution_count": 30,
      "metadata": {
        "id": "N_qXl_StkZyr",
        "outputId": "cb11cb87-2f92-4eea-c07d-59ab1a891199"
      },
      "outputs": [
        {
          "name": "stdout",
          "output_type": "stream",
          "text": [
            "[[-1. -1. -1. -1. -1. -1. -1.]\n",
            " [-1. -1. -1. -1. -1. -1. -1.]\n",
            " [-1. -1. -1. -1. -1. -1. -1.]\n",
            " [-1. -1. -1. -1. -1. -1. -1.]\n",
            " [-1. -1. -1. -1. -1. -1. -1.]]\n"
          ]
        }
      ],
      "source": [
        "print(matrix_ones - 2)"
      ]
    },
    {
      "cell_type": "code",
      "execution_count": 31,
      "metadata": {
        "id": "A-dEz2CGkZys",
        "outputId": "b4c6c95f-5588-41c4-eab1-7248a123c200"
      },
      "outputs": [
        {
          "name": "stdout",
          "output_type": "stream",
          "text": [
            "[[0.25 0.25 0.25 0.25 0.25 0.25 0.25]\n",
            " [0.25 0.25 0.25 0.25 0.25 0.25 0.25]\n",
            " [0.25 0.25 0.25 0.25 0.25 0.25 0.25]\n",
            " [0.25 0.25 0.25 0.25 0.25 0.25 0.25]\n",
            " [0.25 0.25 0.25 0.25 0.25 0.25 0.25]]\n"
          ]
        }
      ],
      "source": [
        "print(matrix_ones / 4)"
      ]
    },
    {
      "cell_type": "markdown",
      "metadata": {
        "id": "kJC4cPnBkZys"
      },
      "source": [
        "The *extended* versions of the code snippets above involve the use of a `for` loop to cycle through each element of the `ndarray`.\n",
        "\n",
        "NumPy provides also a function to perform a [matrix multiplication](https://en.wikipedia.org/wiki/Matrix_multiplication)."
      ]
    },
    {
      "cell_type": "code",
      "execution_count": 32,
      "metadata": {
        "id": "B2bMjgh_kZys",
        "outputId": "fc122532-d7cc-4a6e-f783-b0e4deefb81b"
      },
      "outputs": [
        {
          "data": {
            "text/plain": [
              "array([[28., 28., 28., 28., 28.],\n",
              "       [28., 28., 28., 28., 28.],\n",
              "       [28., 28., 28., 28., 28.],\n",
              "       [28., 28., 28., 28., 28.],\n",
              "       [28., 28., 28., 28., 28.]])"
            ]
          },
          "execution_count": 32,
          "metadata": {},
          "output_type": "execute_result"
        }
      ],
      "source": [
        "matrix_ones = np.ones((5,7))\n",
        "matrix_threes = (matrix_ones + 3).transpose()\n",
        "\n",
        "np.matmul(matrix_ones, matrix_threes)"
      ]
    },
    {
      "cell_type": "markdown",
      "metadata": {
        "id": "VE_sWWS6kZys"
      },
      "source": [
        "The `@` operator can be used as a shorthand for `np.matmul` on `ndarrays`."
      ]
    },
    {
      "cell_type": "markdown",
      "metadata": {
        "id": "bbrdzfgskZys"
      },
      "source": [
        "#### Other useful operations"
      ]
    },
    {
      "cell_type": "markdown",
      "metadata": {
        "id": "tG-vExxnkZys"
      },
      "source": [
        "The important *statistics* of an `ndarray` can be determined with the following methods"
      ]
    },
    {
      "cell_type": "code",
      "execution_count": 33,
      "metadata": {
        "id": "NE_qG6G6kZys",
        "outputId": "9a7554c7-69e2-47d7-bf1e-1bde8af07aa9"
      },
      "outputs": [
        {
          "data": {
            "text/plain": [
              "1"
            ]
          },
          "execution_count": 33,
          "metadata": {},
          "output_type": "execute_result"
        }
      ],
      "source": [
        "# minimum of an ndarray\n",
        "vector.min()"
      ]
    },
    {
      "cell_type": "code",
      "execution_count": 34,
      "metadata": {
        "id": "-_qxLqickZyt",
        "outputId": "ee95f595-5f04-440f-a3e5-b44cebd81fff"
      },
      "outputs": [
        {
          "data": {
            "text/plain": [
              "7"
            ]
          },
          "execution_count": 34,
          "metadata": {},
          "output_type": "execute_result"
        }
      ],
      "source": [
        "# maximum of an ndarray\n",
        "vector.max()"
      ]
    },
    {
      "cell_type": "code",
      "execution_count": 35,
      "metadata": {
        "id": "7gWWo2GzkZyt",
        "outputId": "30c5854e-2a0c-4f38-b941-35a681112e1a"
      },
      "outputs": [
        {
          "data": {
            "text/plain": [
              "4.0"
            ]
          },
          "execution_count": 35,
          "metadata": {},
          "output_type": "execute_result"
        }
      ],
      "source": [
        "# mean of an ndarray\n",
        "vector.mean()"
      ]
    },
    {
      "cell_type": "markdown",
      "metadata": {
        "id": "zqik1EcpkZyt"
      },
      "source": [
        "It is also possible to apply these methods to n-dimensional `ndarray`. For example"
      ]
    },
    {
      "cell_type": "code",
      "execution_count": 36,
      "metadata": {
        "id": "xhX4LSSEkZyt",
        "outputId": "5edb7178-c591-4116-89a1-3f4f1a81d28d"
      },
      "outputs": [
        {
          "data": {
            "text/plain": [
              "array([ 8,  9,  1,  1,  1, 13, 14])"
            ]
          },
          "execution_count": 36,
          "metadata": {},
          "output_type": "execute_result"
        }
      ],
      "source": [
        "# maximum element of the matrix for each column\n",
        "matrix.max(axis=0)"
      ]
    },
    {
      "cell_type": "code",
      "execution_count": 37,
      "metadata": {
        "id": "-knK3X1ckZyt",
        "outputId": "bd7bd033-946a-43b9-c739-af46276b4ccb"
      },
      "outputs": [
        {
          "data": {
            "text/plain": [
              "array([ 7, 14])"
            ]
          },
          "execution_count": 37,
          "metadata": {},
          "output_type": "execute_result"
        }
      ],
      "source": [
        "# maximum element of the matrix for each row\n",
        "matrix.max(axis=1)"
      ]
    },
    {
      "cell_type": "markdown",
      "metadata": {
        "id": "NnFeCDcrkZyt"
      },
      "source": [
        "Finally, the **all** and **any** return `True` or `False` if (respectively) all or any of the elements of the `ndarray` fulfill a given condition. For example"
      ]
    },
    {
      "cell_type": "code",
      "execution_count": 38,
      "metadata": {
        "id": "rV9sBtpakZyt",
        "outputId": "0ec484ed-0dd0-4941-fb62-404de278d11e"
      },
      "outputs": [
        {
          "data": {
            "text/plain": [
              "False"
            ]
          },
          "execution_count": 38,
          "metadata": {},
          "output_type": "execute_result"
        }
      ],
      "source": [
        "np.any(vector==9)"
      ]
    },
    {
      "cell_type": "code",
      "execution_count": 39,
      "metadata": {
        "id": "jTFUgU6zkZyt",
        "outputId": "5d38f22d-c511-412c-a387-698377efcea8"
      },
      "outputs": [
        {
          "data": {
            "text/plain": [
              "True"
            ]
          },
          "execution_count": 39,
          "metadata": {},
          "output_type": "execute_result"
        }
      ],
      "source": [
        "np.any(vector==1)"
      ]
    },
    {
      "cell_type": "code",
      "execution_count": 40,
      "metadata": {
        "id": "2IfE28yHkZyu",
        "outputId": "18d8f1f3-bd04-49b4-ac3e-a5b04bf7ea59"
      },
      "outputs": [
        {
          "data": {
            "text/plain": [
              "False"
            ]
          },
          "execution_count": 40,
          "metadata": {},
          "output_type": "execute_result"
        }
      ],
      "source": [
        "np.all(vector==9)"
      ]
    },
    {
      "cell_type": "code",
      "execution_count": 41,
      "metadata": {
        "id": "AHjYfFupkZyu",
        "outputId": "8724109f-656e-4ccf-e9cc-09d14b5ac2f3"
      },
      "outputs": [
        {
          "data": {
            "text/plain": [
              "False"
            ]
          },
          "execution_count": 41,
          "metadata": {},
          "output_type": "execute_result"
        }
      ],
      "source": [
        "np.all(vector==1)"
      ]
    },
    {
      "cell_type": "code",
      "execution_count": 42,
      "metadata": {
        "id": "5zfA9tDSkZyu",
        "outputId": "51be23fc-17e5-45e3-81f0-95868dfe8657"
      },
      "outputs": [
        {
          "data": {
            "text/plain": [
              "True"
            ]
          },
          "execution_count": 42,
          "metadata": {},
          "output_type": "execute_result"
        }
      ],
      "source": [
        "np.all(vector_ones==1)"
      ]
    },
    {
      "cell_type": "markdown",
      "metadata": {
        "id": "51ufjjoJkZyu"
      },
      "source": [
        "It is also possible to apply these methods to n-dimensional `ndarray` as well. For example"
      ]
    },
    {
      "cell_type": "code",
      "execution_count": 43,
      "metadata": {
        "id": "8LpbVYF1kZyu",
        "outputId": "ad759d15-b3e1-48f4-d04a-ebdd395a01f5"
      },
      "outputs": [
        {
          "name": "stdout",
          "output_type": "stream",
          "text": [
            "Are all the elements by column of the matrix greater than 0? [ True  True  True  True  True  True  True]\n",
            "Are all the elements by row of the matrix greater than 0? [ True  True]\n",
            "Is any of the elements along the columns of the matrix greater than 6? [False False False False False False  True]\n",
            "Is any of the elements along the rows of the matrix greater than 6? [False False]\n"
          ]
        }
      ],
      "source": [
        "print(\"Are all the elements by column of the matrix greater than 0?\", np.all(matrix > 0, axis=0))\n",
        "print(\"Are all the elements by row of the matrix greater than 0?\", np.all(matrix > 0, axis=1))\n",
        "print(\"Is any of the elements along the columns of the matrix greater than 6?\", np.all(matrix > 6, axis=0))\n",
        "print(\"Is any of the elements along the rows of the matrix greater than 6?\", np.all(matrix > 6, axis=1))"
      ]
    },
    {
      "cell_type": "markdown",
      "metadata": {},
      "source": [
        "### Introduction to Pandas"
      ]
    },
    {
      "cell_type": "markdown",
      "metadata": {
        "id": "MEahBI6KkZyu"
      },
      "source": [
        "\n",
        "---\n",
        "\n",
        "**What is Pandas**\n",
        "\n",
        "Pandas is a fast, powerful, flexible and easy to use open source data analysis and manipulation tool,\n",
        "built on top of the Python programming language (primarly on top of NumPy). It enables also to process data as one would do with SQL."
      ]
    },
    {
      "cell_type": "markdown",
      "metadata": {
        "id": "KwB5Mmm4kZyu"
      },
      "source": [
        "**How to import Pandas**"
      ]
    },
    {
      "cell_type": "code",
      "execution_count": 44,
      "metadata": {
        "id": "uIWa0ehvkZyu"
      },
      "outputs": [],
      "source": [
        "#!pip install pandas\n",
        "import pandas as pd"
      ]
    },
    {
      "cell_type": "markdown",
      "metadata": {
        "id": "NBTCTv_3kZyv"
      },
      "source": [
        "**Pandas overview**"
      ]
    },
    {
      "cell_type": "markdown",
      "metadata": {
        "id": "Y95F1WGWkZyv"
      },
      "source": [
        "\n",
        "\n",
        "A Pandas `DataFrame` is a two-dimensional, size-mutable and potentially heterogeneous (it means it can contain different types of data) tabular data. Dataframes can be built from dictionaries, where the dictionary keys are the column names and the dictionary values are strings that contain the column values"
      ]
    },
    {
      "cell_type": "code",
      "execution_count": 45,
      "metadata": {
        "id": "VFBHONhPkZyv"
      },
      "outputs": [],
      "source": [
        "df_from_dict = pd.DataFrame({\"Name\": [\"Tom\", \"Paul\", \"John\", \"Sarah\"], \"Age\": [31, 42, 12, 56], \"Shoe-size\": [35, 42, 36, 31]})"
      ]
    },
    {
      "cell_type": "code",
      "execution_count": 46,
      "metadata": {},
      "outputs": [
        {
          "data": {
            "application/vnd.microsoft.datawrangler.viewer.v0+json": {
              "columns": [
                {
                  "name": "index",
                  "rawType": "int64",
                  "type": "integer"
                },
                {
                  "name": "Name",
                  "rawType": "object",
                  "type": "string"
                },
                {
                  "name": "Age",
                  "rawType": "int64",
                  "type": "integer"
                },
                {
                  "name": "Shoe-size",
                  "rawType": "int64",
                  "type": "integer"
                }
              ],
              "conversionMethod": "pd.DataFrame",
              "ref": "fec6c4ee-5eeb-43bf-987b-62f99c2fb992",
              "rows": [
                [
                  "0",
                  "Tom",
                  "31",
                  "35"
                ],
                [
                  "1",
                  "Paul",
                  "42",
                  "42"
                ],
                [
                  "2",
                  "John",
                  "12",
                  "36"
                ],
                [
                  "3",
                  "Sarah",
                  "56",
                  "31"
                ]
              ],
              "shape": {
                "columns": 3,
                "rows": 4
              }
            },
            "text/html": [
              "<div>\n",
              "<style scoped>\n",
              "    .dataframe tbody tr th:only-of-type {\n",
              "        vertical-align: middle;\n",
              "    }\n",
              "\n",
              "    .dataframe tbody tr th {\n",
              "        vertical-align: top;\n",
              "    }\n",
              "\n",
              "    .dataframe thead th {\n",
              "        text-align: right;\n",
              "    }\n",
              "</style>\n",
              "<table border=\"1\" class=\"dataframe\">\n",
              "  <thead>\n",
              "    <tr style=\"text-align: right;\">\n",
              "      <th></th>\n",
              "      <th>Name</th>\n",
              "      <th>Age</th>\n",
              "      <th>Shoe-size</th>\n",
              "    </tr>\n",
              "  </thead>\n",
              "  <tbody>\n",
              "    <tr>\n",
              "      <th>0</th>\n",
              "      <td>Tom</td>\n",
              "      <td>31</td>\n",
              "      <td>35</td>\n",
              "    </tr>\n",
              "    <tr>\n",
              "      <th>1</th>\n",
              "      <td>Paul</td>\n",
              "      <td>42</td>\n",
              "      <td>42</td>\n",
              "    </tr>\n",
              "    <tr>\n",
              "      <th>2</th>\n",
              "      <td>John</td>\n",
              "      <td>12</td>\n",
              "      <td>36</td>\n",
              "    </tr>\n",
              "    <tr>\n",
              "      <th>3</th>\n",
              "      <td>Sarah</td>\n",
              "      <td>56</td>\n",
              "      <td>31</td>\n",
              "    </tr>\n",
              "  </tbody>\n",
              "</table>\n",
              "</div>"
            ],
            "text/plain": [
              "    Name  Age  Shoe-size\n",
              "0    Tom   31         35\n",
              "1   Paul   42         42\n",
              "2   John   12         36\n",
              "3  Sarah   56         31"
            ]
          },
          "execution_count": 46,
          "metadata": {},
          "output_type": "execute_result"
        }
      ],
      "source": [
        "df_from_dict"
      ]
    },
    {
      "cell_type": "markdown",
      "metadata": {
        "id": "D4xv6oETkZyv"
      },
      "source": [
        "An alternative is to use only lists"
      ]
    },
    {
      "cell_type": "code",
      "execution_count": 47,
      "metadata": {
        "id": "vhKVc4jukZyv"
      },
      "outputs": [],
      "source": [
        "data_list = [[\"Tom\", 31, 35], [\"Paul\", 42, 42], [\"John\", 12, 36], [\"Sarah\", 56, 31]]\n",
        "data_column_name = [\"Name\", \"Age\", \"Shoe-size\"]\n",
        "df_from_list = pd.DataFrame(data_list, columns=data_column_name)"
      ]
    },
    {
      "cell_type": "markdown",
      "metadata": {
        "id": "ap2ZGdfPkZyv"
      },
      "source": [
        "Data can be fed into a Pandas `DataFrame` from a file. Pandas supports several file formats, which can be found at this [link](https://pandas.pydata.org/pandas-docs/stable/user_guide/io.html). For example the syntax from an excel file would be `df_read_from_file = pd.read_excel(file_name, sheet_name = sheet_name)`.\n",
        "\n",
        "**Pandas `Dataframe` attributes and methods**\n",
        "\n",
        "Pandas offers built-in methods and attributes of the `DataFrame` class which are useful to describe the data contained in the dataframe. Given a `DataFrame` called `dataframe_name`:\n",
        "- `dataframe_name.shape`: the attribute returns a tuple representing the dimensionality (number of rows and columns) of the DataFrame\n",
        "- `dataframe_name.head(n)`: the method displays the first `n` rows of the dataframe\n",
        "- `dataframe_name.tail(n)`: the method displays the last `n` rows of the dataframe\n",
        "- `dataframename.sample(n)`: the method returns another dataframe, containing a random sample of `n` rows from the original dataframe. If no argument is passed, the method returns a dataframe with just one row. One can also execute `dataframe_name.sample(frac=0.1)`. This will return a dataframe with `10 %` of the rows from the original dataframe\n",
        "- `dataframe_name.describe()`: the method returns a 8 × ncols dataframe. If `dataframe_name` contains numeric data, the method returns for each column, `count` (number of rows containing non-null values), `mean`, `std`, `min`, `max`, the `25 percentile`, `50 percentile` (the median) and `75 percentile`\n",
        "- `dataframe_name.isna()`: the method returns a boolean same-sized dataframe, indicating if the values are `NA`. `NA` values, such as `None` or `numpy.NaN`, get mapped to `True`. Everything else gets mapped to `False`. Characters such as empty strings `\" \"` or `numpy.inf` are **not** considered `NA` values. The snippet `dataframe_name.isna().sum()` returns the number of rows in each column where `NA` values are present"
      ]
    },
    {
      "cell_type": "code",
      "execution_count": 48,
      "metadata": {
        "id": "4JrdSI3rkZyw",
        "outputId": "3c407dc4-f261-485d-fe8a-7ff43350d577"
      },
      "outputs": [
        {
          "data": {
            "application/vnd.microsoft.datawrangler.viewer.v0+json": {
              "columns": [
                {
                  "name": "index",
                  "rawType": "int64",
                  "type": "integer"
                },
                {
                  "name": "Name",
                  "rawType": "object",
                  "type": "string"
                },
                {
                  "name": "Age",
                  "rawType": "int64",
                  "type": "integer"
                },
                {
                  "name": "Shoe-size",
                  "rawType": "int64",
                  "type": "integer"
                }
              ],
              "conversionMethod": "pd.DataFrame",
              "ref": "d1a600b0-acb6-4f7f-bca8-bc03d7a8c7d0",
              "rows": [
                [
                  "0",
                  "Tom",
                  "31",
                  "35"
                ],
                [
                  "1",
                  "Paul",
                  "42",
                  "42"
                ],
                [
                  "2",
                  "John",
                  "12",
                  "36"
                ],
                [
                  "3",
                  "Sarah",
                  "56",
                  "31"
                ]
              ],
              "shape": {
                "columns": 3,
                "rows": 4
              }
            },
            "text/html": [
              "<div>\n",
              "<style scoped>\n",
              "    .dataframe tbody tr th:only-of-type {\n",
              "        vertical-align: middle;\n",
              "    }\n",
              "\n",
              "    .dataframe tbody tr th {\n",
              "        vertical-align: top;\n",
              "    }\n",
              "\n",
              "    .dataframe thead th {\n",
              "        text-align: right;\n",
              "    }\n",
              "</style>\n",
              "<table border=\"1\" class=\"dataframe\">\n",
              "  <thead>\n",
              "    <tr style=\"text-align: right;\">\n",
              "      <th></th>\n",
              "      <th>Name</th>\n",
              "      <th>Age</th>\n",
              "      <th>Shoe-size</th>\n",
              "    </tr>\n",
              "  </thead>\n",
              "  <tbody>\n",
              "    <tr>\n",
              "      <th>0</th>\n",
              "      <td>Tom</td>\n",
              "      <td>31</td>\n",
              "      <td>35</td>\n",
              "    </tr>\n",
              "    <tr>\n",
              "      <th>1</th>\n",
              "      <td>Paul</td>\n",
              "      <td>42</td>\n",
              "      <td>42</td>\n",
              "    </tr>\n",
              "    <tr>\n",
              "      <th>2</th>\n",
              "      <td>John</td>\n",
              "      <td>12</td>\n",
              "      <td>36</td>\n",
              "    </tr>\n",
              "    <tr>\n",
              "      <th>3</th>\n",
              "      <td>Sarah</td>\n",
              "      <td>56</td>\n",
              "      <td>31</td>\n",
              "    </tr>\n",
              "  </tbody>\n",
              "</table>\n",
              "</div>"
            ],
            "text/plain": [
              "    Name  Age  Shoe-size\n",
              "0    Tom   31         35\n",
              "1   Paul   42         42\n",
              "2   John   12         36\n",
              "3  Sarah   56         31"
            ]
          },
          "execution_count": 48,
          "metadata": {},
          "output_type": "execute_result"
        }
      ],
      "source": [
        "df_from_list"
      ]
    },
    {
      "cell_type": "code",
      "execution_count": 49,
      "metadata": {
        "id": "0Y7uVeRkkZyw",
        "outputId": "b5b7e933-8a48-4ffb-b669-4564c3179f76"
      },
      "outputs": [
        {
          "data": {
            "text/plain": [
              "(4, 3)"
            ]
          },
          "execution_count": 49,
          "metadata": {},
          "output_type": "execute_result"
        }
      ],
      "source": [
        "df_from_list.shape"
      ]
    },
    {
      "cell_type": "code",
      "execution_count": 51,
      "metadata": {
        "id": "DHTCyTrEkZyw",
        "outputId": "3dde3bae-f60e-42f7-9dbb-cb22ab6dd3ce"
      },
      "outputs": [
        {
          "data": {
            "application/vnd.microsoft.datawrangler.viewer.v0+json": {
              "columns": [
                {
                  "name": "index",
                  "rawType": "int64",
                  "type": "integer"
                },
                {
                  "name": "Name",
                  "rawType": "object",
                  "type": "string"
                },
                {
                  "name": "Age",
                  "rawType": "int64",
                  "type": "integer"
                },
                {
                  "name": "Shoe-size",
                  "rawType": "int64",
                  "type": "integer"
                }
              ],
              "conversionMethod": "pd.DataFrame",
              "ref": "8db34946-5723-4b7c-b71c-eabb45f83a3e",
              "rows": [
                [
                  "0",
                  "Tom",
                  "31",
                  "35"
                ],
                [
                  "1",
                  "Paul",
                  "42",
                  "42"
                ],
                [
                  "2",
                  "John",
                  "12",
                  "36"
                ],
                [
                  "3",
                  "Sarah",
                  "56",
                  "31"
                ]
              ],
              "shape": {
                "columns": 3,
                "rows": 4
              }
            },
            "text/html": [
              "<div>\n",
              "<style scoped>\n",
              "    .dataframe tbody tr th:only-of-type {\n",
              "        vertical-align: middle;\n",
              "    }\n",
              "\n",
              "    .dataframe tbody tr th {\n",
              "        vertical-align: top;\n",
              "    }\n",
              "\n",
              "    .dataframe thead th {\n",
              "        text-align: right;\n",
              "    }\n",
              "</style>\n",
              "<table border=\"1\" class=\"dataframe\">\n",
              "  <thead>\n",
              "    <tr style=\"text-align: right;\">\n",
              "      <th></th>\n",
              "      <th>Name</th>\n",
              "      <th>Age</th>\n",
              "      <th>Shoe-size</th>\n",
              "    </tr>\n",
              "  </thead>\n",
              "  <tbody>\n",
              "    <tr>\n",
              "      <th>0</th>\n",
              "      <td>Tom</td>\n",
              "      <td>31</td>\n",
              "      <td>35</td>\n",
              "    </tr>\n",
              "    <tr>\n",
              "      <th>1</th>\n",
              "      <td>Paul</td>\n",
              "      <td>42</td>\n",
              "      <td>42</td>\n",
              "    </tr>\n",
              "    <tr>\n",
              "      <th>2</th>\n",
              "      <td>John</td>\n",
              "      <td>12</td>\n",
              "      <td>36</td>\n",
              "    </tr>\n",
              "    <tr>\n",
              "      <th>3</th>\n",
              "      <td>Sarah</td>\n",
              "      <td>56</td>\n",
              "      <td>31</td>\n",
              "    </tr>\n",
              "  </tbody>\n",
              "</table>\n",
              "</div>"
            ],
            "text/plain": [
              "    Name  Age  Shoe-size\n",
              "0    Tom   31         35\n",
              "1   Paul   42         42\n",
              "2   John   12         36\n",
              "3  Sarah   56         31"
            ]
          },
          "execution_count": 51,
          "metadata": {},
          "output_type": "execute_result"
        }
      ],
      "source": [
        "df_from_list.head()"
      ]
    },
    {
      "cell_type": "code",
      "execution_count": 52,
      "metadata": {
        "id": "oaBgpXMrkZyw",
        "outputId": "96e4d834-8f03-4701-d8f5-475f50936d02"
      },
      "outputs": [
        {
          "data": {
            "application/vnd.microsoft.datawrangler.viewer.v0+json": {
              "columns": [
                {
                  "name": "index",
                  "rawType": "int64",
                  "type": "integer"
                },
                {
                  "name": "Name",
                  "rawType": "object",
                  "type": "string"
                },
                {
                  "name": "Age",
                  "rawType": "int64",
                  "type": "integer"
                },
                {
                  "name": "Shoe-size",
                  "rawType": "int64",
                  "type": "integer"
                }
              ],
              "conversionMethod": "pd.DataFrame",
              "ref": "33d68a72-4305-4821-a3ab-32129abec18a",
              "rows": [
                [
                  "2",
                  "John",
                  "12",
                  "36"
                ],
                [
                  "3",
                  "Sarah",
                  "56",
                  "31"
                ]
              ],
              "shape": {
                "columns": 3,
                "rows": 2
              }
            },
            "text/html": [
              "<div>\n",
              "<style scoped>\n",
              "    .dataframe tbody tr th:only-of-type {\n",
              "        vertical-align: middle;\n",
              "    }\n",
              "\n",
              "    .dataframe tbody tr th {\n",
              "        vertical-align: top;\n",
              "    }\n",
              "\n",
              "    .dataframe thead th {\n",
              "        text-align: right;\n",
              "    }\n",
              "</style>\n",
              "<table border=\"1\" class=\"dataframe\">\n",
              "  <thead>\n",
              "    <tr style=\"text-align: right;\">\n",
              "      <th></th>\n",
              "      <th>Name</th>\n",
              "      <th>Age</th>\n",
              "      <th>Shoe-size</th>\n",
              "    </tr>\n",
              "  </thead>\n",
              "  <tbody>\n",
              "    <tr>\n",
              "      <th>2</th>\n",
              "      <td>John</td>\n",
              "      <td>12</td>\n",
              "      <td>36</td>\n",
              "    </tr>\n",
              "    <tr>\n",
              "      <th>3</th>\n",
              "      <td>Sarah</td>\n",
              "      <td>56</td>\n",
              "      <td>31</td>\n",
              "    </tr>\n",
              "  </tbody>\n",
              "</table>\n",
              "</div>"
            ],
            "text/plain": [
              "    Name  Age  Shoe-size\n",
              "2   John   12         36\n",
              "3  Sarah   56         31"
            ]
          },
          "execution_count": 52,
          "metadata": {},
          "output_type": "execute_result"
        }
      ],
      "source": [
        "df_from_list.tail(2)"
      ]
    },
    {
      "cell_type": "code",
      "execution_count": 53,
      "metadata": {
        "id": "BwOTEKzKkZyw",
        "outputId": "d4ffa414-4c45-4395-c90d-7cade5e0e0d9"
      },
      "outputs": [
        {
          "data": {
            "application/vnd.microsoft.datawrangler.viewer.v0+json": {
              "columns": [
                {
                  "name": "index",
                  "rawType": "int64",
                  "type": "integer"
                },
                {
                  "name": "Name",
                  "rawType": "object",
                  "type": "string"
                },
                {
                  "name": "Age",
                  "rawType": "int64",
                  "type": "integer"
                },
                {
                  "name": "Shoe-size",
                  "rawType": "int64",
                  "type": "integer"
                }
              ],
              "conversionMethod": "pd.DataFrame",
              "ref": "a530e39c-33f3-41a9-8124-90b80b1bdb8c",
              "rows": [
                [
                  "2",
                  "John",
                  "12",
                  "36"
                ]
              ],
              "shape": {
                "columns": 3,
                "rows": 1
              }
            },
            "text/html": [
              "<div>\n",
              "<style scoped>\n",
              "    .dataframe tbody tr th:only-of-type {\n",
              "        vertical-align: middle;\n",
              "    }\n",
              "\n",
              "    .dataframe tbody tr th {\n",
              "        vertical-align: top;\n",
              "    }\n",
              "\n",
              "    .dataframe thead th {\n",
              "        text-align: right;\n",
              "    }\n",
              "</style>\n",
              "<table border=\"1\" class=\"dataframe\">\n",
              "  <thead>\n",
              "    <tr style=\"text-align: right;\">\n",
              "      <th></th>\n",
              "      <th>Name</th>\n",
              "      <th>Age</th>\n",
              "      <th>Shoe-size</th>\n",
              "    </tr>\n",
              "  </thead>\n",
              "  <tbody>\n",
              "    <tr>\n",
              "      <th>2</th>\n",
              "      <td>John</td>\n",
              "      <td>12</td>\n",
              "      <td>36</td>\n",
              "    </tr>\n",
              "  </tbody>\n",
              "</table>\n",
              "</div>"
            ],
            "text/plain": [
              "   Name  Age  Shoe-size\n",
              "2  John   12         36"
            ]
          },
          "execution_count": 53,
          "metadata": {},
          "output_type": "execute_result"
        }
      ],
      "source": [
        "df_from_list.sample(1)"
      ]
    },
    {
      "cell_type": "code",
      "execution_count": 54,
      "metadata": {
        "id": "nXZtpztrkZyx",
        "outputId": "a914c837-49f3-454a-96cf-863ef1ec840d"
      },
      "outputs": [
        {
          "data": {
            "application/vnd.microsoft.datawrangler.viewer.v0+json": {
              "columns": [
                {
                  "name": "index",
                  "rawType": "object",
                  "type": "string"
                },
                {
                  "name": "Age",
                  "rawType": "float64",
                  "type": "float"
                },
                {
                  "name": "Shoe-size",
                  "rawType": "float64",
                  "type": "float"
                }
              ],
              "conversionMethod": "pd.DataFrame",
              "ref": "371d6f8b-7048-42e1-99d4-5e0baf6ee354",
              "rows": [
                [
                  "count",
                  "4.0",
                  "4.0"
                ],
                [
                  "mean",
                  "35.25",
                  "36.0"
                ],
                [
                  "std",
                  "18.57193222760267",
                  "4.546060565661952"
                ],
                [
                  "min",
                  "12.0",
                  "31.0"
                ],
                [
                  "25%",
                  "26.25",
                  "34.0"
                ],
                [
                  "50%",
                  "36.5",
                  "35.5"
                ],
                [
                  "75%",
                  "45.5",
                  "37.5"
                ],
                [
                  "max",
                  "56.0",
                  "42.0"
                ]
              ],
              "shape": {
                "columns": 2,
                "rows": 8
              }
            },
            "text/html": [
              "<div>\n",
              "<style scoped>\n",
              "    .dataframe tbody tr th:only-of-type {\n",
              "        vertical-align: middle;\n",
              "    }\n",
              "\n",
              "    .dataframe tbody tr th {\n",
              "        vertical-align: top;\n",
              "    }\n",
              "\n",
              "    .dataframe thead th {\n",
              "        text-align: right;\n",
              "    }\n",
              "</style>\n",
              "<table border=\"1\" class=\"dataframe\">\n",
              "  <thead>\n",
              "    <tr style=\"text-align: right;\">\n",
              "      <th></th>\n",
              "      <th>Age</th>\n",
              "      <th>Shoe-size</th>\n",
              "    </tr>\n",
              "  </thead>\n",
              "  <tbody>\n",
              "    <tr>\n",
              "      <th>count</th>\n",
              "      <td>4.000000</td>\n",
              "      <td>4.000000</td>\n",
              "    </tr>\n",
              "    <tr>\n",
              "      <th>mean</th>\n",
              "      <td>35.250000</td>\n",
              "      <td>36.000000</td>\n",
              "    </tr>\n",
              "    <tr>\n",
              "      <th>std</th>\n",
              "      <td>18.571932</td>\n",
              "      <td>4.546061</td>\n",
              "    </tr>\n",
              "    <tr>\n",
              "      <th>min</th>\n",
              "      <td>12.000000</td>\n",
              "      <td>31.000000</td>\n",
              "    </tr>\n",
              "    <tr>\n",
              "      <th>25%</th>\n",
              "      <td>26.250000</td>\n",
              "      <td>34.000000</td>\n",
              "    </tr>\n",
              "    <tr>\n",
              "      <th>50%</th>\n",
              "      <td>36.500000</td>\n",
              "      <td>35.500000</td>\n",
              "    </tr>\n",
              "    <tr>\n",
              "      <th>75%</th>\n",
              "      <td>45.500000</td>\n",
              "      <td>37.500000</td>\n",
              "    </tr>\n",
              "    <tr>\n",
              "      <th>max</th>\n",
              "      <td>56.000000</td>\n",
              "      <td>42.000000</td>\n",
              "    </tr>\n",
              "  </tbody>\n",
              "</table>\n",
              "</div>"
            ],
            "text/plain": [
              "             Age  Shoe-size\n",
              "count   4.000000   4.000000\n",
              "mean   35.250000  36.000000\n",
              "std    18.571932   4.546061\n",
              "min    12.000000  31.000000\n",
              "25%    26.250000  34.000000\n",
              "50%    36.500000  35.500000\n",
              "75%    45.500000  37.500000\n",
              "max    56.000000  42.000000"
            ]
          },
          "execution_count": 54,
          "metadata": {},
          "output_type": "execute_result"
        }
      ],
      "source": [
        "df_from_list.describe()"
      ]
    },
    {
      "cell_type": "code",
      "execution_count": 55,
      "metadata": {
        "id": "FNr1kja1kZyx",
        "outputId": "05e58813-7738-4cbc-c135-8b3bec4f9b4d"
      },
      "outputs": [
        {
          "data": {
            "application/vnd.microsoft.datawrangler.viewer.v0+json": {
              "columns": [
                {
                  "name": "index",
                  "rawType": "int64",
                  "type": "integer"
                },
                {
                  "name": "Name",
                  "rawType": "bool",
                  "type": "boolean"
                },
                {
                  "name": "Age",
                  "rawType": "bool",
                  "type": "boolean"
                },
                {
                  "name": "Shoe-size",
                  "rawType": "bool",
                  "type": "boolean"
                }
              ],
              "conversionMethod": "pd.DataFrame",
              "ref": "02439779-9962-4cf1-8e53-c35b9c48c10c",
              "rows": [
                [
                  "0",
                  "False",
                  "False",
                  "False"
                ],
                [
                  "1",
                  "False",
                  "False",
                  "False"
                ],
                [
                  "2",
                  "False",
                  "False",
                  "False"
                ],
                [
                  "3",
                  "False",
                  "False",
                  "False"
                ]
              ],
              "shape": {
                "columns": 3,
                "rows": 4
              }
            },
            "text/html": [
              "<div>\n",
              "<style scoped>\n",
              "    .dataframe tbody tr th:only-of-type {\n",
              "        vertical-align: middle;\n",
              "    }\n",
              "\n",
              "    .dataframe tbody tr th {\n",
              "        vertical-align: top;\n",
              "    }\n",
              "\n",
              "    .dataframe thead th {\n",
              "        text-align: right;\n",
              "    }\n",
              "</style>\n",
              "<table border=\"1\" class=\"dataframe\">\n",
              "  <thead>\n",
              "    <tr style=\"text-align: right;\">\n",
              "      <th></th>\n",
              "      <th>Name</th>\n",
              "      <th>Age</th>\n",
              "      <th>Shoe-size</th>\n",
              "    </tr>\n",
              "  </thead>\n",
              "  <tbody>\n",
              "    <tr>\n",
              "      <th>0</th>\n",
              "      <td>False</td>\n",
              "      <td>False</td>\n",
              "      <td>False</td>\n",
              "    </tr>\n",
              "    <tr>\n",
              "      <th>1</th>\n",
              "      <td>False</td>\n",
              "      <td>False</td>\n",
              "      <td>False</td>\n",
              "    </tr>\n",
              "    <tr>\n",
              "      <th>2</th>\n",
              "      <td>False</td>\n",
              "      <td>False</td>\n",
              "      <td>False</td>\n",
              "    </tr>\n",
              "    <tr>\n",
              "      <th>3</th>\n",
              "      <td>False</td>\n",
              "      <td>False</td>\n",
              "      <td>False</td>\n",
              "    </tr>\n",
              "  </tbody>\n",
              "</table>\n",
              "</div>"
            ],
            "text/plain": [
              "    Name    Age  Shoe-size\n",
              "0  False  False      False\n",
              "1  False  False      False\n",
              "2  False  False      False\n",
              "3  False  False      False"
            ]
          },
          "execution_count": 55,
          "metadata": {},
          "output_type": "execute_result"
        }
      ],
      "source": [
        "df_from_list.isna()"
      ]
    },
    {
      "cell_type": "markdown",
      "metadata": {
        "id": "cAKHphkMkZyx"
      },
      "source": [
        "**Accessing the columns of a Pandas `Dataframe`**\n",
        "\n",
        "The column `column_name` of a DataFrame `dataframe_name` can be accessed as `dataframe_name[”column_name”]`. For example"
      ]
    },
    {
      "cell_type": "code",
      "execution_count": 56,
      "metadata": {
        "id": "rIRLvTMYkZyx",
        "outputId": "53e45afc-7a52-4f78-9b86-941e99d5a9f7"
      },
      "outputs": [
        {
          "data": {
            "text/plain": [
              "0    31\n",
              "1    42\n",
              "2    12\n",
              "3    56\n",
              "Name: Age, dtype: int64"
            ]
          },
          "execution_count": 56,
          "metadata": {},
          "output_type": "execute_result"
        }
      ],
      "source": [
        "df_from_list[\"Age\"]"
      ]
    },
    {
      "cell_type": "code",
      "execution_count": 57,
      "metadata": {
        "id": "pDyIFYwrkZyx",
        "outputId": "615226f2-66b8-4738-d2cf-5ca14794ef1b"
      },
      "outputs": [
        {
          "name": "stdout",
          "output_type": "stream",
          "text": [
            "<class 'pandas.core.series.Series'>\n"
          ]
        }
      ],
      "source": [
        "print(type(df_from_list[\"Age\"]))"
      ]
    },
    {
      "cell_type": "markdown",
      "metadata": {
        "id": "MtetwympkZyy"
      },
      "source": [
        "The snippet above returns a Pandas object called a `Series`. Where the `DataFrame` is (at least) a two-dimensional object, a `Series` is instead a one-dimensional object. One can say that a `DataFrame` is a *container* for several `Series`, that correspond to the `DataFrame` columns.\n",
        "\n",
        "**Please note**: the Series contains only the data of the column. It does not contain the column name available in the `DataFrame` header."
      ]
    },
    {
      "cell_type": "markdown",
      "metadata": {
        "id": "gbqtYTqCkZyy"
      },
      "source": [
        "#### Taking a slice of a Pandas `DataFrame`\n",
        "\n",
        "It is also possible to extract some columns from a `DataFrame` and get a `DataFrame` as a result. This can be achieved as"
      ]
    },
    {
      "cell_type": "code",
      "execution_count": 58,
      "metadata": {
        "id": "aJYJJPb7kZyy"
      },
      "outputs": [],
      "source": [
        "df_age_from_list = df_from_list[[\"Age\"]]"
      ]
    },
    {
      "cell_type": "code",
      "execution_count": 59,
      "metadata": {
        "id": "JR63541HkZyy",
        "outputId": "f6f1190f-7572-4503-a994-bbcc1568a257"
      },
      "outputs": [
        {
          "data": {
            "application/vnd.microsoft.datawrangler.viewer.v0+json": {
              "columns": [
                {
                  "name": "index",
                  "rawType": "int64",
                  "type": "integer"
                },
                {
                  "name": "Age",
                  "rawType": "int64",
                  "type": "integer"
                }
              ],
              "conversionMethod": "pd.DataFrame",
              "ref": "bd6673cb-82db-4fae-bfd5-e6ebb38f0882",
              "rows": [
                [
                  "0",
                  "31"
                ],
                [
                  "1",
                  "42"
                ],
                [
                  "2",
                  "12"
                ],
                [
                  "3",
                  "56"
                ]
              ],
              "shape": {
                "columns": 1,
                "rows": 4
              }
            },
            "text/html": [
              "<div>\n",
              "<style scoped>\n",
              "    .dataframe tbody tr th:only-of-type {\n",
              "        vertical-align: middle;\n",
              "    }\n",
              "\n",
              "    .dataframe tbody tr th {\n",
              "        vertical-align: top;\n",
              "    }\n",
              "\n",
              "    .dataframe thead th {\n",
              "        text-align: right;\n",
              "    }\n",
              "</style>\n",
              "<table border=\"1\" class=\"dataframe\">\n",
              "  <thead>\n",
              "    <tr style=\"text-align: right;\">\n",
              "      <th></th>\n",
              "      <th>Age</th>\n",
              "    </tr>\n",
              "  </thead>\n",
              "  <tbody>\n",
              "    <tr>\n",
              "      <th>0</th>\n",
              "      <td>31</td>\n",
              "    </tr>\n",
              "    <tr>\n",
              "      <th>1</th>\n",
              "      <td>42</td>\n",
              "    </tr>\n",
              "    <tr>\n",
              "      <th>2</th>\n",
              "      <td>12</td>\n",
              "    </tr>\n",
              "    <tr>\n",
              "      <th>3</th>\n",
              "      <td>56</td>\n",
              "    </tr>\n",
              "  </tbody>\n",
              "</table>\n",
              "</div>"
            ],
            "text/plain": [
              "   Age\n",
              "0   31\n",
              "1   42\n",
              "2   12\n",
              "3   56"
            ]
          },
          "execution_count": 59,
          "metadata": {},
          "output_type": "execute_result"
        }
      ],
      "source": [
        "df_age_from_list"
      ]
    },
    {
      "cell_type": "code",
      "execution_count": null,
      "metadata": {
        "id": "85gUFMPekZyy",
        "outputId": "b4428a66-5f66-4768-8eb4-2b60ebb37bc2"
      },
      "outputs": [],
      "source": [
        "print(type(df_age_from_list))"
      ]
    },
    {
      "cell_type": "markdown",
      "metadata": {
        "id": "8cP_SHnLkZyy"
      },
      "source": [
        "**Adding or dropping columns in a `DataFrame`**\n",
        "\n",
        "The snippet below can be used to add a new column to an existing `DataFrame`"
      ]
    },
    {
      "cell_type": "code",
      "execution_count": 60,
      "metadata": {
        "id": "ZpY3c_WJkZyy",
        "outputId": "596a9d1f-f694-4cd9-970b-4dc741291f47"
      },
      "outputs": [
        {
          "data": {
            "application/vnd.microsoft.datawrangler.viewer.v0+json": {
              "columns": [
                {
                  "name": "index",
                  "rawType": "int64",
                  "type": "integer"
                },
                {
                  "name": "Name",
                  "rawType": "object",
                  "type": "string"
                },
                {
                  "name": "Age",
                  "rawType": "int64",
                  "type": "integer"
                },
                {
                  "name": "Shoe-size",
                  "rawType": "int64",
                  "type": "integer"
                },
                {
                  "name": "Country",
                  "rawType": "object",
                  "type": "string"
                }
              ],
              "conversionMethod": "pd.DataFrame",
              "ref": "8aa93875-78d3-472a-b66f-f602b927b5a9",
              "rows": [
                [
                  "0",
                  "Tom",
                  "31",
                  "35",
                  "US"
                ],
                [
                  "1",
                  "Paul",
                  "42",
                  "42",
                  "DE"
                ],
                [
                  "2",
                  "John",
                  "12",
                  "36",
                  "UK"
                ],
                [
                  "3",
                  "Sarah",
                  "56",
                  "31",
                  "IT"
                ]
              ],
              "shape": {
                "columns": 4,
                "rows": 4
              }
            },
            "text/html": [
              "<div>\n",
              "<style scoped>\n",
              "    .dataframe tbody tr th:only-of-type {\n",
              "        vertical-align: middle;\n",
              "    }\n",
              "\n",
              "    .dataframe tbody tr th {\n",
              "        vertical-align: top;\n",
              "    }\n",
              "\n",
              "    .dataframe thead th {\n",
              "        text-align: right;\n",
              "    }\n",
              "</style>\n",
              "<table border=\"1\" class=\"dataframe\">\n",
              "  <thead>\n",
              "    <tr style=\"text-align: right;\">\n",
              "      <th></th>\n",
              "      <th>Name</th>\n",
              "      <th>Age</th>\n",
              "      <th>Shoe-size</th>\n",
              "      <th>Country</th>\n",
              "    </tr>\n",
              "  </thead>\n",
              "  <tbody>\n",
              "    <tr>\n",
              "      <th>0</th>\n",
              "      <td>Tom</td>\n",
              "      <td>31</td>\n",
              "      <td>35</td>\n",
              "      <td>US</td>\n",
              "    </tr>\n",
              "    <tr>\n",
              "      <th>1</th>\n",
              "      <td>Paul</td>\n",
              "      <td>42</td>\n",
              "      <td>42</td>\n",
              "      <td>DE</td>\n",
              "    </tr>\n",
              "    <tr>\n",
              "      <th>2</th>\n",
              "      <td>John</td>\n",
              "      <td>12</td>\n",
              "      <td>36</td>\n",
              "      <td>UK</td>\n",
              "    </tr>\n",
              "    <tr>\n",
              "      <th>3</th>\n",
              "      <td>Sarah</td>\n",
              "      <td>56</td>\n",
              "      <td>31</td>\n",
              "      <td>IT</td>\n",
              "    </tr>\n",
              "  </tbody>\n",
              "</table>\n",
              "</div>"
            ],
            "text/plain": [
              "    Name  Age  Shoe-size Country\n",
              "0    Tom   31         35      US\n",
              "1   Paul   42         42      DE\n",
              "2   John   12         36      UK\n",
              "3  Sarah   56         31      IT"
            ]
          },
          "execution_count": 60,
          "metadata": {},
          "output_type": "execute_result"
        }
      ],
      "source": [
        "df_from_list[\"Country\"]=[\"US\", \"DE\", \"UK\", \"IT\"]\n",
        "df_from_list"
      ]
    },
    {
      "cell_type": "markdown",
      "metadata": {
        "id": "KdWeXRGAkZyy"
      },
      "source": [
        "The snippet instead can be used to drop a column"
      ]
    },
    {
      "cell_type": "code",
      "execution_count": 61,
      "metadata": {
        "id": "TJam3PUAkZyz",
        "outputId": "194d386a-9bea-4911-df32-7748470b5d65"
      },
      "outputs": [
        {
          "data": {
            "application/vnd.microsoft.datawrangler.viewer.v0+json": {
              "columns": [
                {
                  "name": "index",
                  "rawType": "int64",
                  "type": "integer"
                },
                {
                  "name": "Name",
                  "rawType": "object",
                  "type": "string"
                },
                {
                  "name": "Age",
                  "rawType": "int64",
                  "type": "integer"
                },
                {
                  "name": "Shoe-size",
                  "rawType": "int64",
                  "type": "integer"
                }
              ],
              "conversionMethod": "pd.DataFrame",
              "ref": "c0397467-40bd-499e-bd72-d5628161d7ab",
              "rows": [
                [
                  "0",
                  "Tom",
                  "31",
                  "35"
                ],
                [
                  "1",
                  "Paul",
                  "42",
                  "42"
                ],
                [
                  "2",
                  "John",
                  "12",
                  "36"
                ],
                [
                  "3",
                  "Sarah",
                  "56",
                  "31"
                ]
              ],
              "shape": {
                "columns": 3,
                "rows": 4
              }
            },
            "text/html": [
              "<div>\n",
              "<style scoped>\n",
              "    .dataframe tbody tr th:only-of-type {\n",
              "        vertical-align: middle;\n",
              "    }\n",
              "\n",
              "    .dataframe tbody tr th {\n",
              "        vertical-align: top;\n",
              "    }\n",
              "\n",
              "    .dataframe thead th {\n",
              "        text-align: right;\n",
              "    }\n",
              "</style>\n",
              "<table border=\"1\" class=\"dataframe\">\n",
              "  <thead>\n",
              "    <tr style=\"text-align: right;\">\n",
              "      <th></th>\n",
              "      <th>Name</th>\n",
              "      <th>Age</th>\n",
              "      <th>Shoe-size</th>\n",
              "    </tr>\n",
              "  </thead>\n",
              "  <tbody>\n",
              "    <tr>\n",
              "      <th>0</th>\n",
              "      <td>Tom</td>\n",
              "      <td>31</td>\n",
              "      <td>35</td>\n",
              "    </tr>\n",
              "    <tr>\n",
              "      <th>1</th>\n",
              "      <td>Paul</td>\n",
              "      <td>42</td>\n",
              "      <td>42</td>\n",
              "    </tr>\n",
              "    <tr>\n",
              "      <th>2</th>\n",
              "      <td>John</td>\n",
              "      <td>12</td>\n",
              "      <td>36</td>\n",
              "    </tr>\n",
              "    <tr>\n",
              "      <th>3</th>\n",
              "      <td>Sarah</td>\n",
              "      <td>56</td>\n",
              "      <td>31</td>\n",
              "    </tr>\n",
              "  </tbody>\n",
              "</table>\n",
              "</div>"
            ],
            "text/plain": [
              "    Name  Age  Shoe-size\n",
              "0    Tom   31         35\n",
              "1   Paul   42         42\n",
              "2   John   12         36\n",
              "3  Sarah   56         31"
            ]
          },
          "execution_count": 61,
          "metadata": {},
          "output_type": "execute_result"
        }
      ],
      "source": [
        "df_from_list = df_from_list.drop(\"Country\", axis=1)\n",
        "df_from_list"
      ]
    },
    {
      "cell_type": "markdown",
      "metadata": {
        "id": "KZxsX3IbkZyz"
      },
      "source": [
        "The snippet below remains valid also to drop a row. This can be achieved with `axis=0`."
      ]
    },
    {
      "cell_type": "markdown",
      "metadata": {
        "id": "vEnZuWkzkZyz"
      },
      "source": [
        "**Further `DataFrame` methods**\n",
        "\n",
        "It is possible to add new columns to an existing `DataFrame` named `dataframe_name` with the following methods:\n",
        "- `dataframe_name.map()`: given a mapping dictionary, the method applies element-wise a certain mapping to a `Series` object (as a column)"
      ]
    },
    {
      "cell_type": "code",
      "execution_count": 62,
      "metadata": {
        "id": "2JoqLmrgkZyz",
        "outputId": "a3fc0b90-a16b-4dfa-ae5a-00495029ef8c"
      },
      "outputs": [
        {
          "data": {
            "application/vnd.microsoft.datawrangler.viewer.v0+json": {
              "columns": [
                {
                  "name": "index",
                  "rawType": "int64",
                  "type": "integer"
                },
                {
                  "name": "Name",
                  "rawType": "object",
                  "type": "string"
                },
                {
                  "name": "Age",
                  "rawType": "int64",
                  "type": "integer"
                },
                {
                  "name": "Shoe-size",
                  "rawType": "int64",
                  "type": "integer"
                },
                {
                  "name": "Country",
                  "rawType": "object",
                  "type": "string"
                },
                {
                  "name": "Country_numeric_map",
                  "rawType": "float64",
                  "type": "float"
                }
              ],
              "conversionMethod": "pd.DataFrame",
              "ref": "948eb449-b483-47f4-8e40-254ab62f55f0",
              "rows": [
                [
                  "0",
                  "Tom",
                  "31",
                  "35",
                  "US",
                  "0.0"
                ],
                [
                  "1",
                  "Paul",
                  "42",
                  "42",
                  "DE",
                  "1.0"
                ],
                [
                  "2",
                  "John",
                  "12",
                  "36",
                  "UK",
                  "2.0"
                ],
                [
                  "3",
                  "Sarah",
                  "56",
                  "31",
                  "IT",
                  null
                ]
              ],
              "shape": {
                "columns": 5,
                "rows": 4
              }
            },
            "text/html": [
              "<div>\n",
              "<style scoped>\n",
              "    .dataframe tbody tr th:only-of-type {\n",
              "        vertical-align: middle;\n",
              "    }\n",
              "\n",
              "    .dataframe tbody tr th {\n",
              "        vertical-align: top;\n",
              "    }\n",
              "\n",
              "    .dataframe thead th {\n",
              "        text-align: right;\n",
              "    }\n",
              "</style>\n",
              "<table border=\"1\" class=\"dataframe\">\n",
              "  <thead>\n",
              "    <tr style=\"text-align: right;\">\n",
              "      <th></th>\n",
              "      <th>Name</th>\n",
              "      <th>Age</th>\n",
              "      <th>Shoe-size</th>\n",
              "      <th>Country</th>\n",
              "      <th>Country_numeric_map</th>\n",
              "    </tr>\n",
              "  </thead>\n",
              "  <tbody>\n",
              "    <tr>\n",
              "      <th>0</th>\n",
              "      <td>Tom</td>\n",
              "      <td>31</td>\n",
              "      <td>35</td>\n",
              "      <td>US</td>\n",
              "      <td>0.0</td>\n",
              "    </tr>\n",
              "    <tr>\n",
              "      <th>1</th>\n",
              "      <td>Paul</td>\n",
              "      <td>42</td>\n",
              "      <td>42</td>\n",
              "      <td>DE</td>\n",
              "      <td>1.0</td>\n",
              "    </tr>\n",
              "    <tr>\n",
              "      <th>2</th>\n",
              "      <td>John</td>\n",
              "      <td>12</td>\n",
              "      <td>36</td>\n",
              "      <td>UK</td>\n",
              "      <td>2.0</td>\n",
              "    </tr>\n",
              "    <tr>\n",
              "      <th>3</th>\n",
              "      <td>Sarah</td>\n",
              "      <td>56</td>\n",
              "      <td>31</td>\n",
              "      <td>IT</td>\n",
              "      <td>NaN</td>\n",
              "    </tr>\n",
              "  </tbody>\n",
              "</table>\n",
              "</div>"
            ],
            "text/plain": [
              "    Name  Age  Shoe-size Country  Country_numeric_map\n",
              "0    Tom   31         35      US                  0.0\n",
              "1   Paul   42         42      DE                  1.0\n",
              "2   John   12         36      UK                  2.0\n",
              "3  Sarah   56         31      IT                  NaN"
            ]
          },
          "execution_count": 62,
          "metadata": {},
          "output_type": "execute_result"
        }
      ],
      "source": [
        "df_from_list[\"Country\"]=[\"US\", \"DE\", \"UK\", \"IT\"]\n",
        "df_from_list[\"Country_numeric_map\"] = df_from_list[\"Country\"].map({\"US\": 0.0, \"DE\": 1.0, \"UK\": 2.0})\n",
        "df_from_list"
      ]
    },
    {
      "cell_type": "markdown",
      "metadata": {
        "id": "XQgQF8bMkZyz"
      },
      "source": [
        "- `dataframe_name.replace`: it works as the `map` method, but it has the difference that if the `Series` contains a category not mapped in the mapping dictionary, the method simply carries over the unmapped category in the new column (instead of assigning a `NaN` to it)"
      ]
    },
    {
      "cell_type": "code",
      "execution_count": 63,
      "metadata": {
        "id": "32g2nyskkZyz",
        "outputId": "db74d43d-68f5-447d-8950-85df2161c105"
      },
      "outputs": [
        {
          "data": {
            "application/vnd.microsoft.datawrangler.viewer.v0+json": {
              "columns": [
                {
                  "name": "index",
                  "rawType": "int64",
                  "type": "integer"
                },
                {
                  "name": "Name",
                  "rawType": "object",
                  "type": "string"
                },
                {
                  "name": "Age",
                  "rawType": "int64",
                  "type": "integer"
                },
                {
                  "name": "Shoe-size",
                  "rawType": "int64",
                  "type": "integer"
                },
                {
                  "name": "Country",
                  "rawType": "object",
                  "type": "string"
                },
                {
                  "name": "Country_numeric_map",
                  "rawType": "float64",
                  "type": "float"
                },
                {
                  "name": "Country_numeric_replace",
                  "rawType": "object",
                  "type": "unknown"
                }
              ],
              "conversionMethod": "pd.DataFrame",
              "ref": "0e7493c0-eca7-46c3-be4b-4178dab9382d",
              "rows": [
                [
                  "0",
                  "Tom",
                  "31",
                  "35",
                  "US",
                  "0.0",
                  "0.0"
                ],
                [
                  "1",
                  "Paul",
                  "42",
                  "42",
                  "DE",
                  "1.0",
                  "1.0"
                ],
                [
                  "2",
                  "John",
                  "12",
                  "36",
                  "UK",
                  "2.0",
                  "2.0"
                ],
                [
                  "3",
                  "Sarah",
                  "56",
                  "31",
                  "IT",
                  null,
                  "IT"
                ]
              ],
              "shape": {
                "columns": 6,
                "rows": 4
              }
            },
            "text/html": [
              "<div>\n",
              "<style scoped>\n",
              "    .dataframe tbody tr th:only-of-type {\n",
              "        vertical-align: middle;\n",
              "    }\n",
              "\n",
              "    .dataframe tbody tr th {\n",
              "        vertical-align: top;\n",
              "    }\n",
              "\n",
              "    .dataframe thead th {\n",
              "        text-align: right;\n",
              "    }\n",
              "</style>\n",
              "<table border=\"1\" class=\"dataframe\">\n",
              "  <thead>\n",
              "    <tr style=\"text-align: right;\">\n",
              "      <th></th>\n",
              "      <th>Name</th>\n",
              "      <th>Age</th>\n",
              "      <th>Shoe-size</th>\n",
              "      <th>Country</th>\n",
              "      <th>Country_numeric_map</th>\n",
              "      <th>Country_numeric_replace</th>\n",
              "    </tr>\n",
              "  </thead>\n",
              "  <tbody>\n",
              "    <tr>\n",
              "      <th>0</th>\n",
              "      <td>Tom</td>\n",
              "      <td>31</td>\n",
              "      <td>35</td>\n",
              "      <td>US</td>\n",
              "      <td>0.0</td>\n",
              "      <td>0.0</td>\n",
              "    </tr>\n",
              "    <tr>\n",
              "      <th>1</th>\n",
              "      <td>Paul</td>\n",
              "      <td>42</td>\n",
              "      <td>42</td>\n",
              "      <td>DE</td>\n",
              "      <td>1.0</td>\n",
              "      <td>1.0</td>\n",
              "    </tr>\n",
              "    <tr>\n",
              "      <th>2</th>\n",
              "      <td>John</td>\n",
              "      <td>12</td>\n",
              "      <td>36</td>\n",
              "      <td>UK</td>\n",
              "      <td>2.0</td>\n",
              "      <td>2.0</td>\n",
              "    </tr>\n",
              "    <tr>\n",
              "      <th>3</th>\n",
              "      <td>Sarah</td>\n",
              "      <td>56</td>\n",
              "      <td>31</td>\n",
              "      <td>IT</td>\n",
              "      <td>NaN</td>\n",
              "      <td>IT</td>\n",
              "    </tr>\n",
              "  </tbody>\n",
              "</table>\n",
              "</div>"
            ],
            "text/plain": [
              "    Name  Age  Shoe-size Country  Country_numeric_map Country_numeric_replace\n",
              "0    Tom   31         35      US                  0.0                     0.0\n",
              "1   Paul   42         42      DE                  1.0                     1.0\n",
              "2   John   12         36      UK                  2.0                     2.0\n",
              "3  Sarah   56         31      IT                  NaN                      IT"
            ]
          },
          "execution_count": 63,
          "metadata": {},
          "output_type": "execute_result"
        }
      ],
      "source": [
        "df_from_list[\"Country_numeric_replace\"] = df_from_list[\"Country\"].replace({\"US\": 0.0, \"DE\": 1.0, \"UK\": 2.0})\n",
        "df_from_list"
      ]
    },
    {
      "cell_type": "markdown",
      "metadata": {
        "id": "FziTX9KNkZyz"
      },
      "source": [
        "- `dataframe_name.apply()`: the method applies a function to all values within a Pandas `Series` or `DataFrame`. The applied function can be either built-in or custom\n",
        "- `dataframe_name.applymap()`: the method applies a built-in or custom function element-wise to a `DataFrame` object\n",
        "- `dataframe_name.iloc()` and `dataframe_name.loc()`: the methods are used to slice a `DataFrame` by filtering on columns and/or rows. `iloc` performs the slicing using indexes or index positions, while `loc` using labels or names"
      ]
    },
    {
      "cell_type": "code",
      "execution_count": 64,
      "metadata": {
        "id": "puPzyXy5kZyz",
        "outputId": "329d4fe3-a867-41d6-c6be-3e27408d58c1"
      },
      "outputs": [
        {
          "data": {
            "application/vnd.microsoft.datawrangler.viewer.v0+json": {
              "columns": [
                {
                  "name": "index",
                  "rawType": "int64",
                  "type": "integer"
                },
                {
                  "name": "Name",
                  "rawType": "object",
                  "type": "string"
                },
                {
                  "name": "Age",
                  "rawType": "int64",
                  "type": "integer"
                },
                {
                  "name": "Shoe-size",
                  "rawType": "int64",
                  "type": "integer"
                },
                {
                  "name": "Country",
                  "rawType": "object",
                  "type": "string"
                },
                {
                  "name": "Country_numeric_map",
                  "rawType": "float64",
                  "type": "float"
                },
                {
                  "name": "Country_numeric_replace",
                  "rawType": "object",
                  "type": "unknown"
                }
              ],
              "conversionMethod": "pd.DataFrame",
              "ref": "d39b5f7e-904e-45b0-966e-04896c40a6fc",
              "rows": [
                [
                  "1",
                  "Paul",
                  "42",
                  "42",
                  "DE",
                  "1.0",
                  "1.0"
                ]
              ],
              "shape": {
                "columns": 6,
                "rows": 1
              }
            },
            "text/html": [
              "<div>\n",
              "<style scoped>\n",
              "    .dataframe tbody tr th:only-of-type {\n",
              "        vertical-align: middle;\n",
              "    }\n",
              "\n",
              "    .dataframe tbody tr th {\n",
              "        vertical-align: top;\n",
              "    }\n",
              "\n",
              "    .dataframe thead th {\n",
              "        text-align: right;\n",
              "    }\n",
              "</style>\n",
              "<table border=\"1\" class=\"dataframe\">\n",
              "  <thead>\n",
              "    <tr style=\"text-align: right;\">\n",
              "      <th></th>\n",
              "      <th>Name</th>\n",
              "      <th>Age</th>\n",
              "      <th>Shoe-size</th>\n",
              "      <th>Country</th>\n",
              "      <th>Country_numeric_map</th>\n",
              "      <th>Country_numeric_replace</th>\n",
              "    </tr>\n",
              "  </thead>\n",
              "  <tbody>\n",
              "    <tr>\n",
              "      <th>1</th>\n",
              "      <td>Paul</td>\n",
              "      <td>42</td>\n",
              "      <td>42</td>\n",
              "      <td>DE</td>\n",
              "      <td>1.0</td>\n",
              "      <td>1.0</td>\n",
              "    </tr>\n",
              "  </tbody>\n",
              "</table>\n",
              "</div>"
            ],
            "text/plain": [
              "   Name  Age  Shoe-size Country  Country_numeric_map Country_numeric_replace\n",
              "1  Paul   42         42      DE                  1.0                     1.0"
            ]
          },
          "execution_count": 64,
          "metadata": {},
          "output_type": "execute_result"
        }
      ],
      "source": [
        "# iloc - filter the second row\n",
        "df_from_list.iloc[[1]]"
      ]
    },
    {
      "cell_type": "markdown",
      "metadata": {
        "id": "jh6c7jOWkZy0"
      },
      "source": [
        "Please note that `df_from_list.iloc[1]` would have returned a Pandas `Series` instead of a Pandas `DataFrame`. Furthermore"
      ]
    },
    {
      "cell_type": "code",
      "execution_count": 66,
      "metadata": {},
      "outputs": [
        {
          "data": {
            "application/vnd.microsoft.datawrangler.viewer.v0+json": {
              "columns": [
                {
                  "name": "index",
                  "rawType": "int64",
                  "type": "integer"
                },
                {
                  "name": "Name",
                  "rawType": "object",
                  "type": "string"
                },
                {
                  "name": "Age",
                  "rawType": "int64",
                  "type": "integer"
                },
                {
                  "name": "Shoe-size",
                  "rawType": "int64",
                  "type": "integer"
                },
                {
                  "name": "Country",
                  "rawType": "object",
                  "type": "string"
                },
                {
                  "name": "Country_numeric_map",
                  "rawType": "float64",
                  "type": "float"
                },
                {
                  "name": "Country_numeric_replace",
                  "rawType": "object",
                  "type": "unknown"
                }
              ],
              "conversionMethod": "pd.DataFrame",
              "ref": "97e7c03e-daf1-41b9-aa9a-56aad3ec22ef",
              "rows": [
                [
                  "0",
                  "Tom",
                  "31",
                  "35",
                  "US",
                  "0.0",
                  "0.0"
                ],
                [
                  "1",
                  "Paul",
                  "42",
                  "42",
                  "DE",
                  "1.0",
                  "1.0"
                ],
                [
                  "2",
                  "John",
                  "12",
                  "36",
                  "UK",
                  "2.0",
                  "2.0"
                ],
                [
                  "3",
                  "Sarah",
                  "56",
                  "31",
                  "IT",
                  null,
                  "IT"
                ]
              ],
              "shape": {
                "columns": 6,
                "rows": 4
              }
            },
            "text/html": [
              "<div>\n",
              "<style scoped>\n",
              "    .dataframe tbody tr th:only-of-type {\n",
              "        vertical-align: middle;\n",
              "    }\n",
              "\n",
              "    .dataframe tbody tr th {\n",
              "        vertical-align: top;\n",
              "    }\n",
              "\n",
              "    .dataframe thead th {\n",
              "        text-align: right;\n",
              "    }\n",
              "</style>\n",
              "<table border=\"1\" class=\"dataframe\">\n",
              "  <thead>\n",
              "    <tr style=\"text-align: right;\">\n",
              "      <th></th>\n",
              "      <th>Name</th>\n",
              "      <th>Age</th>\n",
              "      <th>Shoe-size</th>\n",
              "      <th>Country</th>\n",
              "      <th>Country_numeric_map</th>\n",
              "      <th>Country_numeric_replace</th>\n",
              "    </tr>\n",
              "  </thead>\n",
              "  <tbody>\n",
              "    <tr>\n",
              "      <th>0</th>\n",
              "      <td>Tom</td>\n",
              "      <td>31</td>\n",
              "      <td>35</td>\n",
              "      <td>US</td>\n",
              "      <td>0.0</td>\n",
              "      <td>0.0</td>\n",
              "    </tr>\n",
              "    <tr>\n",
              "      <th>1</th>\n",
              "      <td>Paul</td>\n",
              "      <td>42</td>\n",
              "      <td>42</td>\n",
              "      <td>DE</td>\n",
              "      <td>1.0</td>\n",
              "      <td>1.0</td>\n",
              "    </tr>\n",
              "    <tr>\n",
              "      <th>2</th>\n",
              "      <td>John</td>\n",
              "      <td>12</td>\n",
              "      <td>36</td>\n",
              "      <td>UK</td>\n",
              "      <td>2.0</td>\n",
              "      <td>2.0</td>\n",
              "    </tr>\n",
              "    <tr>\n",
              "      <th>3</th>\n",
              "      <td>Sarah</td>\n",
              "      <td>56</td>\n",
              "      <td>31</td>\n",
              "      <td>IT</td>\n",
              "      <td>NaN</td>\n",
              "      <td>IT</td>\n",
              "    </tr>\n",
              "  </tbody>\n",
              "</table>\n",
              "</div>"
            ],
            "text/plain": [
              "    Name  Age  Shoe-size Country  Country_numeric_map Country_numeric_replace\n",
              "0    Tom   31         35      US                  0.0                     0.0\n",
              "1   Paul   42         42      DE                  1.0                     1.0\n",
              "2   John   12         36      UK                  2.0                     2.0\n",
              "3  Sarah   56         31      IT                  NaN                      IT"
            ]
          },
          "execution_count": 66,
          "metadata": {},
          "output_type": "execute_result"
        }
      ],
      "source": [
        "df_from_list"
      ]
    },
    {
      "cell_type": "code",
      "execution_count": 65,
      "metadata": {
        "id": "TrilqaKikZy0",
        "outputId": "fe07c0c2-306b-4639-924a-1d11da48ffca"
      },
      "outputs": [
        {
          "data": {
            "text/plain": [
              "0    31\n",
              "1    42\n",
              "2    12\n",
              "3    56\n",
              "Name: Age, dtype: int64"
            ]
          },
          "execution_count": 65,
          "metadata": {},
          "output_type": "execute_result"
        }
      ],
      "source": [
        "# iloc - filter the second column\n",
        "df_from_list.iloc[:, 1]"
      ]
    },
    {
      "cell_type": "code",
      "execution_count": 67,
      "metadata": {
        "id": "TTSUgkGUkZy0",
        "outputId": "644a3d30-c524-4b5c-b93e-0ce29c61ce83"
      },
      "outputs": [
        {
          "data": {
            "application/vnd.microsoft.datawrangler.viewer.v0+json": {
              "columns": [
                {
                  "name": "index",
                  "rawType": "int64",
                  "type": "integer"
                },
                {
                  "name": "Age",
                  "rawType": "int64",
                  "type": "integer"
                },
                {
                  "name": "Country",
                  "rawType": "object",
                  "type": "string"
                },
                {
                  "name": "Country_numeric_map",
                  "rawType": "float64",
                  "type": "float"
                }
              ],
              "conversionMethod": "pd.DataFrame",
              "ref": "c3006b22-eced-4633-9d08-f74545077f0a",
              "rows": [
                [
                  "0",
                  "31",
                  "US",
                  "0.0"
                ],
                [
                  "1",
                  "42",
                  "DE",
                  "1.0"
                ],
                [
                  "2",
                  "12",
                  "UK",
                  "2.0"
                ],
                [
                  "3",
                  "56",
                  "IT",
                  null
                ]
              ],
              "shape": {
                "columns": 3,
                "rows": 4
              }
            },
            "text/html": [
              "<div>\n",
              "<style scoped>\n",
              "    .dataframe tbody tr th:only-of-type {\n",
              "        vertical-align: middle;\n",
              "    }\n",
              "\n",
              "    .dataframe tbody tr th {\n",
              "        vertical-align: top;\n",
              "    }\n",
              "\n",
              "    .dataframe thead th {\n",
              "        text-align: right;\n",
              "    }\n",
              "</style>\n",
              "<table border=\"1\" class=\"dataframe\">\n",
              "  <thead>\n",
              "    <tr style=\"text-align: right;\">\n",
              "      <th></th>\n",
              "      <th>Age</th>\n",
              "      <th>Country</th>\n",
              "      <th>Country_numeric_map</th>\n",
              "    </tr>\n",
              "  </thead>\n",
              "  <tbody>\n",
              "    <tr>\n",
              "      <th>0</th>\n",
              "      <td>31</td>\n",
              "      <td>US</td>\n",
              "      <td>0.0</td>\n",
              "    </tr>\n",
              "    <tr>\n",
              "      <th>1</th>\n",
              "      <td>42</td>\n",
              "      <td>DE</td>\n",
              "      <td>1.0</td>\n",
              "    </tr>\n",
              "    <tr>\n",
              "      <th>2</th>\n",
              "      <td>12</td>\n",
              "      <td>UK</td>\n",
              "      <td>2.0</td>\n",
              "    </tr>\n",
              "    <tr>\n",
              "      <th>3</th>\n",
              "      <td>56</td>\n",
              "      <td>IT</td>\n",
              "      <td>NaN</td>\n",
              "    </tr>\n",
              "  </tbody>\n",
              "</table>\n",
              "</div>"
            ],
            "text/plain": [
              "   Age Country  Country_numeric_map\n",
              "0   31      US                  0.0\n",
              "1   42      DE                  1.0\n",
              "2   12      UK                  2.0\n",
              "3   56      IT                  NaN"
            ]
          },
          "execution_count": 67,
          "metadata": {},
          "output_type": "execute_result"
        }
      ],
      "source": [
        "# iloc - filter just the second, the fourth and the fifth columns\n",
        "df_from_list.iloc[:, [1,3,4]]"
      ]
    },
    {
      "cell_type": "code",
      "execution_count": 68,
      "metadata": {
        "id": "Sr2IA8OikZy0",
        "outputId": "640b5723-9af0-43d1-cc55-06b46a705388"
      },
      "outputs": [
        {
          "data": {
            "application/vnd.microsoft.datawrangler.viewer.v0+json": {
              "columns": [
                {
                  "name": "index",
                  "rawType": "int64",
                  "type": "integer"
                },
                {
                  "name": "Name",
                  "rawType": "object",
                  "type": "string"
                },
                {
                  "name": "Age",
                  "rawType": "int64",
                  "type": "integer"
                },
                {
                  "name": "Shoe-size",
                  "rawType": "int64",
                  "type": "integer"
                },
                {
                  "name": "Country",
                  "rawType": "object",
                  "type": "string"
                },
                {
                  "name": "Country_numeric_map",
                  "rawType": "float64",
                  "type": "float"
                },
                {
                  "name": "Country_numeric_replace",
                  "rawType": "object",
                  "type": "unknown"
                }
              ],
              "conversionMethod": "pd.DataFrame",
              "ref": "d571c201-1884-4f75-8b33-bb6bd851129c",
              "rows": [
                [
                  "1",
                  "Paul",
                  "42",
                  "42",
                  "DE",
                  "1.0",
                  "1.0"
                ]
              ],
              "shape": {
                "columns": 6,
                "rows": 1
              }
            },
            "text/html": [
              "<div>\n",
              "<style scoped>\n",
              "    .dataframe tbody tr th:only-of-type {\n",
              "        vertical-align: middle;\n",
              "    }\n",
              "\n",
              "    .dataframe tbody tr th {\n",
              "        vertical-align: top;\n",
              "    }\n",
              "\n",
              "    .dataframe thead th {\n",
              "        text-align: right;\n",
              "    }\n",
              "</style>\n",
              "<table border=\"1\" class=\"dataframe\">\n",
              "  <thead>\n",
              "    <tr style=\"text-align: right;\">\n",
              "      <th></th>\n",
              "      <th>Name</th>\n",
              "      <th>Age</th>\n",
              "      <th>Shoe-size</th>\n",
              "      <th>Country</th>\n",
              "      <th>Country_numeric_map</th>\n",
              "      <th>Country_numeric_replace</th>\n",
              "    </tr>\n",
              "  </thead>\n",
              "  <tbody>\n",
              "    <tr>\n",
              "      <th>1</th>\n",
              "      <td>Paul</td>\n",
              "      <td>42</td>\n",
              "      <td>42</td>\n",
              "      <td>DE</td>\n",
              "      <td>1.0</td>\n",
              "      <td>1.0</td>\n",
              "    </tr>\n",
              "  </tbody>\n",
              "</table>\n",
              "</div>"
            ],
            "text/plain": [
              "   Name  Age  Shoe-size Country  Country_numeric_map Country_numeric_replace\n",
              "1  Paul   42         42      DE                  1.0                     1.0"
            ]
          },
          "execution_count": 68,
          "metadata": {},
          "output_type": "execute_result"
        }
      ],
      "source": [
        "# loc - filter the second row\n",
        "df_from_list.loc[[1]]"
      ]
    },
    {
      "cell_type": "markdown",
      "metadata": {
        "id": "qqYNPU0QkZy0"
      },
      "source": [
        "Please note that `df_from_list.loc[1]` would have returned a Pandas `Series` instead of a Pandas `DataFrame`. Furthermore"
      ]
    },
    {
      "cell_type": "code",
      "execution_count": 69,
      "metadata": {
        "id": "3a22_41NkZy0",
        "outputId": "5f5a4176-e482-4004-9390-66431dccea5e"
      },
      "outputs": [
        {
          "data": {
            "text/plain": [
              "0    31\n",
              "1    42\n",
              "2    12\n",
              "3    56\n",
              "Name: Age, dtype: int64"
            ]
          },
          "execution_count": 69,
          "metadata": {},
          "output_type": "execute_result"
        }
      ],
      "source": [
        "# loc - filter the second column\n",
        "df_from_list.loc[:, \"Age\"]"
      ]
    },
    {
      "cell_type": "code",
      "execution_count": 70,
      "metadata": {
        "id": "vqbxv6eZkZy0",
        "outputId": "fcde6d11-973f-4bda-90b3-78a9aaf05e57"
      },
      "outputs": [
        {
          "data": {
            "application/vnd.microsoft.datawrangler.viewer.v0+json": {
              "columns": [
                {
                  "name": "index",
                  "rawType": "int64",
                  "type": "integer"
                },
                {
                  "name": "Age",
                  "rawType": "int64",
                  "type": "integer"
                },
                {
                  "name": "Country",
                  "rawType": "object",
                  "type": "string"
                },
                {
                  "name": "Country_numeric_map",
                  "rawType": "float64",
                  "type": "float"
                }
              ],
              "conversionMethod": "pd.DataFrame",
              "ref": "9d296ead-4c66-4118-b06a-8d5ceceb7459",
              "rows": [
                [
                  "0",
                  "31",
                  "US",
                  "0.0"
                ],
                [
                  "1",
                  "42",
                  "DE",
                  "1.0"
                ],
                [
                  "2",
                  "12",
                  "UK",
                  "2.0"
                ],
                [
                  "3",
                  "56",
                  "IT",
                  null
                ]
              ],
              "shape": {
                "columns": 3,
                "rows": 4
              }
            },
            "text/html": [
              "<div>\n",
              "<style scoped>\n",
              "    .dataframe tbody tr th:only-of-type {\n",
              "        vertical-align: middle;\n",
              "    }\n",
              "\n",
              "    .dataframe tbody tr th {\n",
              "        vertical-align: top;\n",
              "    }\n",
              "\n",
              "    .dataframe thead th {\n",
              "        text-align: right;\n",
              "    }\n",
              "</style>\n",
              "<table border=\"1\" class=\"dataframe\">\n",
              "  <thead>\n",
              "    <tr style=\"text-align: right;\">\n",
              "      <th></th>\n",
              "      <th>Age</th>\n",
              "      <th>Country</th>\n",
              "      <th>Country_numeric_map</th>\n",
              "    </tr>\n",
              "  </thead>\n",
              "  <tbody>\n",
              "    <tr>\n",
              "      <th>0</th>\n",
              "      <td>31</td>\n",
              "      <td>US</td>\n",
              "      <td>0.0</td>\n",
              "    </tr>\n",
              "    <tr>\n",
              "      <th>1</th>\n",
              "      <td>42</td>\n",
              "      <td>DE</td>\n",
              "      <td>1.0</td>\n",
              "    </tr>\n",
              "    <tr>\n",
              "      <th>2</th>\n",
              "      <td>12</td>\n",
              "      <td>UK</td>\n",
              "      <td>2.0</td>\n",
              "    </tr>\n",
              "    <tr>\n",
              "      <th>3</th>\n",
              "      <td>56</td>\n",
              "      <td>IT</td>\n",
              "      <td>NaN</td>\n",
              "    </tr>\n",
              "  </tbody>\n",
              "</table>\n",
              "</div>"
            ],
            "text/plain": [
              "   Age Country  Country_numeric_map\n",
              "0   31      US                  0.0\n",
              "1   42      DE                  1.0\n",
              "2   12      UK                  2.0\n",
              "3   56      IT                  NaN"
            ]
          },
          "execution_count": 70,
          "metadata": {},
          "output_type": "execute_result"
        }
      ],
      "source": [
        "# loc - filter just the second, the fourth and the fifth columns\n",
        "df_from_list.loc[:, [\"Age\", \"Country\", \"Country_numeric_map\"]]"
      ]
    },
    {
      "cell_type": "markdown",
      "metadata": {
        "id": "HOAqSL42kZy0"
      },
      "source": [
        "- `dataframe_name.rename()`: the method renames a column, by means of a mapping dictionary"
      ]
    },
    {
      "cell_type": "code",
      "execution_count": 71,
      "metadata": {
        "id": "Mvtq155HkZy1",
        "outputId": "940f6208-ee11-414c-e296-a55457f10833",
        "scrolled": true
      },
      "outputs": [
        {
          "data": {
            "application/vnd.microsoft.datawrangler.viewer.v0+json": {
              "columns": [
                {
                  "name": "index",
                  "rawType": "int64",
                  "type": "integer"
                },
                {
                  "name": "Name",
                  "rawType": "object",
                  "type": "string"
                },
                {
                  "name": "Age_renamed",
                  "rawType": "int64",
                  "type": "integer"
                },
                {
                  "name": "Shoe-size",
                  "rawType": "int64",
                  "type": "integer"
                },
                {
                  "name": "Country",
                  "rawType": "object",
                  "type": "string"
                },
                {
                  "name": "Country_numeric_map",
                  "rawType": "float64",
                  "type": "float"
                },
                {
                  "name": "Country_numeric_replace",
                  "rawType": "object",
                  "type": "unknown"
                }
              ],
              "conversionMethod": "pd.DataFrame",
              "ref": "4430d948-3598-4c29-a522-bb3e59a32829",
              "rows": [
                [
                  "0",
                  "Tom",
                  "31",
                  "35",
                  "US",
                  "0.0",
                  "0.0"
                ],
                [
                  "1",
                  "Paul",
                  "42",
                  "42",
                  "DE",
                  "1.0",
                  "1.0"
                ],
                [
                  "2",
                  "John",
                  "12",
                  "36",
                  "UK",
                  "2.0",
                  "2.0"
                ],
                [
                  "3",
                  "Sarah",
                  "56",
                  "31",
                  "IT",
                  null,
                  "IT"
                ]
              ],
              "shape": {
                "columns": 6,
                "rows": 4
              }
            },
            "text/html": [
              "<div>\n",
              "<style scoped>\n",
              "    .dataframe tbody tr th:only-of-type {\n",
              "        vertical-align: middle;\n",
              "    }\n",
              "\n",
              "    .dataframe tbody tr th {\n",
              "        vertical-align: top;\n",
              "    }\n",
              "\n",
              "    .dataframe thead th {\n",
              "        text-align: right;\n",
              "    }\n",
              "</style>\n",
              "<table border=\"1\" class=\"dataframe\">\n",
              "  <thead>\n",
              "    <tr style=\"text-align: right;\">\n",
              "      <th></th>\n",
              "      <th>Name</th>\n",
              "      <th>Age_renamed</th>\n",
              "      <th>Shoe-size</th>\n",
              "      <th>Country</th>\n",
              "      <th>Country_numeric_map</th>\n",
              "      <th>Country_numeric_replace</th>\n",
              "    </tr>\n",
              "  </thead>\n",
              "  <tbody>\n",
              "    <tr>\n",
              "      <th>0</th>\n",
              "      <td>Tom</td>\n",
              "      <td>31</td>\n",
              "      <td>35</td>\n",
              "      <td>US</td>\n",
              "      <td>0.0</td>\n",
              "      <td>0.0</td>\n",
              "    </tr>\n",
              "    <tr>\n",
              "      <th>1</th>\n",
              "      <td>Paul</td>\n",
              "      <td>42</td>\n",
              "      <td>42</td>\n",
              "      <td>DE</td>\n",
              "      <td>1.0</td>\n",
              "      <td>1.0</td>\n",
              "    </tr>\n",
              "    <tr>\n",
              "      <th>2</th>\n",
              "      <td>John</td>\n",
              "      <td>12</td>\n",
              "      <td>36</td>\n",
              "      <td>UK</td>\n",
              "      <td>2.0</td>\n",
              "      <td>2.0</td>\n",
              "    </tr>\n",
              "    <tr>\n",
              "      <th>3</th>\n",
              "      <td>Sarah</td>\n",
              "      <td>56</td>\n",
              "      <td>31</td>\n",
              "      <td>IT</td>\n",
              "      <td>NaN</td>\n",
              "      <td>IT</td>\n",
              "    </tr>\n",
              "  </tbody>\n",
              "</table>\n",
              "</div>"
            ],
            "text/plain": [
              "    Name  Age_renamed  Shoe-size Country  Country_numeric_map  \\\n",
              "0    Tom           31         35      US                  0.0   \n",
              "1   Paul           42         42      DE                  1.0   \n",
              "2   John           12         36      UK                  2.0   \n",
              "3  Sarah           56         31      IT                  NaN   \n",
              "\n",
              "  Country_numeric_replace  \n",
              "0                     0.0  \n",
              "1                     1.0  \n",
              "2                     2.0  \n",
              "3                      IT  "
            ]
          },
          "execution_count": 71,
          "metadata": {},
          "output_type": "execute_result"
        }
      ],
      "source": [
        "df_from_list.rename(columns={\"Age\": \"Age_renamed\"})"
      ]
    },
    {
      "cell_type": "markdown",
      "metadata": {
        "id": "AVh8Z_TvkZy1"
      },
      "source": [
        "**Merging and aggregating  `DataFrame`**\n",
        "\n",
        "The `merge` function in Pandas performs on `DataFrame` the equivalent operations of an SQL join. Given two dataframes, the merge happens along shared column/s that exist in both of them. The basic syntax is `pd.merge(df_a ,df_b ,how=”type_of_join”,on=”col_name”)`. The full documentation is available at this [link](https://pandas.pydata.org/pandas-docs/stable/reference/api/pandas.merge.html).\n",
        "\n",
        "Pandas allows to perform `groupby` operations. They involve grouping by a column, applying an aggregating function and combining the results. Given the following `DataFrame`"
      ]
    },
    {
      "cell_type": "code",
      "execution_count": 72,
      "metadata": {
        "id": "Wj7_NPRykZy1",
        "outputId": "d78cceb9-d18c-4341-9e75-66887811ed05"
      },
      "outputs": [
        {
          "data": {
            "application/vnd.microsoft.datawrangler.viewer.v0+json": {
              "columns": [
                {
                  "name": "index",
                  "rawType": "int64",
                  "type": "integer"
                },
                {
                  "name": "Name",
                  "rawType": "object",
                  "type": "string"
                },
                {
                  "name": "Department",
                  "rawType": "object",
                  "type": "string"
                },
                {
                  "name": "Employment Type",
                  "rawType": "object",
                  "type": "string"
                },
                {
                  "name": "Salary",
                  "rawType": "int64",
                  "type": "integer"
                }
              ],
              "conversionMethod": "pd.DataFrame",
              "ref": "39eb522e-2f49-4d14-a1c8-82052107c82e",
              "rows": [
                [
                  "0",
                  "John",
                  "Administration",
                  "Full-time",
                  "12"
                ],
                [
                  "1",
                  "Paul",
                  "Marketing",
                  "Intern",
                  "50"
                ],
                [
                  "2",
                  "Tom",
                  "Technical",
                  "Intern",
                  "700"
                ],
                [
                  "3",
                  "Bob",
                  "Technical",
                  "Part-time",
                  "700"
                ],
                [
                  "4",
                  "Ronan",
                  "Marketing",
                  "Part-time",
                  "550"
                ],
                [
                  "5",
                  "Kirby",
                  "Administration",
                  "Full-time",
                  "12"
                ],
                [
                  "6",
                  "Sarah",
                  "Technical",
                  "Full-time",
                  "1250"
                ],
                [
                  "7",
                  "Joe",
                  "Marketing",
                  "Intern",
                  "600"
                ],
                [
                  "8",
                  "Donald",
                  "Technical",
                  "Intern",
                  "111"
                ],
                [
                  "9",
                  "Jeffrey",
                  "Administration",
                  "Full-time",
                  "12"
                ]
              ],
              "shape": {
                "columns": 4,
                "rows": 10
              }
            },
            "text/html": [
              "<div>\n",
              "<style scoped>\n",
              "    .dataframe tbody tr th:only-of-type {\n",
              "        vertical-align: middle;\n",
              "    }\n",
              "\n",
              "    .dataframe tbody tr th {\n",
              "        vertical-align: top;\n",
              "    }\n",
              "\n",
              "    .dataframe thead th {\n",
              "        text-align: right;\n",
              "    }\n",
              "</style>\n",
              "<table border=\"1\" class=\"dataframe\">\n",
              "  <thead>\n",
              "    <tr style=\"text-align: right;\">\n",
              "      <th></th>\n",
              "      <th>Name</th>\n",
              "      <th>Department</th>\n",
              "      <th>Employment Type</th>\n",
              "      <th>Salary</th>\n",
              "    </tr>\n",
              "  </thead>\n",
              "  <tbody>\n",
              "    <tr>\n",
              "      <th>0</th>\n",
              "      <td>John</td>\n",
              "      <td>Administration</td>\n",
              "      <td>Full-time</td>\n",
              "      <td>12</td>\n",
              "    </tr>\n",
              "    <tr>\n",
              "      <th>1</th>\n",
              "      <td>Paul</td>\n",
              "      <td>Marketing</td>\n",
              "      <td>Intern</td>\n",
              "      <td>50</td>\n",
              "    </tr>\n",
              "    <tr>\n",
              "      <th>2</th>\n",
              "      <td>Tom</td>\n",
              "      <td>Technical</td>\n",
              "      <td>Intern</td>\n",
              "      <td>700</td>\n",
              "    </tr>\n",
              "    <tr>\n",
              "      <th>3</th>\n",
              "      <td>Bob</td>\n",
              "      <td>Technical</td>\n",
              "      <td>Part-time</td>\n",
              "      <td>700</td>\n",
              "    </tr>\n",
              "    <tr>\n",
              "      <th>4</th>\n",
              "      <td>Ronan</td>\n",
              "      <td>Marketing</td>\n",
              "      <td>Part-time</td>\n",
              "      <td>550</td>\n",
              "    </tr>\n",
              "    <tr>\n",
              "      <th>5</th>\n",
              "      <td>Kirby</td>\n",
              "      <td>Administration</td>\n",
              "      <td>Full-time</td>\n",
              "      <td>12</td>\n",
              "    </tr>\n",
              "    <tr>\n",
              "      <th>6</th>\n",
              "      <td>Sarah</td>\n",
              "      <td>Technical</td>\n",
              "      <td>Full-time</td>\n",
              "      <td>1250</td>\n",
              "    </tr>\n",
              "    <tr>\n",
              "      <th>7</th>\n",
              "      <td>Joe</td>\n",
              "      <td>Marketing</td>\n",
              "      <td>Intern</td>\n",
              "      <td>600</td>\n",
              "    </tr>\n",
              "    <tr>\n",
              "      <th>8</th>\n",
              "      <td>Donald</td>\n",
              "      <td>Technical</td>\n",
              "      <td>Intern</td>\n",
              "      <td>111</td>\n",
              "    </tr>\n",
              "    <tr>\n",
              "      <th>9</th>\n",
              "      <td>Jeffrey</td>\n",
              "      <td>Administration</td>\n",
              "      <td>Full-time</td>\n",
              "      <td>12</td>\n",
              "    </tr>\n",
              "  </tbody>\n",
              "</table>\n",
              "</div>"
            ],
            "text/plain": [
              "      Name      Department Employment Type  Salary\n",
              "0     John  Administration       Full-time      12\n",
              "1     Paul       Marketing          Intern      50\n",
              "2      Tom       Technical          Intern     700\n",
              "3      Bob       Technical       Part-time     700\n",
              "4    Ronan       Marketing       Part-time     550\n",
              "5    Kirby  Administration       Full-time      12\n",
              "6    Sarah       Technical       Full-time    1250\n",
              "7      Joe       Marketing          Intern     600\n",
              "8   Donald       Technical          Intern     111\n",
              "9  Jeffrey  Administration       Full-time      12"
            ]
          },
          "execution_count": 72,
          "metadata": {},
          "output_type": "execute_result"
        }
      ],
      "source": [
        "data_dictionary = {\n",
        "    'Name': ['John', 'Paul', 'Tom', 'Bob', 'Ronan',\n",
        "                    'Kirby', 'Sarah', 'Joe', 'Donald', 'Jeffrey'],\n",
        "    'Department': ['Administration', 'Marketing', 'Technical', 'Technical', 'Marketing',\n",
        "                          'Administration', 'Technical', 'Marketing', 'Technical', 'Administration'],\n",
        "    'Employment Type': ['Full-time', 'Intern', 'Intern', 'Part-time', 'Part-time',\n",
        "                               'Full-time', 'Full-time', 'Intern', 'Intern', 'Full-time'],\n",
        "    'Salary': [12, 50, 700, 700, 550,\n",
        "                      12, 1250, 600, 111, 12]}\n",
        "\n",
        "# Create the DataFrame\n",
        "df = pd.DataFrame(data_dictionary)\n",
        "df"
      ]
    },
    {
      "cell_type": "markdown",
      "metadata": {
        "id": "YFP5xHY8kZy1"
      },
      "source": [
        "the snippet below groups column `Salary` by column `Department` and applies a `sum`"
      ]
    },
    {
      "cell_type": "code",
      "execution_count": 73,
      "metadata": {
        "id": "zcORwTt7kZy1",
        "outputId": "ada00278-9d08-4dad-d216-51f8365f4964"
      },
      "outputs": [
        {
          "data": {
            "text/plain": [
              "Department\n",
              "Administration      36\n",
              "Marketing         1200\n",
              "Technical         2761\n",
              "Name: Salary, dtype: int64"
            ]
          },
          "execution_count": 73,
          "metadata": {},
          "output_type": "execute_result"
        }
      ],
      "source": [
        "df.groupby(\"Department\")[\"Salary\"].sum()"
      ]
    },
    {
      "cell_type": "markdown",
      "metadata": {
        "id": "jlxie6eXkZy1"
      },
      "source": [
        "or the snippet below groups column `Department` by column `Employment Type` and counts the occurences"
      ]
    },
    {
      "cell_type": "code",
      "execution_count": 74,
      "metadata": {
        "id": "7CIdkRohkZy1",
        "outputId": "bda1b8b1-d65a-4eb3-fa19-b3b8f1df9190"
      },
      "outputs": [
        {
          "data": {
            "text/plain": [
              "Employment Type\n",
              "Full-time    4\n",
              "Intern       4\n",
              "Part-time    2\n",
              "Name: Department, dtype: int64"
            ]
          },
          "execution_count": 74,
          "metadata": {},
          "output_type": "execute_result"
        }
      ],
      "source": [
        "df.groupby(\"Employment Type\")[\"Department\"].count()"
      ]
    },
    {
      "cell_type": "code",
      "execution_count": 79,
      "metadata": {},
      "outputs": [
        {
          "name": "stderr",
          "output_type": "stream",
          "text": [
            "c:\\Users\\gosai\\anaconda3\\envs\\flex_training_env\\lib\\site-packages\\openpyxl\\worksheet\\_reader.py:329: UserWarning: Data Validation extension is not supported and will be removed\n",
            "  warn(msg)\n"
          ]
        },
        {
          "data": {
            "application/vnd.microsoft.datawrangler.viewer.v0+json": {
              "columns": [
                {
                  "name": "index",
                  "rawType": "int64",
                  "type": "integer"
                },
                {
                  "name": "name",
                  "rawType": "object",
                  "type": "string"
                },
                {
                  "name": "bus",
                  "rawType": "object",
                  "type": "string"
                },
                {
                  "name": "carrier",
                  "rawType": "object",
                  "type": "string"
                },
                {
                  "name": "p_nom",
                  "rawType": "object",
                  "type": "string"
                },
                {
                  "name": "marginal_cost",
                  "rawType": "object",
                  "type": "string"
                },
                {
                  "name": "efficiency",
                  "rawType": "object",
                  "type": "string"
                },
                {
                  "name": "p_nom_extendable",
                  "rawType": "object",
                  "type": "string"
                },
                {
                  "name": "p_min_pu",
                  "rawType": "object",
                  "type": "string"
                },
                {
                  "name": "p_max_pu",
                  "rawType": "object",
                  "type": "string"
                },
                {
                  "name": "ramp_limit_up",
                  "rawType": "object",
                  "type": "string"
                },
                {
                  "name": "ramp_limit_down",
                  "rawType": "object",
                  "type": "string"
                },
                {
                  "name": "committable",
                  "rawType": "object",
                  "type": "string"
                },
                {
                  "name": "min_up_time",
                  "rawType": "object",
                  "type": "string"
                },
                {
                  "name": "min_down_time",
                  "rawType": "object",
                  "type": "string"
                },
                {
                  "name": "start_up_cost",
                  "rawType": "object",
                  "type": "string"
                },
                {
                  "name": "shut_down_cost",
                  "rawType": "object",
                  "type": "string"
                }
              ],
              "conversionMethod": "pd.DataFrame",
              "ref": "730b4074-fe0e-4eee-843a-50541fcf822b",
              "rows": [],
              "shape": {
                "columns": 16,
                "rows": 0
              }
            },
            "text/html": [
              "<div>\n",
              "<style scoped>\n",
              "    .dataframe tbody tr th:only-of-type {\n",
              "        vertical-align: middle;\n",
              "    }\n",
              "\n",
              "    .dataframe tbody tr th {\n",
              "        vertical-align: top;\n",
              "    }\n",
              "\n",
              "    .dataframe thead th {\n",
              "        text-align: right;\n",
              "    }\n",
              "</style>\n",
              "<table border=\"1\" class=\"dataframe\">\n",
              "  <thead>\n",
              "    <tr style=\"text-align: right;\">\n",
              "      <th></th>\n",
              "      <th>name</th>\n",
              "      <th>bus</th>\n",
              "      <th>carrier</th>\n",
              "      <th>p_nom</th>\n",
              "      <th>marginal_cost</th>\n",
              "      <th>efficiency</th>\n",
              "      <th>p_nom_extendable</th>\n",
              "      <th>p_min_pu</th>\n",
              "      <th>p_max_pu</th>\n",
              "      <th>ramp_limit_up</th>\n",
              "      <th>ramp_limit_down</th>\n",
              "      <th>committable</th>\n",
              "      <th>min_up_time</th>\n",
              "      <th>min_down_time</th>\n",
              "      <th>start_up_cost</th>\n",
              "      <th>shut_down_cost</th>\n",
              "    </tr>\n",
              "  </thead>\n",
              "  <tbody>\n",
              "  </tbody>\n",
              "</table>\n",
              "</div>"
            ],
            "text/plain": [
              "Empty DataFrame\n",
              "Columns: [name, bus, carrier, p_nom, marginal_cost, efficiency, p_nom_extendable, p_min_pu, p_max_pu, ramp_limit_up, ramp_limit_down, committable, min_up_time, min_down_time, start_up_cost, shut_down_cost]\n",
              "Index: []"
            ]
          },
          "execution_count": 79,
          "metadata": {},
          "output_type": "execute_result"
        }
      ],
      "source": [
        "pd.read_excel(\"data\\Lesson4_model.xlsx\",sheet_name='generators')"
      ]
    },
    {
      "cell_type": "markdown",
      "metadata": {
        "id": "BdrajbP0kZy1"
      },
      "source": [
        "### Additional Resources\n"
      ]
    },
    {
      "cell_type": "markdown",
      "metadata": {},
      "source": [
        "- [Numpy website](https://numpy.org/)\n",
        "- [Pandas website](https://pandas.pydata.org/)"
      ]
    },
    {
      "cell_type": "markdown",
      "metadata": {
        "id": "gfSBLXN6kZy2"
      },
      "source": [
        "### Exercises\n"
      ]
    },
    {
      "cell_type": "markdown",
      "metadata": {
        "id": "dJRB9NZikZy2"
      },
      "source": [
        "**Exercises on Numpy**"
      ]
    },
    {
      "cell_type": "markdown",
      "metadata": {
        "id": "oFL5VJ26kZy2"
      },
      "source": [
        "**Exercise 1** - write a program that:\n",
        "\n",
        "- creates a *vector* (one-dimensional `ndarray`) called `vector_1`, containing five ones\n",
        "- multiplies `vector_1` by the *scalar* three\n",
        "- add the *scalar* two to `vector_1`\n",
        "- creates a *vector* (one-dimensional `ndarray`) called `vector_2`, containing all the numbers from 1 to 5 (with the extremes included)\n",
        "- vertically stack `vector_1` and `vector_2`\n",
        "- horizontally stack `vector_1` and `vector_2`"
      ]
    },
    {
      "cell_type": "code",
      "execution_count": null,
      "metadata": {
        "id": "0IulwRtCkZy2"
      },
      "outputs": [],
      "source": [
        "# please provide your code here"
      ]
    },
    {
      "cell_type": "code",
      "execution_count": null,
      "metadata": {
        "id": "OgIFL2XYkZy2"
      },
      "outputs": [],
      "source": [
        "# please provide your code here"
      ]
    },
    {
      "cell_type": "code",
      "execution_count": null,
      "metadata": {
        "id": "-mGRl7oCkZy2"
      },
      "outputs": [],
      "source": [
        "# please provide your code here"
      ]
    },
    {
      "cell_type": "code",
      "execution_count": null,
      "metadata": {
        "id": "NuEBy3-ZkZy2"
      },
      "outputs": [],
      "source": [
        "# please provide your code here"
      ]
    },
    {
      "cell_type": "code",
      "execution_count": null,
      "metadata": {
        "id": "NT-i7DVNkZy2"
      },
      "outputs": [],
      "source": [
        "# please provide your code here"
      ]
    },
    {
      "cell_type": "code",
      "execution_count": null,
      "metadata": {
        "id": "pe8a8eCnkZy3"
      },
      "outputs": [],
      "source": [
        "# please provide your code here"
      ]
    },
    {
      "cell_type": "markdown",
      "metadata": {
        "id": "pO4M772JkZy3"
      },
      "source": [
        "**Exercise 2** - using the snippet below, create a five-by-five matrix (two-dimensional `ndarray`) of randomly generated numbers. Afterwards, write a code that:\n",
        "- prints the first row\n",
        "- prints the third and fourth columns\n",
        "- prints the last element of the last row"
      ]
    },
    {
      "cell_type": "code",
      "execution_count": null,
      "metadata": {
        "id": "LsQXAe7BkZy3",
        "outputId": "4bdc8903-57a6-42ac-d69d-95850da98cbd"
      },
      "outputs": [],
      "source": [
        "# Run this cell for the exercise\n",
        "# This snippet creates a five-by-five matrix (two-dimensional ndarray) of randomly generated numbers\n",
        "# Please, do NOT modify this cell\n",
        "matrix_five_five = np.random.randint(1, 100, size = (5,5))\n",
        "matrix_five_five"
      ]
    },
    {
      "cell_type": "code",
      "execution_count": null,
      "metadata": {
        "id": "NPHdycyikZy3"
      },
      "outputs": [],
      "source": [
        "# please provide your code here"
      ]
    },
    {
      "cell_type": "code",
      "execution_count": null,
      "metadata": {
        "id": "43K_Li0YkZy3"
      },
      "outputs": [],
      "source": [
        "# please provide your code here"
      ]
    },
    {
      "cell_type": "code",
      "execution_count": null,
      "metadata": {
        "id": "pIPssOqDkZy3"
      },
      "outputs": [],
      "source": [
        "# please provide your code here"
      ]
    },
    {
      "cell_type": "markdown",
      "metadata": {
        "id": "aVGeBmC8kZy3"
      },
      "source": [
        "**Exercise on Pandas**"
      ]
    },
    {
      "cell_type": "markdown",
      "metadata": {
        "id": "_5p6ByPZkZy4"
      },
      "source": [
        "**Exercise 3** - using the snippet below to create a Pandas `DataFrame` `df_exercise`, write a code that:\n",
        "- checks the *shape* of the `DataFrame`\n",
        "- prints the first two rows\n",
        "- prints the last two rows\n",
        "- samples two rows from the `DataFrame`\n",
        "- describes the data\n",
        "- checks if the DataFrame contains `NaN` values"
      ]
    },
    {
      "cell_type": "code",
      "execution_count": null,
      "metadata": {
        "id": "-DueJoUpkZy4",
        "outputId": "b60eada3-84dd-4848-8d80-b1bfd9fff2f5"
      },
      "outputs": [],
      "source": [
        "# Run this cell for the exercise\n",
        "# This snippet creates a Pandas Dataframe\n",
        "# Please, do NOT modify this cell\n",
        "data_list_exercise = [[\"Lagos\", 8, \"Nigeria\"], [\"Santiago de Chile\", 6, \"Chile\"], [\"Sydney\", 5, \"Australia\"], [\"Hanoi\", 8, \"Vietnam\"]]\n",
        "data_column_name_exercise = [\"City\", \"Population (Millions)\", \"Country\"]\n",
        "df_exercise = pd.DataFrame(data_list_exercise, columns=data_column_name_exercise)\n",
        "df_exercise"
      ]
    },
    {
      "cell_type": "code",
      "execution_count": null,
      "metadata": {
        "id": "6xVqevxykZy4"
      },
      "outputs": [],
      "source": [
        "# please provide your code here"
      ]
    },
    {
      "cell_type": "code",
      "execution_count": null,
      "metadata": {
        "id": "7NdxK4nHkZy4"
      },
      "outputs": [],
      "source": [
        "# please provide your code here"
      ]
    },
    {
      "cell_type": "code",
      "execution_count": null,
      "metadata": {
        "id": "ZqbqZP8PkZy4"
      },
      "outputs": [],
      "source": [
        "# please provide your code here"
      ]
    },
    {
      "cell_type": "code",
      "execution_count": null,
      "metadata": {
        "id": "oTf3OwuJkZy4"
      },
      "outputs": [],
      "source": [
        "# please provide your code here"
      ]
    },
    {
      "cell_type": "code",
      "execution_count": null,
      "metadata": {
        "id": "IXO8fKvOkZy4"
      },
      "outputs": [],
      "source": [
        "# please provide your code here"
      ]
    },
    {
      "cell_type": "code",
      "execution_count": null,
      "metadata": {
        "id": "C9U-3qL5kZy5"
      },
      "outputs": [],
      "source": [
        "# please provide your code here"
      ]
    },
    {
      "cell_type": "markdown",
      "metadata": {
        "id": "Q29eShXkkZy5"
      },
      "source": [
        "**Exercise 4** - write a code that modifies `df_exercise` by:\n",
        "- adding a column `Continent` that maps `Nigeria -> Africa`, `Chile -> America`, `Australia -> Oceania` and `Vietnam -> Asia`\n",
        "- and that filters the second row of the `DataFrame`"
      ]
    },
    {
      "cell_type": "code",
      "execution_count": null,
      "metadata": {
        "id": "JP2WB79IkZy5"
      },
      "outputs": [],
      "source": [
        "# please provide your code here"
      ]
    },
    {
      "cell_type": "code",
      "execution_count": null,
      "metadata": {
        "id": "2wQqSrXSkZy5"
      },
      "outputs": [],
      "source": [
        "# please provide your code here"
      ]
    },
    {
      "cell_type": "markdown",
      "metadata": {},
      "source": [
        "### \n",
        "---"
      ]
    }
  ],
  "metadata": {
    "colab": {
      "provenance": []
    },
    "kernelspec": {
      "display_name": "flex_training_env",
      "language": "python",
      "name": "python3"
    },
    "language_info": {
      "codemirror_mode": {
        "name": "ipython",
        "version": 3
      },
      "file_extension": ".py",
      "mimetype": "text/x-python",
      "name": "python",
      "nbconvert_exporter": "python",
      "pygments_lexer": "ipython3",
      "version": "3.10.16"
    }
  },
  "nbformat": 4,
  "nbformat_minor": 0
}
