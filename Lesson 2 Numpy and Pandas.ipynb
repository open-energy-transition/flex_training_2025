{
  "cells": [
    {
      "cell_type": "markdown",
      "metadata": {},
      "source": [
        "### 📘 Lesson 2: Introduction Numpy and Pandas"
      ]
    },
    {
      "cell_type": "markdown",
      "metadata": {},
      "source": [
        "<div style=\"display: flex; align-items: center; justify-content: space-between;\">\n",
        "  <div>\n",
        "    <h3>Notebook Developers</h3>\n",
        "    <ul>\n",
        "      <li><strong>Dr. Fabrizio Finozzi</strong> - Big Data Software Developer</li>\n",
        "      <li><strong>Priyesh Gosai</strong> - Energy Systems Modeler and Training Coordinator</li>\n",
        "    </ul>\n",
        "  </div>\n",
        "  <div>\n",
        "    <a href=\"https://openenergytransition.org/index.html\">\n",
        "      <img src=\"https://openenergytransition.org/assets/img/oet-logo-red-n-subtitle.png\" height=\"60\" alt=\"OET\">\n",
        "    </a>\n",
        "  </div>\n",
        "</div>\n"
      ]
    },
    {
      "cell_type": "markdown",
      "metadata": {},
      "source": [
        "##### 🎯 Learning Objectives  \n",
        "\n",
        "* Gain an understanding of Numpy and Pandas, including their purposes and applications.\n",
        "* Learn to utilize key functions within these libraries.\n",
        "* Engage in practical exercises to effectively apply Numpy and Pandas tools.\n",
        "\n"
      ]
    },
    {
      "cell_type": "markdown",
      "metadata": {},
      "source": [
        "### Introduction to NumPy"
      ]
    },
    {
      "cell_type": "markdown",
      "metadata": {
        "id": "qy2JwVOskZyl"
      },
      "source": [
        "\n",
        "\n",
        "---\n",
        "\n",
        "**What is NumPy**\n",
        "\n",
        "NumPy is a Python package that brings the computational power of languages like C++\n",
        "and Fortran to Python. NumPy is the backbone of many other Python packages that span several applications, as shown below\n",
        "\n",
        "<img src=\"img/numpy_applications.png\" width=\"500\">"
      ]
    },
    {
      "cell_type": "markdown",
      "metadata": {
        "id": "T25tNyNpkZyl"
      },
      "source": [
        "How to import NumPy"
      ]
    },
    {
      "cell_type": "code",
      "execution_count": null,
      "metadata": {
        "id": "oj-2FQtskZyl"
      },
      "outputs": [],
      "source": [
        "import numpy as np"
      ]
    },
    {
      "cell_type": "markdown",
      "metadata": {
        "id": "me0Kdl_0kZym"
      },
      "source": [
        "**Why NumPy**\n",
        "\n",
        "NumPy (which is an acronym for **Nu**merical **Py**thon) is a multi-dimensional array library. Data can therefore be stored in one-, two- or n-dimensional arrays. The array object in NumPy is referred to as `ndarray`. NumPy arrays are several times faster than traditional Python lists. This is because (behind the scenes) NumPy is developed in C++. `ndarrays` are also more efficient with memory usage. This is because Python lists may host several types of data at the same time, whereas `ndarrays` can only host numerical data. Finally NumPy can run sub-tasks in parallel. There is in fact the possibility to vectorize operations without the need of using `for` loops to cycle through the array and performing the calculations on each single element.\n",
        "\n",
        "\n",
        "With respect to terminology:\n",
        "- a **scalar** can be viewed as a 0-dimension `ndarray`, therefore it has no shape\n",
        "- a **vector** can be viewed as a 1-dimension `ndarray`, therefore it has shape(n,)\n",
        "- a **matrix** can be viewed as a 2-dimensions `ndarray`, therefore it has shape(n, m)\n",
        "and so forth."
      ]
    },
    {
      "cell_type": "code",
      "execution_count": null,
      "metadata": {
        "id": "Is_KgSalkZym",
        "outputId": "82487564-4c8a-4eb7-b30a-ff81bca69bc1"
      },
      "outputs": [],
      "source": [
        "scalar = np.array(4)\n",
        "vector = np.array([1,2,3])\n",
        "matrix = np.array([[1,2,3], [4,5,6]])\n",
        "\n",
        "for arr in [scalar, vector, matrix]:\n",
        "    print(\"dimensions:\", arr.ndim, \"| shape:\", arr.shape)"
      ]
    },
    {
      "cell_type": "markdown",
      "metadata": {
        "id": "aRzhOm12kZyn"
      },
      "source": [
        "This code snippet makes use of the attributes `ndim` and `shape`, that return respectively an integer corresponding  to the number of dimensions and a tuple of integers corresponding to the array dimensions. The full list of `ndarray` attributes and methods is available at this [link](https://numpy.org/doc/stable/reference/generated/numpy.ndarray.html)."
      ]
    },
    {
      "cell_type": "markdown",
      "metadata": {
        "id": "3z3Uv3KDkZyn"
      },
      "source": [
        "**NumPy overview**"
      ]
    },
    {
      "cell_type": "markdown",
      "metadata": {
        "id": "-ejUGLvmkZyn"
      },
      "source": [
        "#### Slicing\n",
        "`ndarray` slicing works as the slicing of lists."
      ]
    },
    {
      "cell_type": "code",
      "execution_count": null,
      "metadata": {
        "id": "LK-mk3FRkZyn",
        "outputId": "f0d2b6c1-3b8a-40ef-f1e2-66fa01753853"
      },
      "outputs": [],
      "source": [
        "vector = np.array([1,2,3,4,5,6,7])\n",
        "print(vector)"
      ]
    },
    {
      "cell_type": "code",
      "execution_count": null,
      "metadata": {
        "id": "6-zKJifIkZyo",
        "outputId": "9f0067a0-86d0-4f44-f2fc-ae0e616bd274"
      },
      "outputs": [],
      "source": [
        "# the first and the last elements are given by\n",
        "print(vector[0], vector[-1])"
      ]
    },
    {
      "cell_type": "code",
      "execution_count": null,
      "metadata": {
        "id": "IcprlT5gkZyo",
        "outputId": "3dff03d4-a6bd-49f6-a4f3-4a3afc08282e"
      },
      "outputs": [],
      "source": [
        "# a slice from the second to the fourth element (included) is given by\n",
        "vector[1:4]"
      ]
    },
    {
      "cell_type": "code",
      "execution_count": null,
      "metadata": {
        "id": "3A1oKVhqkZyo",
        "outputId": "ad5f7bb3-78f2-4c05-9053-92132eef0d01"
      },
      "outputs": [],
      "source": [
        "# a slice from the first to the last element in steps of three is given by\n",
        "vector[::3]"
      ]
    },
    {
      "cell_type": "markdown",
      "metadata": {
        "id": "JtphLtPKkZyo"
      },
      "source": [
        "The slicing works in the same way even for higher dimensions `ndarray`. Let us consider the matrix"
      ]
    },
    {
      "cell_type": "code",
      "execution_count": null,
      "metadata": {
        "id": "HKG-pujykZyo",
        "outputId": "c1fa9363-7667-49db-e023-43e5626476b1"
      },
      "outputs": [],
      "source": [
        "matrix = np.array([[1,2,3,4,5,6,7], [8,9,10,11,12,13,14]])\n",
        "print(matrix)"
      ]
    },
    {
      "cell_type": "code",
      "execution_count": null,
      "metadata": {
        "id": "R56X9IomkZyo",
        "outputId": "54ad7540-839d-4209-d693-6827445a99f2"
      },
      "outputs": [],
      "source": [
        "# a slice that returns the first row is given by\n",
        "matrix[0, :]"
      ]
    },
    {
      "cell_type": "code",
      "execution_count": null,
      "metadata": {
        "id": "gc-gBg-dkZyo",
        "outputId": "cdabf45b-9da3-4a89-9259-25d430835552"
      },
      "outputs": [],
      "source": [
        "# a slice that returns the second row is given by\n",
        "matrix[1, :]"
      ]
    },
    {
      "cell_type": "code",
      "execution_count": null,
      "metadata": {
        "id": "mfSpvs-rkZyp",
        "outputId": "7092c352-8108-4858-c731-f75ea8d52369"
      },
      "outputs": [],
      "source": [
        "# a slice that returns the second through the fourth columns is instead given by\n",
        "matrix[:, 2:5]"
      ]
    },
    {
      "cell_type": "markdown",
      "metadata": {
        "id": "ewX3Pg2RkZyp"
      },
      "source": [
        "Slicing is instrumental also when replacing elements of an `ndarray`. For example, the code to replace the second through the fourth columns with **ones** is"
      ]
    },
    {
      "cell_type": "code",
      "execution_count": null,
      "metadata": {
        "id": "jPUgUZTAkZyp",
        "outputId": "ca63e465-cab2-4cf3-b188-2615660158ff"
      },
      "outputs": [],
      "source": [
        "matrix[:, 2:5] = [[1, 1, 1], [1, 1, 1]]\n",
        "matrix"
      ]
    },
    {
      "cell_type": "markdown",
      "metadata": {
        "id": "A0ST3inNkZyp"
      },
      "source": [
        "#### Array manipulation\n",
        "\n",
        "NumPy provides methods to re-organize and re-shape arrays.\n",
        "\n",
        "The methods *vstack* and *hstack* enable to vertically and horizontally stack existing `ndarrays`."
      ]
    },
    {
      "cell_type": "code",
      "execution_count": null,
      "metadata": {
        "id": "k6Yrhi1qkZyp"
      },
      "outputs": [],
      "source": [
        "vector_one = np.array([1,2,3,4,5,6,7])\n",
        "vector_two = np.array([8,9,10,11,12,13,14])"
      ]
    },
    {
      "cell_type": "code",
      "execution_count": null,
      "metadata": {
        "id": "MiVQPudqkZyp",
        "outputId": "7a559112-8400-41bc-9c64-b5a0d179c65b"
      },
      "outputs": [],
      "source": [
        "# vertical stacking\n",
        "print(np.vstack([vector_one,vector_two]))"
      ]
    },
    {
      "cell_type": "code",
      "execution_count": null,
      "metadata": {
        "id": "M00jJOrMkZyp",
        "outputId": "ad263528-0a0c-4f33-f1ca-61498a7af0e0"
      },
      "outputs": [],
      "source": [
        "# horizontal stacking\n",
        "print(np.hstack([vector_one,vector_two]))"
      ]
    },
    {
      "cell_type": "markdown",
      "metadata": {
        "id": "DAIVVxp2kZyq"
      },
      "source": [
        "The method *reshape* instead allows to modify the **shape** of an `ndarray`"
      ]
    },
    {
      "cell_type": "code",
      "execution_count": null,
      "metadata": {
        "id": "_s-go83KkZyq",
        "outputId": "0440ef56-def9-4458-b3d8-4ee1091c380c"
      },
      "outputs": [],
      "source": [
        "original_matrix = np.vstack([vector_one,vector_two])\n",
        "original_matrix.shape"
      ]
    },
    {
      "cell_type": "code",
      "execution_count": null,
      "metadata": {
        "id": "hH1Gp1TKkZyq",
        "outputId": "545dbea4-53a8-4c68-c3c0-f413a87e3bcd"
      },
      "outputs": [],
      "source": [
        "original_matrix.reshape((7,2))"
      ]
    },
    {
      "cell_type": "markdown",
      "metadata": {
        "id": "Z7gymCSNkZyq"
      },
      "source": [
        "#### Zeros and ones\n",
        "\n",
        "The following code snippets can be used to create `ndarrays` containing only **zeros** or **ones**. Namely:"
      ]
    },
    {
      "cell_type": "code",
      "execution_count": null,
      "metadata": {
        "id": "hdKLR0BBkZyq",
        "outputId": "6f4708d5-22be-45bf-c8a5-947fd5069ba6"
      },
      "outputs": [],
      "source": [
        "# zeros vector\n",
        "vector_zeros = np.zeros(5)\n",
        "print(vector_zeros)"
      ]
    },
    {
      "cell_type": "code",
      "execution_count": null,
      "metadata": {
        "id": "TvgEcyuHkZyq",
        "outputId": "52990e6d-5207-4ccf-b9d5-6537b74471d7"
      },
      "outputs": [],
      "source": [
        "# zeros matrix\n",
        "matrix_zeros = np.zeros((5,7))\n",
        "print(matrix_zeros)"
      ]
    },
    {
      "cell_type": "code",
      "execution_count": null,
      "metadata": {
        "id": "-Qaxe_DRkZyq",
        "outputId": "b0e0f98e-6698-4914-c460-9dd552c80300"
      },
      "outputs": [],
      "source": [
        "# ones vector\n",
        "vector_ones = np.ones(5)\n",
        "print(vector_ones)"
      ]
    },
    {
      "cell_type": "code",
      "execution_count": null,
      "metadata": {
        "id": "y553YurFkZyr",
        "outputId": "52f2ef3e-f88f-449a-a158-5abdabf06061"
      },
      "outputs": [],
      "source": [
        "# ones matrix\n",
        "matrix_ones = np.ones((5,7))\n",
        "print(matrix_ones)"
      ]
    },
    {
      "cell_type": "markdown",
      "metadata": {
        "id": "gY9viIhxkZyr"
      },
      "source": [
        "#### Linear algebra\n",
        "\n",
        "A NumPy `ndarray` supports *vectorized* operations. For example, it is possible to add, subtract, multiply or divide each element of an `ndarray` using the following compact form (**Note**: this is **not** possible with lists)"
      ]
    },
    {
      "cell_type": "code",
      "execution_count": null,
      "metadata": {
        "id": "NglNPSoKkZyr",
        "outputId": "7b9204b0-5394-4fe9-833e-1c001f767590"
      },
      "outputs": [],
      "source": [
        "matrix_ones = np.ones((5,7))\n",
        "print(matrix_ones + 2)"
      ]
    },
    {
      "cell_type": "code",
      "execution_count": null,
      "metadata": {
        "id": "3c5onfXJkZyr",
        "outputId": "4a848f05-3d21-432a-8583-10e777eb76d8"
      },
      "outputs": [],
      "source": [
        "print(matrix_ones * 4)"
      ]
    },
    {
      "cell_type": "code",
      "execution_count": null,
      "metadata": {
        "id": "N_qXl_StkZyr",
        "outputId": "cb11cb87-2f92-4eea-c07d-59ab1a891199"
      },
      "outputs": [],
      "source": [
        "print(matrix_ones - 2)"
      ]
    },
    {
      "cell_type": "code",
      "execution_count": null,
      "metadata": {
        "id": "A-dEz2CGkZys",
        "outputId": "b4c6c95f-5588-41c4-eab1-7248a123c200"
      },
      "outputs": [],
      "source": [
        "print(matrix_ones / 4)"
      ]
    },
    {
      "cell_type": "markdown",
      "metadata": {
        "id": "kJC4cPnBkZys"
      },
      "source": [
        "The *extended* versions of the code snippets above involve the use of a `for` loop to cycle through each element of the `ndarray`.\n",
        "\n",
        "NumPy provides also a function to perform a [matrix multiplication](https://en.wikipedia.org/wiki/Matrix_multiplication)."
      ]
    },
    {
      "cell_type": "code",
      "execution_count": null,
      "metadata": {
        "id": "B2bMjgh_kZys",
        "outputId": "fc122532-d7cc-4a6e-f783-b0e4deefb81b"
      },
      "outputs": [],
      "source": [
        "matrix_ones = np.ones((5,7))\n",
        "matrix_threes = (matrix_ones + 3).transpose()\n",
        "\n",
        "np.matmul(matrix_ones, matrix_threes)"
      ]
    },
    {
      "cell_type": "markdown",
      "metadata": {
        "id": "VE_sWWS6kZys"
      },
      "source": [
        "The `@` operator can be used as a shorthand for `np.matmul` on `ndarrays`."
      ]
    },
    {
      "cell_type": "markdown",
      "metadata": {
        "id": "bbrdzfgskZys"
      },
      "source": [
        "#### Other useful operations"
      ]
    },
    {
      "cell_type": "markdown",
      "metadata": {
        "id": "tG-vExxnkZys"
      },
      "source": [
        "The important *statistics* of an `ndarray` can be determined with the following methods"
      ]
    },
    {
      "cell_type": "code",
      "execution_count": null,
      "metadata": {
        "id": "NE_qG6G6kZys",
        "outputId": "9a7554c7-69e2-47d7-bf1e-1bde8af07aa9"
      },
      "outputs": [],
      "source": [
        "# minimum of an ndarray\n",
        "vector.min()"
      ]
    },
    {
      "cell_type": "code",
      "execution_count": null,
      "metadata": {
        "id": "-_qxLqickZyt",
        "outputId": "ee95f595-5f04-440f-a3e5-b44cebd81fff"
      },
      "outputs": [],
      "source": [
        "# maximum of an ndarray\n",
        "vector.max()"
      ]
    },
    {
      "cell_type": "code",
      "execution_count": null,
      "metadata": {
        "id": "7gWWo2GzkZyt",
        "outputId": "30c5854e-2a0c-4f38-b941-35a681112e1a"
      },
      "outputs": [],
      "source": [
        "# mean of an ndarray\n",
        "vector.mean()"
      ]
    },
    {
      "cell_type": "markdown",
      "metadata": {
        "id": "zqik1EcpkZyt"
      },
      "source": [
        "It is also possible to apply these methods to n-dimensional `ndarray`. For example"
      ]
    },
    {
      "cell_type": "code",
      "execution_count": null,
      "metadata": {
        "id": "xhX4LSSEkZyt",
        "outputId": "5edb7178-c591-4116-89a1-3f4f1a81d28d"
      },
      "outputs": [],
      "source": [
        "# maximum element of the matrix for each column\n",
        "matrix.max(axis=0)"
      ]
    },
    {
      "cell_type": "code",
      "execution_count": null,
      "metadata": {
        "id": "-knK3X1ckZyt",
        "outputId": "bd7bd033-946a-43b9-c739-af46276b4ccb"
      },
      "outputs": [],
      "source": [
        "# maximum element of the matrix for each row\n",
        "matrix.max(axis=1)"
      ]
    },
    {
      "cell_type": "markdown",
      "metadata": {
        "id": "NnFeCDcrkZyt"
      },
      "source": [
        "Finally, the **all** and **any** return `True` or `False` if (respectively) all or any of the elements of the `ndarray` fulfill a given condition. For example"
      ]
    },
    {
      "cell_type": "code",
      "execution_count": null,
      "metadata": {
        "id": "rV9sBtpakZyt",
        "outputId": "0ec484ed-0dd0-4941-fb62-404de278d11e"
      },
      "outputs": [],
      "source": [
        "np.any(vector==9)"
      ]
    },
    {
      "cell_type": "code",
      "execution_count": null,
      "metadata": {
        "id": "jTFUgU6zkZyt",
        "outputId": "5d38f22d-c511-412c-a387-698377efcea8"
      },
      "outputs": [],
      "source": [
        "np.any(vector==1)"
      ]
    },
    {
      "cell_type": "code",
      "execution_count": null,
      "metadata": {
        "id": "2IfE28yHkZyu",
        "outputId": "18d8f1f3-bd04-49b4-ac3e-a5b04bf7ea59"
      },
      "outputs": [],
      "source": [
        "np.all(vector==9)"
      ]
    },
    {
      "cell_type": "code",
      "execution_count": null,
      "metadata": {
        "id": "AHjYfFupkZyu",
        "outputId": "8724109f-656e-4ccf-e9cc-09d14b5ac2f3"
      },
      "outputs": [],
      "source": [
        "np.all(vector==1)"
      ]
    },
    {
      "cell_type": "code",
      "execution_count": null,
      "metadata": {
        "id": "5zfA9tDSkZyu",
        "outputId": "51be23fc-17e5-45e3-81f0-95868dfe8657"
      },
      "outputs": [],
      "source": [
        "np.all(vector_ones==1)"
      ]
    },
    {
      "cell_type": "markdown",
      "metadata": {
        "id": "51ufjjoJkZyu"
      },
      "source": [
        "It is also possible to apply these methods to n-dimensional `ndarray` as well. For example"
      ]
    },
    {
      "cell_type": "code",
      "execution_count": null,
      "metadata": {
        "id": "8LpbVYF1kZyu",
        "outputId": "ad759d15-b3e1-48f4-d04a-ebdd395a01f5"
      },
      "outputs": [],
      "source": [
        "print(\"Are all the elements by column of the matrix greater than 0?\", np.all(matrix > 0, axis=0))\n",
        "print(\"Are all the elements by row of the matrix greater than 0?\", np.all(matrix > 0, axis=1))\n",
        "print(\"Is any of the elements along the columns of the matrix greater than 6?\", np.all(matrix > 6, axis=0))\n",
        "print(\"Is any of the elements along the rows of the matrix greater than 6?\", np.all(matrix > 6, axis=1))"
      ]
    },
    {
      "cell_type": "markdown",
      "metadata": {},
      "source": [
        "### Introduction to Pandas"
      ]
    },
    {
      "cell_type": "markdown",
      "metadata": {
        "id": "MEahBI6KkZyu"
      },
      "source": [
        "\n",
        "---\n",
        "\n",
        "**What is Pandas**\n",
        "\n",
        "Pandas is a fast, powerful, flexible and easy to use open source data analysis and manipulation tool,\n",
        "built on top of the Python programming language (primarly on top of NumPy). It enables also to process data as one would do with SQL."
      ]
    },
    {
      "cell_type": "markdown",
      "metadata": {
        "id": "KwB5Mmm4kZyu"
      },
      "source": [
        "**How to import Pandas**"
      ]
    },
    {
      "cell_type": "code",
      "execution_count": null,
      "metadata": {
        "id": "uIWa0ehvkZyu"
      },
      "outputs": [],
      "source": [
        "#!pip install pandas\n",
        "import pandas as pd"
      ]
    },
    {
      "cell_type": "markdown",
      "metadata": {
        "id": "NBTCTv_3kZyv"
      },
      "source": [
        "**Pandas overview**"
      ]
    },
    {
      "cell_type": "markdown",
      "metadata": {
        "id": "Y95F1WGWkZyv"
      },
      "source": [
        "\n",
        "\n",
        "A Pandas `DataFrame` is a two-dimensional, size-mutable and potentially heterogeneous (it means it can contain different types of data) tabular data. Dataframes can be built from dictionaries, where the dictionary keys are the column names and the dictionary values are strings that contain the column values"
      ]
    },
    {
      "cell_type": "code",
      "execution_count": null,
      "metadata": {
        "id": "VFBHONhPkZyv"
      },
      "outputs": [],
      "source": [
        "df_from_dict = pd.DataFrame({\"Name\": [\"Tom\", \"Paul\", \"John\", \"Sarah\"], \"Age\": [31, 42, 12, 56], \"Shoe-size\": [35, 42, 36, 31]})"
      ]
    },
    {
      "cell_type": "markdown",
      "metadata": {
        "id": "D4xv6oETkZyv"
      },
      "source": [
        "An alternative is to use only lists"
      ]
    },
    {
      "cell_type": "code",
      "execution_count": null,
      "metadata": {
        "id": "vhKVc4jukZyv"
      },
      "outputs": [],
      "source": [
        "data_list = [[\"Tom\", 31, 35], [\"Paul\", 42, 42], [\"John\", 12, 36], [\"Sarah\", 56, 31]]\n",
        "data_column_name = [\"Name\", \"Age\", \"Shoe-size\"]\n",
        "df_from_list = pd.DataFrame(data_list, columns=data_column_name)"
      ]
    },
    {
      "cell_type": "markdown",
      "metadata": {
        "id": "ap2ZGdfPkZyv"
      },
      "source": [
        "Data can be fed into a Pandas `DataFrame` from a file. Pandas supports several file formats, which can be found at this [link](https://pandas.pydata.org/pandas-docs/stable/user_guide/io.html). For example the syntax from an excel file would be `df_read_from_file = pd.read_excel(file_name, sheet_name = sheet_name)`.\n",
        "\n",
        "**Pandas `Dataframe` attributes and methods**\n",
        "\n",
        "Pandas offers built-in methods and attributes of the `DataFrame` class which are useful to describe the data contained in the dataframe. Given a `DataFrame` called `dataframe_name`:\n",
        "- `dataframe_name.shape`: the attribute returns a tuple representing the dimensionality (number of rows and columns) of the DataFrame\n",
        "- `dataframe_name.head(n)`: the method displays the first `n` rows of the dataframe\n",
        "- `dataframe_name.tail(n)`: the method displays the last `n` rows of the dataframe\n",
        "- `dataframename.sample(n)`: the method returns another dataframe, containing a random sample of `n` rows from the original dataframe. If no argument is passed, the method returns a dataframe with just one row. One can also execute `dataframe_name.sample(frac=0.1)`. This will return a dataframe with `10 %` of the rows from the original dataframe\n",
        "- `dataframe_name.describe()`: the method returns a 8 × ncols dataframe. If `dataframe_name` contains numeric data, the method returns for each column, `count` (number of rows containing non-null values), `mean`, `std`, `min`, `max`, the `25 percentile`, `50 percentile` (the median) and `75 percentile`\n",
        "- `dataframe_name.isna()`: the method returns a boolean same-sized dataframe, indicating if the values are `NA`. `NA` values, such as `None` or `numpy.NaN`, get mapped to `True`. Everything else gets mapped to `False`. Characters such as empty strings `\" \"` or `numpy.inf` are **not** considered `NA` values. The snippet `dataframe_name.isna().sum()` returns the number of rows in each column where `NA` values are present"
      ]
    },
    {
      "cell_type": "code",
      "execution_count": null,
      "metadata": {
        "id": "4JrdSI3rkZyw",
        "outputId": "3c407dc4-f261-485d-fe8a-7ff43350d577"
      },
      "outputs": [],
      "source": [
        "df_from_list"
      ]
    },
    {
      "cell_type": "code",
      "execution_count": null,
      "metadata": {
        "id": "0Y7uVeRkkZyw",
        "outputId": "b5b7e933-8a48-4ffb-b669-4564c3179f76"
      },
      "outputs": [],
      "source": [
        "df_from_list.shape"
      ]
    },
    {
      "cell_type": "code",
      "execution_count": null,
      "metadata": {
        "id": "DHTCyTrEkZyw",
        "outputId": "3dde3bae-f60e-42f7-9dbb-cb22ab6dd3ce"
      },
      "outputs": [],
      "source": [
        "df_from_list.head(1)"
      ]
    },
    {
      "cell_type": "code",
      "execution_count": null,
      "metadata": {
        "id": "oaBgpXMrkZyw",
        "outputId": "96e4d834-8f03-4701-d8f5-475f50936d02"
      },
      "outputs": [],
      "source": [
        "df_from_list.tail(2)"
      ]
    },
    {
      "cell_type": "code",
      "execution_count": null,
      "metadata": {
        "id": "BwOTEKzKkZyw",
        "outputId": "d4ffa414-4c45-4395-c90d-7cade5e0e0d9"
      },
      "outputs": [],
      "source": [
        "df_from_list.sample(1)"
      ]
    },
    {
      "cell_type": "code",
      "execution_count": null,
      "metadata": {
        "id": "nXZtpztrkZyx",
        "outputId": "a914c837-49f3-454a-96cf-863ef1ec840d"
      },
      "outputs": [],
      "source": [
        "df_from_list.describe()"
      ]
    },
    {
      "cell_type": "code",
      "execution_count": null,
      "metadata": {
        "id": "FNr1kja1kZyx",
        "outputId": "05e58813-7738-4cbc-c135-8b3bec4f9b4d"
      },
      "outputs": [],
      "source": [
        "df_from_list.isna()"
      ]
    },
    {
      "cell_type": "markdown",
      "metadata": {
        "id": "cAKHphkMkZyx"
      },
      "source": [
        "**Accessing the columns of a Pandas `Dataframe`**\n",
        "\n",
        "The column `column_name` of a DataFrame `dataframe_name` can be accessed as `dataframe_name[”column_name”]`. For example"
      ]
    },
    {
      "cell_type": "code",
      "execution_count": null,
      "metadata": {
        "id": "rIRLvTMYkZyx",
        "outputId": "53e45afc-7a52-4f78-9b86-941e99d5a9f7"
      },
      "outputs": [],
      "source": [
        "df_from_list[\"Age\"]"
      ]
    },
    {
      "cell_type": "code",
      "execution_count": null,
      "metadata": {
        "id": "pDyIFYwrkZyx",
        "outputId": "615226f2-66b8-4738-d2cf-5ca14794ef1b"
      },
      "outputs": [],
      "source": [
        "print(type(df_from_list[\"Age\"]))"
      ]
    },
    {
      "cell_type": "markdown",
      "metadata": {
        "id": "MtetwympkZyy"
      },
      "source": [
        "The snippet above returns a Pandas object called a `Series`. Where the `DataFrame` is (at least) a two-dimensional object, a `Series` is instead a one-dimensional object. One can say that a `DataFrame` is a *container* for several `Series`, that correspond to the `DataFrame` columns.\n",
        "\n",
        "**Please note**: the Series contains only the data of the column. It does not contain the column name available in the `DataFrame` header."
      ]
    },
    {
      "cell_type": "markdown",
      "metadata": {
        "id": "gbqtYTqCkZyy"
      },
      "source": [
        "#### Taking a slice of a Pandas `DataFrame`\n",
        "\n",
        "It is also possible to extract some columns from a `DataFrame` and get a `DataFrame` as a result. This can be achieved as"
      ]
    },
    {
      "cell_type": "code",
      "execution_count": null,
      "metadata": {
        "id": "aJYJJPb7kZyy"
      },
      "outputs": [],
      "source": [
        "df_age_from_list = df_from_list[[\"Age\"]]"
      ]
    },
    {
      "cell_type": "code",
      "execution_count": null,
      "metadata": {
        "id": "JR63541HkZyy",
        "outputId": "f6f1190f-7572-4503-a994-bbcc1568a257"
      },
      "outputs": [],
      "source": [
        "df_age_from_list"
      ]
    },
    {
      "cell_type": "code",
      "execution_count": null,
      "metadata": {
        "id": "85gUFMPekZyy",
        "outputId": "b4428a66-5f66-4768-8eb4-2b60ebb37bc2"
      },
      "outputs": [],
      "source": [
        "print(type(df_age_from_list))"
      ]
    },
    {
      "cell_type": "markdown",
      "metadata": {
        "id": "8cP_SHnLkZyy"
      },
      "source": [
        "**Adding or dropping columns in a `DataFrame`**\n",
        "\n",
        "The snippet below can be used to add a new column to an existing `DataFrame`"
      ]
    },
    {
      "cell_type": "code",
      "execution_count": null,
      "metadata": {
        "id": "ZpY3c_WJkZyy",
        "outputId": "596a9d1f-f694-4cd9-970b-4dc741291f47"
      },
      "outputs": [],
      "source": [
        "df_from_list[\"Country\"]=[\"US\", \"DE\", \"UK\", \"IT\"]\n",
        "df_from_list"
      ]
    },
    {
      "cell_type": "markdown",
      "metadata": {
        "id": "KdWeXRGAkZyy"
      },
      "source": [
        "The snippet instead can be used to drop a column"
      ]
    },
    {
      "cell_type": "code",
      "execution_count": null,
      "metadata": {
        "id": "TJam3PUAkZyz",
        "outputId": "194d386a-9bea-4911-df32-7748470b5d65"
      },
      "outputs": [],
      "source": [
        "df_from_list = df_from_list.drop(\"Country\", axis=1)\n",
        "df_from_list"
      ]
    },
    {
      "cell_type": "markdown",
      "metadata": {
        "id": "KZxsX3IbkZyz"
      },
      "source": [
        "The snippet below remains valid also to drop a row. This can be achieved with `axis=0`."
      ]
    },
    {
      "cell_type": "markdown",
      "metadata": {
        "id": "vEnZuWkzkZyz"
      },
      "source": [
        "**Further `DataFrame` methods**\n",
        "\n",
        "It is possible to add new columns to an existing `DataFrame` named `dataframe_name` with the following methods:\n",
        "- `dataframe_name.map()`: given a mapping dictionary, the method applies element-wise a certain mapping to a `Series` object (as a column)"
      ]
    },
    {
      "cell_type": "code",
      "execution_count": null,
      "metadata": {
        "id": "2JoqLmrgkZyz",
        "outputId": "a3fc0b90-a16b-4dfa-ae5a-00495029ef8c"
      },
      "outputs": [],
      "source": [
        "df_from_list[\"Country\"]=[\"US\", \"DE\", \"UK\", \"IT\"]\n",
        "df_from_list[\"Country_numeric_map\"] = df_from_list[\"Country\"].map({\"US\": 0.0, \"DE\": 1.0, \"UK\": 2.0})\n",
        "df_from_list"
      ]
    },
    {
      "cell_type": "markdown",
      "metadata": {
        "id": "XQgQF8bMkZyz"
      },
      "source": [
        "- `dataframe_name.replace`: it works as the `map` method, but it has the difference that if the `Series` contains a category not mapped in the mapping dictionary, the method simply carries over the unmapped category in the new column (instead of assigning a `NaN` to it)"
      ]
    },
    {
      "cell_type": "code",
      "execution_count": null,
      "metadata": {
        "id": "32g2nyskkZyz",
        "outputId": "db74d43d-68f5-447d-8950-85df2161c105"
      },
      "outputs": [],
      "source": [
        "df_from_list[\"Country_numeric_replace\"] = df_from_list[\"Country\"].replace({\"US\": 0.0, \"DE\": 1.0, \"UK\": 2.0})\n",
        "df_from_list"
      ]
    },
    {
      "cell_type": "markdown",
      "metadata": {
        "id": "FziTX9KNkZyz"
      },
      "source": [
        "- `dataframe_name.apply()`: the method applies a function to all values within a Pandas `Series` or `DataFrame`. The applied function can be either built-in or custom\n",
        "- `dataframe_name.applymap()`: the method applies a built-in or custom function element-wise to a `DataFrame` object\n",
        "- `dataframe_name.iloc()` and `dataframe_name.loc()`: the methods are used to slice a `DataFrame` by filtering on columns and/or rows. `iloc` performs the slicing using indexes or index positions, while `loc` using labels or names"
      ]
    },
    {
      "cell_type": "code",
      "execution_count": null,
      "metadata": {
        "id": "puPzyXy5kZyz",
        "outputId": "329d4fe3-a867-41d6-c6be-3e27408d58c1"
      },
      "outputs": [],
      "source": [
        "# iloc - filter the second row\n",
        "df_from_list.iloc[[1]]"
      ]
    },
    {
      "cell_type": "markdown",
      "metadata": {
        "id": "jh6c7jOWkZy0"
      },
      "source": [
        "Please note that `df_from_list.iloc[1]` would have returned a Pandas `Series` instead of a Pandas `DataFrame`. Furthermore"
      ]
    },
    {
      "cell_type": "code",
      "execution_count": null,
      "metadata": {
        "id": "TrilqaKikZy0",
        "outputId": "fe07c0c2-306b-4639-924a-1d11da48ffca"
      },
      "outputs": [],
      "source": [
        "# iloc - filter the second column\n",
        "df_from_list.iloc[:, 1]"
      ]
    },
    {
      "cell_type": "code",
      "execution_count": null,
      "metadata": {
        "id": "TTSUgkGUkZy0",
        "outputId": "644a3d30-c524-4b5c-b93e-0ce29c61ce83"
      },
      "outputs": [],
      "source": [
        "# iloc - filter just the second, the fourth and the fifth columns\n",
        "df_from_list.iloc[:, [1,3,4]]"
      ]
    },
    {
      "cell_type": "code",
      "execution_count": null,
      "metadata": {
        "id": "Sr2IA8OikZy0",
        "outputId": "640b5723-9af0-43d1-cc55-06b46a705388"
      },
      "outputs": [],
      "source": [
        "# loc - filter the second row\n",
        "df_from_list.loc[[1]]"
      ]
    },
    {
      "cell_type": "markdown",
      "metadata": {
        "id": "qqYNPU0QkZy0"
      },
      "source": [
        "Please note that `df_from_list.loc[1]` would have returned a Pandas `Series` instead of a Pandas `DataFrame`. Furthermore"
      ]
    },
    {
      "cell_type": "code",
      "execution_count": null,
      "metadata": {
        "id": "3a22_41NkZy0",
        "outputId": "5f5a4176-e482-4004-9390-66431dccea5e"
      },
      "outputs": [],
      "source": [
        "# loc - filter the second column\n",
        "df_from_list.loc[:, \"Age\"]"
      ]
    },
    {
      "cell_type": "code",
      "execution_count": null,
      "metadata": {
        "id": "vqbxv6eZkZy0",
        "outputId": "fcde6d11-973f-4bda-90b3-78a9aaf05e57"
      },
      "outputs": [],
      "source": [
        "# loc - filter just the second, the fourth and the fifth columns\n",
        "df_from_list.loc[:, [\"Age\", \"Country\", \"Country_numeric_map\"]]"
      ]
    },
    {
      "cell_type": "markdown",
      "metadata": {
        "id": "HOAqSL42kZy0"
      },
      "source": [
        "- `dataframe_name.rename()`: the method renames a column, by means of a mapping dictionary"
      ]
    },
    {
      "cell_type": "code",
      "execution_count": null,
      "metadata": {
        "id": "Mvtq155HkZy1",
        "outputId": "940f6208-ee11-414c-e296-a55457f10833",
        "scrolled": true
      },
      "outputs": [],
      "source": [
        "df_from_list.rename(columns={\"Age\": \"Age_renamed\"})"
      ]
    },
    {
      "cell_type": "markdown",
      "metadata": {
        "id": "AVh8Z_TvkZy1"
      },
      "source": [
        "**Merging and aggregating  `DataFrame`**\n",
        "\n",
        "The `merge` function in Pandas performs on `DataFrame` the equivalent operations of an SQL join. Given two dataframes, the merge happens along shared column/s that exist in both of them. The basic syntax is `pd.merge(df_a ,df_b ,how=”type_of_join”,on=”col_name”)`. The full documentation is available at this [link](https://pandas.pydata.org/pandas-docs/stable/reference/api/pandas.merge.html).\n",
        "\n",
        "Pandas allows to perform `groupby` operations. They involve grouping by a column, applying an aggregating function and combining the results. Given the following `DataFrame`"
      ]
    },
    {
      "cell_type": "code",
      "execution_count": null,
      "metadata": {
        "id": "Wj7_NPRykZy1",
        "outputId": "d78cceb9-d18c-4341-9e75-66887811ed05"
      },
      "outputs": [],
      "source": [
        "data_dictionary = {\n",
        "    'Name': ['John', 'Paul', 'Tom', 'Bob', 'Ronan',\n",
        "                    'Kirby', 'Sarah', 'Joe', 'Donald', 'Jeffrey'],\n",
        "    'Department': ['Administration', 'Marketing', 'Technical', 'Technical', 'Marketing',\n",
        "                          'Administration', 'Technical', 'Marketing', 'Technical', 'Administration'],\n",
        "    'Employment Type': ['Full-time', 'Intern', 'Intern', 'Part-time', 'Part-time',\n",
        "                               'Full-time', 'Full-time', 'Intern', 'Intern', 'Full-time'],\n",
        "    'Salary': [12, 50, 700, 700, 550,\n",
        "                      12, 1250, 600, 111, 12]}\n",
        "\n",
        "# Create the DataFrame\n",
        "df = pd.DataFrame(data_dictionary)\n",
        "df"
      ]
    },
    {
      "cell_type": "markdown",
      "metadata": {
        "id": "YFP5xHY8kZy1"
      },
      "source": [
        "the snippet below groups column `Salary` by column `Department` and applies a `sum`"
      ]
    },
    {
      "cell_type": "code",
      "execution_count": null,
      "metadata": {
        "id": "zcORwTt7kZy1",
        "outputId": "ada00278-9d08-4dad-d216-51f8365f4964"
      },
      "outputs": [],
      "source": [
        "df.groupby(\"Department\")[\"Salary\"].sum()"
      ]
    },
    {
      "cell_type": "markdown",
      "metadata": {
        "id": "jlxie6eXkZy1"
      },
      "source": [
        "or the snippet below groups column `Department` by column `Employment Type` and counts the occurences"
      ]
    },
    {
      "cell_type": "code",
      "execution_count": null,
      "metadata": {
        "id": "7CIdkRohkZy1",
        "outputId": "bda1b8b1-d65a-4eb3-fa19-b3b8f1df9190"
      },
      "outputs": [],
      "source": [
        "df.groupby(\"Employment Type\")[\"Department\"].count()"
      ]
    },
    {
      "cell_type": "markdown",
      "metadata": {
        "id": "BdrajbP0kZy1"
      },
      "source": [
        "### Additional Resources\n"
      ]
    },
    {
      "cell_type": "markdown",
      "metadata": {},
      "source": [
        "- [Numpy website](https://numpy.org/)\n",
        "- [Pandas website](https://pandas.pydata.org/)"
      ]
    },
    {
      "cell_type": "markdown",
      "metadata": {
        "id": "gfSBLXN6kZy2"
      },
      "source": [
        "### Exercises\n"
      ]
    },
    {
      "cell_type": "markdown",
      "metadata": {
        "id": "dJRB9NZikZy2"
      },
      "source": [
        "**Exercises on Numpy**"
      ]
    },
    {
      "cell_type": "markdown",
      "metadata": {
        "id": "oFL5VJ26kZy2"
      },
      "source": [
        "**Exercise 1** - write a program that:\n",
        "\n",
        "- creates a *vector* (one-dimensional `ndarray`) called `vector_1`, containing five ones\n",
        "- multiplies `vector_1` by the *scalar* three\n",
        "- add the *scalar* two to `vector_1`\n",
        "- creates a *vector* (one-dimensional `ndarray`) called `vector_2`, containing all the numbers from 1 to 5 (with the extremes included)\n",
        "- vertically stack `vector_1` and `vector_2`\n",
        "- horizontally stack `vector_1` and `vector_2`"
      ]
    },
    {
      "cell_type": "code",
      "execution_count": null,
      "metadata": {
        "id": "0IulwRtCkZy2"
      },
      "outputs": [],
      "source": [
        "# please provide your code here"
      ]
    },
    {
      "cell_type": "code",
      "execution_count": null,
      "metadata": {
        "id": "OgIFL2XYkZy2"
      },
      "outputs": [],
      "source": [
        "# please provide your code here"
      ]
    },
    {
      "cell_type": "code",
      "execution_count": null,
      "metadata": {
        "id": "-mGRl7oCkZy2"
      },
      "outputs": [],
      "source": [
        "# please provide your code here"
      ]
    },
    {
      "cell_type": "code",
      "execution_count": null,
      "metadata": {
        "id": "NuEBy3-ZkZy2"
      },
      "outputs": [],
      "source": [
        "# please provide your code here"
      ]
    },
    {
      "cell_type": "code",
      "execution_count": null,
      "metadata": {
        "id": "NT-i7DVNkZy2"
      },
      "outputs": [],
      "source": [
        "# please provide your code here"
      ]
    },
    {
      "cell_type": "code",
      "execution_count": null,
      "metadata": {
        "id": "pe8a8eCnkZy3"
      },
      "outputs": [],
      "source": [
        "# please provide your code here"
      ]
    },
    {
      "cell_type": "markdown",
      "metadata": {
        "id": "pO4M772JkZy3"
      },
      "source": [
        "**Exercise 2** - using the snippet below, create a five-by-five matrix (two-dimensional `ndarray`) of randomly generated numbers. Afterwards, write a code that:\n",
        "- prints the first row\n",
        "- prints the third and fourth columns\n",
        "- prints the last element of the last row"
      ]
    },
    {
      "cell_type": "code",
      "execution_count": null,
      "metadata": {
        "id": "LsQXAe7BkZy3",
        "outputId": "4bdc8903-57a6-42ac-d69d-95850da98cbd"
      },
      "outputs": [],
      "source": [
        "# Run this cell for the exercise\n",
        "# This snippet creates a five-by-five matrix (two-dimensional ndarray) of randomly generated numbers\n",
        "# Please, do NOT modify this cell\n",
        "matrix_five_five = np.random.randint(1, 100, size = (5,5))\n",
        "matrix_five_five"
      ]
    },
    {
      "cell_type": "code",
      "execution_count": null,
      "metadata": {
        "id": "NPHdycyikZy3"
      },
      "outputs": [],
      "source": [
        "# please provide your code here"
      ]
    },
    {
      "cell_type": "code",
      "execution_count": null,
      "metadata": {
        "id": "43K_Li0YkZy3"
      },
      "outputs": [],
      "source": [
        "# please provide your code here"
      ]
    },
    {
      "cell_type": "code",
      "execution_count": null,
      "metadata": {
        "id": "pIPssOqDkZy3"
      },
      "outputs": [],
      "source": [
        "# please provide your code here"
      ]
    },
    {
      "cell_type": "markdown",
      "metadata": {
        "id": "aVGeBmC8kZy3"
      },
      "source": [
        "**Exercise on Pandas**"
      ]
    },
    {
      "cell_type": "markdown",
      "metadata": {
        "id": "_5p6ByPZkZy4"
      },
      "source": [
        "**Exercise 3** - using the snippet below to create a Pandas `DataFrame` `df_exercise`, write a code that:\n",
        "- checks the *shape* of the `DataFrame`\n",
        "- prints the first two rows\n",
        "- prints the last two rows\n",
        "- samples two rows from the `DataFrame`\n",
        "- describes the data\n",
        "- checks if the DataFrame contains `NaN` values"
      ]
    },
    {
      "cell_type": "code",
      "execution_count": null,
      "metadata": {
        "id": "-DueJoUpkZy4",
        "outputId": "b60eada3-84dd-4848-8d80-b1bfd9fff2f5"
      },
      "outputs": [],
      "source": [
        "# Run this cell for the exercise\n",
        "# This snippet creates a Pandas Dataframe\n",
        "# Please, do NOT modify this cell\n",
        "data_list_exercise = [[\"Lagos\", 8, \"Nigeria\"], [\"Santiago de Chile\", 6, \"Chile\"], [\"Sydney\", 5, \"Australia\"], [\"Hanoi\", 8, \"Vietnam\"]]\n",
        "data_column_name_exercise = [\"City\", \"Population (Millions)\", \"Country\"]\n",
        "df_exercise = pd.DataFrame(data_list_exercise, columns=data_column_name_exercise)\n",
        "df_exercise"
      ]
    },
    {
      "cell_type": "code",
      "execution_count": null,
      "metadata": {
        "id": "6xVqevxykZy4"
      },
      "outputs": [],
      "source": [
        "# please provide your code here"
      ]
    },
    {
      "cell_type": "code",
      "execution_count": null,
      "metadata": {
        "id": "7NdxK4nHkZy4"
      },
      "outputs": [],
      "source": [
        "# please provide your code here"
      ]
    },
    {
      "cell_type": "code",
      "execution_count": null,
      "metadata": {
        "id": "ZqbqZP8PkZy4"
      },
      "outputs": [],
      "source": [
        "# please provide your code here"
      ]
    },
    {
      "cell_type": "code",
      "execution_count": null,
      "metadata": {
        "id": "oTf3OwuJkZy4"
      },
      "outputs": [],
      "source": [
        "# please provide your code here"
      ]
    },
    {
      "cell_type": "code",
      "execution_count": null,
      "metadata": {
        "id": "IXO8fKvOkZy4"
      },
      "outputs": [],
      "source": [
        "# please provide your code here"
      ]
    },
    {
      "cell_type": "code",
      "execution_count": null,
      "metadata": {
        "id": "C9U-3qL5kZy5"
      },
      "outputs": [],
      "source": [
        "# please provide your code here"
      ]
    },
    {
      "cell_type": "markdown",
      "metadata": {
        "id": "Q29eShXkkZy5"
      },
      "source": [
        "**Exercise 4** - write a code that modifies `df_exercise` by:\n",
        "- adding a column `Continent` that maps `Nigeria -> Africa`, `Chile -> America`, `Australia -> Oceania` and `Vietnam -> Asia`\n",
        "- and that filters the second row of the `DataFrame`"
      ]
    },
    {
      "cell_type": "code",
      "execution_count": null,
      "metadata": {
        "id": "JP2WB79IkZy5"
      },
      "outputs": [],
      "source": [
        "# please provide your code here"
      ]
    },
    {
      "cell_type": "code",
      "execution_count": null,
      "metadata": {
        "id": "2wQqSrXSkZy5"
      },
      "outputs": [],
      "source": [
        "# please provide your code here"
      ]
    },
    {
      "cell_type": "markdown",
      "metadata": {},
      "source": [
        "### \n",
        "---"
      ]
    }
  ],
  "metadata": {
    "colab": {
      "provenance": []
    },
    "kernelspec": {
      "display_name": "flex_training_env",
      "language": "python",
      "name": "python3"
    },
    "language_info": {
      "codemirror_mode": {
        "name": "ipython",
        "version": 3
      },
      "file_extension": ".py",
      "mimetype": "text/x-python",
      "name": "python",
      "nbconvert_exporter": "python",
      "pygments_lexer": "ipython3",
      "version": "3.10.16"
    }
  },
  "nbformat": 4,
  "nbformat_minor": 0
}
