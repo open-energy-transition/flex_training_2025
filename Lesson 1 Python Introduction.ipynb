{
  "cells": [
    {
      "cell_type": "markdown",
      "metadata": {},
      "source": [
        "### 📘 Lesson 1: Introduction to Python"
      ]
    },
    {
      "cell_type": "markdown",
      "metadata": {},
      "source": [
        "<div style=\"display: flex; align-items: center; justify-content: space-between;\">\n",
        "  <div>\n",
        "    <h3>Notebook Developers</h3>\n",
        "    <ul>\n",
        "      <li><strong>Dr. Fabrizio Finozzi</strong> - Big Data Software Developer</li>\n",
        "      <li><strong>Priyesh Gosai</strong> - Energy Systems Modeler and Training Coordinator</li>\n",
        "    </ul>\n",
        "  </div>\n",
        "  <div>\n",
        "    <a href=\"https://openenergytransition.org/index.html\">\n",
        "      <img src=\"https://openenergytransition.org/assets/img/oet-logo-red-n-subtitle.png\" height=\"60\" alt=\"OET\">\n",
        "    </a>\n",
        "  </div>\n",
        "</div>\n"
      ]
    },
    {
      "cell_type": "markdown",
      "metadata": {},
      "source": [
        "##### 🎯 Learning Objectives  \n",
        "\n",
        "* Gain an understanding of Python.\n",
        "* Learn about variables and data types.\n",
        "* Explore the structure and application of conditional statements and loops.\n",
        "* Develop and utilize functions.\n",
        "\n"
      ]
    },
    {
      "cell_type": "markdown",
      "metadata": {
        "id": "SSCmzsdX5VJT"
      },
      "source": [
        "### Python\n",
        "---\n",
        "Python is a multi-purposed **programming language**. It allows all sorts of activities from building web applications, to coding computer games, to machine learning projects and solving optimization problems (as power system modeling). It is moreover free to use, easy to learn and has a well written documentation and a wide community of contributors.\n",
        "\n",
        "\n"
      ]
    },
    {
      "cell_type": "code",
      "execution_count": 39,
      "metadata": {
        "id": "d3qJJn2oWeIZ"
      },
      "outputs": [
        {
          "name": "stdout",
          "output_type": "stream",
          "text": [
            "Welcome\n"
          ]
        }
      ],
      "source": [
        "print('Welcome')"
      ]
    },
    {
      "cell_type": "code",
      "execution_count": null,
      "metadata": {},
      "outputs": [],
      "source": [
        "\n"
      ]
    },
    {
      "cell_type": "markdown",
      "metadata": {},
      "source": [
        "### Python packages\n",
        "---\n",
        "\n",
        "Python offers also a wide range of packages that provide pre-built and tested functions that can be imported in your code. As of July 2024, the Python Package Index [PyPI](https://pypi.org/) (the official repository of software for the Python programming language), contains over 100000 projects."
      ]
    },
    {
      "cell_type": "markdown",
      "metadata": {},
      "source": [
        "📥 **Import packages**"
      ]
    },
    {
      "cell_type": "code",
      "execution_count": 40,
      "metadata": {},
      "outputs": [],
      "source": [
        "import numpy as np\n",
        "import pandas as pd\n"
      ]
    },
    {
      "cell_type": "markdown",
      "metadata": {
        "id": "cHK-V-Ah5VJU"
      },
      "source": [
        "### Variable names\n",
        "---"
      ]
    },
    {
      "cell_type": "markdown",
      "metadata": {
        "id": "ivx53hYl5VJV"
      },
      "source": [
        "Every Python variable has a unique name and a value. A variable comes into existence as a result of assigning a value to it. The assign operator is the `=`. For example"
      ]
    },
    {
      "cell_type": "code",
      "execution_count": 41,
      "metadata": {
        "id": "bA_ed9Rf5VJV"
      },
      "outputs": [],
      "source": [
        "variable = \"something\""
      ]
    },
    {
      "cell_type": "markdown",
      "metadata": {},
      "source": [
        "Display the variable"
      ]
    },
    {
      "cell_type": "code",
      "execution_count": 42,
      "metadata": {},
      "outputs": [
        {
          "name": "stdout",
          "output_type": "stream",
          "text": [
            "something\n"
          ]
        }
      ],
      "source": [
        "print(variable)"
      ]
    },
    {
      "cell_type": "markdown",
      "metadata": {},
      "source": []
    },
    {
      "cell_type": "code",
      "execution_count": 43,
      "metadata": {},
      "outputs": [],
      "source": [
        "variable = \"nothing\""
      ]
    },
    {
      "cell_type": "markdown",
      "metadata": {
        "id": "Z9FVuAS45VJW"
      },
      "source": [
        "### Data types\n",
        "---"
      ]
    },
    {
      "cell_type": "markdown",
      "metadata": {
        "id": "hGgtc1VT5VJY"
      },
      "source": [
        "Python offers the following built-in data types to store data into variables. A more comprehensive list is available at this [page](https://docs.python.org/3/library/stdtypes.html).\n",
        "\n",
        "\n",
        "The function `type()` can be used to return the `Python representation`."
      ]
    },
    {
      "cell_type": "code",
      "execution_count": 44,
      "metadata": {},
      "outputs": [
        {
          "name": "stdout",
          "output_type": "stream",
          "text": [
            "string\n",
            "<class 'str'>\n"
          ]
        }
      ],
      "source": [
        "text_type = 'string'\n",
        "\n",
        "print(text_type)\n",
        "print(type(text_type))\n"
      ]
    },
    {
      "cell_type": "code",
      "execution_count": 45,
      "metadata": {},
      "outputs": [
        {
          "name": "stdout",
          "output_type": "stream",
          "text": [
            "3.14\n",
            "<class 'float'>\n"
          ]
        }
      ],
      "source": [
        "numeric_type_float = 3.14\n",
        "\n",
        "print(numeric_type_float)\n",
        "print(type(numeric_type_float))\n"
      ]
    },
    {
      "cell_type": "code",
      "execution_count": 46,
      "metadata": {},
      "outputs": [
        {
          "name": "stdout",
          "output_type": "stream",
          "text": [
            "1\n",
            "<class 'int'>\n"
          ]
        }
      ],
      "source": [
        "numeric_type_int = int(1)\n",
        "\n",
        "print(numeric_type_int)\n",
        "print(type(numeric_type_int))"
      ]
    },
    {
      "cell_type": "code",
      "execution_count": 47,
      "metadata": {},
      "outputs": [
        {
          "name": "stdout",
          "output_type": "stream",
          "text": [
            "(4+5j)\n",
            "<class 'complex'>\n"
          ]
        }
      ],
      "source": [
        "numeric_type_complex =  4 + 5j\n",
        "\n",
        "print(numeric_type_complex )\n",
        "print(type(numeric_type_complex ))\n"
      ]
    },
    {
      "cell_type": "code",
      "execution_count": 48,
      "metadata": {},
      "outputs": [
        {
          "name": "stdout",
          "output_type": "stream",
          "text": [
            "True\n",
            "<class 'bool'>\n"
          ]
        }
      ],
      "source": [
        "boolean_type = True # or False\n",
        "\n",
        "print(boolean_type )\n",
        "print(type(boolean_type ))\n"
      ]
    },
    {
      "cell_type": "code",
      "execution_count": 49,
      "metadata": {},
      "outputs": [
        {
          "name": "stdout",
          "output_type": "stream",
          "text": [
            "None\n",
            "<class 'NoneType'>\n"
          ]
        }
      ],
      "source": [
        "none_type = None\n",
        "\n",
        "print(none_type)\n",
        "print(type(none_type))\n"
      ]
    },
    {
      "cell_type": "markdown",
      "metadata": {},
      "source": [
        "Collection types"
      ]
    },
    {
      "cell_type": "code",
      "execution_count": 50,
      "metadata": {},
      "outputs": [
        {
          "name": "stdout",
          "output_type": "stream",
          "text": [
            "['Bruno Fernandes', 'Andre Onana', 'Harry Maguire', 'Lisandro Martínez', 'Rasmus Højlund', 1.0]\n",
            "<class 'list'>\n",
            "6\n",
            "Bruno Fernandes\n",
            "Lisandro Martínez\n",
            "1.0\n"
          ]
        }
      ],
      "source": [
        "# List of Manchester United players\n",
        "list_collection = [\"Bruno Fernandes\",\"Andre Onana\",\"Harry Maguire\",\"Lisandro Martínez\",\"Rasmus Højlund\",1.0]\n",
        "\n",
        "print(list_collection)\n",
        "\n",
        "print(type(list_collection))\n",
        "\n",
        "print(len(list_collection))\n",
        "\n",
        "print(list_collection[0])\n",
        "\n",
        "print(list_collection[3])\n",
        "\n",
        "print(list_collection[-1])"
      ]
    },
    {
      "cell_type": "code",
      "execution_count": null,
      "metadata": {},
      "outputs": [],
      "source": []
    },
    {
      "cell_type": "code",
      "execution_count": 51,
      "metadata": {},
      "outputs": [],
      "source": [
        "list_collection[3] = 'Priyesh Gosai'       "
      ]
    },
    {
      "cell_type": "code",
      "execution_count": 52,
      "metadata": {},
      "outputs": [
        {
          "name": "stdout",
          "output_type": "stream",
          "text": [
            "['Bruno Fernandes', 'Andre Onana', 'Harry Maguire', 'Priyesh Gosai', 'Rasmus Højlund', 1.0]\n"
          ]
        }
      ],
      "source": [
        "print(list_collection)"
      ]
    },
    {
      "cell_type": "code",
      "execution_count": 53,
      "metadata": {},
      "outputs": [
        {
          "name": "stdout",
          "output_type": "stream",
          "text": [
            "('Pelé', 'Diego Maradona', 'Lionel Messi', 'Cristiano Ronaldo', 'Johan Cruyff', 'Zinedine Zidane', 'Ronaldo Nazário', 'Michel Platini', 'Franz Beckenbauer', 'George Best')\n",
            "<class 'tuple'>\n"
          ]
        }
      ],
      "source": [
        "# Tuple of the greatest footballers of all time\n",
        "\n",
        "tuple_collection = (\n",
        "    \"Pelé\",\n",
        "    \"Diego Maradona\",\n",
        "    \"Lionel Messi\",\n",
        "    \"Cristiano Ronaldo\",\n",
        "    \"Johan Cruyff\",\n",
        "    \"Zinedine Zidane\",\n",
        "    \"Ronaldo Nazário\",\n",
        "    \"Michel Platini\",\n",
        "    \"Franz Beckenbauer\",\n",
        "    \"George Best\"\n",
        ")\n",
        "\n",
        "print(tuple_collection)\n",
        "print(type(tuple_collection))"
      ]
    },
    {
      "cell_type": "code",
      "execution_count": null,
      "metadata": {},
      "outputs": [],
      "source": []
    },
    {
      "cell_type": "code",
      "execution_count": 54,
      "metadata": {},
      "outputs": [
        {
          "name": "stdout",
          "output_type": "stream",
          "text": [
            "{'Uranium', 'Hydrogen', 'Carbon', 'Gold', 'Oxygen', 'Iron'}\n",
            "<class 'set'>\n"
          ]
        }
      ],
      "source": [
        "# A set of the periodic table of elements\n",
        "set_collection = {\"Hydrogen\", \"Oxygen\", \"Carbon\", \"Iron\", \"Gold\", \"Uranium\"}\n",
        "\n",
        "print(set_collection)\n",
        "print(type(set_collection))"
      ]
    },
    {
      "cell_type": "code",
      "execution_count": 57,
      "metadata": {},
      "outputs": [],
      "source": [
        "set_collection.add('Hydrogen')"
      ]
    },
    {
      "cell_type": "code",
      "execution_count": 58,
      "metadata": {},
      "outputs": [
        {
          "name": "stdout",
          "output_type": "stream",
          "text": [
            "{'Uranium', 'Hydrogen', 'Carbon', 'Gold', 'Oxygen', 'Iron'}\n"
          ]
        }
      ],
      "source": [
        "print(set_collection)"
      ]
    },
    {
      "cell_type": "code",
      "execution_count": 61,
      "metadata": {},
      "outputs": [
        {
          "data": {
            "text/plain": [
              "{'Carbon', 'Gold', 'Hydrogen', 'Iron', 'Oxygen', 'Uranium'}"
            ]
          },
          "execution_count": 61,
          "metadata": {},
          "output_type": "execute_result"
        }
      ],
      "source": [
        "set_collection"
      ]
    },
    {
      "cell_type": "code",
      "execution_count": 55,
      "metadata": {},
      "outputs": [
        {
          "name": "stdout",
          "output_type": "stream",
          "text": [
            "{'Aardvark': 'A nocturnal burrowing mammal native to Africa.', 'Abacus': 'A device used for arithmetic calculations.', 'Abandon': 'To leave something or someone completely.'}\n",
            "<class 'dict'>\n",
            "<class 'dict'>\n",
            "A nocturnal burrowing mammal native to Africa.\n",
            "dict_keys(['Aardvark', 'Abacus', 'Abandon', 'Delulu', 'Pi'])\n"
          ]
        }
      ],
      "source": [
        "# Dictionary\n",
        "dictionary_collection = {\n",
        "    \"Aardvark\": \"A nocturnal burrowing mammal native to Africa.\",\n",
        "    \"Abacus\": \"A device used for arithmetic calculations.\",\n",
        "    \"Abandon\": \"To leave something or someone completely.\"\n",
        "}\n",
        "print(dictionary_collection)\n",
        "print(type(dictionary_collection))\n",
        "\n",
        "print(type(dictionary_collection))\n",
        "\n",
        "print(dictionary_collection[\"Aardvark\"])\n",
        "\n",
        "dictionary_collection[\"Abacus\"] = \"An ancient device used for arithmetic calculations.\"\n",
        "\n",
        "dictionary_collection[\"Delulu\"] = \"Unrealistically hopeful, overly optimistic, or detached from reality, often in a humorous or exaggerated way.\"\n",
        "\n",
        "dictionary_collection[\"Pi\"] = {\n",
        "                                \"definition\": \"\",\n",
        "                                \"value\" : np.pi}\n",
        "\n",
        "\n",
        "print(dictionary_collection.keys())"
      ]
    },
    {
      "cell_type": "code",
      "execution_count": 56,
      "metadata": {},
      "outputs": [
        {
          "name": "stdout",
          "output_type": "stream",
          "text": [
            "{'Aardvark': 'A nocturnal burrowing mammal native to Africa.', 'Abacus': 'An ancient device used for arithmetic calculations.', 'Abandon': 'To leave something or someone completely.', 'Delulu': 'Unrealistically hopeful, overly optimistic, or detached from reality, often in a humorous or exaggerated way.', 'Pi': {'definition': '', 'value': 3.141592653589793}}\n"
          ]
        }
      ],
      "source": [
        "print(dictionary_collection)"
      ]
    },
    {
      "cell_type": "markdown",
      "metadata": {
        "id": "UedG9tsJ5VJj"
      },
      "source": [
        "### Conditional operators\n",
        "---"
      ]
    },
    {
      "cell_type": "markdown",
      "metadata": {
        "id": "oSo80o0t5VJj"
      },
      "source": [
        "The building blocks of conditional statements are the conditional operators. Namely:\n",
        "- **Equality operator**: it is the operator `==`. The operator needs two arguments and checks if they are equal. If the two arguments are equal it returns `True`. If they are not equal, it returns `False`. Please do not confuse it with the **assignment operator** `=`\n",
        "- **Inequality operator**: it is the operator `!=`. If the two arguments are equal it returns `False`. If they are **not** equal, it returns `True`.\n",
        "- **Greater or greater equal**: they are respectively the operators `>` and `>=`\n",
        "- **Lower or lower equal**: they are respectively the operators `<` and `<=`\n"
      ]
    },
    {
      "cell_type": "markdown",
      "metadata": {
        "id": "HkgVI61O5VJj"
      },
      "source": [
        "### If statement"
      ]
    },
    {
      "cell_type": "markdown",
      "metadata": {
        "id": "uk2xeDIR5VJj"
      },
      "source": [
        "The `if` statement appearance is"
      ]
    },
    {
      "cell_type": "code",
      "execution_count": 62,
      "metadata": {
        "id": "HVzZuWBZ5VJj"
      },
      "outputs": [],
      "source": [
        "variable_a = 100"
      ]
    },
    {
      "cell_type": "code",
      "execution_count": 64,
      "metadata": {
        "id": "XDTNeYw65VJj"
      },
      "outputs": [
        {
          "name": "stdout",
          "output_type": "stream",
          "text": [
            "variable_a is equal to or greater than 100\n"
          ]
        }
      ],
      "source": [
        "if variable_a < 5:\n",
        "    print(\"variable_a is less than 5\")\n",
        "elif 5 <= variable_a < 50:\n",
        "    print(\"variable_a is between (or equal to) 5 and less than 50\")\n",
        "elif 50 <= variable_a < 100:\n",
        "    print(\"variable_a is between (or equal to) 50 and less than 100\")\n",
        "else:\n",
        "    print(\"variable_a is equal to or greater than 100\")"
      ]
    },
    {
      "cell_type": "markdown",
      "metadata": {
        "id": "R-RBWqAW5VJj"
      },
      "source": [
        "The `if` statement consists of the following, `strictly` necessary, elements in this and this order only:\n",
        "- the `if` keyword\n",
        "- a condition (a question or an answer) whose value will be interpreted solely in terms of `True` and `False`\n",
        "- a colon `:` followed by a newline\n",
        "- an indented instruction or set of instructions (at least one instruction is absolutely required). The indentation may be achieved in two ways - by inserting a particular number of spaces (the recommendation is to use four spaces of indentation), or by using the tab character."
      ]
    },
    {
      "cell_type": "markdown",
      "metadata": {
        "id": "-NZ4ncR65VJk"
      },
      "source": [
        "The `if` statement may also consists of the following elements in this and this order only:\n",
        "- the `elif` keyword is used to check more than one condition. An `if` statement may contain one or more `elif` statements. An `elif` statement is activated when all previously listed conditions are `False`\n",
        "- the `else` statement is executed when none of the previous conditions (of the `if` or `elif`) is `True`. Such statement is optional and may be omitted. It is however recommended to use it.\n",
        "\n",
        "The `elif` or `else` conditions are commonly refer to as `elif` or `else` branch."
      ]
    },
    {
      "cell_type": "markdown",
      "metadata": {
        "id": "cPMaP4l05VJk"
      },
      "source": [
        "### Loops\n",
        "---"
      ]
    },
    {
      "cell_type": "markdown",
      "metadata": {
        "id": "yN8W35aj5VJk"
      },
      "source": [
        "It is sometimes necessary to repeat an operation several times. Python therefore provides looping techniques. The main ones are the `for` and `while` loops.\n",
        "\n",
        "A `for` loop repeats an operation as many times as specified. A `while` loop instead repeats an operation as long as an expression remains `True`."
      ]
    },
    {
      "cell_type": "markdown",
      "metadata": {
        "id": "hEfBPaI15VJk"
      },
      "source": [
        "#### for loop\n",
        "\n",
        "The `for` loop allows the browsing of large collections of data item by item. It is made up the following elements:\n",
        "- the `for` keyword opens the loop\n",
        "- any variable after the for keyword is the control variable of the loop. Such variable automatically counts the loop’s turns\n",
        "- the `in` keyword introduces a syntax element describing the range of possible values being assigned to the control variable\n",
        "- the `range()` function generates the values (by default in ascending order) of the control variable, from 0 to one step prior to the value of its argument. For example `range(2)` generates `0, 1`. Instead `range(1,2)`, only generates `1`. Other examples are `range(2,8,3)`, which generates `2, 5` or `range(-1,2)`, which generates `-1, 0, 1`\n",
        "- Python demands at least one instruction for the loop’s body. If you do not have any then put the instruction `pass`, which simply continues the loop\n",
        "- **break**, **continue** and **pass**: they are three keywords. `break` exits the loop immediately and unconditionally ends the loop’s operation. The program begins to execute the nearest instruction after the loop’s body. `continue` behaves as if the program has suddenly reached the end of the body. The next iteration in the loop is started and the condition expression is tested immediately. `pass` instead simply does nothing\n",
        "\n",
        "Please find below some examples of `for` loops."
      ]
    },
    {
      "cell_type": "code",
      "execution_count": 65,
      "metadata": {
        "id": "dS-KXnHh5VJk"
      },
      "outputs": [
        {
          "name": "stdout",
          "output_type": "stream",
          "text": [
            "0\n",
            "1\n",
            "2\n",
            "3\n",
            "4\n",
            "5\n"
          ]
        }
      ],
      "source": [
        "for i in range(0, 6):\n",
        "    print(i)"
      ]
    },
    {
      "cell_type": "code",
      "execution_count": 66,
      "metadata": {
        "id": "hRb-wgkC5VJk"
      },
      "outputs": [],
      "source": [
        "for i in range(0, 6):\n",
        "    pass"
      ]
    },
    {
      "cell_type": "code",
      "execution_count": 68,
      "metadata": {
        "id": "f7KIg8Cs5VJk"
      },
      "outputs": [
        {
          "name": "stdout",
          "output_type": "stream",
          "text": [
            "0\n",
            "1\n",
            "2\n",
            "3\n",
            "5\n"
          ]
        }
      ],
      "source": [
        "for i in range(0, 6):\n",
        "    if i == 4:\n",
        "        pass\n",
        "    else:\n",
        "        print(i)"
      ]
    },
    {
      "cell_type": "code",
      "execution_count": 69,
      "metadata": {},
      "outputs": [
        {
          "name": "stdout",
          "output_type": "stream",
          "text": [
            "Aardvark A nocturnal burrowing mammal native to Africa.\n",
            "Abacus An ancient device used for arithmetic calculations.\n",
            "Abandon To leave something or someone completely.\n",
            "Delulu Unrealistically hopeful, overly optimistic, or detached from reality, often in a humorous or exaggerated way.\n",
            "Pi {'definition': '', 'value': 3.141592653589793}\n"
          ]
        }
      ],
      "source": [
        "for key in dictionary_collection:\n",
        "    print(key,dictionary_collection[key])"
      ]
    },
    {
      "cell_type": "markdown",
      "metadata": {
        "id": "PyUTzwvX5VJl"
      },
      "source": [
        "#### while loop"
      ]
    },
    {
      "cell_type": "markdown",
      "metadata": {
        "id": "7RLcPnQO5VJl"
      },
      "source": [
        "A `while` loop depends on the verification of a boolean condition, which is checked at the start or at the end of the loop construct. For example"
      ]
    },
    {
      "cell_type": "code",
      "execution_count": null,
      "metadata": {
        "id": "fpP0tbuG5VJl"
      },
      "outputs": [],
      "source": [
        "variable_a = 0\n",
        "while variable_a < 5:\n",
        "    print(variable_a)\n",
        "    variable_a += 1"
      ]
    },
    {
      "cell_type": "markdown",
      "metadata": {
        "id": "MIF6eKQB5VJl"
      },
      "source": [
        "`while` and `for` loops may have the `else` branch too. The loop’s `else` branch is always executed once, regardless of whether the loop has entered its body or not."
      ]
    },
    {
      "cell_type": "code",
      "execution_count": null,
      "metadata": {
        "id": "2ajITlXl5VJl"
      },
      "outputs": [],
      "source": [
        "variable_a = 1\n",
        "while variable_a < 6:\n",
        "    print(variable_a)\n",
        "    variable_a += 1\n",
        "else:\n",
        "    print(\"variable_a is greater than 5\")"
      ]
    },
    {
      "cell_type": "markdown",
      "metadata": {
        "id": "kZ5gkGAL5VJl"
      },
      "source": [
        "### Functions\n",
        "\n",
        "---"
      ]
    },
    {
      "cell_type": "markdown",
      "metadata": {
        "id": "BwlCEznn5VJl"
      },
      "source": [
        "Functions are blocks of the computer code that can be `name-tagged`, so that they be easily executed as many times as needed.\n",
        "\n",
        "Functions are usually coming from:\n",
        "- **Python itself**: such functions are usually referred to as `built-in` and are coming from Python itself. The `print` function is one of this kind\n",
        "- **Modules/Packages**: they may come from one or more of Python’s add-ons named modules/packages. Some of the modules/packages come with the default Python installation, whereas others may require separate installation\n",
        "- **Custom**: each developer can write his/her own functions within the code\n",
        "\n",
        "**Structure of functions**\n",
        "\n",
        "A Python function definition starts with the `def` keyword. Moreover, a function may have/require a number of arguments. Finally the standard convention in Python is that all functions must have opening and closing parentheses after their names. For example `print()`. This is the way to distinguish a function name from a variable name. An example **function definition** is"
      ]
    },
    {
      "cell_type": "code",
      "execution_count": null,
      "metadata": {
        "id": "dPxdOYYq5VJl"
      },
      "outputs": [],
      "source": [
        "def sum_numbers(num_a, number = 5):\n",
        "    \n",
        "    return num_a + number"
      ]
    },
    {
      "cell_type": "markdown",
      "metadata": {
        "id": "g1c3p_Pn5VJm"
      },
      "source": [
        "A function definition does not produce any output by itself. Function should be invoked. A **function invocation** is given by the function name, followed by the opening and closing parentheses."
      ]
    },
    {
      "cell_type": "code",
      "execution_count": 71,
      "metadata": {
        "id": "o0ztUwM55VJn"
      },
      "outputs": [
        {
          "data": {
            "text/plain": [
              "3"
            ]
          },
          "execution_count": 71,
          "metadata": {},
          "output_type": "execute_result"
        }
      ],
      "source": [
        "sum_numbers(1, 2)"
      ]
    },
    {
      "cell_type": "markdown",
      "metadata": {
        "id": "3a25up_15VJn"
      },
      "source": [
        "**Passing arguments to a function**\n",
        "\n",
        "There are two types of arguments for a function in Python:\n",
        "- **Positional arguments**: the meaning of the positional arguments depends on the position in which they are provided\n",
        "- **Keyword arguments** : the meaning of these arguments is taken not from its location (position) but from the special word (keyword) used to identify them. A keyword argument consists of three elements: a keyword identifying the argument, an equal sign (`=`) and a value assigned to that argument (provided in quotes). Please note that every keyword arguments has to be put after the last positional argument.\n",
        "\n",
        "A function example is"
      ]
    },
    {
      "cell_type": "code",
      "execution_count": 72,
      "metadata": {
        "id": "HaaaK7S05VJn"
      },
      "outputs": [
        {
          "name": "stdout",
          "output_type": "stream",
          "text": [
            "A B\n"
          ]
        }
      ],
      "source": [
        "print(\"A\", \"B\")"
      ]
    },
    {
      "cell_type": "code",
      "execution_count": 74,
      "metadata": {
        "id": "jb6Qkm7U5VJn"
      },
      "outputs": [
        {
          "name": "stdout",
          "output_type": "stream",
          "text": [
            "A-B-C\n"
          ]
        }
      ],
      "source": [
        "print(\"A\", \"B\",\"C\", sep=\"-\")"
      ]
    },
    {
      "cell_type": "markdown",
      "metadata": {
        "id": "UI4EogtU5VJn"
      },
      "source": [
        "In the example above, `A` and `B` are positional arguments, whereas `sep` is a keyword argument."
      ]
    },
    {
      "cell_type": "markdown",
      "metadata": {
        "id": "mcYvHtY75VJn"
      },
      "source": [
        "**Function examples**\n",
        "\n",
        "It is then nice to put what we learned so far together into a function. The example below, provides a function that uses control structures to return a result. In particular, given a number, the function returns `True` if the number is even or `False` if the number is odd.\n",
        "\n",
        "The function makes use of the `modulo` operator `%`. The operator returns a remainder of a division. For example"
      ]
    },
    {
      "cell_type": "code",
      "execution_count": 77,
      "metadata": {
        "id": "O4FDQ_uD5VJn"
      },
      "outputs": [
        {
          "data": {
            "text/plain": [
              "2"
            ]
          },
          "execution_count": 77,
          "metadata": {},
          "output_type": "execute_result"
        }
      ],
      "source": [
        "14 % 4"
      ]
    },
    {
      "cell_type": "markdown",
      "metadata": {
        "id": "YD6AApEd5VJn"
      },
      "source": [
        "or"
      ]
    },
    {
      "cell_type": "code",
      "execution_count": 76,
      "metadata": {
        "id": "-nZkKyVe5VJn"
      },
      "outputs": [
        {
          "data": {
            "text/plain": [
              "0"
            ]
          },
          "execution_count": 76,
          "metadata": {},
          "output_type": "execute_result"
        }
      ],
      "source": [
        "4 % 2"
      ]
    },
    {
      "cell_type": "markdown",
      "metadata": {
        "id": "9c3OgpaX5VJn"
      },
      "source": [
        "The function defition is then"
      ]
    },
    {
      "cell_type": "code",
      "execution_count": 78,
      "metadata": {
        "id": "2tPkmybf5VJn"
      },
      "outputs": [],
      "source": [
        "def check_if_even_or_odd(num):\n",
        "    if num % 2 == 0:\n",
        "        print(\"The number is even\")\n",
        "        return True\n",
        "    else:\n",
        "        print(\"The number is odd\")\n",
        "        return False"
      ]
    },
    {
      "cell_type": "code",
      "execution_count": 79,
      "metadata": {
        "id": "cck0fmQo5VJn"
      },
      "outputs": [
        {
          "name": "stdout",
          "output_type": "stream",
          "text": [
            "The number is even\n"
          ]
        },
        {
          "data": {
            "text/plain": [
              "True"
            ]
          },
          "execution_count": 79,
          "metadata": {},
          "output_type": "execute_result"
        }
      ],
      "source": [
        "check_if_even_or_odd(2)"
      ]
    },
    {
      "cell_type": "code",
      "execution_count": null,
      "metadata": {
        "id": "IpFPGpuB5VJo"
      },
      "outputs": [],
      "source": [
        "check_if_even_or_odd(3)"
      ]
    },
    {
      "cell_type": "markdown",
      "metadata": {
        "id": "2HEA229_5VJo"
      },
      "source": [
        "### Classes, methods and attributes\n",
        "---"
      ]
    },
    {
      "cell_type": "markdown",
      "metadata": {
        "id": "DVFGk_c95VJo"
      },
      "source": [
        "As highlighted before, the function `type()` can be used to return the Python representation of the Data type. For example"
      ]
    },
    {
      "cell_type": "code",
      "execution_count": 80,
      "metadata": {
        "id": "peumnPMZ5VJo"
      },
      "outputs": [
        {
          "name": "stdout",
          "output_type": "stream",
          "text": [
            "<class 'str'> <class 'float'> <class 'list'> <class 'tuple'> <class 'set'>\n"
          ]
        }
      ],
      "source": [
        "var_string = \"string\"\n",
        "var_float = 2.0\n",
        "var_list = [1, 2, 3]\n",
        "var_tuple = (1, 2, 3)\n",
        "var_set = {1, 2, 3}\n",
        "print(type(var_string), type(var_float), type(var_list), type(var_tuple), type(var_set))"
      ]
    },
    {
      "cell_type": "markdown",
      "metadata": {
        "id": "gXXapIbt5VJp"
      },
      "source": [
        "Therefore `var_string = \"string\"` instantiates an **object** of **class** `str`, whereas `var_tuple = (1, 2, 3)` instantiates an object of class `tuple`. But what are exactly classes and objects?\n",
        "\n",
        "**Class and object**\n",
        "\n",
        "A **class** is an idea/category (more or less abstract), which can be used to create a certain number of its *incarnations*. An **object** is an incarnation of a class. Technically speaking, an object is an *instantiation* of a class and it inherits all of the class **attributes** and **methods**.\n",
        "\n",
        "**Attributes and methods**\n",
        "A class has attributes and methods that are inhrited by its objects. Namely:\n",
        "- **Attribute**: the features of class (and of its objects). An attribute is accessed with the syntax `object_name.attribute_name`\n",
        "- **Methods**: actions/activities that an object can perform. At its core a method is a function. It is however accessed differently as `object_name.method_name()`, rather than `function_name()`.\n",
        "\n",
        "**Examples for the `str` class**\n",
        "\n",
        "The `str` class offers plenty of methods. The full list is available at this [link](https://docs.python.org/3/library/string.html). The most important ones are:\n",
        "\n",
        "- **capitalize()**: it creates a new string filled with the characters taken from the source string. If the first character of the source string is a letter, the method will capitalize the first character (the one with index 0) and convert to lower-case all other characters. The source string remains un-touched.\n",
        "- **center()**: the method has two variants. The one-parameter variant centers a given string in a field of the provided width. The string is placed among empty spaces. For example `\"a\".center(3)`, will return `\" a \"`. The two-parameter version makes use of the character of the second argument instead of the spaces. For example `\"a\".center(3,\"*\")` will return `\"*a*\"`\n",
        "- **endswith()**: it checks whether a string ends with the specified argument. It returns `True` or `False`\n",
        "- **find()**: the method has three variants. In general it looks for a substring within a given string and it returns the index of the first occurrence. The two-argument variant is such that the second argument specifies the index at which the search will be started. The three-argument variant is such that the third argument specifies the first index which will not be taken into consideration during the search. Examples are, `\"Eta\".find(\"ta\")` which returns 1, `\"Eta\".find(\"m\")` which returns -1, `\"kappa\".find(\"a\", 2)` which returns 4 and `\"kappa\".find(\"a\", 2, 4)` which returns -1. Please note that:\n",
        "    - the method does not differ much from the method index(). It is however safer as it does not generate an error when the substring is not found. It rather returns -1\n",
        "    - the method works only with strings. You cannot apply it to any other sequence\n",
        "    - the operator is much faster if you have to check if a single character occurs within a string\n",
        "    - the method can be used to search for all the substring occurrences:\n",
        "- **isalnum()**: it returns `True` or `False`, checking if the string contains only digits/letters. Please consider that characters as @, underscore or space are not digits/letters. For example `’a30’.isalnum()` returns True.\n",
        "- **join()**: `\",\".join([\"a\", \"b\"])` returns `a,b`. It joins the elements of the list in one string, using the string from which the method has been invoked as a separator\n",
        "- **replace()**: the two-parameter version returns a copy of the original string in which all occurrences of the first argument have been replaced by the second argument. The three-parameter version takes an integer as third parameter to limit the number of replacements. Please note that if the second argument is empty, the method removes the occurrences of the first argument\n",
        "- **split()**: it splits a string and builds a list of all the detected substrings. The method assumes that the substrings are delimited by white-spaces. For example `\"phi chi psi\".split()` returns `[\"phi\", \"chi\", \"psi\"]`. The reverse operation of this method is `join()`.\n",
        "- **startswith()**: it checks whether a string starts with the specified argument. It returns `True` or `False`.\n",
        "- **upper()**: it creates a new string filled with the characters taken from the source string. It replaces all lower-case characters with their upper-case counterparts. The source string remains un-touched."
      ]
    },
    {
      "cell_type": "code",
      "execution_count": null,
      "metadata": {},
      "outputs": [
        {
          "ename": "TypeError",
          "evalue": "str.capitalize() takes no arguments (1 given)",
          "output_type": "error",
          "traceback": [
            "\u001b[1;31m---------------------------------------------------------------------------\u001b[0m",
            "\u001b[1;31mTypeError\u001b[0m                                 Traceback (most recent call last)",
            "Cell \u001b[1;32mIn[82], line 1\u001b[0m\n\u001b[1;32m----> 1\u001b[0m \u001b[43mvar_string\u001b[49m\u001b[38;5;241;43m.\u001b[39;49m\u001b[43mcapitalize\u001b[49m\u001b[43m(\u001b[49m\u001b[38;5;241;43m4\u001b[39;49m\u001b[43m)\u001b[49m\n",
            "\u001b[1;31mTypeError\u001b[0m: str.capitalize() takes no arguments (1 given)"
          ]
        }
      ],
      "source": [
        "var_string.capitalize()"
      ]
    },
    {
      "cell_type": "markdown",
      "metadata": {
        "id": "oKoOUyjC5VJp"
      },
      "source": [
        "### Additional Resources\n",
        "---\n",
        "\n",
        "- [Learn Python at the Python Institute](https://pythoninstitute.org/python-essentials-1)"
      ]
    },
    {
      "cell_type": "markdown",
      "metadata": {
        "id": "e4iZPAv25VJq"
      },
      "source": [
        "## Exercises\n",
        "---"
      ]
    },
    {
      "cell_type": "markdown",
      "metadata": {
        "id": "NtYkD7LT5VJq"
      },
      "source": [
        "### Exercises on conditional statements and loops"
      ]
    },
    {
      "cell_type": "markdown",
      "metadata": {
        "id": "cvdStMMD5VJq"
      },
      "source": [
        "**Exercise 1** - write a program to check whether a number is divisible by 3 or not."
      ]
    },
    {
      "cell_type": "code",
      "execution_count": null,
      "metadata": {
        "id": "6zvuykjn5VJq"
      },
      "outputs": [],
      "source": [
        "# please provide your code here"
      ]
    },
    {
      "cell_type": "markdown",
      "metadata": {
        "id": "-Fs4c7JP5VJq"
      },
      "source": [
        "**Exercise 2** - write a program that returns `True` when a number is multiple of 5 or `False`."
      ]
    },
    {
      "cell_type": "code",
      "execution_count": null,
      "metadata": {
        "id": "jXtI6WoW5VJq"
      },
      "outputs": [],
      "source": [
        "# please provide your code here"
      ]
    },
    {
      "cell_type": "markdown",
      "metadata": {
        "id": "A9zCR5jf5VJq"
      },
      "source": [
        "**Exercise 3** - write a program to display the last digit of a number (hint: any number % 10 will return the last digit)."
      ]
    },
    {
      "cell_type": "code",
      "execution_count": null,
      "metadata": {
        "id": "-XfB7P-e5VJq"
      },
      "outputs": [],
      "source": [
        "# please provide your code here"
      ]
    },
    {
      "cell_type": "markdown",
      "metadata": {
        "id": "XwrXcwZs5VJq"
      },
      "source": [
        "**Exercise 4** - write a program that prints the odd numbers in the range `0` to `20` (both included)"
      ]
    },
    {
      "cell_type": "code",
      "execution_count": null,
      "metadata": {
        "id": "-eG0jEhv5VJq"
      },
      "outputs": [],
      "source": [
        "# please provide your code here"
      ]
    },
    {
      "cell_type": "markdown",
      "metadata": {
        "id": "cRSgbyWg5VJq"
      },
      "source": [
        "**Exercise 5** - write a program to produce the factorial of a number. For example, the factorial of 3 (i.e. `3!`) is equal to `1*2*3 = 6`."
      ]
    },
    {
      "cell_type": "code",
      "execution_count": null,
      "metadata": {
        "id": "H5G91Rba5VJq"
      },
      "outputs": [],
      "source": [
        "# please provide your code here"
      ]
    },
    {
      "cell_type": "markdown",
      "metadata": {
        "id": "1Hyvnjes5VJq"
      },
      "source": [
        "### Exercises on functions\n",
        "\n",
        "For the exercises below, please provide a cell where you provide the function definition and a subsequent cell where you provide the function invocation."
      ]
    },
    {
      "cell_type": "markdown",
      "metadata": {
        "id": "YhDBhojm5VJq"
      },
      "source": [
        "**Exercise 6** - write a function to produce the factorial of a number. You should of course re-use the code produced earlier"
      ]
    },
    {
      "cell_type": "code",
      "execution_count": null,
      "metadata": {
        "id": "QGPX8F-a5VJr"
      },
      "outputs": [],
      "source": [
        "# please provide here the function definition"
      ]
    },
    {
      "cell_type": "code",
      "execution_count": null,
      "metadata": {
        "id": "5B9jqDq05VJr"
      },
      "outputs": [],
      "source": [
        "# please provide here the function invocation"
      ]
    },
    {
      "cell_type": "markdown",
      "metadata": {
        "id": "_Q3sQPp-5VJr"
      },
      "source": [
        "**Exercise 7** - write a function to check whether a given number is a prime number"
      ]
    },
    {
      "cell_type": "code",
      "execution_count": null,
      "metadata": {
        "id": "DtsR_Ovk5VJr"
      },
      "outputs": [],
      "source": [
        "# please provide here the function definition"
      ]
    },
    {
      "cell_type": "code",
      "execution_count": null,
      "metadata": {
        "id": "cgZZahZw5VJr"
      },
      "outputs": [],
      "source": [
        "# please provide here the function invocation"
      ]
    },
    {
      "cell_type": "markdown",
      "metadata": {},
      "source": [
        "---"
      ]
    }
  ],
  "metadata": {
    "colab": {
      "provenance": []
    },
    "kernelspec": {
      "display_name": "flex_training_env",
      "language": "python",
      "name": "python3"
    },
    "language_info": {
      "codemirror_mode": {
        "name": "ipython",
        "version": 3
      },
      "file_extension": ".py",
      "mimetype": "text/x-python",
      "name": "python",
      "nbconvert_exporter": "python",
      "pygments_lexer": "ipython3",
      "version": "3.10.16"
    }
  },
  "nbformat": 4,
  "nbformat_minor": 0
}
