{
 "cells": [
  {
   "cell_type": "markdown",
   "metadata": {},
   "source": [
    "### 📘 Lesson 5: Market Model"
   ]
  },
  {
   "cell_type": "markdown",
   "metadata": {},
   "source": [
    "<div style=\"display: flex; align-items: center; justify-content: space-between;\">\n",
    "  <div>\n",
    "    <h3>Course presenters</h3>\n",
    "    <ul>\n",
    "      <li><strong>Priyesh Gosai</strong> - Energy Systems Modeler and Training Coordinator</li>\n",
    "      <li><strong>Dr. Fabian Hofmann</strong> - Senior Optimization and Energy System Modelling Expert</li>\n",
    "    </ul>\n",
    "  </div>\n",
    "  <div>\n",
    "    <a href=\"https://openenergytransition.org/index.html\">\n",
    "      <img src=\"https://openenergytransition.org/assets/img/oet-logo-red-n-subtitle.png\" height=\"60\" alt=\"OET\">\n",
    "    </a>\n",
    "  </div>\n",
    "</div>\n"
   ]
  },
  {
   "cell_type": "markdown",
   "metadata": {},
   "source": [
    "#### 🎯 Learning Objectives  \n",
    "\n"
   ]
  },
  {
   "cell_type": "markdown",
   "metadata": {},
   "source": [
    "* Run a demonstration model using real data. \n",
    "* Solve the Day ahead and intra day model. \n",
    "* Analyse the results.\n",
    "\n",
    "---"
   ]
  },
  {
   "cell_type": "markdown",
   "metadata": {},
   "source": [
    "#### 📈 Market Model"
   ]
  },
  {
   "cell_type": "code",
   "execution_count": null,
   "metadata": {},
   "outputs": [],
   "source": [
    "import pypsa\n",
    "import pandas as pd\n",
    "import numpy as np\n",
    "from training_scripts import *\n",
    "import matplotlib.pyplot as plt\n",
    "\n",
    "import os\n",
    "import shutil\n"
   ]
  },
  {
   "cell_type": "code",
   "execution_count": 30,
   "metadata": {},
   "outputs": [
    {
     "name": "stderr",
     "output_type": "stream",
     "text": [
      "INFO:root:Converted snapshots to CSV.\n",
      "INFO:root:Converted buses to CSV.\n",
      "INFO:root:Converted carriers to CSV.\n",
      "INFO:root:Converted generators to CSV.\n",
      "INFO:root:Converted links to CSV.\n",
      "INFO:root:Converted loads to CSV.\n",
      "INFO:root:Converted storage_units to CSV.\n",
      "INFO:root:Converted loads-p_set to CSV.\n",
      "INFO:root:Converted generators-p_max_pu to CSV.\n",
      "INFO:root:Converted storage_units-inflow to CSV.\n",
      "INFO:root:Conversion complete. CSV files are saved in 'lesson6_csv_folder'\n",
      "INFO:root:Excel file closed successfully.\n"
     ]
    }
   ],
   "source": [
    "input_file_name = 'data/Lesson6_model.xlsx'\n",
    "path = convert_selected_sheets_to_csv(input_file_name, 'lesson6_csv_folder')"
   ]
  },
  {
   "cell_type": "code",
   "execution_count": 31,
   "metadata": {},
   "outputs": [
    {
     "name": "stderr",
     "output_type": "stream",
     "text": [
      "WARNING:pypsa.io:Importing network from PyPSA version v? while current version is v0.33.0. Read the release notes at https://pypsa.readthedocs.io/en/latest/release_notes.html to prepare your network for import.\n",
      "INFO:pypsa.io:Imported network lesson6_csv_folder has buses, carriers, generators, links, loads, storage_units\n"
     ]
    }
   ],
   "source": [
    "network = pypsa.Network(path)"
   ]
  },
  {
   "cell_type": "code",
   "execution_count": 32,
   "metadata": {},
   "outputs": [],
   "source": [
    "dispatchable_generators = network.generators[network.generators.carrier.isin(['coal', 'biomass', 'gas'])].index.tolist()\n",
    "\n",
    "network.generators.loc[network.generators[\"carrier\"] == \"coal\", \"p_min_pu\"] = 0.1\n",
    "network.generators.loc[network.generators[\"carrier\"] == \"biomass\", \"p_min_pu\"] = 0.1\n",
    "\n",
    "network.generators.loc[network.generators[\"carrier\"] == \"coal\", \"ramp_limit_up\"] = 0.25\n",
    "network.generators.loc[network.generators[\"carrier\"] == \"biomass\", \"ramp_limit_up\"] = 0.25\n",
    "\n",
    "network.generators.loc[network.generators[\"carrier\"] == \"coal\", \"ramp_limit_down\"] = 0.25\n",
    "network.generators.loc[network.generators[\"carrier\"] == \"biomass\", \"ramp_limit_down\"] = 0.25\n",
    "\n",
    "network.generators.loc[network.generators[\"carrier\"] == \"coal\", \"min_up_time\"] = 4\n",
    "network.generators.loc[network.generators[\"carrier\"] == \"biomass\", \"min_up_time\"] = 4\n",
    "\n",
    "network.generators.loc[network.generators[\"carrier\"] == \"coal\", \"min_down_time\"] = 10\n",
    "network.generators.loc[network.generators[\"carrier\"] == \"biomass\", \"min_down_time\"] = 10\n"
   ]
  },
  {
   "cell_type": "markdown",
   "metadata": {},
   "source": [
    "💧 **Setting Water Availability for Hydropower Plants**\n"
   ]
  },
  {
   "cell_type": "markdown",
   "metadata": {},
   "source": [
    "⚡ **Modeling Demand Side Management (DSM)**  \n",
    "\n",
    "\n",
    "\n"
   ]
  },
  {
   "cell_type": "code",
   "execution_count": 33,
   "metadata": {},
   "outputs": [
    {
     "data": {
      "text/plain": [
       "DatetimeIndex(['2015-01-01 00:00:00', '2015-01-01 01:00:00',\n",
       "               '2015-01-01 02:00:00', '2015-01-01 03:00:00',\n",
       "               '2015-01-01 04:00:00', '2015-01-01 05:00:00',\n",
       "               '2015-01-01 06:00:00', '2015-01-01 07:00:00',\n",
       "               '2015-01-01 08:00:00', '2015-01-01 09:00:00',\n",
       "               ...\n",
       "               '2019-12-31 14:00:00', '2019-12-31 15:00:00',\n",
       "               '2019-12-31 16:00:00', '2019-12-31 17:00:00',\n",
       "               '2019-12-31 18:00:00', '2019-12-31 19:00:00',\n",
       "               '2019-12-31 20:00:00', '2019-12-31 21:00:00',\n",
       "               '2019-12-31 22:00:00', '2019-12-31 23:00:00'],\n",
       "              dtype='datetime64[ns]', name='snapshot', length=43819, freq=None)"
      ]
     },
     "execution_count": 33,
     "metadata": {},
     "output_type": "execute_result"
    }
   ],
   "source": [
    "network.snapshots"
   ]
  },
  {
   "cell_type": "code",
   "execution_count": 34,
   "metadata": {},
   "outputs": [
    {
     "name": "stderr",
     "output_type": "stream",
     "text": [
      "INFO:linopy.model: Solve problem using Highs solver\n",
      "INFO:linopy.io:Writing objective.\n",
      "Writing constraints.: 100%|\u001b[38;2;128;191;255m██████████\u001b[0m| 15/15 [00:00<00:00, 21.70it/s]\n",
      "Writing continuous variables.: 100%|\u001b[38;2;128;191;255m██████████\u001b[0m| 6/6 [00:00<00:00, 74.53it/s]\n",
      "INFO:linopy.io: Writing time: 0.84s\n",
      "INFO:linopy.constants: Optimization successful: \n",
      "Status: ok\n",
      "Termination condition: optimal\n",
      "Solution: 31680 primals, 119168 duals\n",
      "Objective: 1.54e+09\n",
      "Solver model: available\n",
      "Solver message: optimal\n",
      "\n",
      "INFO:pypsa.optimization.optimize:The shadow-prices of the constraints Generator-fix-p-lower, Generator-fix-p-upper, Generator-fix-p-ramp_limit_up, Generator-fix-p-ramp_limit_down, Link-fix-p-lower, Link-fix-p-upper, StorageUnit-fix-p_dispatch-lower, StorageUnit-fix-p_dispatch-upper, StorageUnit-fix-p_store-lower, StorageUnit-fix-p_store-upper, StorageUnit-fix-state_of_charge-lower, StorageUnit-fix-state_of_charge-upper, StorageUnit-energy_balance were not assigned to the network.\n",
      "INFO:pypsa.io:Exported network 'solved_network_0.nc' contains: loads, carriers, storage_units, buses, links, generators\n"
     ]
    },
    {
     "name": "stdout",
     "output_type": "stream",
     "text": [
      "Run 1 completed and stored in monte_carlo\n"
     ]
    },
    {
     "name": "stderr",
     "output_type": "stream",
     "text": [
      "INFO:linopy.model: Solve problem using Highs solver\n",
      "INFO:linopy.io:Writing objective.\n",
      "Writing constraints.: 100%|\u001b[38;2;128;191;255m██████████\u001b[0m| 15/15 [00:00<00:00, 20.98it/s]\n",
      "Writing continuous variables.: 100%|\u001b[38;2;128;191;255m██████████\u001b[0m| 6/6 [00:00<00:00, 70.15it/s]\n",
      "INFO:linopy.io: Writing time: 0.87s\n",
      "INFO:linopy.constants: Optimization successful: \n",
      "Status: ok\n",
      "Termination condition: optimal\n",
      "Solution: 31680 primals, 119168 duals\n",
      "Objective: 2.57e+09\n",
      "Solver model: available\n",
      "Solver message: optimal\n",
      "\n",
      "INFO:pypsa.optimization.optimize:The shadow-prices of the constraints Generator-fix-p-lower, Generator-fix-p-upper, Generator-fix-p-ramp_limit_up, Generator-fix-p-ramp_limit_down, Link-fix-p-lower, Link-fix-p-upper, StorageUnit-fix-p_dispatch-lower, StorageUnit-fix-p_dispatch-upper, StorageUnit-fix-p_store-lower, StorageUnit-fix-p_store-upper, StorageUnit-fix-state_of_charge-lower, StorageUnit-fix-state_of_charge-upper, StorageUnit-energy_balance were not assigned to the network.\n",
      "INFO:pypsa.io:Exported network 'solved_network_1.nc' contains: loads, carriers, storage_units, buses, links, generators\n"
     ]
    },
    {
     "name": "stdout",
     "output_type": "stream",
     "text": [
      "Run 2 completed and stored in monte_carlo\n"
     ]
    },
    {
     "name": "stderr",
     "output_type": "stream",
     "text": [
      "INFO:linopy.model: Solve problem using Highs solver\n",
      "INFO:linopy.io:Writing objective.\n",
      "Writing constraints.: 100%|\u001b[38;2;128;191;255m██████████\u001b[0m| 15/15 [00:00<00:00, 21.59it/s]\n",
      "Writing continuous variables.: 100%|\u001b[38;2;128;191;255m██████████\u001b[0m| 6/6 [00:00<00:00, 72.72it/s]\n",
      "INFO:linopy.io: Writing time: 0.84s\n",
      "INFO:linopy.constants: Optimization successful: \n",
      "Status: ok\n",
      "Termination condition: optimal\n",
      "Solution: 31680 primals, 119168 duals\n",
      "Objective: 1.74e+09\n",
      "Solver model: available\n",
      "Solver message: optimal\n",
      "\n",
      "INFO:pypsa.optimization.optimize:The shadow-prices of the constraints Generator-fix-p-lower, Generator-fix-p-upper, Generator-fix-p-ramp_limit_up, Generator-fix-p-ramp_limit_down, Link-fix-p-lower, Link-fix-p-upper, StorageUnit-fix-p_dispatch-lower, StorageUnit-fix-p_dispatch-upper, StorageUnit-fix-p_store-lower, StorageUnit-fix-p_store-upper, StorageUnit-fix-state_of_charge-lower, StorageUnit-fix-state_of_charge-upper, StorageUnit-energy_balance were not assigned to the network.\n",
      "INFO:pypsa.io:Exported network 'solved_network_2.nc' contains: loads, carriers, storage_units, buses, links, generators\n"
     ]
    },
    {
     "name": "stdout",
     "output_type": "stream",
     "text": [
      "Run 3 completed and stored in monte_carlo\n"
     ]
    },
    {
     "name": "stderr",
     "output_type": "stream",
     "text": [
      "INFO:linopy.model: Solve problem using Highs solver\n",
      "INFO:linopy.io:Writing objective.\n",
      "Writing constraints.: 100%|\u001b[38;2;128;191;255m██████████\u001b[0m| 15/15 [00:00<00:00, 21.56it/s]\n",
      "Writing continuous variables.: 100%|\u001b[38;2;128;191;255m██████████\u001b[0m| 6/6 [00:00<00:00, 74.55it/s]\n",
      "INFO:linopy.io: Writing time: 0.85s\n",
      "INFO:linopy.constants: Optimization successful: \n",
      "Status: ok\n",
      "Termination condition: optimal\n",
      "Solution: 31680 primals, 119168 duals\n",
      "Objective: 5.14e+08\n",
      "Solver model: available\n",
      "Solver message: optimal\n",
      "\n",
      "INFO:pypsa.optimization.optimize:The shadow-prices of the constraints Generator-fix-p-lower, Generator-fix-p-upper, Generator-fix-p-ramp_limit_up, Generator-fix-p-ramp_limit_down, Link-fix-p-lower, Link-fix-p-upper, StorageUnit-fix-p_dispatch-lower, StorageUnit-fix-p_dispatch-upper, StorageUnit-fix-p_store-lower, StorageUnit-fix-p_store-upper, StorageUnit-fix-state_of_charge-lower, StorageUnit-fix-state_of_charge-upper, StorageUnit-energy_balance were not assigned to the network.\n",
      "INFO:pypsa.io:Exported network 'solved_network_3.nc' contains: loads, carriers, storage_units, buses, links, generators\n"
     ]
    },
    {
     "name": "stdout",
     "output_type": "stream",
     "text": [
      "Run 4 completed and stored in monte_carlo\n"
     ]
    },
    {
     "name": "stderr",
     "output_type": "stream",
     "text": [
      "INFO:linopy.model: Solve problem using Highs solver\n",
      "INFO:linopy.io:Writing objective.\n",
      "Writing constraints.: 100%|\u001b[38;2;128;191;255m██████████\u001b[0m| 15/15 [00:00<00:00, 21.11it/s]\n",
      "Writing continuous variables.: 100%|\u001b[38;2;128;191;255m██████████\u001b[0m| 6/6 [00:00<00:00, 71.85it/s]\n",
      "INFO:linopy.io: Writing time: 0.86s\n",
      "INFO:linopy.constants: Optimization successful: \n",
      "Status: ok\n",
      "Termination condition: optimal\n",
      "Solution: 31680 primals, 119168 duals\n",
      "Objective: 9.59e+08\n",
      "Solver model: available\n",
      "Solver message: optimal\n",
      "\n",
      "INFO:pypsa.optimization.optimize:The shadow-prices of the constraints Generator-fix-p-lower, Generator-fix-p-upper, Generator-fix-p-ramp_limit_up, Generator-fix-p-ramp_limit_down, Link-fix-p-lower, Link-fix-p-upper, StorageUnit-fix-p_dispatch-lower, StorageUnit-fix-p_dispatch-upper, StorageUnit-fix-p_store-lower, StorageUnit-fix-p_store-upper, StorageUnit-fix-state_of_charge-lower, StorageUnit-fix-state_of_charge-upper, StorageUnit-energy_balance were not assigned to the network.\n",
      "INFO:pypsa.io:Exported network 'solved_network_4.nc' contains: loads, carriers, storage_units, buses, links, generators\n"
     ]
    },
    {
     "name": "stdout",
     "output_type": "stream",
     "text": [
      "Run 5 completed and stored in monte_carlo\n"
     ]
    },
    {
     "name": "stderr",
     "output_type": "stream",
     "text": [
      "INFO:linopy.model: Solve problem using Highs solver\n",
      "INFO:linopy.io:Writing objective.\n",
      "Writing constraints.: 100%|\u001b[38;2;128;191;255m██████████\u001b[0m| 15/15 [00:00<00:00, 21.92it/s]\n",
      "Writing continuous variables.: 100%|\u001b[38;2;128;191;255m██████████\u001b[0m| 6/6 [00:00<00:00, 72.72it/s]\n",
      "INFO:linopy.io: Writing time: 0.83s\n",
      "INFO:linopy.constants: Optimization successful: \n",
      "Status: ok\n",
      "Termination condition: optimal\n",
      "Solution: 31680 primals, 119168 duals\n",
      "Objective: 2.28e+09\n",
      "Solver model: available\n",
      "Solver message: optimal\n",
      "\n",
      "INFO:pypsa.optimization.optimize:The shadow-prices of the constraints Generator-fix-p-lower, Generator-fix-p-upper, Generator-fix-p-ramp_limit_up, Generator-fix-p-ramp_limit_down, Link-fix-p-lower, Link-fix-p-upper, StorageUnit-fix-p_dispatch-lower, StorageUnit-fix-p_dispatch-upper, StorageUnit-fix-p_store-lower, StorageUnit-fix-p_store-upper, StorageUnit-fix-state_of_charge-lower, StorageUnit-fix-state_of_charge-upper, StorageUnit-energy_balance were not assigned to the network.\n",
      "INFO:pypsa.io:Exported network 'solved_network_5.nc' contains: loads, carriers, storage_units, buses, links, generators\n"
     ]
    },
    {
     "name": "stdout",
     "output_type": "stream",
     "text": [
      "Run 6 completed and stored in monte_carlo\n"
     ]
    },
    {
     "name": "stderr",
     "output_type": "stream",
     "text": [
      "INFO:linopy.model: Solve problem using Highs solver\n",
      "INFO:linopy.io:Writing objective.\n",
      "Writing constraints.: 100%|\u001b[38;2;128;191;255m██████████\u001b[0m| 15/15 [00:00<00:00, 20.53it/s]\n",
      "Writing continuous variables.: 100%|\u001b[38;2;128;191;255m██████████\u001b[0m| 6/6 [00:00<00:00, 73.61it/s]\n",
      "INFO:linopy.io: Writing time: 0.88s\n",
      "INFO:linopy.constants: Optimization successful: \n",
      "Status: ok\n",
      "Termination condition: optimal\n",
      "Solution: 31680 primals, 119168 duals\n",
      "Objective: 3.52e+09\n",
      "Solver model: available\n",
      "Solver message: optimal\n",
      "\n",
      "INFO:pypsa.optimization.optimize:The shadow-prices of the constraints Generator-fix-p-lower, Generator-fix-p-upper, Generator-fix-p-ramp_limit_up, Generator-fix-p-ramp_limit_down, Link-fix-p-lower, Link-fix-p-upper, StorageUnit-fix-p_dispatch-lower, StorageUnit-fix-p_dispatch-upper, StorageUnit-fix-p_store-lower, StorageUnit-fix-p_store-upper, StorageUnit-fix-state_of_charge-lower, StorageUnit-fix-state_of_charge-upper, StorageUnit-energy_balance were not assigned to the network.\n",
      "INFO:pypsa.io:Exported network 'solved_network_6.nc' contains: loads, carriers, storage_units, buses, links, generators\n"
     ]
    },
    {
     "name": "stdout",
     "output_type": "stream",
     "text": [
      "Run 7 completed and stored in monte_carlo\n"
     ]
    },
    {
     "name": "stderr",
     "output_type": "stream",
     "text": [
      "INFO:linopy.model: Solve problem using Highs solver\n",
      "INFO:linopy.io:Writing objective.\n",
      "Writing constraints.: 100%|\u001b[38;2;128;191;255m██████████\u001b[0m| 15/15 [00:00<00:00, 21.89it/s]\n",
      "Writing continuous variables.: 100%|\u001b[38;2;128;191;255m██████████\u001b[0m| 6/6 [00:00<00:00, 66.54it/s]\n",
      "INFO:linopy.io: Writing time: 0.84s\n",
      "INFO:linopy.constants: Optimization successful: \n",
      "Status: ok\n",
      "Termination condition: optimal\n",
      "Solution: 31680 primals, 119168 duals\n",
      "Objective: 3.10e+09\n",
      "Solver model: available\n",
      "Solver message: optimal\n",
      "\n",
      "INFO:pypsa.optimization.optimize:The shadow-prices of the constraints Generator-fix-p-lower, Generator-fix-p-upper, Generator-fix-p-ramp_limit_up, Generator-fix-p-ramp_limit_down, Link-fix-p-lower, Link-fix-p-upper, StorageUnit-fix-p_dispatch-lower, StorageUnit-fix-p_dispatch-upper, StorageUnit-fix-p_store-lower, StorageUnit-fix-p_store-upper, StorageUnit-fix-state_of_charge-lower, StorageUnit-fix-state_of_charge-upper, StorageUnit-energy_balance were not assigned to the network.\n",
      "INFO:pypsa.io:Exported network 'solved_network_7.nc' contains: loads, carriers, storage_units, buses, links, generators\n"
     ]
    },
    {
     "name": "stdout",
     "output_type": "stream",
     "text": [
      "Run 8 completed and stored in monte_carlo\n"
     ]
    },
    {
     "name": "stderr",
     "output_type": "stream",
     "text": [
      "INFO:linopy.model: Solve problem using Highs solver\n",
      "INFO:linopy.io:Writing objective.\n",
      "Writing constraints.: 100%|\u001b[38;2;128;191;255m██████████\u001b[0m| 15/15 [00:00<00:00, 21.80it/s]\n",
      "Writing continuous variables.: 100%|\u001b[38;2;128;191;255m██████████\u001b[0m| 6/6 [00:00<00:00, 74.82it/s]\n",
      "INFO:linopy.io: Writing time: 0.84s\n",
      "INFO:linopy.constants: Optimization successful: \n",
      "Status: ok\n",
      "Termination condition: optimal\n",
      "Solution: 31680 primals, 119168 duals\n",
      "Objective: 2.83e+09\n",
      "Solver model: available\n",
      "Solver message: optimal\n",
      "\n",
      "INFO:pypsa.optimization.optimize:The shadow-prices of the constraints Generator-fix-p-lower, Generator-fix-p-upper, Generator-fix-p-ramp_limit_up, Generator-fix-p-ramp_limit_down, Link-fix-p-lower, Link-fix-p-upper, StorageUnit-fix-p_dispatch-lower, StorageUnit-fix-p_dispatch-upper, StorageUnit-fix-p_store-lower, StorageUnit-fix-p_store-upper, StorageUnit-fix-state_of_charge-lower, StorageUnit-fix-state_of_charge-upper, StorageUnit-energy_balance were not assigned to the network.\n",
      "INFO:pypsa.io:Exported network 'solved_network_8.nc' contains: loads, carriers, storage_units, buses, links, generators\n"
     ]
    },
    {
     "name": "stdout",
     "output_type": "stream",
     "text": [
      "Run 9 completed and stored in monte_carlo\n"
     ]
    },
    {
     "name": "stderr",
     "output_type": "stream",
     "text": [
      "INFO:linopy.model: Solve problem using Highs solver\n",
      "INFO:linopy.io:Writing objective.\n",
      "Writing constraints.: 100%|\u001b[38;2;128;191;255m██████████\u001b[0m| 15/15 [00:00<00:00, 21.23it/s]\n",
      "Writing continuous variables.: 100%|\u001b[38;2;128;191;255m██████████\u001b[0m| 6/6 [00:00<00:00, 72.71it/s]\n",
      "INFO:linopy.io: Writing time: 0.86s\n",
      "INFO:linopy.constants: Optimization successful: \n",
      "Status: ok\n",
      "Termination condition: optimal\n",
      "Solution: 31680 primals, 119168 duals\n",
      "Objective: 1.85e+09\n",
      "Solver model: available\n",
      "Solver message: optimal\n",
      "\n",
      "INFO:pypsa.optimization.optimize:The shadow-prices of the constraints Generator-fix-p-lower, Generator-fix-p-upper, Generator-fix-p-ramp_limit_up, Generator-fix-p-ramp_limit_down, Link-fix-p-lower, Link-fix-p-upper, StorageUnit-fix-p_dispatch-lower, StorageUnit-fix-p_dispatch-upper, StorageUnit-fix-p_store-lower, StorageUnit-fix-p_store-upper, StorageUnit-fix-state_of_charge-lower, StorageUnit-fix-state_of_charge-upper, StorageUnit-energy_balance were not assigned to the network.\n",
      "INFO:pypsa.io:Exported network 'solved_network_9.nc' contains: loads, carriers, storage_units, buses, links, generators\n"
     ]
    },
    {
     "name": "stdout",
     "output_type": "stream",
     "text": [
      "Run 10 completed and stored in monte_carlo\n"
     ]
    }
   ],
   "source": [
    "marginal_costs_dict = {} \n",
    "\n",
    "# Ensure the 'monte_carlo' directory exists\n",
    "monte_carlo_dir = \"monte_carlo\"\n",
    "os.makedirs(monte_carlo_dir, exist_ok=True)\n",
    "\n",
    "# Define the number of iterations and the step size (3 days)\n",
    "num_iterations = 10\n",
    "days_per_run = 3\n",
    "\n",
    "# Loop through the iterations\n",
    "for i in range(num_iterations):\n",
    "    # Create a copy of the original network\n",
    "    network_copy = network.copy()  # Assuming 'network' is your base PyPSA network\n",
    "\n",
    "    # Define the time window for the current iteration\n",
    "    start_index = i * days_per_run * 24  # Assuming hourly resolution\n",
    "    end_index = start_index + (days_per_run * 24)\n",
    "    \n",
    "    # Ensure we do not exceed available snapshots\n",
    "    if end_index > len(network.snapshots):\n",
    "        print(f\"Skipping iteration {i} as it exceeds available snapshots.\")\n",
    "        break\n",
    "\n",
    "    # Select snapshots for this iteration\n",
    "    network_copy.snapshots = network.snapshots[start_index:end_index]\n",
    "\n",
    "    # Solve the network for the selected period\n",
    "    network_copy.optimize()\n",
    "\n",
    "\n",
    "\n",
    "    # Make a copy of the marginal price data\n",
    "    df_marginal_prices = network_copy.buses_t.marginal_price.copy()\n",
    "\n",
    "    # Generate a new datetime index starting from 1st Jan 2015 with the same length as df\n",
    "    new_index = pd.date_range(start=\"2015-01-01 00:00:00\", periods=len(df_marginal_prices), freq=\"h\")\n",
    "\n",
    "    # Assign the new index to df\n",
    "    df_marginal_prices.index = new_index\n",
    "\n",
    "\n",
    "\n",
    "\n",
    "    marginal_costs_dict[f\"run_{i}\"] = df_marginal_prices\n",
    "\n",
    "    # Save the solved network\n",
    "    network_copy.export_to_netcdf(os.path.join(monte_carlo_dir, f\"solved_network_{i}.nc\"))\n",
    "\n",
    "    print(f\"Run {i+1} completed and stored in {monte_carlo_dir}\")\n"
   ]
  },
  {
   "cell_type": "code",
   "execution_count": 47,
   "metadata": {},
   "outputs": [
    {
     "data": {
      "application/vnd.microsoft.datawrangler.viewer.v0+json": {
       "columns": [
        {
         "name": "index",
         "rawType": "datetime64[ns]",
         "type": "datetime"
        },
        {
         "name": "BE",
         "rawType": "float64",
         "type": "float"
        },
        {
         "name": "DK",
         "rawType": "float64",
         "type": "float"
        },
        {
         "name": "FR",
         "rawType": "float64",
         "type": "float"
        },
        {
         "name": "LU",
         "rawType": "float64",
         "type": "float"
        },
        {
         "name": "NO",
         "rawType": "float64",
         "type": "float"
        },
        {
         "name": "SE",
         "rawType": "float64",
         "type": "float"
        },
        {
         "name": "DE",
         "rawType": "float64",
         "type": "float"
        },
        {
         "name": "NL",
         "rawType": "float64",
         "type": "float"
        }
       ],
       "conversionMethod": "pd.DataFrame",
       "ref": "14574a51-e3a6-455d-b731-73734f4cd33b",
       "rows": [
        [
         "2015-01-01 00:00:00",
         "1004.0",
         "0.171",
         "1006.0",
         "0.15",
         "0.15",
         "0.16",
         "0.158",
         "0.78"
        ],
        [
         "2015-01-01 01:00:00",
         "1004.0",
         "0.171",
         "1006.0",
         "0.15",
         "0.15",
         "0.16",
         "0.158",
         "0.78"
        ],
        [
         "2015-01-01 02:00:00",
         "1004.0",
         "0.171",
         "1006.0",
         "0.15",
         "0.15",
         "0.16",
         "0.158",
         "0.78"
        ],
        [
         "2015-01-01 03:00:00",
         "1004.0",
         "0.171",
         "1006.0",
         "0.15",
         "0.15",
         "0.16",
         "0.158",
         "0.78"
        ],
        [
         "2015-01-01 04:00:00",
         "1004.0",
         "0.171",
         "1006.0",
         "0.15",
         "0.15",
         "0.16",
         "0.158",
         "0.78"
        ],
        [
         "2015-01-01 05:00:00",
         "1004.0",
         "0.779",
         "1006.0",
         "0.15",
         "0.15",
         "0.768",
         "0.766",
         "0.78"
        ],
        [
         "2015-01-01 06:00:00",
         "1004.0",
         "2.01",
         "1006.0",
         "0.15",
         "0.15",
         "1.9989999999999999",
         "1.9969999999999999",
         "0.78"
        ],
        [
         "2015-01-01 07:00:00",
         "1004.0",
         "2.01",
         "1006.0",
         "0.15",
         "0.15",
         "1.9989999999999999",
         "3.29",
         "1.05"
        ],
        [
         "2015-01-01 08:00:00",
         "1004.0",
         "2.01",
         "1006.0",
         "0.15",
         "0.15",
         "1.9989999999999999",
         "4.0",
         "1.63"
        ],
        [
         "2015-01-01 09:00:00",
         "1004.0",
         "2.01",
         "1006.0",
         "0.15",
         "0.15",
         "1.9989999999999999",
         "3.9",
         "2.29"
        ],
        [
         "2015-01-01 10:00:00",
         "1004.0",
         "2.01",
         "1006.0",
         "0.15",
         "0.15",
         "1.9989999999999999",
         "3.7",
         "2.29"
        ],
        [
         "2015-01-01 11:00:00",
         "1004.0",
         "2.01",
         "1006.0",
         "0.15",
         "0.15",
         "1.9989999999999999",
         "4.04",
         "2.29"
        ],
        [
         "2015-01-01 12:00:00",
         "1004.0",
         "2.01",
         "1006.0",
         "0.15",
         "0.15",
         "1.9989999999999999",
         "4.809999999999999",
         "2.29"
        ],
        [
         "2015-01-01 13:00:00",
         "1004.0",
         "2.01",
         "1006.0",
         "0.15",
         "0.15",
         "1.9989999999999999",
         "4.33",
         "2.29"
        ],
        [
         "2015-01-01 14:00:00",
         "1004.0",
         "2.01",
         "1006.0",
         "0.15",
         "0.15",
         "1.9989999999999999",
         "5.5",
         "1.68"
        ],
        [
         "2015-01-01 15:00:00",
         "1004.0",
         "2.01",
         "1006.0",
         "0.15",
         "0.15",
         "1.9989999999999999",
         "6.03",
         "2.29"
        ],
        [
         "2015-01-01 16:00:00",
         "1004.0",
         "2.01",
         "1006.0",
         "0.15",
         "0.15",
         "1.9989999999999999",
         "6.379999999999998",
         "2.63"
        ],
        [
         "2015-01-01 17:00:00",
         "1004.0",
         "2.01",
         "1006.0",
         "0.15",
         "0.15",
         "1.9989999999999999",
         "6.91",
         "3.46"
        ],
        [
         "2015-01-01 18:00:00",
         "1004.0",
         "2.01",
         "1006.0",
         "0.15",
         "0.15",
         "1.9989999999999999",
         "6.96",
         "3.46"
        ],
        [
         "2015-01-01 19:00:00",
         "1004.0",
         "2.01",
         "1006.0",
         "0.15",
         "0.15",
         "1.9989999999999999",
         "6.7",
         "3.27"
        ],
        [
         "2015-01-01 20:00:00",
         "1004.0",
         "2.01",
         "1006.0",
         "0.15",
         "0.15",
         "1.9989999999999999",
         "5.93",
         "2.29"
        ],
        [
         "2015-01-01 21:00:00",
         "1004.0",
         "2.01",
         "1006.0",
         "0.15",
         "0.15",
         "1.9989999999999999",
         "5.41",
         "1.63"
        ],
        [
         "2015-01-01 22:00:00",
         "1004.0",
         "2.01",
         "1006.0",
         "0.15",
         "0.15",
         "1.9989999999999999",
         "5.41",
         "1.63"
        ],
        [
         "2015-01-01 23:00:00",
         "1004.0",
         "2.01",
         "1006.0",
         "0.15",
         "0.15",
         "1.9989999999999999",
         "5.41",
         "1.45"
        ],
        [
         "2015-01-02 00:00:00",
         "1004.0",
         "2.01",
         "1006.0",
         "0.15",
         "0.15",
         "1.9989999999999999",
         "4.14",
         "1.05"
        ],
        [
         "2015-01-02 01:00:00",
         "1004.0",
         "2.01",
         "1006.0",
         "0.15",
         "0.15",
         "1.9989999999999999",
         "4.04",
         "0.8"
        ],
        [
         "2015-01-02 02:00:00",
         "1004.0",
         "2.01",
         "1006.0",
         "0.15",
         "0.15",
         "1.9989999999999999",
         "3.61",
         "0.78"
        ],
        [
         "2015-01-02 03:00:00",
         "1004.0",
         "2.01",
         "1006.0",
         "0.15",
         "0.15",
         "1.9989999999999999",
         "3.6599999999999997",
         "0.78"
        ],
        [
         "2015-01-02 04:00:00",
         "1004.0",
         "2.01",
         "1006.0",
         "0.15",
         "0.15",
         "1.9989999999999999",
         "3.73",
         "0.78"
        ],
        [
         "2015-01-02 05:00:00",
         "1004.0",
         "2.01",
         "1006.0",
         "0.15",
         "0.15",
         "1.9989999999999999",
         "3.46",
         "0.78"
        ],
        [
         "2015-01-02 06:00:00",
         "1004.0",
         "2.01",
         "1006.0",
         "0.15",
         "0.15",
         "1.9989999999999999",
         "3.36",
         "0.8"
        ],
        [
         "2015-01-02 07:00:00",
         "11.04",
         "2.01",
         "1006.0",
         "0.15",
         "0.15",
         "1.9989999999999999",
         "4.04",
         "1.05"
        ],
        [
         "2015-01-02 08:00:00",
         "8.26",
         "2.01",
         "1006.0",
         "0.15",
         "0.15",
         "1.9989999999999999",
         "4.69",
         "1.63"
        ],
        [
         "2015-01-02 09:00:00",
         "1004.0",
         "2.01",
         "1006.0",
         "0.15",
         "0.15",
         "1.9989999999999999",
         "5.05",
         "2.29"
        ],
        [
         "2015-01-02 10:00:00",
         "1004.0",
         "2.01",
         "1006.0",
         "0.15",
         "0.15",
         "1.9989999999999999",
         "4.87",
         "2.63"
        ],
        [
         "2015-01-02 11:00:00",
         "1004.0",
         "2.01",
         "1006.0",
         "0.15",
         "0.15",
         "1.9989999999999999",
         "5.09",
         "2.63"
        ],
        [
         "2015-01-02 12:00:00",
         "1004.0",
         "2.01",
         "1006.0",
         "0.15",
         "0.15",
         "1.9989999999999999",
         "4.29",
         "2.63"
        ],
        [
         "2015-01-02 13:00:00",
         "1004.0",
         "2.01",
         "1006.0",
         "0.15",
         "0.15",
         "1.9989999999999999",
         "3.87",
         "2.63"
        ],
        [
         "2015-01-02 14:00:00",
         "1004.0",
         "2.01",
         "1006.0",
         "0.15",
         "0.15",
         "1.9989999999999999",
         "3.87",
         "2.63"
        ],
        [
         "2015-01-02 15:00:00",
         "1004.0",
         "2.01",
         "1006.0",
         "0.15",
         "0.15",
         "1.9989999999999999",
         "4.45",
         "2.63"
        ],
        [
         "2015-01-02 16:00:00",
         "1004.0",
         "2.01",
         "1006.0",
         "0.15",
         "0.15",
         "1.9989999999999999",
         "5.62",
         "3.27"
        ],
        [
         "2015-01-02 17:00:00",
         "1004.0",
         "2.01",
         "1006.0",
         "0.15",
         "0.15",
         "1.9989999999999999",
         "5.62",
         "3.63"
        ],
        [
         "2015-01-02 18:00:00",
         "1004.0",
         "2.01",
         "1006.0",
         "0.15",
         "0.15",
         "1.9989999999999999",
         "5.62",
         "3.46"
        ],
        [
         "2015-01-02 19:00:00",
         "1004.0",
         "2.01",
         "1006.0",
         "0.15",
         "0.15",
         "1.9989999999999999",
         "5.23",
         "3.27"
        ],
        [
         "2015-01-02 20:00:00",
         "1004.0",
         "2.01",
         "1006.0",
         "0.15",
         "0.15",
         "1.9989999999999999",
         "4.04",
         "2.63"
        ],
        [
         "2015-01-02 21:00:00",
         "1004.0",
         "2.01",
         "1006.0",
         "0.15",
         "0.15",
         "1.9989999999999999",
         "3.47",
         "2.29"
        ],
        [
         "2015-01-02 22:00:00",
         "1004.0",
         "2.01",
         "1006.0",
         "0.15",
         "0.15",
         "1.9989999999999999",
         "4.04",
         "1.63"
        ],
        [
         "2015-01-02 23:00:00",
         "0.781",
         "2.01",
         "1006.0",
         "0.15",
         "0.15",
         "1.9989999999999999",
         "3.7",
         "0.8"
        ],
        [
         "2015-01-03 00:00:00",
         "1004.0",
         "2.01",
         "1006.0",
         "0.15",
         "0.15",
         "1.9989999999999999",
         "3.02",
         "0.8"
        ],
        [
         "2015-01-03 01:00:00",
         "1004.0",
         "2.01",
         "1006.0",
         "0.15",
         "0.15",
         "1.9989999999999999",
         "2.64",
         "0.78"
        ]
       ],
       "shape": {
        "columns": 8,
        "rows": 72
       }
      },
      "text/html": [
       "<div>\n",
       "<style scoped>\n",
       "    .dataframe tbody tr th:only-of-type {\n",
       "        vertical-align: middle;\n",
       "    }\n",
       "\n",
       "    .dataframe tbody tr th {\n",
       "        vertical-align: top;\n",
       "    }\n",
       "\n",
       "    .dataframe thead th {\n",
       "        text-align: right;\n",
       "    }\n",
       "</style>\n",
       "<table border=\"1\" class=\"dataframe\">\n",
       "  <thead>\n",
       "    <tr style=\"text-align: right;\">\n",
       "      <th></th>\n",
       "      <th>BE</th>\n",
       "      <th>DK</th>\n",
       "      <th>FR</th>\n",
       "      <th>LU</th>\n",
       "      <th>NO</th>\n",
       "      <th>SE</th>\n",
       "      <th>DE</th>\n",
       "      <th>NL</th>\n",
       "    </tr>\n",
       "  </thead>\n",
       "  <tbody>\n",
       "    <tr>\n",
       "      <th>2015-01-01 00:00:00</th>\n",
       "      <td>1004.0</td>\n",
       "      <td>0.171</td>\n",
       "      <td>1006.0</td>\n",
       "      <td>0.15</td>\n",
       "      <td>0.15</td>\n",
       "      <td>0.160</td>\n",
       "      <td>0.158</td>\n",
       "      <td>0.78</td>\n",
       "    </tr>\n",
       "    <tr>\n",
       "      <th>2015-01-01 01:00:00</th>\n",
       "      <td>1004.0</td>\n",
       "      <td>0.171</td>\n",
       "      <td>1006.0</td>\n",
       "      <td>0.15</td>\n",
       "      <td>0.15</td>\n",
       "      <td>0.160</td>\n",
       "      <td>0.158</td>\n",
       "      <td>0.78</td>\n",
       "    </tr>\n",
       "    <tr>\n",
       "      <th>2015-01-01 02:00:00</th>\n",
       "      <td>1004.0</td>\n",
       "      <td>0.171</td>\n",
       "      <td>1006.0</td>\n",
       "      <td>0.15</td>\n",
       "      <td>0.15</td>\n",
       "      <td>0.160</td>\n",
       "      <td>0.158</td>\n",
       "      <td>0.78</td>\n",
       "    </tr>\n",
       "    <tr>\n",
       "      <th>2015-01-01 03:00:00</th>\n",
       "      <td>1004.0</td>\n",
       "      <td>0.171</td>\n",
       "      <td>1006.0</td>\n",
       "      <td>0.15</td>\n",
       "      <td>0.15</td>\n",
       "      <td>0.160</td>\n",
       "      <td>0.158</td>\n",
       "      <td>0.78</td>\n",
       "    </tr>\n",
       "    <tr>\n",
       "      <th>2015-01-01 04:00:00</th>\n",
       "      <td>1004.0</td>\n",
       "      <td>0.171</td>\n",
       "      <td>1006.0</td>\n",
       "      <td>0.15</td>\n",
       "      <td>0.15</td>\n",
       "      <td>0.160</td>\n",
       "      <td>0.158</td>\n",
       "      <td>0.78</td>\n",
       "    </tr>\n",
       "    <tr>\n",
       "      <th>...</th>\n",
       "      <td>...</td>\n",
       "      <td>...</td>\n",
       "      <td>...</td>\n",
       "      <td>...</td>\n",
       "      <td>...</td>\n",
       "      <td>...</td>\n",
       "      <td>...</td>\n",
       "      <td>...</td>\n",
       "    </tr>\n",
       "    <tr>\n",
       "      <th>2015-01-03 19:00:00</th>\n",
       "      <td>1004.0</td>\n",
       "      <td>2.010</td>\n",
       "      <td>1006.0</td>\n",
       "      <td>0.15</td>\n",
       "      <td>0.15</td>\n",
       "      <td>1.999</td>\n",
       "      <td>5.870</td>\n",
       "      <td>2.63</td>\n",
       "    </tr>\n",
       "    <tr>\n",
       "      <th>2015-01-03 20:00:00</th>\n",
       "      <td>1004.0</td>\n",
       "      <td>2.010</td>\n",
       "      <td>1006.0</td>\n",
       "      <td>0.15</td>\n",
       "      <td>0.15</td>\n",
       "      <td>1.999</td>\n",
       "      <td>5.430</td>\n",
       "      <td>2.63</td>\n",
       "    </tr>\n",
       "    <tr>\n",
       "      <th>2015-01-03 21:00:00</th>\n",
       "      <td>1004.0</td>\n",
       "      <td>2.010</td>\n",
       "      <td>1006.0</td>\n",
       "      <td>0.15</td>\n",
       "      <td>0.15</td>\n",
       "      <td>1.999</td>\n",
       "      <td>5.380</td>\n",
       "      <td>2.29</td>\n",
       "    </tr>\n",
       "    <tr>\n",
       "      <th>2015-01-03 22:00:00</th>\n",
       "      <td>1004.0</td>\n",
       "      <td>2.010</td>\n",
       "      <td>1006.0</td>\n",
       "      <td>0.15</td>\n",
       "      <td>0.15</td>\n",
       "      <td>1.999</td>\n",
       "      <td>5.660</td>\n",
       "      <td>1.63</td>\n",
       "    </tr>\n",
       "    <tr>\n",
       "      <th>2015-01-03 23:00:00</th>\n",
       "      <td>1004.0</td>\n",
       "      <td>2.010</td>\n",
       "      <td>1006.0</td>\n",
       "      <td>0.15</td>\n",
       "      <td>0.15</td>\n",
       "      <td>1.999</td>\n",
       "      <td>5.100</td>\n",
       "      <td>1.05</td>\n",
       "    </tr>\n",
       "  </tbody>\n",
       "</table>\n",
       "<p>72 rows × 8 columns</p>\n",
       "</div>"
      ],
      "text/plain": [
       "                         BE     DK      FR    LU    NO     SE     DE    NL\n",
       "2015-01-01 00:00:00  1004.0  0.171  1006.0  0.15  0.15  0.160  0.158  0.78\n",
       "2015-01-01 01:00:00  1004.0  0.171  1006.0  0.15  0.15  0.160  0.158  0.78\n",
       "2015-01-01 02:00:00  1004.0  0.171  1006.0  0.15  0.15  0.160  0.158  0.78\n",
       "2015-01-01 03:00:00  1004.0  0.171  1006.0  0.15  0.15  0.160  0.158  0.78\n",
       "2015-01-01 04:00:00  1004.0  0.171  1006.0  0.15  0.15  0.160  0.158  0.78\n",
       "...                     ...    ...     ...   ...   ...    ...    ...   ...\n",
       "2015-01-03 19:00:00  1004.0  2.010  1006.0  0.15  0.15  1.999  5.870  2.63\n",
       "2015-01-03 20:00:00  1004.0  2.010  1006.0  0.15  0.15  1.999  5.430  2.63\n",
       "2015-01-03 21:00:00  1004.0  2.010  1006.0  0.15  0.15  1.999  5.380  2.29\n",
       "2015-01-03 22:00:00  1004.0  2.010  1006.0  0.15  0.15  1.999  5.660  1.63\n",
       "2015-01-03 23:00:00  1004.0  2.010  1006.0  0.15  0.15  1.999  5.100  1.05\n",
       "\n",
       "[72 rows x 8 columns]"
      ]
     },
     "execution_count": 47,
     "metadata": {},
     "output_type": "execute_result"
    }
   ],
   "source": [
    "marginal_costs_dict['run_5']"
   ]
  },
  {
   "cell_type": "code",
   "execution_count": 49,
   "metadata": {},
   "outputs": [],
   "source": [
    "average_df = pd.concat(marginal_costs_dict.values(), axis=0).groupby(level=0).mean()\n",
    "\n",
    "std_dev_df = pd.concat(marginal_costs_dict.values(), axis=0).groupby(level=0).std()"
   ]
  },
  {
   "cell_type": "code",
   "execution_count": 50,
   "metadata": {},
   "outputs": [
    {
     "data": {
      "application/vnd.microsoft.datawrangler.viewer.v0+json": {
       "columns": [
        {
         "name": "index",
         "rawType": "datetime64[ns]",
         "type": "datetime"
        },
        {
         "name": "BE",
         "rawType": "float64",
         "type": "float"
        },
        {
         "name": "DK",
         "rawType": "float64",
         "type": "float"
        },
        {
         "name": "FR",
         "rawType": "float64",
         "type": "float"
        },
        {
         "name": "LU",
         "rawType": "float64",
         "type": "float"
        },
        {
         "name": "NO",
         "rawType": "float64",
         "type": "float"
        },
        {
         "name": "SE",
         "rawType": "float64",
         "type": "float"
        },
        {
         "name": "DE",
         "rawType": "float64",
         "type": "float"
        },
        {
         "name": "NL",
         "rawType": "float64",
         "type": "float"
        }
       ],
       "conversionMethod": "pd.DataFrame",
       "ref": "dadfe071-34c8-4032-868f-085b2560146b",
       "rows": [
        [
         "2015-01-01 00:00:00",
         "803.3621",
         "1.0197999999999998",
         "906.558",
         "0.15",
         "0.15",
         "1.0088",
         "2.4304",
         "1.237"
        ],
        [
         "2015-01-01 01:00:00",
         "803.3621",
         "1.0067999999999997",
         "906.1479999999999",
         "0.15",
         "0.15",
         "0.9957999999999998",
         "2.2104",
         "1.072"
        ],
        [
         "2015-01-01 02:00:00",
         "803.3542",
         "1.1797999999999997",
         "906.051",
         "0.15",
         "0.15",
         "1.1687999999999998",
         "2.1054",
         "1.045"
        ],
        [
         "2015-01-01 03:00:00",
         "803.318",
         "1.2121",
         "905.742",
         "0.15",
         "0.15",
         "1.2010999999999998",
         "2.1368",
         "1.043"
        ],
        [
         "2015-01-01 04:00:00",
         "803.3371",
         "1.2033",
         "806.174",
         "0.15",
         "0.15",
         "1.1923",
         "2.146",
         "1.045"
        ],
        [
         "2015-01-01 05:00:00",
         "803.3351",
         "1.2121",
         "905.655",
         "0.15",
         "0.15",
         "1.2010999999999998",
         "2.1648",
         "1.045"
        ],
        [
         "2015-01-01 06:00:00",
         "803.2167000000001",
         "1.4287999999999998",
         "905.771",
         "0.15",
         "0.15",
         "5.975099999999999",
         "2.8096",
         "1.4194"
        ],
        [
         "2015-01-01 07:00:00",
         "803.2",
         "2.2426",
         "905.805",
         "0.15",
         "0.15",
         "101.6076",
         "3.6075000000000004",
         "1.954"
        ],
        [
         "2015-01-01 08:00:00",
         "803.2",
         "2.2159",
         "906.1479999999999",
         "0.15",
         "0.15",
         "101.74690000000001",
         "3.7394999999999996",
         "2.4731"
        ],
        [
         "2015-01-01 09:00:00",
         "803.2",
         "2.2775",
         "906.1479999999999",
         "0.15",
         "0.15",
         "101.83860000000001",
         "3.8206",
         "2.7054"
        ],
        [
         "2015-01-01 10:00:00",
         "803.3611",
         "2.2398",
         "905.784",
         "0.15",
         "0.15",
         "101.8009",
         "3.7005000000000003",
         "2.9384"
        ],
        [
         "2015-01-01 11:00:00",
         "803.812",
         "2.2178",
         "905.655",
         "0.15",
         "0.15",
         "101.7719",
         "3.7506",
         "3.0873999999999997"
        ],
        [
         "2015-01-01 12:00:00",
         "803.8729999999999",
         "2.0949",
         "905.655",
         "0.15",
         "0.15",
         "101.663",
         "3.5997",
         "3.0614"
        ],
        [
         "2015-01-01 13:00:00",
         "803.889",
         "2.0180999999999996",
         "905.655",
         "0.15",
         "0.15",
         "101.5792",
         "3.4197",
         "2.9814"
        ],
        [
         "2015-01-01 14:00:00",
         "903.6",
         "2.0551",
         "905.655",
         "0.15",
         "0.15",
         "101.6593",
         "3.6216999999999997",
         "2.9454000000000002"
        ],
        [
         "2015-01-01 15:00:00",
         "903.6",
         "2.2393",
         "905.655",
         "0.15",
         "0.15",
         "101.89450000000001",
         "4.0019",
         "3.0401"
        ],
        [
         "2015-01-01 16:00:00",
         "903.6",
         "2.4715",
         "906.073",
         "0.15",
         "0.15",
         "102.5797",
         "4.0595",
         "3.4147"
        ],
        [
         "2015-01-01 17:00:00",
         "903.6",
         "3.1456",
         "1006.0",
         "0.15",
         "0.15",
         "102.77949999999998",
         "4.5324",
         "3.8653999999999997"
        ],
        [
         "2015-01-01 18:00:00",
         "903.6",
         "3.0019",
         "1006.0",
         "0.15",
         "0.15",
         "102.234",
         "4.5267",
         "3.7348"
        ],
        [
         "2015-01-01 19:00:00",
         "803.889",
         "2.0482",
         "1006.0",
         "0.15",
         "0.15",
         "101.6163",
         "4.1798",
         "3.4228"
        ],
        [
         "2015-01-01 20:00:00",
         "803.817",
         "1.8959999999999997",
         "1006.0",
         "0.15",
         "0.15",
         "101.4641",
         "3.6601",
         "2.9597"
        ],
        [
         "2015-01-01 21:00:00",
         "803.708",
         "1.6538999999999997",
         "1006.0",
         "0.15",
         "0.15",
         "2.497",
         "3.243",
         "2.4414000000000002"
        ],
        [
         "2015-01-01 22:00:00",
         "803.5020000000001",
         "1.5684999999999998",
         "1006.0",
         "0.15",
         "0.15",
         "1.6285999999999998",
         "3.1995999999999998",
         "1.798"
        ],
        [
         "2015-01-01 23:00:00",
         "803.3992000000001",
         "1.4498",
         "1006.0",
         "0.15",
         "0.15",
         "1.4388",
         "2.884",
         "1.4916"
        ],
        [
         "2015-01-02 00:00:00",
         "903.6",
         "1.4642",
         "1006.0",
         "0.15",
         "0.15",
         "1.4541",
         "2.5134999999999996",
         "1.2738999999999998"
        ],
        [
         "2015-01-02 01:00:00",
         "903.6",
         "1.3154",
         "1006.0",
         "0.15",
         "0.15",
         "1.3053",
         "2.3337",
         "1.0584"
        ],
        [
         "2015-01-02 02:00:00",
         "903.6",
         "1.2368",
         "1006.0",
         "0.15",
         "0.15",
         "1.2267",
         "2.1412",
         "0.9647"
        ],
        [
         "2015-01-02 03:00:00",
         "903.6",
         "1.275",
         "1006.0",
         "0.15",
         "0.15",
         "1.2649",
         "2.2062999999999997",
         "0.952"
        ],
        [
         "2015-01-02 04:00:00",
         "903.6",
         "1.3184",
         "1006.0",
         "0.15",
         "0.15",
         "1.3083",
         "2.2237999999999998",
         "0.952"
        ],
        [
         "2015-01-02 05:00:00",
         "903.6",
         "1.3924999999999998",
         "906.558",
         "0.15",
         "0.15",
         "1.3824",
         "2.2939",
         "1.0496"
        ],
        [
         "2015-01-02 06:00:00",
         "903.6",
         "1.6016999999999997",
         "906.519",
         "0.15",
         "0.15",
         "2.2547",
         "2.9151",
         "1.4606"
        ],
        [
         "2015-01-02 07:00:00",
         "804.304",
         "2.2521",
         "906.452",
         "0.15",
         "0.15",
         "101.61800000000001",
         "3.586",
         "2.1608"
        ],
        [
         "2015-01-02 08:00:00",
         "804.0260000000001",
         "2.1917",
         "906.519",
         "0.15",
         "0.184",
         "101.7227",
         "3.8398000000000003",
         "2.9314"
        ],
        [
         "2015-01-02 09:00:00",
         "903.6",
         "2.1186999999999996",
         "906.519",
         "0.15",
         "0.184",
         "101.6807",
         "3.7298",
         "3.2723999999999998"
        ],
        [
         "2015-01-02 10:00:00",
         "903.6",
         "2.1802",
         "906.2909999999999",
         "0.15",
         "0.184",
         "101.98910000000001",
         "3.6924",
         "3.3924"
        ],
        [
         "2015-01-02 11:00:00",
         "804.304",
         "2.2607999999999997",
         "905.771",
         "0.15",
         "0.184",
         "102.30260000000001",
         "3.8049999999999997",
         "3.4194000000000004"
        ],
        [
         "2015-01-02 12:00:00",
         "903.6",
         "2.1487",
         "905.655",
         "0.15",
         "0.15",
         "102.2155",
         "3.5875",
         "3.3549999999999995"
        ],
        [
         "2015-01-02 13:00:00",
         "903.6",
         "2.1713999999999998",
         "905.655",
         "0.15",
         "0.15",
         "102.2373",
         "3.4238",
         "3.2988"
        ],
        [
         "2015-01-02 14:00:00",
         "903.6",
         "2.2384",
         "905.655",
         "0.15",
         "0.15",
         "3.3806",
         "3.6031",
         "3.3369999999999997"
        ],
        [
         "2015-01-02 15:00:00",
         "903.6",
         "2.0624",
         "906.219",
         "0.15",
         "0.15",
         "3.3806",
         "4.0458",
         "3.4402"
        ],
        [
         "2015-01-02 16:00:00",
         "903.6",
         "2.3203",
         "1006.0",
         "0.15",
         "0.15",
         "102.6618",
         "4.4486",
         "3.75"
        ],
        [
         "2015-01-02 17:00:00",
         "903.6",
         "3.0939",
         "1006.0",
         "0.15",
         "0.15",
         "103.2758",
         "4.9277999999999995",
         "4.2254"
        ],
        [
         "2015-01-02 18:00:00",
         "803.2",
         "2.9086",
         "1006.0",
         "0.15",
         "0.15",
         "3.6406",
         "4.8946",
         "3.9219999999999997"
        ],
        [
         "2015-01-02 19:00:00",
         "903.6",
         "2.2491",
         "1006.0",
         "0.15",
         "0.15",
         "2.2381",
         "4.7162",
         "3.7089999999999996"
        ],
        [
         "2015-01-02 20:00:00",
         "903.6",
         "1.7776999999999998",
         "1006.0",
         "0.15",
         "0.15",
         "1.7666999999999997",
         "3.9577",
         "3.2504"
        ],
        [
         "2015-01-02 21:00:00",
         "903.6",
         "1.5684999999999998",
         "1006.0",
         "0.15",
         "0.15",
         "1.5574999999999999",
         "3.544200000000001",
         "2.892"
        ],
        [
         "2015-01-02 22:00:00",
         "903.6",
         "1.5997",
         "1006.0",
         "0.15",
         "0.15",
         "1.5896",
         "3.4915",
         "2.3334"
        ],
        [
         "2015-01-02 23:00:00",
         "803.2781",
         "1.4573999999999998",
         "1006.0",
         "0.15",
         "0.15",
         "1.4472999999999998",
         "2.7369999999999997",
         "1.8371"
        ],
        [
         "2015-01-03 00:00:00",
         "903.6",
         "1.4573999999999998",
         "1006.0",
         "0.15",
         "0.15",
         "1.4472999999999998",
         "2.6439999999999997",
         "1.5041"
        ],
        [
         "2015-01-03 01:00:00",
         "903.659",
         "1.4171",
         "1006.0",
         "0.15",
         "0.15",
         "1.4079",
         "2.5307000000000004",
         "1.3864"
        ]
       ],
       "shape": {
        "columns": 8,
        "rows": 72
       }
      },
      "text/html": [
       "<div>\n",
       "<style scoped>\n",
       "    .dataframe tbody tr th:only-of-type {\n",
       "        vertical-align: middle;\n",
       "    }\n",
       "\n",
       "    .dataframe tbody tr th {\n",
       "        vertical-align: top;\n",
       "    }\n",
       "\n",
       "    .dataframe thead th {\n",
       "        text-align: right;\n",
       "    }\n",
       "</style>\n",
       "<table border=\"1\" class=\"dataframe\">\n",
       "  <thead>\n",
       "    <tr style=\"text-align: right;\">\n",
       "      <th></th>\n",
       "      <th>BE</th>\n",
       "      <th>DK</th>\n",
       "      <th>FR</th>\n",
       "      <th>LU</th>\n",
       "      <th>NO</th>\n",
       "      <th>SE</th>\n",
       "      <th>DE</th>\n",
       "      <th>NL</th>\n",
       "    </tr>\n",
       "  </thead>\n",
       "  <tbody>\n",
       "    <tr>\n",
       "      <th>2015-01-01 00:00:00</th>\n",
       "      <td>803.3621</td>\n",
       "      <td>1.0198</td>\n",
       "      <td>906.558</td>\n",
       "      <td>0.15</td>\n",
       "      <td>0.15</td>\n",
       "      <td>1.0088</td>\n",
       "      <td>2.4304</td>\n",
       "      <td>1.2370</td>\n",
       "    </tr>\n",
       "    <tr>\n",
       "      <th>2015-01-01 01:00:00</th>\n",
       "      <td>803.3621</td>\n",
       "      <td>1.0068</td>\n",
       "      <td>906.148</td>\n",
       "      <td>0.15</td>\n",
       "      <td>0.15</td>\n",
       "      <td>0.9958</td>\n",
       "      <td>2.2104</td>\n",
       "      <td>1.0720</td>\n",
       "    </tr>\n",
       "    <tr>\n",
       "      <th>2015-01-01 02:00:00</th>\n",
       "      <td>803.3542</td>\n",
       "      <td>1.1798</td>\n",
       "      <td>906.051</td>\n",
       "      <td>0.15</td>\n",
       "      <td>0.15</td>\n",
       "      <td>1.1688</td>\n",
       "      <td>2.1054</td>\n",
       "      <td>1.0450</td>\n",
       "    </tr>\n",
       "    <tr>\n",
       "      <th>2015-01-01 03:00:00</th>\n",
       "      <td>803.3180</td>\n",
       "      <td>1.2121</td>\n",
       "      <td>905.742</td>\n",
       "      <td>0.15</td>\n",
       "      <td>0.15</td>\n",
       "      <td>1.2011</td>\n",
       "      <td>2.1368</td>\n",
       "      <td>1.0430</td>\n",
       "    </tr>\n",
       "    <tr>\n",
       "      <th>2015-01-01 04:00:00</th>\n",
       "      <td>803.3371</td>\n",
       "      <td>1.2033</td>\n",
       "      <td>806.174</td>\n",
       "      <td>0.15</td>\n",
       "      <td>0.15</td>\n",
       "      <td>1.1923</td>\n",
       "      <td>2.1460</td>\n",
       "      <td>1.0450</td>\n",
       "    </tr>\n",
       "    <tr>\n",
       "      <th>...</th>\n",
       "      <td>...</td>\n",
       "      <td>...</td>\n",
       "      <td>...</td>\n",
       "      <td>...</td>\n",
       "      <td>...</td>\n",
       "      <td>...</td>\n",
       "      <td>...</td>\n",
       "      <td>...</td>\n",
       "    </tr>\n",
       "    <tr>\n",
       "      <th>2015-01-03 19:00:00</th>\n",
       "      <td>904.2810</td>\n",
       "      <td>2.1955</td>\n",
       "      <td>1006.000</td>\n",
       "      <td>0.15</td>\n",
       "      <td>0.15</td>\n",
       "      <td>101.7636</td>\n",
       "      <td>4.5157</td>\n",
       "      <td>3.5699</td>\n",
       "    </tr>\n",
       "    <tr>\n",
       "      <th>2015-01-03 20:00:00</th>\n",
       "      <td>904.2120</td>\n",
       "      <td>2.0325</td>\n",
       "      <td>1006.000</td>\n",
       "      <td>0.15</td>\n",
       "      <td>0.15</td>\n",
       "      <td>2.4636</td>\n",
       "      <td>3.8673</td>\n",
       "      <td>3.2612</td>\n",
       "    </tr>\n",
       "    <tr>\n",
       "      <th>2015-01-03 21:00:00</th>\n",
       "      <td>904.1080</td>\n",
       "      <td>1.7482</td>\n",
       "      <td>1006.000</td>\n",
       "      <td>0.15</td>\n",
       "      <td>0.15</td>\n",
       "      <td>1.7372</td>\n",
       "      <td>3.5769</td>\n",
       "      <td>2.8668</td>\n",
       "    </tr>\n",
       "    <tr>\n",
       "      <th>2015-01-03 22:00:00</th>\n",
       "      <td>904.0270</td>\n",
       "      <td>1.5446</td>\n",
       "      <td>906.558</td>\n",
       "      <td>0.15</td>\n",
       "      <td>0.15</td>\n",
       "      <td>1.5336</td>\n",
       "      <td>3.3626</td>\n",
       "      <td>2.3438</td>\n",
       "    </tr>\n",
       "    <tr>\n",
       "      <th>2015-01-03 23:00:00</th>\n",
       "      <td>903.7611</td>\n",
       "      <td>1.3948</td>\n",
       "      <td>1006.000</td>\n",
       "      <td>0.15</td>\n",
       "      <td>0.15</td>\n",
       "      <td>1.3838</td>\n",
       "      <td>2.7538</td>\n",
       "      <td>1.8424</td>\n",
       "    </tr>\n",
       "  </tbody>\n",
       "</table>\n",
       "<p>72 rows × 8 columns</p>\n",
       "</div>"
      ],
      "text/plain": [
       "                           BE      DK        FR    LU    NO        SE      DE  \\\n",
       "2015-01-01 00:00:00  803.3621  1.0198   906.558  0.15  0.15    1.0088  2.4304   \n",
       "2015-01-01 01:00:00  803.3621  1.0068   906.148  0.15  0.15    0.9958  2.2104   \n",
       "2015-01-01 02:00:00  803.3542  1.1798   906.051  0.15  0.15    1.1688  2.1054   \n",
       "2015-01-01 03:00:00  803.3180  1.2121   905.742  0.15  0.15    1.2011  2.1368   \n",
       "2015-01-01 04:00:00  803.3371  1.2033   806.174  0.15  0.15    1.1923  2.1460   \n",
       "...                       ...     ...       ...   ...   ...       ...     ...   \n",
       "2015-01-03 19:00:00  904.2810  2.1955  1006.000  0.15  0.15  101.7636  4.5157   \n",
       "2015-01-03 20:00:00  904.2120  2.0325  1006.000  0.15  0.15    2.4636  3.8673   \n",
       "2015-01-03 21:00:00  904.1080  1.7482  1006.000  0.15  0.15    1.7372  3.5769   \n",
       "2015-01-03 22:00:00  904.0270  1.5446   906.558  0.15  0.15    1.5336  3.3626   \n",
       "2015-01-03 23:00:00  903.7611  1.3948  1006.000  0.15  0.15    1.3838  2.7538   \n",
       "\n",
       "                         NL  \n",
       "2015-01-01 00:00:00  1.2370  \n",
       "2015-01-01 01:00:00  1.0720  \n",
       "2015-01-01 02:00:00  1.0450  \n",
       "2015-01-01 03:00:00  1.0430  \n",
       "2015-01-01 04:00:00  1.0450  \n",
       "...                     ...  \n",
       "2015-01-03 19:00:00  3.5699  \n",
       "2015-01-03 20:00:00  3.2612  \n",
       "2015-01-03 21:00:00  2.8668  \n",
       "2015-01-03 22:00:00  2.3438  \n",
       "2015-01-03 23:00:00  1.8424  \n",
       "\n",
       "[72 rows x 8 columns]"
      ]
     },
     "execution_count": 50,
     "metadata": {},
     "output_type": "execute_result"
    }
   ],
   "source": [
    "average_df"
   ]
  },
  {
   "cell_type": "code",
   "execution_count": null,
   "metadata": {},
   "outputs": [
    {
     "data": {
      "image/png": "[encoded data removed]",
      "text/plain": [
       "<Figure size 1200x2400 with 8 Axes>"
      ]
     },
     "metadata": {},
     "output_type": "display_data"
    }
   ],
   "source": [
    "\n",
    "\n",
    "# Create a 2-column layout for the plots\n",
    "num_columns = 2\n",
    "num_rows = int(np.ceil(len(average_df.columns) / num_columns))\n",
    "\n",
    "fig, axes = plt.subplots(num_rows, num_columns, figsize=(12, 6 * num_rows), sharex=True)\n",
    "axes = axes.flatten()  # Flatten in case of single-row case\n",
    "\n",
    "# Plot each column separately\n",
    "for i, column in enumerate(average_df.columns):\n",
    "    ax = axes[i]\n",
    "    ax.plot(average_df.index, average_df[column], label=\"Mean\", linewidth=2)\n",
    "    ax.fill_between(\n",
    "        average_df.index,\n",
    "        average_df[column] - std_dev_df[column],\n",
    "        average_df[column] + std_dev_df[column],\n",
    "        alpha=0.3,\n",
    "        label=\"±1 Std Dev\",\n",
    "    )\n",
    "    \n",
    "    ax.set_title(f\"Time Series for {column}\")\n",
    "    ax.set_ylabel(\"Value\")\n",
    "    ax.legend()\n",
    "    ax.grid(True)\n",
    "\n",
    "# Remove any empty subplots\n",
    "for j in range(i + 1, len(axes)):\n",
    "    fig.delaxes(axes[j])\n",
    "\n",
    "plt.tight_layout()\n",
    "plt.show()\n"
   ]
  },
  {
   "cell_type": "markdown",
   "metadata": {},
   "source": [
    "###\n",
    "---"
   ]
  }
 ],
 "metadata": {
  "kernelspec": {
   "display_name": "flex_training_env",
   "language": "python",
   "name": "python3"
  },
  "language_info": {
   "codemirror_mode": {
    "name": "ipython",
    "version": 3
   },
   "file_extension": ".py",
   "mimetype": "text/x-python",
   "name": "python",
   "nbconvert_exporter": "python",
   "pygments_lexer": "ipython3",
   "version": "3.10.16"
  }
 },
 "nbformat": 4,
 "nbformat_minor": 2
}
