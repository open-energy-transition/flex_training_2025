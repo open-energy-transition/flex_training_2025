{
 "cells": [
  {
   "cell_type": "markdown",
   "metadata": {},
   "source": [
    "### 📘 Lesson 3: Environment Setup"
   ]
  },
  {
   "cell_type": "markdown",
   "metadata": {},
   "source": [
    "<div style=\"display: flex; align-items: center; justify-content: space-between;\">\n",
    "  <div>\n",
    "    <h3>Course presenters</h3>\n",
    "    <ul>\n",
    "      <li><strong>Priyesh Gosai</strong> - Energy Systems Modeler and Training Coordinator</li>\n",
    "      <li><strong>Dr. Fabian Hofmann</strong> - Senior Optimization and Energy System Modelling Expert</li>\n",
    "    </ul>\n",
    "  </div>\n",
    "  <div>\n",
    "    <a href=\"https://openenergytransition.org/index.html\">\n",
    "      <img src=\"https://openenergytransition.org/assets/img/oet-logo-red-n-subtitle.png\" height=\"60\" alt=\"OET\">\n",
    "    </a>\n",
    "  </div>\n",
    "</div>\n"
   ]
  },
  {
   "cell_type": "markdown",
   "metadata": {},
   "source": [
    "### VS Code Environment Setup"
   ]
  },
  {
   "cell_type": "markdown",
   "metadata": {},
   "source": [
    "\n",
    "\n",
    "An environment is an isolated workspace that allows users to manage dependencies and package versions separately from the base installation. It helps avoid conflicts between different projects by creating self-contained environments with specific Python versions and libraries.\n",
    "\n",
    "Follow these steps to set up the `flex_training_env` environment.\n",
    "\n",
    "1️⃣ Open a Terminal\n",
    "- In **VS Code**, go to **`Terminal` → `New Terminal`**.\n",
    "\n",
    "2️⃣ Create the Environment  \n",
    "\n",
    "Run the following command:\n",
    "```sh\n",
    "    conda env create -f flex_training_env.yml\n",
    "```\n",
    "\n",
    "3️⃣ Update an Existing Environment  \n",
    "If you already have the environment set up, update it with:\n",
    "```sh\n",
    "    conda env update -f flex_training_env.yml --prune\n",
    "```\n",
    "\n",
    "4️⃣ If `conda` is Not Available  \n",
    "You may need to add Conda to your environment variables or PATH.  \n",
    "[See this guide](www.cc.ccc) for detailed instructions.\n",
    "\n",
    "---\n"
   ]
  },
  {
   "cell_type": "markdown",
   "metadata": {},
   "source": []
  }
 ],
 "metadata": {
  "kernelspec": {
   "display_name": "pypsa_laos",
   "language": "python",
   "name": "python3"
  },
  "language_info": {
   "codemirror_mode": {
    "name": "ipython",
    "version": 3
   },
   "file_extension": ".py",
   "mimetype": "text/x-python",
   "name": "python",
   "nbconvert_exporter": "python",
   "pygments_lexer": "ipython3",
   "version": "3.12.7"
  }
 },
 "nbformat": 4,
 "nbformat_minor": 2
}
